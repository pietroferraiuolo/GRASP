{
 "cells": [
  {
   "cell_type": "markdown",
   "metadata": {},
   "source": [
    "## Initialization"
   ]
  },
  {
   "cell_type": "code",
   "execution_count": 1,
   "metadata": {},
   "outputs": [
    {
     "ename": "PermissionError",
     "evalue": "[Errno 13] Permission denied: '/media/pietrof/s820/graspdata'",
     "output_type": "error",
     "traceback": [
      "\u001b[0;31m---------------------------------------------------------------------------\u001b[0m",
      "\u001b[0;31mPermissionError\u001b[0m                           Traceback (most recent call last)",
      "Cell \u001b[0;32mIn[1], line 2\u001b[0m\n\u001b[1;32m      1\u001b[0m \u001b[38;5;28;01mimport\u001b[39;00m \u001b[38;5;21;01mos\u001b[39;00m\n\u001b[0;32m----> 2\u001b[0m \u001b[38;5;28;01mimport\u001b[39;00m \u001b[38;5;21;01mgrasp\u001b[39;00m\n\u001b[1;32m      3\u001b[0m \u001b[38;5;28;01mimport\u001b[39;00m \u001b[38;5;21;01mnumpy\u001b[39;00m \u001b[38;5;28;01mas\u001b[39;00m \u001b[38;5;21;01mnp\u001b[39;00m\n\u001b[1;32m      4\u001b[0m \u001b[38;5;28;01mimport\u001b[39;00m \u001b[38;5;21;01mpandas\u001b[39;00m \u001b[38;5;28;01mas\u001b[39;00m \u001b[38;5;21;01mpd\u001b[39;00m\n",
      "File \u001b[0;32m~/git/GRASP/grasp/__init__.py:41\u001b[0m\n\u001b[1;32m      1\u001b[0m \u001b[38;5;124;03m\"\"\"\u001b[39;00m\n\u001b[1;32m      2\u001b[0m \u001b[38;5;124;03mGAIA - GLOBULAR CLUSTER ANALYSIS SOFTWARE\u001b[39;00m\n\u001b[1;32m      3\u001b[0m \u001b[38;5;124;03m=========================================\u001b[39;00m\n\u001b[0;32m   (...)\u001b[0m\n\u001b[1;32m     38\u001b[0m \n\u001b[1;32m     39\u001b[0m \u001b[38;5;124;03m\"\"\"\u001b[39;00m\n\u001b[1;32m     40\u001b[0m \u001b[38;5;28;01mfrom\u001b[39;00m \u001b[38;5;21;01m.\u001b[39;00m\u001b[38;5;21;01m__version__\u001b[39;00m \u001b[38;5;28;01mimport\u001b[39;00m \u001b[38;5;241m*\u001b[39m\n\u001b[0;32m---> 41\u001b[0m \u001b[38;5;28;01mfrom\u001b[39;00m \u001b[38;5;21;01mgrasp\u001b[39;00m\u001b[38;5;21;01m.\u001b[39;00m\u001b[38;5;21;01mcore\u001b[39;00m\u001b[38;5;21;01m.\u001b[39;00m\u001b[38;5;21;01mosutils\u001b[39;00m \u001b[38;5;28;01mimport\u001b[39;00m load_data\n\u001b[1;32m     42\u001b[0m \u001b[38;5;28;01mimport\u001b[39;00m \u001b[38;5;21;01mgrasp\u001b[39;00m\u001b[38;5;21;01m.\u001b[39;00m\u001b[38;5;21;01mcore\u001b[39;00m\u001b[38;5;21;01m.\u001b[39;00m\u001b[38;5;21;01mfolder_paths\u001b[39;00m \u001b[38;5;28;01mas\u001b[39;00m \u001b[38;5;21;01mgpaths\u001b[39;00m\n\u001b[1;32m     44\u001b[0m \u001b[38;5;28;01mfrom\u001b[39;00m \u001b[38;5;21;01mgrasp\u001b[39;00m\u001b[38;5;21;01m.\u001b[39;00m\u001b[38;5;21;01mgaia\u001b[39;00m\u001b[38;5;21;01m.\u001b[39;00m\u001b[38;5;21;01m_zero_point\u001b[39;00m \u001b[38;5;28;01mimport\u001b[39;00m zero_point_correction\n",
      "File \u001b[0;32m~/git/GRASP/grasp/core/osutils.py:20\u001b[0m\n\u001b[1;32m     18\u001b[0m \u001b[38;5;28;01mimport\u001b[39;00m \u001b[38;5;21;01mdatetime\u001b[39;00m \u001b[38;5;28;01mas\u001b[39;00m \u001b[38;5;21;01m_dt\u001b[39;00m\n\u001b[1;32m     19\u001b[0m \u001b[38;5;28;01mfrom\u001b[39;00m \u001b[38;5;21;01mtyping\u001b[39;00m \u001b[38;5;28;01mimport\u001b[39;00m Any \u001b[38;5;28;01mas\u001b[39;00m _Any, Optional \u001b[38;5;28;01mas\u001b[39;00m _opt\n\u001b[0;32m---> 20\u001b[0m \u001b[38;5;28;01mfrom\u001b[39;00m \u001b[38;5;21;01mgrasp\u001b[39;00m\u001b[38;5;21;01m.\u001b[39;00m\u001b[38;5;21;01mcore\u001b[39;00m \u001b[38;5;28;01mimport\u001b[39;00m folder_paths \u001b[38;5;28;01mas\u001b[39;00m _fn\n\u001b[1;32m     21\u001b[0m \u001b[38;5;28;01mfrom\u001b[39;00m \u001b[38;5;21;01mastropy\u001b[39;00m\u001b[38;5;21;01m.\u001b[39;00m\u001b[38;5;21;01mtable\u001b[39;00m \u001b[38;5;28;01mimport\u001b[39;00m QTable \u001b[38;5;28;01mas\u001b[39;00m _QTable\n\u001b[1;32m     23\u001b[0m datapath \u001b[38;5;241m=\u001b[39m _fn\u001b[38;5;241m.\u001b[39mBASE_DATA_PATH\n",
      "File \u001b[0;32m~/git/GRASP/grasp/core/folder_paths.py:38\u001b[0m\n\u001b[1;32m     36\u001b[0m \u001b[38;5;28;01mfor\u001b[39;00m p \u001b[38;5;129;01min\u001b[39;00m paths:\n\u001b[1;32m     37\u001b[0m     \u001b[38;5;28;01mif\u001b[39;00m \u001b[38;5;129;01mnot\u001b[39;00m _os\u001b[38;5;241m.\u001b[39mpath\u001b[38;5;241m.\u001b[39mexists(p):\n\u001b[0;32m---> 38\u001b[0m         \u001b[43m_os\u001b[49m\u001b[38;5;241;43m.\u001b[39;49m\u001b[43mmkdir\u001b[49m\u001b[43m(\u001b[49m\u001b[43mp\u001b[49m\u001b[43m)\u001b[49m\n\u001b[1;32m     41\u001b[0m \u001b[38;5;28;01mdef\u001b[39;00m \u001b[38;5;21mCLUSTER_DATA_FOLDER\u001b[39m(name: \u001b[38;5;28mstr\u001b[39m):\n\u001b[1;32m     42\u001b[0m \u001b[38;5;250m    \u001b[39m\u001b[38;5;124;03m\"\"\"\u001b[39;00m\n\u001b[1;32m     43\u001b[0m \u001b[38;5;124;03m    Returns the cluster's data path.\u001b[39;00m\n\u001b[1;32m     44\u001b[0m \u001b[38;5;124;03m    \"\"\"\u001b[39;00m\n",
      "\u001b[0;31mPermissionError\u001b[0m: [Errno 13] Permission denied: '/media/pietrof/s820/graspdata'"
     ]
    }
   ],
   "source": [
    "import os\n",
    "import grasp\n",
    "import numpy as np\n",
    "import pandas as pd\n",
    "from astropy import units as u\n",
    "from matplotlib import pyplot as plt\n",
    "dr3 = grasp.dr3()\n",
    "gc = grasp.Cluster('ngc6121')\n",
    "\n",
    "try:\n",
    "    device_name = os.getenv('COMPUTERNAME')\n",
    "    if device_name == 'DESKTOP-Work':\n",
    "        tn1 = '20250506_170539'\n",
    "        tn2 = '20250506_170541'\n",
    "        tn3 = '20250515_193141'\n",
    "        acs = grasp.load_data(tn = tn1)\n",
    "        pcs = grasp.load_data(tn = tn2)\n",
    "        fas = grasp.load_data(tn = tn3)\n",
    "    elif device_name == 'LAPTOP-Work':\n",
    "        tn1 = '20250401_164228'\n",
    "        tn2 = '20250401_164231'\n",
    "        tn3 = '20250515_094935'\n",
    "        pcs = grasp.load_data(tn = tn1, data_format='ascii.tab', file_format='.txt')\n",
    "        acs = grasp.load_data(tn = tn2, data_format='ascii.tab', file_format='.txt')\n",
    "        fas = grasp.load_data(tn = tn3)\n",
    "    else:\n",
    "        raise EnvironmentError(\"Unknown device name\")\n",
    "    acs.gc = pcs.gc = fas.gc = gc\n",
    "except FileNotFoundError as e:\n",
    "    print(e)\n",
    "    astrometry_query = \"SELECT source_id, ra, ra_error, dec, dec_error, parallax, parallax_error, pmra, pmra_error, pmdec, pmdec_error, \\\n",
    "                        radial_velocity, radial_velocity_error, bp_rp, phot_g_mean_mag, phot_bp_mean_mag, phot_rp_mean_mag, teff_gspphot, ra_dec_corr, pmra_pmdec_corr \\\n",
    "                        FROM gaiadr3.gaia_source \\\n",
    "                        WHERE CONTAINS(POINT('ICRS',gaiadr3.gaia_source.ra,gaiadr3.gaia_source.dec),CIRCLE('ICRS',245.897,-26.526,0.86))=1 \\\n",
    "                        AND parallax IS NOT NULL AND parallax>0.531632110579479 AND parallax<0.5491488193300\\\n",
    "                        AND abs(parallax_error/parallax)<0.50\\\n",
    "                        AND abs(pmra_error/pmra)<0.30 \\\n",
    "                        AND abs(pmdec_error/pmdec)<0.30 \\\n",
    "                        AND pmra IS NOT NULL AND abs(pmra)>0 \\\n",
    "                        AND pmdec IS NOT NULL AND abs(pmdec)>0 \\\n",
    "                        AND pmra BETWEEN -13.742720 AND -11.295338 \\\n",
    "                        AND pmdec BETWEEN -20.214805 AND -17.807517\"\n",
    "    \n",
    "    photometry_query = \"SELECT source_id, ra, ra_error, dec_error, dec, parallax, parallax_error, pmra, pmra_error, pmdec, pmdec_error, radial_velocity, radial_velocity_error, \\\n",
    "                        bp_rp, phot_g_mean_mag, phot_bp_rp_excess_factor, teff_gspphot, ra_dec_corr, pmra_pmdec_corr \\\n",
    "                        FROM gaiadr3.gaia_source \\\n",
    "                        WHERE CONTAINS(POINT('ICRS',gaiadr3.gaia_source.ra,gaiadr3.gaia_source.dec),CIRCLE('ICRS',245.8958,-26.5256,0.86))=1 \\\n",
    "                        AND parallax IS NOT NULL AND parallax>0.531632110579479 AND parallax<0.5491488193300\\\n",
    "                        AND ruwe < 1.15 \\\n",
    "                        AND phot_g_mean_mag > 11 \\\n",
    "                        AND astrometric_excess_noise_sig < 2 \\\n",
    "                        AND pmra BETWEEN -13.742720 AND -11.295338 \\\n",
    "                        AND pmdec BETWEEN -20.2148 AND -17.807517\"\n",
    "    acs = dr3.free_query(astrometry_query, save=True)\n",
    "    acs = grasp.Sample(acs, gc)\n",
    "    pcs = dr3.free_query(photometry_query, save=True)\n",
    "    pcs = grasp.Sample(pcs, gc)\n",
    "    fas = dr3.get_astrometry(1., 'ngc6121', save=True)\n",
    "    print(\"\\nWARNING! Remember to updates tn after running the new query!!!\")\n"
   ]
  },
  {
   "cell_type": "code",
   "execution_count": null,
   "metadata": {},
   "outputs": [],
   "source": [
    "aps = acs.join(pcs)\n",
    "aps.gc.dist = 1851 * u.pc # Baumgardt, Vasiliev: 2021 # pc\n",
    "f = grasp.load_base_formulary()\n",
    "aps.info()"
   ]
  },
  {
   "cell_type": "markdown",
   "metadata": {},
   "source": [
    "# MachineLearning"
   ]
  },
  {
   "cell_type": "markdown",
   "metadata": {},
   "source": [
    "## Golden-Sample XDGMM"
   ]
  },
  {
   "cell_type": "markdown",
   "metadata": {},
   "source": [
    "### PMRA ($\\mu_\\alpha$) \n",
    "KDE mean"
   ]
  },
  {
   "cell_type": "code",
   "execution_count": null,
   "metadata": {},
   "outputs": [],
   "source": [
    "pmra = aps.pmra\n",
    "pmra_kde = grasp.plots.histogram(pmra, xlabel='pmra', kde=True, kde_kind='gaussian', out=True)['kde']\n",
    "pmra_mean = pmra_kde[1]\n",
    "print(f\"{pmra_mean = :.4f}\")"
   ]
  },
  {
   "cell_type": "markdown",
   "metadata": {},
   "source": [
    "### PMDEC ($\\mu_{\\delta^*}$) \n",
    "KDE mean"
   ]
  },
  {
   "cell_type": "code",
   "execution_count": null,
   "metadata": {},
   "outputs": [],
   "source": [
    "pmdec = aps.pmdec\n",
    "pmdec_kde = grasp.plots.histogram(pmdec, xlabel='pmra', kde=True, kde_kind='gaussian', out=True)['kde']\n",
    "pmdec_mean = pmdec_kde[1]\n",
    "print(f\"{pmdec_mean = :.4f}\")"
   ]
  },
  {
   "cell_type": "markdown",
   "metadata": {},
   "source": [
    "### XDGMM (eXtreme Deconvolution Gaussian Mixture Model)\n",
    "\n",
    "For cluster parameters estimation from subsample, to be checked with PM regression and with clustering classification"
   ]
  },
  {
   "cell_type": "code",
   "execution_count": null,
   "metadata": {},
   "outputs": [],
   "source": [
    "ra, dec = ((aps.ra * u.deg).to(u.rad).value, (aps.dec * u.deg).to(u.rad).value)\n",
    "f.substitute(\n",
    "    \"Angular separation\",\n",
    "    {\"alpha_{0}\": aps.gc.ra.to(u.rad).value, \"delta_{0}\": aps.gc.dec.to(u.rad).value},\n",
    ")\n",
    "theta_GC = f.compute(\n",
    "    \"Angular Separation\",\n",
    "    data={\"alpha_{1}\": ra, \"delta_{1}\": dec},\n",
    "    errors={\"epsilon_alpha_{1}\": aps.ra_error, \"epsilon_delta_{1}\": aps.dec_error},\n",
    "    asarray=True,\n",
    ")"
   ]
  },
  {
   "cell_type": "code",
   "execution_count": null,
   "metadata": {},
   "outputs": [],
   "source": [
    "from sklearn.model_selection import train_test_split\n",
    "from sklearn.metrics import accuracy_score as ac, mean_absolute_error as mea, mean_squared_error as mse\n",
    "\n",
    "data = np.array([aps.SOURCE_ID, aps.pmra, aps.pmdec, theta_GC[0]]).T\n",
    "errors = np.array([aps.SOURCE_ID, aps.pmra_error, aps.pmdec_error, theta_GC[1]]).T\n",
    "correlation = aps.pmra_pmdec_corr.value"
   ]
  },
  {
   "cell_type": "code",
   "execution_count": null,
   "metadata": {},
   "outputs": [],
   "source": [
    "X_train, X_test, err_train, err_test, corr_train, corr_test = train_test_split(data, errors, correlation, test_size=0.2)\n",
    "if all(X_train[:,0] == err_train[:,0]) and all(X_test[:,0] == err_test[:,0]):\n",
    "    print(\"Data and errors are aligned.\\nRemoving source_id column...\\n\")\n",
    "    err_train = np.delete(err_train, 0, axis=1)\n",
    "    err_test = np.delete(err_test, 0, axis=1)\n",
    "    X_train = np.delete(X_train, 0, axis=1)\n",
    "    X_test = np.delete(X_test, 0, axis=1)\n",
    "else:\n",
    "    print(\"Data and errors are not aligned. Exiting...\")\n",
    "    exit(1)\n",
    "print(f\"{X_train.shape = :}\")\n",
    "print(f\"{X_test.shape = :}\\n\")\n",
    "print(f\"{err_train.shape = :}\")\n",
    "print(f\"{err_test.shape = :}\")\n",
    "print(f\"\\n{corr_train.shape = :}\")\n",
    "print(f\"{corr_test.shape = :}\\n\")"
   ]
  },
  {
   "cell_type": "code",
   "execution_count": null,
   "metadata": {},
   "outputs": [],
   "source": [
    "train_cov = grasp.stats._construct_covariance_matrices(err_train, {(0,1): corr_train})\n",
    "test_cov = grasp.stats._construct_covariance_matrices(err_test, {(0,1): corr_test})\n",
    "print(f\"{train_cov.shape = :}\")\n",
    "print(f\"{test_cov.shape = :}\\n\")"
   ]
  },
  {
   "cell_type": "code",
   "execution_count": null,
   "metadata": {},
   "outputs": [],
   "source": [
    "model = grasp.stats.XD_estimator(data=X_train, errors=err_train, correlations={(0,1): corr_train}, n_components=1)"
   ]
  },
  {
   "cell_type": "code",
   "execution_count": null,
   "metadata": {},
   "outputs": [],
   "source": [
    "xdgmm_pmra_mean, xdgmm_pmdec_mean, _ = tuple([mu[0] for mu in model.mu.T])\n",
    "print(f\"{pmra_mean = :.3f} mas/yr  ;  {pmdec_mean = :.3f} mas/yr\\n\")\n",
    "print(f\"{xdgmm_pmra_mean = :.3f} mas/yr  ;  {xdgmm_pmdec_mean = :.3f} mas/yr\")"
   ]
  },
  {
   "cell_type": "code",
   "execution_count": null,
   "metadata": {},
   "outputs": [],
   "source": [
    "print(f\"{xdgmm_pmra_mean/pmra_mean*100 = :.3f} %\")\n",
    "print(f\"{xdgmm_pmdec_mean/pmdec_mean*100 = :.3f} %\")"
   ]
  },
  {
   "cell_type": "markdown",
   "metadata": {},
   "source": [
    "## GMM on Full Sample"
   ]
  },
  {
   "cell_type": "markdown",
   "metadata": {},
   "source": [
    "### Feature Engeneering"
   ]
  },
  {
   "cell_type": "code",
   "execution_count": null,
   "metadata": {},
   "outputs": [],
   "source": [
    "fas = dr3.free_gc_query(\n",
    "    1.2,\n",
    "    'ngc6121', \n",
    "    data = 'source_id, ra, ra_error, dec, dec_error, parallax, parallax_error, pmra, pmra_error, pmdec, pmdec_error,ra_dec_corr,pmra_pmdec_corr',\n",
    "    save=True\n",
    ")\n",
    "Ni = len(fas)\n",
    "fas.join(aps, keep='left_only', inplace=True)\n",
    "Nf = len(fas)\n",
    "assert Ni-Nf == len(aps), f\"Number of sources in fas ({Ni-Nf}) is not equal to the number of sources in aps ({len(aps)})\"\n",
    "\n",
    "fas.drop_columns(\n",
    "    [\n",
    "        \"radial_velocity\",\n",
    "        \"radial_velocity_error\",\n",
    "        \"bp_rp\",\n",
    "        \"phot_g_mean_mag\",\n",
    "        \"teff_gspphot\",\n",
    "        \"phot_bp_mean_mag\",\n",
    "        \"phot_rp_mean_mag\",\n",
    "        \"phot_bp_rp_excess_factor\"\n",
    "    ]\n",
    ")\n",
    "\n",
    "fas.dropna()"
   ]
  },
  {
   "cell_type": "code",
   "execution_count": null,
   "metadata": {},
   "outputs": [],
   "source": [
    "pmra_dist = grasp.plots.histogram(fas['pmra'].value, bins='knuth', kde=True ,xlabel='pmra', out=True)\n",
    "pmdec_dits = grasp.plots.histogram(fas['pmdec'].value, bins='knuth', kde=True ,xlabel='pmdec', out=True)"
   ]
  },
  {
   "cell_type": "markdown",
   "metadata": {},
   "source": [
    "Removing extreme outliers"
   ]
  },
  {
   "cell_type": "code",
   "execution_count": null,
   "metadata": {},
   "outputs": [],
   "source": [
    "fas.apply_conditions(\n",
    "    conditions={\n",
    "        \"pmra\": f\"<50\",\n",
    "        \"pmra\": f\">-50\",\n",
    "        \"pmdec\":f\"<50\",\n",
    "        \"pmdec\":f\">-50\",\n",
    "    },\n",
    "    inplace=True,\n",
    ")"
   ]
  },
  {
   "cell_type": "code",
   "execution_count": null,
   "metadata": {},
   "outputs": [],
   "source": [
    "grasp.plots.doubleHistScatter(fas.pmra, fas.pmdec, size=0.05, alpha=0.85)"
   ]
  },
  {
   "cell_type": "code",
   "execution_count": null,
   "metadata": {},
   "outputs": [],
   "source": [
    "#f.var_order('angular separation')\n",
    "fas['ang_sep'], fas['ang_sep_error'] = f.compute('angular separation',\n",
    "          data={'alpha_{1}': (fas.ra*u.deg).to(u.rad).value, 'delta_{1}': (fas.dec*u.deg).to(u.rad).value}, \n",
    "          errors={\"epsilon_alpha_{1}\": (fas.ra_error*u.deg).to(u.rad).value, \"epsilon_delta_{1}\": (fas.dec_error*u.deg).to(u.rad).value}, \n",
    "          corrs={'rho_alpha_{1}_delta_{1}': fas.ra_dec_corr},\n",
    "          asarray=True)\n",
    "\n",
    "fas['ang_sep_over_error'] = fas['ang_sep_error'] / fas['ang_sep']\n",
    "fas.apply_conditions('ang_sep_over_error < 3.0', inplace=True)\n",
    "\n",
    "fas[['ang_sep', 'ang_sep_error', 'ang_sep_over_error']].describe()"
   ]
  },
  {
   "cell_type": "code",
   "execution_count": null,
   "metadata": {},
   "outputs": [],
   "source": [
    "grasp.plots.histogram(fas['ang_sep_over_error'], bins='knuth', xlabel='AngSep OverError', out=False)"
   ]
  },
  {
   "cell_type": "markdown",
   "metadata": {},
   "source": [
    "### Model1: GMM with  $\\,\\forall \\bar{\\omega} \\in \\mathcal{R}$"
   ]
  },
  {
   "cell_type": "code",
   "execution_count": null,
   "metadata": {},
   "outputs": [],
   "source": [
    "data = fas[['ra','dec','pmra','pmdec', 'parallax']].to_numpy()\n",
    "# errors = fas[['ra_error','dec_error','pmra_error','pmdec_error','parallax_error']].to_numpy()\n",
    "# correlation = fas['pmra_pmdec_corr']\n",
    "\n",
    "# X_train, X_test, err_train, err_test, corr_train, corr_test = train_test_split(data, errors, correlation, test_size=0.2)\n",
    "X_train, X_test = train_test_split(data, test_size=0.33)\n",
    "\n",
    "print(f\"{X_train.shape = :}\")\n",
    "print(f\"{X_test.shape = :}\\n\")\n",
    "# print(f\"{err_train.shape = :}\")\n",
    "# print(f\"{err_test.shape = :}\")\n",
    "# print(f\"\\n{corr_train.shape = :}\")\n",
    "# print(f\"{corr_test.shape = :}\\n\")"
   ]
  },
  {
   "cell_type": "code",
   "execution_count": null,
   "metadata": {},
   "outputs": [],
   "source": [
    "model1 = grasp.stats.gaussian_mixture_model(train_data=X_train, G=3, modelNames=np.array(['VII', 'VVI']), verbose=True)"
   ]
  },
  {
   "cell_type": "code",
   "execution_count": null,
   "metadata": {},
   "outputs": [],
   "source": [
    "plt.scatter(X_train[:,2], X_train[:,3], c=model1.train_classification['classification'], cmap='plasma', s=0.5, alpha=0.5)\n",
    "cbar = plt.colorbar(ticks=np.unique(model1.train_classification['classification']))\n",
    "cbar.ax.set_yticklabels([f\"C_{val}\" for val in np.unique(model1.train_classification['classification'])])\n",
    "plt.title('Model1: G=3 with full parallaxes')"
   ]
  },
  {
   "cell_type": "code",
   "execution_count": null,
   "metadata": {},
   "outputs": [],
   "source": [
    "pd.DataFrame(data=model1.train_classification['classification']).value_counts()"
   ]
  },
  {
   "cell_type": "code",
   "execution_count": null,
   "metadata": {},
   "outputs": [],
   "source": [
    "model1_parameters = pd.DataFrame(data=model1.coeffs, index=['G1','G2','G3'], columns=['ra','dec','pmra','pmdec','parallax'])\n",
    "print(model1_parameters)"
   ]
  },
  {
   "cell_type": "code",
   "execution_count": null,
   "metadata": {},
   "outputs": [],
   "source": [
    "predictions = model1.predict(X_test)"
   ]
  },
  {
   "cell_type": "code",
   "execution_count": null,
   "metadata": {},
   "outputs": [],
   "source": [
    "plt.scatter(X_test[:,2], X_test[:,3], c=predictions['classification'], cmap='plasma', s=0.5, alpha=0.5)\n",
    "cbar = plt.colorbar(ticks=np.unique(predictions['classification']))\n",
    "cbar.ax.set_yticklabels([f\"C_{val}\" for val in np.unique(predictions['classification'])])\n",
    "plt.title('Model1 Test Set')"
   ]
  },
  {
   "cell_type": "markdown",
   "metadata": {},
   "source": [
    "### Model2: GMM with $\\,\\forall\\bar{\\omega}\\in\\mathcal{R}^+$"
   ]
  },
  {
   "cell_type": "code",
   "execution_count": null,
   "metadata": {},
   "outputs": [],
   "source": [
    "pfas = fas.apply_conditions('parallax>0', inplace=False)\n",
    "print(f\"Parallax cleaned sample is {len(pfas)/len(fas)*100:.2f} % of the original sample\")"
   ]
  },
  {
   "cell_type": "code",
   "execution_count": null,
   "metadata": {},
   "outputs": [],
   "source": [
    "data2 = pfas[['ra','dec','pmra','pmdec', 'parallax']].to_numpy()\n",
    "X_train2, X_test2 = train_test_split(data2, test_size=0.33)\n",
    "\n",
    "print(f\"{X_train2.shape = :}\")\n",
    "print(f\"{X_test2.shape = :}\\n\")"
   ]
  },
  {
   "cell_type": "code",
   "execution_count": null,
   "metadata": {},
   "outputs": [],
   "source": [
    "model2 = grasp.stats.gaussian_mixture_model(train_data=X_train2, G=3, modelNames=np.array(['VII', 'VVI']), verbose=True)"
   ]
  },
  {
   "cell_type": "code",
   "execution_count": null,
   "metadata": {},
   "outputs": [],
   "source": [
    "plt.scatter(X_train2[:,2], X_train2[:,3], c=model2.train_classification['classification'], cmap='plasma', s=0.5, alpha=0.5)\n",
    "cbar = plt.colorbar(ticks=np.unique(model2.train_classification['classification']))\n",
    "cbar.ax.set_yticklabels([f\"C_{val}\" for val in np.unique(model2.train_classification['classification'])])\n",
    "plt.title('Model2: G=3 with parallax cut')\n",
    "\n",
    "pd.DataFrame(data=model2.train_classification['classification']).value_counts()"
   ]
  },
  {
   "cell_type": "code",
   "execution_count": null,
   "metadata": {},
   "outputs": [],
   "source": [
    "model2_parameters = pd.DataFrame(data=model2.coeffs, index=['G1','G2','G3'], columns=['ra','dec','pmra','pmdec','parallax'])\n",
    "print(model2_parameters)"
   ]
  },
  {
   "cell_type": "code",
   "execution_count": null,
   "metadata": {},
   "outputs": [],
   "source": [
    "predictions2 = model2.predict(X_test2)"
   ]
  },
  {
   "cell_type": "code",
   "execution_count": null,
   "metadata": {},
   "outputs": [],
   "source": [
    "plt.scatter(X_test2[:,2], X_test2[:,3], c=predictions2['classification'], cmap='plasma', s=0.5, alpha=0.5)\n",
    "cbar = plt.colorbar(ticks=np.unique(predictions2['classification']))\n",
    "cbar.ax.set_yticklabels([f\"C_{val}\" for val in np.unique(predictions2['classification'])])\n",
    "plt.title('Model2 Test Set')"
   ]
  },
  {
   "cell_type": "markdown",
   "metadata": {},
   "source": [
    "### Model3: only 2 gaussian components with $\\forall\\bar{\\omega}\\in\\mathcal{R}^+$"
   ]
  },
  {
   "cell_type": "code",
   "execution_count": null,
   "metadata": {},
   "outputs": [],
   "source": [
    "model3 = grasp.stats.gaussian_mixture_model(train_data=X_train2, G=2, modelNames=np.array(['VII', 'VVI']), verbose=True)"
   ]
  },
  {
   "cell_type": "code",
   "execution_count": null,
   "metadata": {},
   "outputs": [],
   "source": [
    "plt.scatter(X_train2[:,2], X_train2[:,3], c=model3.train_classification['classification'], cmap='plasma', s=0.5, alpha=0.5)\n",
    "cbar = plt.colorbar(ticks=np.unique(model3.train_classification['classification']))\n",
    "cbar.ax.set_yticklabels([f\"C_{val}\" for val in np.unique(model3.train_classification['classification'])])\n",
    "plt.title('Model3: G=2 with parallax cut')\n",
    "\n",
    "pd.DataFrame(data=model3.train_classification['classification']).value_counts()"
   ]
  },
  {
   "cell_type": "code",
   "execution_count": null,
   "metadata": {},
   "outputs": [],
   "source": [
    "predictions3 = model3.predict(X_test2)\n",
    "model3_parameters = pd.DataFrame(data=model3.coeffs, index=['G1','G2'], columns=['ra','dec','pmra','pmdec','parallax'])\n",
    "print(model3_parameters)"
   ]
  },
  {
   "cell_type": "code",
   "execution_count": null,
   "metadata": {},
   "outputs": [],
   "source": [
    "plt.scatter(X_test2[:,2], X_test2[:,3], c=predictions3['classification'], cmap='plasma', s=0.5, alpha=0.5)\n",
    "cbar = plt.colorbar(ticks=np.unique(predictions3['classification']))\n",
    "cbar.ax.set_yticklabels([f\"C_{val}\" for val in np.unique(predictions3['classification'])])\n",
    "plt.title('Model3 Test Set')"
   ]
  },
  {
   "cell_type": "markdown",
   "metadata": {},
   "source": [
    "### KFold Cross-Validation with GMM"
   ]
  },
  {
   "cell_type": "code",
   "execution_count": null,
   "metadata": {},
   "outputs": [],
   "source": [
    "nfolds = 20\n",
    "kfold_model = grasp.stats.kfold_gmm_estimator(\n",
    "    data=data2,\n",
    "    folds=nfolds,\n",
    "    G=3,\n",
    "    modelNames=np.array(['VII', 'VVI']),\n",
    "    verbose=False\n",
    ")"
   ]
  },
  {
   "cell_type": "code",
   "execution_count": null,
   "metadata": {},
   "outputs": [],
   "source": [
    "plt.plot(np.arange(1,nfolds+1), kfold_model.bics, '-o', label='Models BIC')\n",
    "plt.plot([1,nfolds+1], [kfold_model.mean_bic,kfold_model.mean_bic], '--', label='Mean BIC')\n",
    "plt.xticks(ticks=np.arange(1, nfolds + 2, 1))\n",
    "plt.grid(True)\n",
    "plt.title('BIC vs Number of folds')\n",
    "plt.xlabel('Fold number')\n",
    "plt.ylabel('BIC')\n",
    "plt.legend(loc='best')\n",
    "\n",
    "print(f\"Model's BIC Variance: {(np.min(kfold_model.bics) - np.max(kfold_model.bics))/np.max(kfold_model.bics) * 100:.3f} %\")"
   ]
  },
  {
   "cell_type": "markdown",
   "metadata": {},
   "source": [
    "Try with 2 Cluster members"
   ]
  },
  {
   "cell_type": "code",
   "execution_count": null,
   "metadata": {},
   "outputs": [],
   "source": [
    "nfolds = 20\n",
    "kfold_model2 = grasp.stats.kfold_gmm_estimator(\n",
    "    data=data2,\n",
    "    folds=nfolds,\n",
    "    G=2,\n",
    "    modelNames=np.array(['VII', 'VVI']),\n",
    "    verbose=False\n",
    ")"
   ]
  },
  {
   "cell_type": "code",
   "execution_count": null,
   "metadata": {},
   "outputs": [],
   "source": [
    "plt.plot(np.arange(1,nfolds+1), kfold_model2.bics, '-o', label='Models BIC')\n",
    "plt.plot([1,nfolds+1], [kfold_model2.mean_bic,kfold_model2.mean_bic], '--', label='Mean BIC')\n",
    "plt.xticks(ticks=np.arange(1, nfolds + 2, 1))\n",
    "plt.grid(True)\n",
    "plt.title('BIC vs Number of folds')\n",
    "plt.xlabel('Fold number')\n",
    "plt.ylabel('BIC')\n",
    "plt.legend(loc='best')\n",
    "\n",
    "print(f\"Model's BIC Variance: {(np.min(kfold_model2.bics) - np.max(kfold_model2.bics))/np.max(kfold_model2.bics) * 100:.3f} %\")"
   ]
  },
  {
   "cell_type": "code",
   "execution_count": null,
   "metadata": {},
   "outputs": [],
   "source": [
    "plt.plot(np.arange(1,nfolds+1), kfold_model.bics, '-o', label='Models1 BIC')\n",
    "plt.plot([1,nfolds+1], [kfold_model.mean_bic,kfold_model.mean_bic], '--', label='Mean BIC')\n",
    "plt.plot(np.arange(1,nfolds+1), kfold_model2.bics, '-o', label='Models2 BIC')\n",
    "plt.plot([1,nfolds+1], [kfold_model2.mean_bic,kfold_model2.mean_bic], '--', label='Mean BIC')\n",
    "plt.xticks(ticks=np.arange(1, nfolds + 2, 1))\n",
    "plt.grid(True)\n",
    "plt.title('BIC vs Number of folds')\n",
    "plt.xlabel('Fold number')\n",
    "plt.ylabel('BIC')\n",
    "plt.legend(loc='best')"
   ]
  },
  {
   "cell_type": "code",
   "execution_count": null,
   "metadata": {},
   "outputs": [],
   "source": [
    "best_model = kfold_model.best_model()\n",
    "best_model2 = kfold_model2.best_model()"
   ]
  },
  {
   "cell_type": "code",
   "execution_count": null,
   "metadata": {},
   "outputs": [],
   "source": [
    "print(f\"Best 3-G Model:\\n {pd.DataFrame(best_model.coeffs, columns=['ra','dec','pmra','pmdec','parallax'])}\\n\")\n",
    "print(f\"Best 2-G Model:\\n{pd.DataFrame(best_model2.coeffs, columns=['ra','dec','pmra','pmdec','parallax'])}\")"
   ]
  },
  {
   "cell_type": "code",
   "execution_count": null,
   "metadata": {},
   "outputs": [],
   "source": [
    "bm2_data = best_model2.data\n",
    "\n",
    "text = pd.DataFrame(data=best_model2.train_classification['classification'], columns=['Cluster']).value_counts()\n",
    "plt.scatter(bm2_data[:,2], bm2_data[:,3], c=best_model2.train_classification['classification'], cmap='viridis_r', s=0.5, alpha=0.5, label=text)\n",
    "cbar = plt.colorbar(ticks=np.unique(best_model2.train_classification['classification']))\n",
    "cbar.ax.set_yticklabels([f\"C_{val}\" for val in np.unique(best_model2.train_classification['classification'])])\n",
    "plt.legend(loc='best')\n",
    "plt.xlabel('pmra (mas/yr)')\n",
    "plt.ylabel('pmdec (mas/yr)')\n",
    "plt.title('Best Model: G=2 with parallax cut')"
   ]
  },
  {
   "cell_type": "code",
   "execution_count": null,
   "metadata": {},
   "outputs": [],
   "source": [
    "bm3_data = best_model.data\n",
    "\n",
    "text = pd.DataFrame(data=best_model.train_classification['classification'], columns=['Cluster']).value_counts()\n",
    "plt.scatter(bm3_data[:,2], bm3_data[:,3], c=best_model.train_classification['classification'], cmap='viridis_r', s=0.5, alpha=0.5, label=text)\n",
    "cbar = plt.colorbar(ticks=np.unique(best_model.train_classification['classification']))\n",
    "cbar.ax.set_yticklabels([f\"C_{val}\" for val in np.unique(best_model.train_classification['classification'])])\n",
    "plt.legend(loc='best')\n",
    "plt.xlabel('pmra (mas/yr)')\n",
    "plt.ylabel('pmdec (mas/yr)')\n",
    "plt.title('Best Model: G=3 with parallax cut')"
   ]
  },
  {
   "cell_type": "code",
   "execution_count": null,
   "metadata": {},
   "outputs": [],
   "source": [
    "best_model.save_model(grasp.gpaths.CLUSTER_DATA_FOLDER('ngc6121')+'/BEST_3C_MODEL')\n",
    "best_model2.save_model(grasp.gpaths.CLUSTER_DATA_FOLDER('ngc6121')+'/BEST_2C_MODEL')"
   ]
  },
  {
   "cell_type": "markdown",
   "metadata": {},
   "source": [
    "### Try the predict on the Golden Sample"
   ]
  },
  {
   "cell_type": "code",
   "execution_count": null,
   "metadata": {},
   "outputs": [],
   "source": [
    "aps.drop_columns(\n",
    "    [\n",
    "        \"radial_velocity\",\n",
    "        \"radial_velocity_error\",\n",
    "        \"bp_rp\",\n",
    "        \"phot_g_mean_mag\",\n",
    "        \"teff_gspphot\",\n",
    "        \"phot_bp_mean_mag\",\n",
    "        \"phot_rp_mean_mag\",\n",
    "        \"phot_bp_rp_excess_factor\"\n",
    "    ]\n",
    ")\n",
    "aps.info()"
   ]
  },
  {
   "cell_type": "code",
   "execution_count": null,
   "metadata": {},
   "outputs": [],
   "source": [
    "gs_data = aps.to_numpy(columns=['ra','dec','pmra','pmdec', 'parallax'])\n",
    "\n",
    "_ = best_model2.predict(gs_data)\n",
    "_ = best_model.predict(gs_data)"
   ]
  },
  {
   "cell_type": "code",
   "execution_count": null,
   "metadata": {},
   "outputs": [],
   "source": [
    "text = pd.DataFrame(data=best_model.classification['classification'], columns=['Cluster']).value_counts()\n",
    "plt.scatter(gs_data[:,2], gs_data[:,3], marker='+', c=best_model.classification['classification'], cmap='rainbow_r', s=10, label=text)\n",
    "cbar = plt.colorbar(ticks=np.unique(best_model.classification['classification']))\n",
    "cbar.ax.set_yticklabels([f\"C_{val}\" for val in np.unique(best_model.classification['classification'])])\n",
    "plt.legend(loc='best')\n",
    "plt.title('Best Model: G=3 with parallax cut')"
   ]
  },
  {
   "cell_type": "code",
   "execution_count": null,
   "metadata": {},
   "outputs": [],
   "source": [
    "text = pd.DataFrame(data=best_model2.classification['classification'], columns=['Cluster']).value_counts()\n",
    "plt.scatter(gs_data[:,2], gs_data[:,3], marker='+', c=best_model2.classification['classification'], cmap='rainbow_r', s=10, label=text)\n",
    "cbar = plt.colorbar(ticks=np.unique(best_model2.classification['classification']))\n",
    "cbar.ax.set_yticklabels([f\"C_{val}\" for val in np.unique(best_model2.classification['classification'])])\n",
    "plt.legend(loc='best')\n",
    "plt.title('Best Model: G=2 with parallax cut')"
   ]
  },
  {
   "cell_type": "code",
   "execution_count": null,
   "metadata": {},
   "outputs": [],
   "source": [
    "print(\"Proper Motions RA\")\n",
    "print(f\"{'kde':<10} {'xdgmm':<10} {'gmm2':<10} {'gmm3':<10}\")\n",
    "print(f\"{pmra_mean:<10.3f} {xdgmm_pmra_mean:<10.3f} {best_model2.coeffs[1,2]:<10.3f} {best_model.coeffs[2,2]:<10.3f}\\n\")\n",
    "\n",
    "print(\"Proper Motions DEC\")\n",
    "print(f\"{'kde':<10} {'xdgmm':<10} {'gmm2':<10} {'gmm3':<10}\")\n",
    "print(f\"{pmdec_mean:<10.3f} {xdgmm_pmdec_mean:<10.3f} {best_model2.coeffs[1,3]:<10.3f} {best_model.coeffs[2,3]:<10.3f}\")"
   ]
  },
  {
   "cell_type": "code",
   "execution_count": null,
   "metadata": {},
   "outputs": [],
   "source": [
    "pmrameans = np.array([pmra_mean, xdgmm_pmra_mean, best_model2.coeffs[1,2], best_model.coeffs[2,2]])\n",
    "pmdecmeans = np.array([pmdec_mean, xdgmm_pmdec_mean, best_model2.coeffs[1,3], best_model.coeffs[2,3]])\n",
    "\n",
    "print(f\"pmra = {np.mean(pmrameans):.3f} $\\\\pm$ {np.std(pmrameans)/np.sqrt(len(pmrameans)):.3f}\")\n",
    "print(f\"pmdec = {np.mean(pmdecmeans):.3f} $\\\\pm$ {np.std(pmdecmeans)/np.sqrt(len(pmdecmeans)):.3f}\")"
   ]
  },
  {
   "cell_type": "code",
   "execution_count": null,
   "metadata": {},
   "outputs": [],
   "source": [
    "print(\"Parallax\")\n",
    "print(f\"{'gmm2':<10} {'gmm3':<10}\")\n",
    "print(f\"{best_model2.coeffs[1,4]:<10.3f} {best_model.coeffs[2,4]:<10.3f}\\n\")"
   ]
  },
  {
   "cell_type": "code",
   "execution_count": null,
   "metadata": {},
   "outputs": [],
   "source": [
    "parallaxmeans = np.array([best_model2.coeffs[1,4], best_model.coeffs[2,4]])\n",
    "print(f\"parallax = {np.mean(parallaxmeans):.3f} $\\\\pm$ {np.std(parallaxmeans)/np.sqrt(len(parallaxmeans)):.3f}\")"
   ]
  },
  {
   "cell_type": "markdown",
   "metadata": {},
   "source": [
    "# Riassunto"
   ]
  },
  {
   "cell_type": "markdown",
   "metadata": {},
   "source": [
    "### Loading the model and computing all the quantities"
   ]
  },
  {
   "cell_type": "code",
   "execution_count": null,
   "metadata": {},
   "outputs": [],
   "source": [
    "best_model2 = grasp.GaussianMixtureModel.load_model(\n",
    "    grasp.gpaths.CLUSTER_DATA_FOLDER('ngc6121')+'/BEST_2C_MODEL'\n",
    ")"
   ]
  },
  {
   "cell_type": "markdown",
   "metadata": {},
   "source": [
    "Utilizzando quaattro metodi diversi, si è calcolato il valore medio dei parametri per il cluster:\n",
    "\n",
    "La media è stata calcolata con la formula classica, mentre l'uncertainty è stata stimata come \n",
    "\n",
    "$$\\epsilon = \\dfrac{\\sigma}{\\sqrt{N}}$$\n",
    "\n",
    "> $ \\big<\\bar{\\omega}\\big> = 0.550 \\pm 0.002 \\, \\mathrm{mas} $ (~ 1.81 Kpc)\n",
    "\n",
    "> $ \\big<\\mu_\\alpha\\big> = -12.528 \\pm 0.003 \\, \\mathrm{mas\\cdot yr}^{-1}$\n",
    "\n",
    "> $ \\big<\\mu_{\\delta^*}\\big> = -19.022 \\pm 0.005 \\, \\mathrm{mas\\cdot yr}^{-1}$\n"
   ]
  },
  {
   "cell_type": "code",
   "execution_count": null,
   "metadata": {},
   "outputs": [],
   "source": [
    "gs_data = aps.to_numpy(columns=['ra','dec','pmra','pmdec', 'parallax'])\n",
    "_ = best_model2.predict(gs_data)\n",
    "bm2_data = best_model2.data\n",
    "\n",
    "gc.ra, gc.dec = (best_model2.coeffs[1,0], best_model2.coeffs[1,1])\n",
    "print(gc.ra, gc.dec)"
   ]
  },
  {
   "cell_type": "code",
   "execution_count": null,
   "metadata": {},
   "outputs": [],
   "source": [
    "# mu_ra = np.array([np.mean(pmrameans), np.std(pmrameans)/np.sqrt(len(pmrameans))])\n",
    "# mu_dec = np.array([np.mean(pmdecmeans), np.std(pmdecmeans)/np.sqrt(len(pmdecmeans))])\n",
    "# px = np.array([np.mean(parallaxmeans), np.std(parallaxmeans)/np.sqrt(len(parallaxmeans))])\n",
    "\n",
    "# Se si riparte direttamente da qui...\n",
    "mu_ra = (-12.528 ,0.003)\n",
    "mu_dec = (-19.022 ,0.005)\n",
    "px = (0.550 ,0.002)\n",
    "\n",
    "gc.px = (px[0] * u.mas, px[1] * u.mas)\n",
    "gc.pmra = (mu_ra[0] * u.mas / u.yr, mu_ra[1] * u.mas / u.yr)\n",
    "gc.pmdec = (mu_dec[0] * u.mas / u.yr, mu_dec[1] * u.mas / u.yr)\n",
    "\n",
    "print(f\"{bm2_data.shape = } {gs_data.shape = }\\n\")\n",
    "gc_data = bm2_data[np.array(best_model2.train_classification['classification']) == 2.]\n",
    "gc2_data = gs_data[np.array(best_model2.classification['classification']) == 2.]\n",
    "print(f\"{gc_data.shape = } {gc2_data.shape = }\")\n",
    "\n",
    "predicted_sample = np.vstack((gc_data, gc2_data))\n",
    "\n",
    "assert len(predicted_sample) == len(gc_data) + len(gc2_data), f\"Predicted sample length {len(predicted_sample)} is not equal to the sum of gc_data {len(gc_data)} and gs_data {len(gc2_data)}\"\n",
    "\n",
    "print(f\"\\n{predicted_sample.shape = }\")"
   ]
  },
  {
   "cell_type": "code",
   "execution_count": null,
   "metadata": {},
   "outputs": [],
   "source": [
    "gc_data = pd.DataFrame(data=predicted_sample, columns=['ra','dec','pmra','pmdec', 'parallax'])\n",
    "gc_sample = grasp.Sample(gc_data, gc)\n",
    "gc_sample.update_gc_params(ra=gc_sample.ra.mean(), dec=gc_sample.dec.mean())"
   ]
  },
  {
   "cell_type": "code",
   "execution_count": null,
   "metadata": {},
   "outputs": [],
   "source": [
    "grasp.plots.seaborn(which='heatmap', data=gc_sample.to_pandas().corr(), annot=True, cmap='coolwarm', cbar=True)"
   ]
  },
  {
   "cell_type": "code",
   "execution_count": null,
   "metadata": {},
   "outputs": [],
   "source": [
    "ff = grasp.load_base_formulary()\n",
    "ff.substitute(\n",
    "    \"Angular separation\",\n",
    "    {\"alpha_{0}\": (gc_sample.gc.ra*u.deg).to(u.rad).value, \"delta_{0}\": (gc_sample.gc.dec*u.deg).to(u.rad).value}\n",
    ")\n",
    "ff.angular_separation"
   ]
  },
  {
   "cell_type": "code",
   "execution_count": null,
   "metadata": {},
   "outputs": [],
   "source": [
    "gc_sample.reset_sample()"
   ]
  },
  {
   "cell_type": "code",
   "execution_count": null,
   "metadata": {},
   "outputs": [],
   "source": []
  },
  {
   "cell_type": "code",
   "execution_count": null,
   "metadata": {},
   "outputs": [],
   "source": [
    "gc_sample.apply_conditions('parallax>0.05', inplace=True)\n",
    "N=len(gc_sample)"
   ]
  },
  {
   "cell_type": "markdown",
   "metadata": {},
   "source": [
    "### Calcolo delle distance: $r_{2D}$ and  $R_{3D}$"
   ]
  },
  {
   "cell_type": "code",
   "execution_count": null,
   "metadata": {},
   "outputs": [],
   "source": [
    "gc_sample['ang_sep']        = (ff.compute(\"Angular Separation\", data={\"alpha_{1}\": (gc_sample.ra*u.deg).to(u.rad).value, \"delta_{1}\": (gc_sample.dec*u.deg).to(u.rad).value}, asarray=True)) * u.deg\n",
    "gc_sample['los_distance']   = (ff.compute('los_distance', data={'omega': gc_sample.parallax.value}, asarray=True)) * u.kpc\n",
    "gc_sample['d_BV']           = (ff.compute('gc_z_coordinate', data={r'r_{c}': [gc_sample.gc.dist.value/1000]*N, r'r_{x}': gc_sample.los_distance.value}, asarray=True))  * u.kpc \n",
    "gc_sample['d']              = (ff.compute('gc_z_coordinate', data={r'r_{c}': [1/gc_sample.gc.px[0].value]*N, r'r_{x}': gc_sample.los_distance.value}, asarray=True)) * u.kpc\n",
    "gc_sample['r2d_BV']         = (ff.compute('radial_distance_2d', data={r'r_{c}': [gc_sample.gc.dist.value/1000]*N, 'theta': gc_sample.ang_sep.to(u.rad).value}, asarray=True)) * u.kpc\n",
    "gc_sample['r2d']            = (ff.compute('radial_distance_2d', data={r'r_{c}': [1/gc_sample.gc.px[0].value]*N, 'theta': gc_sample.ang_sep.to(u.rad).value}, asarray=True)) * u.kpc\n",
    "gc_sample['r3d_BV']         = (ff.compute('radial_distance_3d', data={'d': gc_sample.d_BV.to(u.pc).value, 'r_{2}': gc_sample.r2d_BV.to(u.pc).value}, asarray=True)) * u.pc\n",
    "gc_sample['r3d']            = (ff.compute('radial_distance_3d', data={'d': gc_sample.d.to(u.pc).value, 'r_{2}': gc_sample.r2d.to(u.pc).value}, asarray=True)) * u.pc"
   ]
  },
  {
   "cell_type": "code",
   "execution_count": null,
   "metadata": {},
   "outputs": [],
   "source": [
    "gc_sample['ra'] = gc_sample.ra * (u.deg)\n",
    "gc_sample['dec'] = gc_sample.dec * (u.deg)\n",
    "gc_sample['pmra'] = gc_sample.pmra * (u.mas / u.yr)\n",
    "gc_sample['pmdec'] = gc_sample.pmdec * (u.mas / u.yr)\n",
    "gc_sample['parallax'] = gc_sample.parallax * (u.mas)"
   ]
  },
  {
   "cell_type": "code",
   "execution_count": null,
   "metadata": {},
   "outputs": [],
   "source": [
    "gc_sample['los_distance'] = gc_sample.r2d_BV.to(u.pc)\n",
    "gc_sample['d_BV'] = gc_sample.r2d.to(u.pc)\n",
    "gc_sample['d'] = gc_sample.r2d.to(u.pc)\n",
    "gc_sample['r2d_BV'] = gc_sample.r2d_BV.to(u.pc)\n",
    "gc_sample['r2d'] = gc_sample.r2d.to(u.pc)"
   ]
  },
  {
   "cell_type": "code",
   "execution_count": null,
   "metadata": {},
   "outputs": [],
   "source": [
    "gc_sample.apply_conditions('r3d<4000', inplace=True)\n",
    "grasp.plots.histogram(gc_sample.r3d.value)"
   ]
  },
  {
   "cell_type": "markdown",
   "metadata": {},
   "source": [
    "### Density (WOW, bad!)"
   ]
  },
  {
   "cell_type": "code",
   "execution_count": null,
   "metadata": {},
   "outputs": [],
   "source": [
    "r3dh = grasp.plots.histogram(gc_sample.r3d.value, dont_show=True)\n",
    "\n",
    "n_bin = len(r3dh['h']['bins'])\n",
    "\n",
    "V = np.zeros(n_bin)\n",
    "rr1 = np.zeros(n_bin+1)\n",
    "rr2 = np.zeros(n_bin+1)\n",
    "\n",
    "bw = (gc_sample.r3d.value).max()/n_bin\n",
    "\n",
    "rr1[0] = 0.\n",
    "rr2[0] = bw\n",
    "\n",
    "for x in range (0, n_bin):\n",
    "  V[x] = (4/3)*np.pi*(rr2[x]**3 - rr1[x]**3)\n",
    "  rr1[x+1] = rr1[x] + bw\n",
    "  rr2[x+1] = rr2[x] + bw\n",
    "\n",
    "rho3D = r3dh['h']['counts']/(V*u.pc**3)  "
   ]
  },
  {
   "cell_type": "code",
   "execution_count": null,
   "metadata": {},
   "outputs": [],
   "source": [
    "r_c = (1/gc_sample.gc.px[0].value*1000) * np.tan(gc_sample.gc.rc.to(u.rad).value)"
   ]
  },
  {
   "cell_type": "code",
   "execution_count": null,
   "metadata": {},
   "outputs": [],
   "source": [
    "plt.plot(gc_sample.gc.model['xi'], gc_sample.gc.model['rho'], '--', c='red', label='SM King Model')\n",
    "plt.plot(((rr1[0:n_bin]+rr2[0:n_bin])/2)/r_c, rho3D.value, '-o', markersize=2, c='blue', label='Observed Density')\n",
    "plt.xscale('log')\n",
    "plt.yscale('log')"
   ]
  },
  {
   "cell_type": "markdown",
   "metadata": {},
   "source": [
    "### Setting up the velocities"
   ]
  },
  {
   "cell_type": "code",
   "execution_count": null,
   "metadata": {},
   "outputs": [],
   "source": [
    "ff.add_formula('Velocity conversion', r\"Eq(v_i,r_c*tan(theta))\")\n",
    "ff.velocity_conversion"
   ]
  },
  {
   "cell_type": "code",
   "execution_count": null,
   "metadata": {},
   "outputs": [],
   "source": [
    "gc_sample['pmra'].unit"
   ]
  },
  {
   "cell_type": "code",
   "execution_count": null,
   "metadata": {},
   "outputs": [],
   "source": [
    "gc_sample['v_x'] = ((gc_sample.pmra - gc_sample.gc.pmra[0]).to(u.rad/u.s) * ((1/gc_sample.gc.px[0].value)*u.kpc).to(u.km)) / u.rad \n",
    "gc_sample['v_y'] = ((gc_sample.pmdec - gc_sample.gc.pmdec[0]).to(u.rad/u.s) * ((1/gc_sample.gc.px[0].value)*u.kpc).to(u.km)) / u.rad"
   ]
  },
  {
   "cell_type": "code",
   "execution_count": null,
   "metadata": {},
   "outputs": [],
   "source": [
    "vx_med, vx_med_err = grasp.stats.bootstrap_statistic(gc_sample.v_x.value**2, np.median, n_bootstrap=5000, show_progress=True)\n",
    "vy_med, vy_med_err = grasp.stats.bootstrap_statistic(gc_sample.v_y.value**2, np.median, n_bootstrap=5000, show_progress=True)\n",
    "\n",
    "vxm, vxm_err = grasp.stats.bootstrap_statistic(gc_sample.v_x.value**2, np.average, n_bootstrap=5000, show_progress=True)\n",
    "vym, vym_err = grasp.stats.bootstrap_statistic(gc_sample.v_y.value**2, np.average, n_bootstrap=5000, show_progress=True)\n"
   ]
  },
  {
   "cell_type": "code",
   "execution_count": null,
   "metadata": {},
   "outputs": [],
   "source": [
    "grasp.plots.doubleHistScatter(gc_sample['v_x'].value, gc_sample['v_y'].value, xlabel=r\"$v_x$ [km/s]\", ylabel=r'$v_y$ [km/s]',size=0.05, alpha=0.85)"
   ]
  },
  {
   "cell_type": "code",
   "execution_count": null,
   "metadata": {},
   "outputs": [],
   "source": [
    "grasp.plots.histogram(\n",
    "    gc_sample['v_y'].value**2, \n",
    "    xlabel=r'$v_y^2 \\, [km^2\\,s^{-2}]$', title=r'$<v_y^2> = ${:.2f} $\\pm$ {:.2f}    Median($v_y^2$)={:.2f} $\\pm$ {:.2F}'.format(\n",
    "        vxm, vym_err,\n",
    "        vy_med, vy_med_err\n",
    "        )\n",
    "    )"
   ]
  },
  {
   "cell_type": "code",
   "execution_count": null,
   "metadata": {},
   "outputs": [],
   "source": [
    "grasp.plots.histogram(\n",
    "    gc_sample['v_x'].value**2, \n",
    "    xlabel=r\"$v_x^2 \\, [km^2\\,s^{-2}]$\", title=r'$<v_x^2> = ${:.2f} $\\pm$ {:.2f}    Median($v_x^2$)={:.2f} $\\pm$ {:.2f}'.format(\n",
    "        vxm, vxm_err,\n",
    "        vx_med, vx_med_err\n",
    "        )\n",
    "    )"
   ]
  },
  {
   "cell_type": "markdown",
   "metadata": {},
   "source": [
    "On Isotropy assumption, compute the total (squared) velocity as:\n",
    "\n",
    "$$ V^2 = \\frac{3}{2}(v_x^2 + v_y^2)^2"
   ]
  },
  {
   "cell_type": "code",
   "execution_count": null,
   "metadata": {},
   "outputs": [],
   "source": [
    "gc_sample['v2'] = 1.5*(gc_sample['v_x']**2 + gc_sample['v_y']**2) \n",
    "v2m, v2m_err = grasp.stats.bootstrap_statistic(gc_sample.v2.value, np.average, n_bootstrap=5000, show_progress=True)\n",
    "v2_med, v2_med_err = grasp.stats.bootstrap_statistic(gc_sample.v2.value, np.median, n_bootstrap=5000, show_progress=True)\n",
    "v2h = grasp.plots.histogram(\n",
    "    gc_sample['v2'].value, \n",
    "    xlabel=r\"$v^2 \\, [km^2\\,s^{-2}]$\", title=r'$<v^2> = ${:.2f} $\\pm$ {:.2f}    Median($v^2$)={:.2f} $\\pm$ {:.2f}'.format(\n",
    "        v2m, v2m_err,\n",
    "        v2_med, v2_med_err\n",
    "        ),\n",
    "    out=True\n",
    "    )"
   ]
  },
  {
   "cell_type": "code",
   "execution_count": null,
   "metadata": {},
   "outputs": [],
   "source": [
    "shell_samples = []\n",
    "n_shells=500\n",
    "R_shell = (gc_sample.r3d.max() / n_shells).value\n",
    "\n",
    "for ns in range(n_shells):\n",
    "    shell_samples.append(gc_sample.apply_conditions([f'r3d > {ns*R_shell}',f'r3d<{(ns+1)*R_shell}'], inplace=False))\n",
    "    print(len(shell_samples[ns]['r3d']), end=' ')\n",
    "\n",
    "selected_shells = []\n",
    "for sample in shell_samples:\n",
    "    if len(sample) > 90:\n",
    "        selected_shells.append(sample)\n",
    "\n",
    "print(f\"\\n\\n {len(selected_shells) = }\")"
   ]
  },
  {
   "cell_type": "code",
   "execution_count": null,
   "metadata": {},
   "outputs": [],
   "source": [
    "# Desired number of instances per subsample\n",
    "n_per_shell = 100  # for example\n",
    "\n",
    "# Sort by r3d\n",
    "sorted_sample = gc_sample.sort_values('r3d')\n",
    "\n",
    "# Split into equal-length subsamples\n",
    "shell_samples = [\n",
    "    sorted_sample.iloc[i:i + n_per_shell]\n",
    "    for i in range(0, len(sorted_sample), n_per_shell)\n",
    "]\n",
    "\n",
    "# Optionally, filter out the last shell if it's too small\n",
    "shell_samples = [s for s in shell_samples if len(s) == n_per_shell]"
   ]
  }
 ],
 "metadata": {
  "kernelspec": {
   "display_name": "base",
   "language": "python",
   "name": "python3"
  },
  "language_info": {
   "codemirror_mode": {
    "name": "ipython",
    "version": 3
   },
   "file_extension": ".py",
   "mimetype": "text/x-python",
   "name": "python",
   "nbconvert_exporter": "python",
   "pygments_lexer": "ipython3",
   "version": "3.11.10"
  }
 },
 "nbformat": 4,
 "nbformat_minor": 2
}
