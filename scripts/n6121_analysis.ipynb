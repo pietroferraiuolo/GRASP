{
 "cells": [
  {
   "cell_type": "markdown",
   "metadata": {},
   "source": [
    "# Initialization"
   ]
  },
  {
   "cell_type": "code",
   "execution_count": 1,
   "metadata": {},
   "outputs": [
    {
     "name": "stdout",
     "output_type": "stream",
     "text": [
      "\n",
      "            ..............\n",
      "         ..:;;..:;;;;;:::::;;\n",
      "       ;;;;;;::.::;;;;;;;;;;;;;\n",
      "      ;;;;.:;;;..;XXXXXX.::....:           GAIA QUERY MODULE\n",
      "     :;::;::..+XXXXXXXXX+:;;;;;;:\n",
      "    ;::;:.:;;:XXXXXXXXXXX::::::::;        __ _  __ _(_) __ _\n",
      "    .;;..;;;:.:XXXXXXXXX$$$$$$$$$$X.     / _` |/ _` | |/ _` |\n",
      "    :;..:;;;..:xXXXXXXX$$$$$$$$$$$$X    | (_| | (_| | | (_| |\n",
      "    :;:.:;;.XXXXXXXXX$$$$$$$$$$$$$$;     \\__, |\\__,_|_|\\__,_|\n",
      "    .;;:.:X$$$$$$$$$$$$$$$$$$$$$$X.      |___/\n",
      "    ..:;:$$$$$$$$$$$$$$$$$$$$$$X;.\n",
      "     :;;;$$$$$$$$$$$$$$$$$$$$::;;             INITIALIZED\n",
      "      ...;$$$$$$$$$$$$$$x;:;;;;;\n",
      "        ......:;:....;;;;;;;:.\n",
      "          ::::::::::;;;::...\n",
      "            ....::::.....\n",
      "\n",
      "Initialized with Gaia table: 'gaiadr3.gaia_source'\n",
      "WARNING: no king model file found for 'NGC6121'. Performing the Single-Mass King model integration.\n",
      "Calling Fortran90 code executor...\n",
      "\n",
      " Executing Single-Mass King model integration routine.\n",
      " W0 =   7.40999985    \n",
      " Bisections > 10         535   7.40999985    \n",
      " Execution time(s)=   9.1607995331287384E-002\n",
      "\n",
      "INFO: Query finished. [astroquery.utils.tap.core]\n"
     ]
    },
    {
     "ename": "KeyError",
     "evalue": "'RA'",
     "output_type": "error",
     "traceback": [
      "\u001b[0;31m---------------------------------------------------------------------------\u001b[0m",
      "\u001b[0;31mTypeError\u001b[0m                                 Traceback (most recent call last)",
      "Cell \u001b[0;32mIn[1], line 20\u001b[0m\n\u001b[1;32m     19\u001b[0m tn3 \u001b[38;5;241m=\u001b[39m \u001b[38;5;124m'\u001b[39m\u001b[38;5;124m20250414_095328\u001b[39m\u001b[38;5;124m'\u001b[39m\n\u001b[0;32m---> 20\u001b[0m pcs \u001b[38;5;241m=\u001b[39m \u001b[43mgrasp\u001b[49m\u001b[38;5;241;43m.\u001b[39;49m\u001b[43mload_data\u001b[49m\u001b[43m(\u001b[49m\u001b[43mtn1\u001b[49m\u001b[43m)\u001b[49m\n\u001b[1;32m     21\u001b[0m acs \u001b[38;5;241m=\u001b[39m grasp\u001b[38;5;241m.\u001b[39mload_data(tn2)\n",
      "\u001b[0;31mTypeError\u001b[0m: load_data() takes 0 positional arguments but 1 was given",
      "\nDuring handling of the above exception, another exception occurred:\n",
      "\u001b[0;31mKeyError\u001b[0m                                  Traceback (most recent call last)",
      "Cell \u001b[0;32mIn[1], line 49\u001b[0m\n\u001b[1;32m     26\u001b[0m astrometry_query \u001b[38;5;241m=\u001b[39m \u001b[38;5;124m\"\u001b[39m\u001b[38;5;124mSELECT source_id, ra, ra_error, dec, dec_error, parallax, parallax_error, pmra, pmra_error, pmdec, pmdec_error, \u001b[39m\u001b[38;5;130;01m\\\u001b[39;00m\n\u001b[1;32m     27\u001b[0m \u001b[38;5;124m                    radial_velocity, radial_velocity_error, bp_rp, phot_g_mean_mag, phot_bp_mean_mag, phot_rp_mean_mag, teff_gspphot, ra_dec_corr, pmra_pmdec_corr \u001b[39m\u001b[38;5;130;01m\\\u001b[39;00m\n\u001b[1;32m     28\u001b[0m \u001b[38;5;124m                    FROM gaiadr3.gaia_source \u001b[39m\u001b[38;5;130;01m\\\u001b[39;00m\n\u001b[0;32m   (...)\u001b[0m\n\u001b[1;32m     36\u001b[0m \u001b[38;5;124m                    AND pmra BETWEEN -13.742720 AND -11.295338 \u001b[39m\u001b[38;5;130;01m\\\u001b[39;00m\n\u001b[1;32m     37\u001b[0m \u001b[38;5;124m                    AND pmdec BETWEEN -20.214805 AND -17.807517\u001b[39m\u001b[38;5;124m\"\u001b[39m\n\u001b[1;32m     39\u001b[0m photometry_query \u001b[38;5;241m=\u001b[39m \u001b[38;5;124m\"\u001b[39m\u001b[38;5;124mSELECT source_id, ra, ra_error, dec_error, dec, parallax, parallax_error, pmra, pmra_error, pmdec, pmdec_error, radial_velocity, radial_velocity_error, \u001b[39m\u001b[38;5;130;01m\\\u001b[39;00m\n\u001b[1;32m     40\u001b[0m \u001b[38;5;124m                    bp_rp, phot_g_mean_mag, phot_bp_rp_excess_factor, teff_gspphot, ra_dec_corr, pmra_pmdec_corr \u001b[39m\u001b[38;5;130;01m\\\u001b[39;00m\n\u001b[1;32m     41\u001b[0m \u001b[38;5;124m                    FROM gaiadr3.gaia_source \u001b[39m\u001b[38;5;130;01m\\\u001b[39;00m\n\u001b[0;32m   (...)\u001b[0m\n\u001b[1;32m     47\u001b[0m \u001b[38;5;124m                    AND pmra BETWEEN -13.742720 AND -11.295338 \u001b[39m\u001b[38;5;130;01m\\\u001b[39;00m\n\u001b[1;32m     48\u001b[0m \u001b[38;5;124m                    AND pmdec BETWEEN -20.2148 AND -17.807517\u001b[39m\u001b[38;5;124m\"\u001b[39m\n\u001b[0;32m---> 49\u001b[0m acs \u001b[38;5;241m=\u001b[39m \u001b[43mdr3\u001b[49m\u001b[38;5;241;43m.\u001b[39;49m\u001b[43mfree_query\u001b[49m\u001b[43m(\u001b[49m\u001b[43mastrometry_query\u001b[49m\u001b[43m,\u001b[49m\u001b[43m \u001b[49m\u001b[43msave\u001b[49m\u001b[38;5;241;43m=\u001b[39;49m\u001b[38;5;28;43;01mTrue\u001b[39;49;00m\u001b[43m)\u001b[49m\n\u001b[1;32m     50\u001b[0m acs \u001b[38;5;241m=\u001b[39m grasp\u001b[38;5;241m.\u001b[39mSample(acs, gc)\n\u001b[1;32m     51\u001b[0m pcs \u001b[38;5;241m=\u001b[39m dr3\u001b[38;5;241m.\u001b[39mfree_query(photometry_query, save\u001b[38;5;241m=\u001b[39m\u001b[38;5;28;01mTrue\u001b[39;00m)\n",
      "File \u001b[0;32m~/git/GRASP/grasp/gaia/query.py:263\u001b[0m, in \u001b[0;36mGaiaQuery.free_query\u001b[0;34m(self, adql_cmd, save)\u001b[0m\n\u001b[1;32m    258\u001b[0m \u001b[38;5;124mself._queryInfo = \u001b[39m\u001b[38;5;124m{\u001b[39m\n\u001b[1;32m    259\u001b[0m \u001b[38;5;124m    \u001b[39m\u001b[38;5;124m\"\u001b[39m\u001b[38;5;124mScan Info\u001b[39m\u001b[38;5;124m\"\u001b[39m\u001b[38;5;124m: \u001b[39m\u001b[38;5;124m{\u001b[39m\u001b[38;5;124m\"\u001b[39m\u001b[38;5;124mCommand\u001b[39m\u001b[38;5;124m\"\u001b[39m\u001b[38;5;124m: adql_cmd},\u001b[39m\n\u001b[1;32m    260\u001b[0m \u001b[38;5;124m    \u001b[39m\u001b[38;5;124m\"\u001b[39m\u001b[38;5;124mFlag\u001b[39m\u001b[38;5;124m\"\u001b[39m\u001b[38;5;124m: \u001b[39m\u001b[38;5;124m{\u001b[39m\u001b[38;5;124m\"\u001b[39m\u001b[38;5;124mQuery\u001b[39m\u001b[38;5;124m\"\u001b[39m\u001b[38;5;124m: \u001b[39m\u001b[38;5;124m\"\u001b[39m\u001b[38;5;124m'\u001b[39m\u001b[38;5;124mtrue free\u001b[39m\u001b[38;5;124m'\u001b[39m\u001b[38;5;124m\"\u001b[39m\u001b[38;5;124m},\u001b[39m\n\u001b[1;32m    261\u001b[0m \u001b[38;5;124m}\u001b[39m\n\u001b[1;32m    262\u001b[0m \u001b[38;5;124mif save:\u001b[39m\n\u001b[0;32m--> 263\u001b[0m \u001b[38;5;124m    self._saveQuery(result, name)\u001b[39m\n\u001b[1;32m    264\u001b[0m \u001b[38;5;124mreturn result\u001b[39m\n",
      "File \u001b[0;32m~/git/GRASP/grasp/gaia/query.py:598\u001b[0m, in \u001b[0;36mGaiaQuery._saveQuery\u001b[0;34m(self, dat, name)\u001b[0m\n\u001b[1;32m    596\u001b[0m \u001b[38;5;28;01mif\u001b[39;00m \u001b[38;5;28many\u001b[39m([\u001b[38;5;28misinstance\u001b[39m(dat, Table), \u001b[38;5;129;01mnot\u001b[39;00m \u001b[38;5;28misinstance\u001b[39m(dat, QTable)]):\n\u001b[1;32m    597\u001b[0m     dat \u001b[38;5;241m=\u001b[39m QTable(dat)\n\u001b[0;32m--> 598\u001b[0m dat: _gt\u001b[38;5;241m.\u001b[39mAstroTable \u001b[38;5;241m=\u001b[39m \u001b[38;5;28;43mself\u001b[39;49m\u001b[38;5;241;43m.\u001b[39;49m\u001b[43m_writeHeader\u001b[49m\u001b[43m(\u001b[49m\u001b[43mdat\u001b[49m\u001b[43m,\u001b[49m\u001b[43m \u001b[49m\u001b[43mname\u001b[49m\u001b[43m)\u001b[49m\n\u001b[1;32m    599\u001b[0m dat\u001b[38;5;241m.\u001b[39mwrite(data, \u001b[38;5;28mformat\u001b[39m\u001b[38;5;241m=\u001b[39m\u001b[38;5;124m\"\u001b[39m\u001b[38;5;124mfits\u001b[39m\u001b[38;5;124m\"\u001b[39m)\n\u001b[1;32m    600\u001b[0m \u001b[38;5;28;01mfor\u001b[39;00m section, options \u001b[38;5;129;01min\u001b[39;00m \u001b[38;5;28mself\u001b[39m\u001b[38;5;241m.\u001b[39m_queryInfo\u001b[38;5;241m.\u001b[39mitems():\n",
      "File \u001b[0;32m~/git/GRASP/grasp/gaia/query.py:636\u001b[0m, in \u001b[0;36mGaiaQuery._writeHeader\u001b[0;34m(self, data, name)\u001b[0m\n\u001b[1;32m    613\u001b[0m \u001b[38;5;28;01mdef\u001b[39;00m \u001b[38;5;21m_writeHeader\u001b[39m(\u001b[38;5;28mself\u001b[39m, data: _gt\u001b[38;5;241m.\u001b[39mAstroTable, name: \u001b[38;5;28mstr\u001b[39m) \u001b[38;5;241m-\u001b[39m\u001b[38;5;241m>\u001b[39m _gt\u001b[38;5;241m.\u001b[39mAstroTable:\n\u001b[1;32m    614\u001b[0m \u001b[38;5;250m    \u001b[39m\u001b[38;5;124;03m\"\"\"\u001b[39;00m\n\u001b[1;32m    615\u001b[0m \u001b[38;5;124;03m    Function to write the header of the query info file.\u001b[39;00m\n\u001b[1;32m    616\u001b[0m \n\u001b[0;32m   (...)\u001b[0m\n\u001b[1;32m    628\u001b[0m \n\u001b[1;32m    629\u001b[0m \u001b[38;5;124;03m    \"\"\"\u001b[39;00m\n\u001b[1;32m    630\u001b[0m     header \u001b[38;5;241m=\u001b[39m {\n\u001b[1;32m    631\u001b[0m         \u001b[38;5;124m\"\u001b[39m\u001b[38;5;124mOBJECT\u001b[39m\u001b[38;5;124m\"\u001b[39m: (\n\u001b[1;32m    632\u001b[0m             name\u001b[38;5;241m.\u001b[39mupper() \u001b[38;5;28;01mif\u001b[39;00m \u001b[38;5;129;01mnot\u001b[39;00m name\u001b[38;5;241m.\u001b[39mupper() \u001b[38;5;241m==\u001b[39m \u001b[38;5;124m\"\u001b[39m\u001b[38;5;124mUNTRACKEDDATA\u001b[39m\u001b[38;5;124m\"\u001b[39m \u001b[38;5;28;01melse\u001b[39;00m \u001b[38;5;124m\"\u001b[39m\u001b[38;5;124mUNDEF\u001b[39m\u001b[38;5;124m\"\u001b[39m,\n\u001b[1;32m    633\u001b[0m             \u001b[38;5;124m\"\u001b[39m\u001b[38;5;124mobject name\u001b[39m\u001b[38;5;124m\"\u001b[39m,\n\u001b[1;32m    634\u001b[0m         ),\n\u001b[1;32m    635\u001b[0m         \u001b[38;5;124m\"\u001b[39m\u001b[38;5;124mRA\u001b[39m\u001b[38;5;124m\"\u001b[39m: (\n\u001b[0;32m--> 636\u001b[0m             \u001b[38;5;28;43mself\u001b[39;49m\u001b[38;5;241;43m.\u001b[39;49m\u001b[43m_queryInfo\u001b[49m\u001b[43m[\u001b[49m\u001b[38;5;124;43m\"\u001b[39;49m\u001b[38;5;124;43mScan Info\u001b[39;49m\u001b[38;5;124;43m\"\u001b[39;49m\u001b[43m]\u001b[49m\u001b[43m[\u001b[49m\u001b[38;5;124;43m\"\u001b[39;49m\u001b[38;5;124;43mRA\u001b[39;49m\u001b[38;5;124;43m\"\u001b[39;49m\u001b[43m]\u001b[49m\u001b[38;5;241m.\u001b[39mvalue,\n\u001b[1;32m    637\u001b[0m             \u001b[38;5;124m\"\u001b[39m\u001b[38;5;124mright ascension of scan centre [deg]\u001b[39m\u001b[38;5;124m\"\u001b[39m,\n\u001b[1;32m    638\u001b[0m         ),\n\u001b[1;32m    639\u001b[0m         \u001b[38;5;124m\"\u001b[39m\u001b[38;5;124mDEC\u001b[39m\u001b[38;5;124m\"\u001b[39m: (\n\u001b[1;32m    640\u001b[0m             \u001b[38;5;28mself\u001b[39m\u001b[38;5;241m.\u001b[39m_queryInfo[\u001b[38;5;124m\"\u001b[39m\u001b[38;5;124mScan Info\u001b[39m\u001b[38;5;124m\"\u001b[39m][\u001b[38;5;124m\"\u001b[39m\u001b[38;5;124mDEC\u001b[39m\u001b[38;5;124m\"\u001b[39m]\u001b[38;5;241m.\u001b[39mvalue,\n\u001b[1;32m    641\u001b[0m             \u001b[38;5;124m\"\u001b[39m\u001b[38;5;124mdeclination of scan centre [deg]\u001b[39m\u001b[38;5;124m\"\u001b[39m,\n\u001b[1;32m    642\u001b[0m         ),\n\u001b[1;32m    643\u001b[0m         \u001b[38;5;124m\"\u001b[39m\u001b[38;5;124mRADIUS\u001b[39m\u001b[38;5;124m\"\u001b[39m: (\n\u001b[1;32m    644\u001b[0m             \u001b[38;5;28mself\u001b[39m\u001b[38;5;241m.\u001b[39m_queryInfo[\u001b[38;5;124m\"\u001b[39m\u001b[38;5;124mScan Info\u001b[39m\u001b[38;5;124m\"\u001b[39m][\u001b[38;5;124m\"\u001b[39m\u001b[38;5;124mScan Radius\u001b[39m\u001b[38;5;124m\"\u001b[39m],\n\u001b[1;32m    645\u001b[0m             \u001b[38;5;124m\"\u001b[39m\u001b[38;5;124mradius of scan circle [deg]\u001b[39m\u001b[38;5;124m\"\u001b[39m,\n\u001b[1;32m    646\u001b[0m         ),\n\u001b[1;32m    647\u001b[0m         \u001b[38;5;124m\"\u001b[39m\u001b[38;5;124mCONDS\u001b[39m\u001b[38;5;124m\"\u001b[39m: (\n\u001b[1;32m    648\u001b[0m             \u001b[38;5;129;01mnot\u001b[39;00m \u001b[38;5;28mself\u001b[39m\u001b[38;5;241m.\u001b[39m_queryInfo[\u001b[38;5;124m\"\u001b[39m\u001b[38;5;124mScan Info\u001b[39m\u001b[38;5;124m\"\u001b[39m][\u001b[38;5;124m\"\u001b[39m\u001b[38;5;124mConditions Applied\u001b[39m\u001b[38;5;124m\"\u001b[39m] \u001b[38;5;241m==\u001b[39m \u001b[38;5;124m\"\u001b[39m\u001b[38;5;124mNone\u001b[39m\u001b[38;5;124m\"\u001b[39m,\n\u001b[1;32m    649\u001b[0m             \u001b[38;5;124m\"\u001b[39m\u001b[38;5;124mconditions applied to the query\u001b[39m\u001b[38;5;124m\"\u001b[39m,\n\u001b[1;32m    650\u001b[0m         ),\n\u001b[1;32m    651\u001b[0m     }\n\u001b[1;32m    652\u001b[0m     \u001b[38;5;28;01mif\u001b[39;00m header[\u001b[38;5;124m\"\u001b[39m\u001b[38;5;124mCONDS\u001b[39m\u001b[38;5;124m\"\u001b[39m] \u001b[38;5;129;01mis\u001b[39;00m \u001b[38;5;28;01mTrue\u001b[39;00m:\n\u001b[1;32m    653\u001b[0m         \u001b[38;5;28;01mfor\u001b[39;00m i, c \u001b[38;5;129;01min\u001b[39;00m \u001b[38;5;28menumerate\u001b[39m(\u001b[38;5;28mself\u001b[39m\u001b[38;5;241m.\u001b[39m_queryInfo[\u001b[38;5;124m\"\u001b[39m\u001b[38;5;124mScan Info\u001b[39m\u001b[38;5;124m\"\u001b[39m][\u001b[38;5;124m\"\u001b[39m\u001b[38;5;124mConditions Applied\u001b[39m\u001b[38;5;124m\"\u001b[39m]):\n",
      "\u001b[0;31mKeyError\u001b[0m: 'RA'"
     ]
    }
   ],
   "source": [
    "import os\n",
    "import grasp\n",
    "import numpy as np\n",
    "from astropy import units as u\n",
    "from matplotlib import pyplot as plt\n",
    "dr3 = grasp.dr3()\n",
    "gc = grasp.Cluster('ngc6121')\n",
    "\n",
    "try:\n",
    "    device_name = os.getenv('COMPUTERNAME')\n",
    "    if device_name == 'DESKTOP-Work':\n",
    "        tn1 = '20250402_204446'\n",
    "        tn2 = '20250402_204448'\n",
    "        acs = grasp.load_data(tn1)\n",
    "        pcs = grasp.load_data(tn2)\n",
    "    elif device_name == 'LAPTOP-Work':\n",
    "        tn1 = '20250401_164228'\n",
    "        tn2 = '20250401_164231'\n",
    "        tn3 = '20250414_095328'\n",
    "        pcs = grasp.load_data(tn1)\n",
    "        acs = grasp.load_data(tn2)\n",
    "        fas = grasp.load_data(tn3)\n",
    "    else:\n",
    "        raise EnvironmentError(\"Unknown device name\")\n",
    "except Exception:\n",
    "    astrometry_query = \"SELECT source_id, ra, ra_error, dec, dec_error, parallax, parallax_error, pmra, pmra_error, pmdec, pmdec_error, \\\n",
    "                        radial_velocity, radial_velocity_error, bp_rp, phot_g_mean_mag, phot_bp_mean_mag, phot_rp_mean_mag, teff_gspphot, ra_dec_corr, pmra_pmdec_corr \\\n",
    "                        FROM gaiadr3.gaia_source \\\n",
    "                        WHERE CONTAINS(POINT('ICRS',gaiadr3.gaia_source.ra,gaiadr3.gaia_source.dec),CIRCLE('ICRS',245.897,-26.526,0.86))=1 \\\n",
    "                        AND parallax IS NOT NULL AND parallax>0.531632110579479 AND parallax<0.5491488193300\\\n",
    "                        AND abs(parallax_error/parallax)<0.50\\\n",
    "                        AND abs(pmra_error/pmra)<0.30 \\\n",
    "                        AND abs(pmdec_error/pmdec)<0.30 \\\n",
    "                        AND pmra IS NOT NULL AND abs(pmra)>0 \\\n",
    "                        AND pmdec IS NOT NULL AND abs(pmdec)>0 \\\n",
    "                        AND pmra BETWEEN -13.742720 AND -11.295338 \\\n",
    "                        AND pmdec BETWEEN -20.214805 AND -17.807517\"\n",
    "    \n",
    "    photometry_query = \"SELECT source_id, ra, ra_error, dec_error, dec, parallax, parallax_error, pmra, pmra_error, pmdec, pmdec_error, radial_velocity, radial_velocity_error, \\\n",
    "                        bp_rp, phot_g_mean_mag, phot_bp_rp_excess_factor, teff_gspphot, ra_dec_corr, pmra_pmdec_corr \\\n",
    "                        FROM gaiadr3.gaia_source \\\n",
    "                        WHERE CONTAINS(POINT('ICRS',gaiadr3.gaia_source.ra,gaiadr3.gaia_source.dec),CIRCLE('ICRS',245.8958,-26.5256,0.86))=1 \\\n",
    "                        AND parallax IS NOT NULL AND parallax>0.531632110579479 AND parallax<0.5491488193300\\\n",
    "                        AND ruwe < 1.15 \\\n",
    "                        AND phot_g_mean_mag > 11 \\\n",
    "                        AND astrometric_excess_noise_sig < 2 \\\n",
    "                        AND pmra BETWEEN -13.742720 AND -11.295338 \\\n",
    "                        AND pmdec BETWEEN -20.2148 AND -17.807517\"\n",
    "    acs = dr3.free_query(astrometry_query, save=True)\n",
    "    acs = grasp.Sample(acs, gc)\n",
    "    pcs = dr3.free_query(photometry_query, save=True)\n",
    "    pcs = grasp.Sample(pcs, gc)\n",
    "    fas = dr3.get_astrometry(0.86, 'ngc6121', save=True)\n",
    "    print(\"\\nWARNING! Remember to updates tn after running the new query!!!\")"
   ]
  },
  {
   "cell_type": "code",
   "execution_count": null,
   "metadata": {},
   "outputs": [],
   "source": [
    "aps = acs.join(pcs)\n",
    "aps.gc.dist = 1851 * u.pc # Baumgardt, Vasiliev: 2021 # pc\n",
    "f = grasp.load_base_formulary()\n",
    "aps.info()"
   ]
  },
  {
   "cell_type": "markdown",
   "metadata": {},
   "source": [
    "# Data visualization"
   ]
  },
  {
   "cell_type": "code",
   "execution_count": null,
   "metadata": {},
   "outputs": [],
   "source": [
    "grasp.plots.colorMagnitude(aps)"
   ]
  },
  {
   "cell_type": "code",
   "execution_count": null,
   "metadata": {},
   "outputs": [],
   "source": [
    "grasp.plots.histogram(aps.parallax)"
   ]
  },
  {
   "cell_type": "code",
   "execution_count": null,
   "metadata": {},
   "outputs": [],
   "source": [
    "grasp.plots.doubleHistScatter(aps.ra, aps.dec, xlabel='RA', ylabel='Dec')"
   ]
  },
  {
   "cell_type": "markdown",
   "metadata": {},
   "source": [
    "# Angular Separation Analysis\n",
    "\n",
    "The `Great Circle` formula versus the `Vincenty Formula` for the computation of distances on a sphere"
   ]
  },
  {
   "cell_type": "markdown",
   "metadata": {},
   "source": [
    "## $\\theta_V$   vs   $\\theta_{GC}$"
   ]
  },
  {
   "cell_type": "code",
   "execution_count": null,
   "metadata": {},
   "outputs": [],
   "source": [
    "f.substitute('Angular separation', {'alpha_{0}': aps.gc.ra.to(u.rad).value, 'delta_{0}':aps.gc.dec.to(u.rad).value})\n",
    "\n",
    "from sympy import atan2\n",
    "atan_arg_1 = 'sqrt((cos(delta_1) * sin((alpha_0 - alpha_1)/2))**2 + (cos(delta_0)*sin(delta_1) - sin(delta_0)*cos(delta_1)*cos((alpha_0 - alpha_1)/2 ))**2)'\n",
    "atan_arg_2 = '(sin(delta_0)*sin(delta_1) + cos(delta_0)*cos(delta_1)*cos((alpha_0 - alpha_1)/2))'\n",
    "atan = atan2(atan_arg_1, atan_arg_2)\n",
    "f.add_formula('Vincenty angsep', atan)\n",
    "f.substitute('Vincenty angsep', {'alpha_0': aps.gc.ra.to(u.rad).value, 'delta_0':aps.gc.dec.to(u.rad).value})\n",
    "\n",
    "\n",
    "f.angular_separation"
   ]
  },
  {
   "cell_type": "code",
   "execution_count": null,
   "metadata": {},
   "outputs": [],
   "source": [
    "f['Vincenty angsep']"
   ]
  },
  {
   "cell_type": "code",
   "execution_count": null,
   "metadata": {},
   "outputs": [],
   "source": [
    "f.var_order('Angular Separation')\n",
    "print('')\n",
    "f.var_order('Vincenty angsep')"
   ]
  },
  {
   "cell_type": "code",
   "execution_count": null,
   "metadata": {},
   "outputs": [],
   "source": [
    "ra, dec = ((aps.ra * u.deg).to(u.rad).value, (aps.dec * u.deg).to(u.rad).value)\n",
    "print(\"Great Circle Distance computation\\n\")\n",
    "theta_1 = f.compute('Angular Separation', data={'alpha_{1}': ra, 'delta_{1}': dec}, asarray=True)\n",
    "print(\"\\nVincenty Distance computation\\n\")\n",
    "theta_2 = f.compute('Vincenty angsep', data={'alpha_1': ra, 'delta_1': dec}, asarray=True)\n",
    "\n",
    "grasp.plots.doubleHistScatter(theta_2, theta_1, xlabel='Vincenty Formula', ylabel='Angular Separation')"
   ]
  },
  {
   "cell_type": "code",
   "execution_count": null,
   "metadata": {},
   "outputs": [],
   "source": [
    "t_ratio = theta_2/theta_1\n",
    "err_t = (1-t_ratio) * 100\n",
    "out = grasp.plots.histogram(err_t, kde=True, kde_kind='lorentzian', xlabel=r'$\\theta_V\\,/\\,\\theta_G$', out=True)\n",
    "fit = out['kde']\n",
    "print(f\"A = {fit[0]:.2f}  ;  lambda = {fit[1]:.2f}\")"
   ]
  },
  {
   "cell_type": "markdown",
   "metadata": {},
   "source": [
    "### ADQL computed Angular Separation : $\\theta_{G}$"
   ]
  },
  {
   "cell_type": "code",
   "execution_count": null,
   "metadata": {},
   "outputs": [],
   "source": [
    "query1: str = \"SELECT source_id, DISTANCE(245.897,-26.526, ra, dec) AS ang_sep \\\n",
    "    FROM gaiadr3.gaia_source \\\n",
    "    WHERE CONTAINS(POINT('ICRS',gaiadr3.gaia_source.ra,gaiadr3.gaia_source.dec),CIRCLE('ICRS',245.897,-26.526,0.86))=1 \\\n",
    "    AND parallax IS NOT NULL AND parallax>0.531632110579479 AND parallax<0.5491488193300\\\n",
    "    AND abs(parallax_error/parallax)<0.50\\\n",
    "    AND abs(pmra_error/pmra)<0.30 \\\n",
    "    AND abs(pmdec_error/pmdec)<0.30 \\\n",
    "    AND pmra IS NOT NULL AND abs(pmra)>0 \\\n",
    "    AND pmdec IS NOT NULL AND abs(pmdec)>0 \\\n",
    "    AND pmra BETWEEN -13.742720 AND -11.295338 \\\n",
    "    AND pmdec BETWEEN -20.214805 AND -17.807517\"\n",
    "\n",
    "query2: str = \"SELECT source_id, DISTANCE(245.897,-26.526, ra, dec) AS ang_sep \\\n",
    "    FROM gaiadr3.gaia_source \\\n",
    "    WHERE CONTAINS(POINT('ICRS',gaiadr3.gaia_source.ra,gaiadr3.gaia_source.dec),CIRCLE('ICRS',245.897,-26.526,0.86))=1 \\\n",
    "    AND parallax IS NOT NULL AND parallax>0.531632110579479 AND parallax<0.5491488193300\\\n",
    "    AND abs(parallax_error/parallax)<0.50\\\n",
    "    AND abs(pmra_error/pmra)<0.30 \\\n",
    "    AND abs(pmdec_error/pmdec)<0.30 \\\n",
    "    AND pmra IS NOT NULL AND abs(pmra)>0 \\\n",
    "    AND pmdec IS NOT NULL AND abs(pmdec)>0 \\\n",
    "    AND pmra BETWEEN -13.742720 AND -11.295338 \\\n",
    "    AND pmdec BETWEEN -20.214805 AND -17.807517\"\n",
    "\n",
    "aps2 = dr3.free_query(query1)\n",
    "pcs2 = dr3.free_query(query2)\n",
    "\n",
    "aps2 = aps2.join(pcs2)"
   ]
  },
  {
   "cell_type": "markdown",
   "metadata": {},
   "source": [
    "## $r_{2D}(\\theta_V)$ vs $r_{2D}(\\theta_{GC})$"
   ]
  },
  {
   "cell_type": "code",
   "execution_count": null,
   "metadata": {},
   "outputs": [],
   "source": [
    "f.substitute('radial_distance_2d', {'r_{c}': aps.gc.dist.value})\n",
    "f.radial_distance_2d"
   ]
  },
  {
   "cell_type": "code",
   "execution_count": null,
   "metadata": {},
   "outputs": [],
   "source": [
    "f.var_order('radial_distance_2d')"
   ]
  },
  {
   "cell_type": "code",
   "execution_count": null,
   "metadata": {},
   "outputs": [],
   "source": [
    "print(r'Computation using $\\theta_{GC}$')\n",
    "r2d_1 = f.compute('radial_distance_2d', data={'theta': theta_1}, asarray=True) # Great Circle\n",
    "print('')\n",
    "print(r'Computation using $\\theta_{V}$')\n",
    "r2d_2 = f.compute('radial_distance_2d', data={'theta': theta_2}, asarray=True) # Vincenty Formula\n",
    "\n",
    "r_ratio = r2d_2/r2d_1"
   ]
  },
  {
   "cell_type": "code",
   "execution_count": null,
   "metadata": {},
   "outputs": [],
   "source": [
    "grasp.plots.doubleHistScatter(r2d_2, r2d_1, xlabel=r'$r_{2d}(\\theta_{V})$', ylabel=r'$r_{2d}(\\theta_{GC})$')"
   ]
  },
  {
   "cell_type": "code",
   "execution_count": null,
   "metadata": {},
   "outputs": [],
   "source": [
    "grasp.plots.histogram(1-r_ratio[r_ratio<400], kde=True, kde_kind='lorentzian', xlabel=r'$r_{2d}(\\theta_{V})\\,/\\,r_{2d}(\\theta_{GC})$')"
   ]
  },
  {
   "cell_type": "code",
   "execution_count": null,
   "metadata": {},
   "outputs": [],
   "source": [
    "reg_e = grasp.stats.fit_distribution(r_ratio[r_ratio<400], 'exponential', False)\n",
    "reg_p = grasp.stats.fit_distribution(r_ratio[r_ratio<400], 'power', False)"
   ]
  },
  {
   "cell_type": "markdown",
   "metadata": {},
   "source": [
    "# Radial Distance $R$"
   ]
  },
  {
   "cell_type": "markdown",
   "metadata": {},
   "source": [
    "### Computing $d$ and $r_x$"
   ]
  },
  {
   "cell_type": "code",
   "execution_count": null,
   "metadata": {},
   "outputs": [],
   "source": [
    "f.los_distance"
   ]
  },
  {
   "cell_type": "code",
   "execution_count": null,
   "metadata": {},
   "outputs": [],
   "source": [
    "f.gc_z_coordinate\n"
   ]
  },
  {
   "cell_type": "code",
   "execution_count": null,
   "metadata": {},
   "outputs": [],
   "source": [
    "f.radial_distance_3d"
   ]
  },
  {
   "cell_type": "code",
   "execution_count": null,
   "metadata": {},
   "outputs": [],
   "source": [
    "rt_pc = np.tan(aps.gc.rt.to(u.rad).value) * aps.gc.dist.to(u.pc)\n",
    "print(f\"Tidal radius of {aps.gc.id} = {rt_pc:.2f}\")"
   ]
  },
  {
   "cell_type": "code",
   "execution_count": null,
   "metadata": {},
   "outputs": [],
   "source": [
    "f.var_order('los_distance')\n",
    "f.var_order('gc_z_coordinate')\n",
    "f.substitute('gc_z_coordinate', {'r_{c}': aps.gc.dist.value})\n",
    "print('')\n",
    "r_x = f.compute('los_distance', data={'omega': aps.parallax}, asarray=True) * 1000\n",
    "print('')\n",
    "d = f.compute('gc_z_coordinate',data={'r_{x}': r_x}, asarray=True)"
   ]
  },
  {
   "cell_type": "markdown",
   "metadata": {},
   "source": [
    "### $R(\\theta_V)$"
   ]
  },
  {
   "cell_type": "code",
   "execution_count": null,
   "metadata": {},
   "outputs": [],
   "source": [
    "f.var_order('radial_distance_3d')"
   ]
  },
  {
   "cell_type": "code",
   "execution_count": null,
   "metadata": {},
   "outputs": [],
   "source": [
    "R_V = f.compute('radial_distance_3d', data={'d': d,'r_{2}': r2d_2,}, asarray=True)\n",
    "grasp.plots.histogram(R_V, xlabel=r'$R(\\theta_V)$')"
   ]
  },
  {
   "cell_type": "markdown",
   "metadata": {},
   "source": [
    "### $R(\\theta_{GC}$)"
   ]
  },
  {
   "cell_type": "code",
   "execution_count": null,
   "metadata": {},
   "outputs": [],
   "source": [
    "R_GC = f.compute('radial_distance_3d', {'d': d,'r_{2}': r2d_1,}, asarray=True)\n",
    "rgc_hist = grasp.plots.histogram(R_GC, xlabel=r'$R(\\theta_{GC})$', kde=True, kde_kind='gaussian', out=True, kde_verbose=False)"
   ]
  },
  {
   "cell_type": "markdown",
   "metadata": {},
   "source": [
    "### $R(\\theta_V)$ vs $R(\\theta_{GC})$"
   ]
  },
  {
   "cell_type": "code",
   "execution_count": null,
   "metadata": {},
   "outputs": [],
   "source": [
    "grasp.plots.spatial(aps, color=R_V/R_GC, colorbar=True, colorbar_label=r'$r_{2d}(\\theta_{GC})$', cmap='plasma_r', title='Radial distance using GC formula')"
   ]
  },
  {
   "cell_type": "code",
   "execution_count": null,
   "metadata": {},
   "outputs": [],
   "source": [
    "print(f\"ratio mean = {np.mean(R_V/R_GC):.2f} ; ratio std = {np.std(R_V/R_GC):.2f}\")"
   ]
  },
  {
   "cell_type": "markdown",
   "metadata": {},
   "source": [
    "**Conclusions**\n",
    "\n",
    "The vincenty formula computes the angular separation between two points on an ellipsoid, so, in the case of computing<br>\n",
    "angular separations between stars in the celestial sphere, which geometry is, effectively, a unit sphere, the Great Circle<br>\n",
    "formula is the correct one to use, as it computes the distances on a spheric geometry<br>\n",
    "\n",
    "*Overall*, defined the ratio \n",
    "\n",
    "> $\\bar{r} = \\dfrac{R(\\theta_{V})}{R(\\theta_{GC})}$\n",
    "\n",
    "its mean and standard deviation\n",
    "\n",
    "> $\\big<\\bar{r}\\big> = 0.96$\n",
    "\n",
    "> $\\sigma(\\bar{r}) = 0.08$\n",
    "\n",
    "indicates that, for the problem at hand, the two equations provide almost equal results, provided some outlier data.\n",
    "\n",
    "In the end, using the GC formula is recommended, as it is computed on the actual geometry we are considering"
   ]
  },
  {
   "cell_type": "markdown",
   "metadata": {},
   "source": [
    "### Ulterior analysis with cartesian coordinate transformations"
   ]
  },
  {
   "cell_type": "code",
   "execution_count": null,
   "metadata": {},
   "outputs": [],
   "source": [
    "from grasp.functions import CartesianConversion\n",
    "import sympy as sp\n",
    "ra0 ,dec0 = sp.symbols('ra_0 dec_0')\n",
    "\n",
    "#cv = CartesianConversion(aps.gc.ra.value, aps.gc.dec.value)"
   ]
  },
  {
   "cell_type": "markdown",
   "metadata": {},
   "source": [
    "# Dynamics "
   ]
  },
  {
   "cell_type": "markdown",
   "metadata": {},
   "source": [
    "### PMRA ($\\mu_\\alpha$) mean"
   ]
  },
  {
   "cell_type": "code",
   "execution_count": null,
   "metadata": {},
   "outputs": [],
   "source": [
    "pmra = aps.pmra\n",
    "pmra_kde = grasp.plots.histogram(pmra, xlabel='pmra', kde=True, kde_kind='gaussian', out=True)['kde']\n",
    "pmra_mean = pmra_kde[1]\n",
    "print(f\"{pmra_mean = :.4f}\")"
   ]
  },
  {
   "cell_type": "markdown",
   "metadata": {},
   "source": [
    "### PMDEC ($\\mu_{\\delta^*}$) mean"
   ]
  },
  {
   "cell_type": "code",
   "execution_count": null,
   "metadata": {},
   "outputs": [],
   "source": [
    "pmdec = aps.pmdec\n",
    "pmdec_kde = grasp.plots.histogram(pmdec, xlabel='pmra', kde=True, kde_kind='gaussian', out=True)['kde']\n",
    "pmdec_mean = pmdec_kde[1]\n",
    "print(f\"{pmdec_mean = :.4f}\")"
   ]
  },
  {
   "cell_type": "markdown",
   "metadata": {},
   "source": [
    "## Gaussian Mixture Model attempt"
   ]
  },
  {
   "cell_type": "code",
   "execution_count": null,
   "metadata": {},
   "outputs": [],
   "source": []
  },
  {
   "cell_type": "markdown",
   "metadata": {},
   "source": [
    "# Prove"
   ]
  },
  {
   "cell_type": "code",
   "execution_count": null,
   "metadata": {},
   "outputs": [],
   "source": [
    "from mpl_toolkits.mplot3d import Axes3D\n",
    "\n",
    "fig = plt.figure(figsize=(10, 10))\n",
    "ax = fig.add_subplot(111, projection='3d')\n",
    "\n",
    "ax.set_xlabel('RA (deg)')\n",
    "ax.set_ylabel('Dec (deg)')\n",
    "ax.set_zlabel('Distance (pc)')\n",
    "\n",
    "# Use X, Y, and d for 3D coordinates\n",
    "X = aps.ra - gc.ra.value\n",
    "Y = aps.dec - gc.dec.value\n",
    "Z = d  # Distance (pc)\n",
    "accel_x = aps.pmra - pmra_mean\n",
    "accel_y = aps.pmdec - pmdec_mean\n",
    "pm = np.sqrt(accel_x**2 + accel_y**2)\n",
    "\n",
    "Axes3D.scatter3D = ax.scatter(X, Y, Z, c=pm, cmap='plasma', marker='o', alpha=0.5)\n",
    "# Plot the quiver in 3D\n",
    "arrows = ax.quiver(X, Y, Z, accel_x, accel_y, np.zeros_like(accel_x), alpha=0.5)\n",
    "\n",
    "# Add a color bar\n",
    "cbar = fig.colorbar(arrows, ax=ax, shrink=0.5, aspect=10)\n",
    "cbar.set_label('Proper Motion Magnitude (mas/yr)')"
   ]
  },
  {
   "cell_type": "code",
   "execution_count": null,
   "metadata": {},
   "outputs": [],
   "source": []
  }
 ],
 "metadata": {
  "kernelspec": {
   "display_name": "base",
   "language": "python",
   "name": "python3"
  },
  "language_info": {
   "codemirror_mode": {
    "name": "ipython",
    "version": 3
   },
   "file_extension": ".py",
   "mimetype": "text/x-python",
   "name": "python",
   "nbconvert_exporter": "python",
   "pygments_lexer": "ipython3",
   "version": "3.11.10"
  }
 },
 "nbformat": 4,
 "nbformat_minor": 2
}
