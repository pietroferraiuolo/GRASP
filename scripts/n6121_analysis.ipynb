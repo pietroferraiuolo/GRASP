{
 "cells": [
  {
   "cell_type": "markdown",
   "metadata": {},
   "source": [
    "# Initialization"
   ]
  },
  {
   "cell_type": "code",
   "execution_count": 1,
   "metadata": {},
   "outputs": [
    {
     "name": "stdout",
     "output_type": "stream",
     "text": [
      "\n",
      "GAIA - GLOBULAR CLUSTERS ANALYSIS SOFTWARE\n",
      "            ..............\n",
      "         ..:;;..:;;;;;:::::;;\n",
      "       ;;;;;;::.::;;;;;;;;;;;;;\n",
      "      ;;;;.:;;;..;XXXXXX.::....:\n",
      "     :;::;::..+XXXXXXXXX+:;;;;;;:\n",
      "    ;::;:.:;;:XXXXXXXXXXX::::::::;        __ _  __ _(_) __ _\n",
      "    .;;..;;;:.:XXXXXXXXX$$$$$$$$$$X.     / _` |/ _` | |/ _` |\n",
      "    :;..:;;;..:xXXXXXXX$$$$$$$$$$$$X    | (_| | (_| | | (_| |\n",
      "    :;:.:;;.XXXXXXXXX$$$$$$$$$$$$$$;     \\__, |\\__,_|_|\\__,_|\n",
      "    .;;:.:X$$$$$$$$$$$$$$$$$$$$$$X.      |___/\n",
      "    ..:;:$$$$$$$$$$$$$$$$$$$$$$X;.\n",
      "     :;;;$$$$$$$$$$$$$$$$$$$$::;;\n",
      "      ...;$$$$$$$$$$$$$$x;:;;;;;\n",
      "        ......:;:....;;;;;;;:.\n",
      "         ::::::::::;;;::...\n",
      "\n",
      "             INITIALIZED\n",
      "\n",
      "\n",
      "Initialized with Gaia table: 'gaiadr3.gaia_source'\n"
     ]
    }
   ],
   "source": [
    "import os\n",
    "import grasp\n",
    "import numpy as np\n",
    "import pandas as pd\n",
    "import seaborn as sns\n",
    "from astropy.io import fits\n",
    "dr3 = grasp.dr3()\n",
    "gc = grasp.Cluster('ngc6121')"
   ]
  },
  {
   "cell_type": "markdown",
   "metadata": {},
   "source": [
    "# Obtaining the sample"
   ]
  },
  {
   "cell_type": "code",
   "execution_count": 2,
   "metadata": {},
   "outputs": [
    {
     "name": "stdout",
     "output_type": "stream",
     "text": [
      "Found data with the same conditions for object NGC6121 in\n",
      "20250401_164228.\n",
      "Loading it...\n",
      "Sample number of sources: 913\n",
      "Found data with the same conditions for object NGC6121 in\n",
      "20250401_164231.\n",
      "Loading it...\n",
      "Sample number of sources: 920\n"
     ]
    }
   ],
   "source": [
    "data = 'source_id, ra, ra_error, dec, dec_error, parallax, parallax_error, pmra,pmra_error, '\\\n",
    "    +'pmdec, pmdec_error, radial_velocity, radial_velocity_error, bp_rp, phot_g_mean_mag, '\\\n",
    "    +'phot_bp_mean_mag, phot_rp_mean_mag, teff_gspphot, pmra_pmdec_corr, ra_dec_corr'\n",
    "conditions = []\n",
    "conditions.append('parallax IS NOT NULL')\n",
    "conditions.append('parallax BETWEEN 0.531632110579497 AND 0.5491488193300')\n",
    "conditions.append('abs(parallax_error/parallax)<0.5')\n",
    "conditions.append('abs(pmra_error/pmra)<0.3')\n",
    "conditions.append('abs(pmdec_error/pmdec)<0.3')\n",
    "conditions.append('pmra IS NOT NULL')\n",
    "conditions.append('pmdec IS NOT NULL')\n",
    "conditions.append('abs(pmra) > 0')\n",
    "conditions.append('abs(pmdec) > 0')\n",
    "conditions.append('pmra BETWEEN -13.742720 AND -11.295338')\n",
    "conditions.append('pmdec BETWEEN -20.214805 AND -17.807517')\n",
    "conditions2 = []\n",
    "conditions2.append(conditions[-1])\n",
    "conditions2.append(conditions[-2])\n",
    "conditions2.append(conditions[0])\n",
    "conditions2.append(conditions[1])\n",
    "conditions2.append('ruwe < 1.15')\n",
    "conditions2.append('phot_g_mean_mag > 11')\n",
    "conditions2.append('astrometric_excess_noise_sig < 2')\n",
    "\n",
    "pcs = dr3.free_gc_query(0.86, gc=gc, save=True, params=data, conds=conditions2)\n",
    "acs = dr3.free_gc_query(0.86, gc=gc, save=True, params=data, conds=conditions)"
   ]
  },
  {
   "cell_type": "code",
   "execution_count": 3,
   "metadata": {},
   "outputs": [
    {
     "name": "stdout",
     "output_type": "stream",
     "text": [
      "<QTable length=1014>\n",
      "         name          dtype     class     n_bad\n",
      "--------------------- ------- ------------ -----\n",
      "            SOURCE_ID   int64       Column     0\n",
      "                   ra float64       Column     0\n",
      "             ra_error float64       Column     0\n",
      "                  dec float64       Column     0\n",
      "            dec_error float64       Column     0\n",
      "             parallax float64       Column     0\n",
      "       parallax_error float64       Column     0\n",
      "                 pmra float64       Column     0\n",
      "           pmra_error float64       Column     0\n",
      "                pmdec float64       Column     0\n",
      "          pmdec_error float64       Column     0\n",
      "      radial_velocity float64 MaskedColumn   923\n",
      "radial_velocity_error float64 MaskedColumn   923\n",
      "                bp_rp float64 MaskedColumn    31\n",
      "      phot_g_mean_mag float64 MaskedColumn     1\n",
      "     phot_bp_mean_mag float64 MaskedColumn    31\n",
      "     phot_rp_mean_mag float64 MaskedColumn    30\n",
      "         teff_gspphot float64 MaskedColumn   286\n",
      "      pmra_pmdec_corr float64       Column     0\n",
      "          ra_dec_corr float64       Column     0\n"
     ]
    },
    {
     "data": {
      "image/png": "[encoded data removed]",
      "text/plain": [
       "<Figure size 640x520 with 2 Axes>"
      ]
     },
     "metadata": {},
     "output_type": "display_data"
    }
   ],
   "source": [
    "aps = acs.join(pcs)\n",
    "aps.info()\n",
    "grasp.plots.colorMagnitude(aps)"
   ]
  },
  {
   "cell_type": "code",
   "execution_count": 4,
   "metadata": {},
   "outputs": [
    {
     "data": {
      "application/vnd.microsoft.datawrangler.viewer.v0+json": {
       "columns": [
        {
         "name": "index",
         "rawType": "int64",
         "type": "integer"
        },
        {
         "name": "SOURCE_ID",
         "rawType": "int64",
         "type": "integer"
        },
        {
         "name": "_merge",
         "rawType": "category",
         "type": "unknown"
        }
       ],
       "conversionMethod": "pd.DataFrame",
       "ref": "69c9a6e2-bd0e-41d7-ba60-faf1801cc924",
       "rows": [
        [
         "0",
         "6045225224274703488",
         "both"
        ],
        [
         "1",
         "6045285869214078464",
         "both"
        ],
        [
         "2",
         "6045359678233524224",
         "both"
        ],
        [
         "3",
         "6045384206788014080",
         "right_only"
        ],
        [
         "4",
         "6045385791639303296",
         "both"
        ],
        [
         "5",
         "6045389188947107968",
         "both"
        ],
        [
         "6",
         "6045395000049223936",
         "both"
        ],
        [
         "7",
         "6045396576294089472",
         "both"
        ],
        [
         "8",
         "6045397233418215168",
         "both"
        ],
        [
         "9",
         "6045398126785479936",
         "both"
        ],
        [
         "10",
         "6045399565590122752",
         "both"
        ],
        [
         "11",
         "6045403486904775424",
         "both"
        ],
        [
         "12",
         "6045403967941115392",
         "right_only"
        ],
        [
         "13",
         "6045404930013832320",
         "both"
        ],
        [
         "14",
         "6045404998733328768",
         "left_only"
        ],
        [
         "15",
         "6045405166227681024",
         "both"
        ],
        [
         "16",
         "6045405411050006656",
         "both"
        ],
        [
         "17",
         "6045406471892553856",
         "both"
        ],
        [
         "18",
         "6045409156261576576",
         "both"
        ],
        [
         "19",
         "6045409255034381696",
         "left_only"
        ],
        [
         "20",
         "6045409426830018688",
         "left_only"
        ],
        [
         "21",
         "6045410217104082688",
         "both"
        ],
        [
         "22",
         "6045410285823557760",
         "both"
        ],
        [
         "23",
         "6045410393212203776",
         "both"
        ],
        [
         "24",
         "6045410530651174144",
         "both"
        ],
        [
         "25",
         "6045410942968060672",
         "both"
        ],
        [
         "26",
         "6045411149126501504",
         "both"
        ],
        [
         "27",
         "6045411183486251392",
         "both"
        ],
        [
         "28",
         "6045411355284932864",
         "both"
        ],
        [
         "29",
         "6045411527083623936",
         "both"
        ],
        [
         "30",
         "6045411561443415168",
         "both"
        ],
        [
         "31",
         "6045411767601812992",
         "both"
        ],
        [
         "32",
         "6045411870680955648",
         "both"
        ],
        [
         "33",
         "6045412557880327680",
         "both"
        ],
        [
         "34",
         "6045412867113421440",
         "both"
        ],
        [
         "35",
         "6045412901473154432",
         "both"
        ],
        [
         "36",
         "6045413245070564736",
         "both"
        ],
        [
         "37",
         "6045413313790041856",
         "both"
        ],
        [
         "38",
         "6045413687448861568",
         "both"
        ],
        [
         "39",
         "6045413829186124800",
         "both"
        ],
        [
         "40",
         "6045431868049267840",
         "both"
        ],
        [
         "41",
         "6045432310419335424",
         "both"
        ],
        [
         "42",
         "6045432623963520256",
         "both"
        ],
        [
         "43",
         "6045436300455558784",
         "both"
        ],
        [
         "44",
         "6045437537393678080",
         "right_only"
        ],
        [
         "45",
         "6045437640485369600",
         "both"
        ],
        [
         "46",
         "6045437670535512832",
         "both"
        ],
        [
         "47",
         "6045437773617383040",
         "both"
        ],
        [
         "48",
         "6045437876696604544",
         "both"
        ],
        [
         "49",
         "6045438014133020032",
         "both"
        ]
       ],
       "shape": {
        "columns": 2,
        "rows": 1014
       }
      },
      "text/html": [
       "<div>\n",
       "<style scoped>\n",
       "    .dataframe tbody tr th:only-of-type {\n",
       "        vertical-align: middle;\n",
       "    }\n",
       "\n",
       "    .dataframe tbody tr th {\n",
       "        vertical-align: top;\n",
       "    }\n",
       "\n",
       "    .dataframe thead th {\n",
       "        text-align: right;\n",
       "    }\n",
       "</style>\n",
       "<table border=\"1\" class=\"dataframe\">\n",
       "  <thead>\n",
       "    <tr style=\"text-align: right;\">\n",
       "      <th></th>\n",
       "      <th>SOURCE_ID</th>\n",
       "      <th>_merge</th>\n",
       "    </tr>\n",
       "  </thead>\n",
       "  <tbody>\n",
       "    <tr>\n",
       "      <th>0</th>\n",
       "      <td>6045225224274703488</td>\n",
       "      <td>both</td>\n",
       "    </tr>\n",
       "    <tr>\n",
       "      <th>1</th>\n",
       "      <td>6045285869214078464</td>\n",
       "      <td>both</td>\n",
       "    </tr>\n",
       "    <tr>\n",
       "      <th>2</th>\n",
       "      <td>6045359678233524224</td>\n",
       "      <td>both</td>\n",
       "    </tr>\n",
       "    <tr>\n",
       "      <th>3</th>\n",
       "      <td>6045384206788014080</td>\n",
       "      <td>right_only</td>\n",
       "    </tr>\n",
       "    <tr>\n",
       "      <th>4</th>\n",
       "      <td>6045385791639303296</td>\n",
       "      <td>both</td>\n",
       "    </tr>\n",
       "    <tr>\n",
       "      <th>...</th>\n",
       "      <td>...</td>\n",
       "      <td>...</td>\n",
       "    </tr>\n",
       "    <tr>\n",
       "      <th>1009</th>\n",
       "      <td>6048487990668465664</td>\n",
       "      <td>both</td>\n",
       "    </tr>\n",
       "    <tr>\n",
       "      <th>1010</th>\n",
       "      <td>6048492461735982208</td>\n",
       "      <td>both</td>\n",
       "    </tr>\n",
       "    <tr>\n",
       "      <th>1011</th>\n",
       "      <td>6048511325232759040</td>\n",
       "      <td>both</td>\n",
       "    </tr>\n",
       "    <tr>\n",
       "      <th>1012</th>\n",
       "      <td>6048511909348318080</td>\n",
       "      <td>both</td>\n",
       "    </tr>\n",
       "    <tr>\n",
       "      <th>1013</th>\n",
       "      <td>6048901789297109120</td>\n",
       "      <td>both</td>\n",
       "    </tr>\n",
       "  </tbody>\n",
       "</table>\n",
       "<p>1014 rows × 2 columns</p>\n",
       "</div>"
      ],
      "text/plain": [
       "                SOURCE_ID      _merge\n",
       "0     6045225224274703488        both\n",
       "1     6045285869214078464        both\n",
       "2     6045359678233524224        both\n",
       "3     6045384206788014080  right_only\n",
       "4     6045385791639303296        both\n",
       "...                   ...         ...\n",
       "1009  6048487990668465664        both\n",
       "1010  6048492461735982208        both\n",
       "1011  6048511325232759040        both\n",
       "1012  6048511909348318080        both\n",
       "1013  6048901789297109120        both\n",
       "\n",
       "[1014 rows x 2 columns]"
      ]
     },
     "execution_count": 4,
     "metadata": {},
     "output_type": "execute_result"
    }
   ],
   "source": [
    "aps._merge_info"
   ]
  },
  {
   "cell_type": "code",
   "execution_count": 5,
   "metadata": {},
   "outputs": [
    {
     "name": "stdout",
     "output_type": "stream",
     "text": [
      "\n",
      "Angular Separation\n",
      "theta_{2*D} = 2*asin(sqrt((sin((alpha_{0} - alpha_{1})/2)**2*cos(delta_{1}))*cos(delta_{0}) + sin((delta_{0} - delta_{1})/2)**2))\n",
      "\n",
      "Los Distance\n",
      "r_{x} = 1/omega\n",
      "\n",
      "Radial Distance 2D\n",
      "r_{2*d} = r_{c*g}*tan(theta_{2*D})\n",
      "\n",
      "Gc Z Coordinate\n",
      "d = -r_{c*g} + r_{x}\n",
      "\n",
      "Radial Distance 3D\n",
      "R = sqrt(d**2 + r_{2*d}**2)\n",
      "\n",
      "In-Shell Dimentionless Poteff\n",
      "Sigma = (-x + log(B, E)) - log(Delta_{N}/(sqrt(x)), E)\n",
      "\n",
      "B Constant\n",
      "B = 16*(A*(sqrt(2)*(pi**2*(beta**2*(r_{s}**2*(alpha*(m**3*(sigma**3*(dr*dx)))))))))\n",
      "\n",
      "Dimentionless Poteff\n",
      "Sigma = -log(1 - exp(-w + x), E)\n"
     ]
    }
   ],
   "source": [
    "f = grasp.load_base_formulary()\n",
    "f.display_all()"
   ]
  },
  {
   "cell_type": "code",
   "execution_count": 6,
   "metadata": {},
   "outputs": [],
   "source": [
    "f.substitute('Angular Separation', {'alpha_{0}': aps.gc.ra.value, 'delta_{0}':aps.gc.dec.value})"
   ]
  },
  {
   "cell_type": "code",
   "execution_count": 17,
   "metadata": {},
   "outputs": [
    {
     "data": {
      "text/latex": [
       "$\\displaystyle 2 \\operatorname{asin}{\\left(\\sqrt{0.177000071097462 \\sin^{2}{\\left(\\frac{alpha_{1}}{2} - 122.9479 \\right)} \\cos{\\left(delta_{1} \\right)} + \\sin^{2}{\\left(\\frac{delta_{1}}{2} + 13.2628 \\right)}} \\right)}$"
      ],
      "text/plain": [
       "2*asin(sqrt(0.177000071097462*sin(alpha_{1}/2 - 122.9479)**2*cos(delta_{1}) + sin(delta_{1}/2 + 13.2628)**2))"
      ]
     },
     "execution_count": 17,
     "metadata": {},
     "output_type": "execute_result"
    }
   ],
   "source": [
    "f.angular_separation.rhs"
   ]
  },
  {
   "cell_type": "code",
   "execution_count": 13,
   "metadata": {},
   "outputs": [],
   "source": [
    "from sympy import atan2\n",
    "atan_arg_1 = 'sqrt((cos(delta_1*sin((alpha_0 - alpha_1)/2)))**2 + (cos(delta_0)*sin(delta_1) - sin(delta_0)*cos(delta_1)*cos((alpha_0 - alpha_1)/2 ))**2)'\n",
    "atan_arg_2 = '(sin(delta_0)*sin(delta_1) + cos(delta_0)*cos(delta_1)*cos((alpha_0 - alpha_1)/2))'\n",
    "atan = atan2(atan_arg_1, atan_arg_2)\n",
    "f.add_formula('Vincenty angsep', atan)"
   ]
  },
  {
   "cell_type": "code",
   "execution_count": 14,
   "metadata": {},
   "outputs": [],
   "source": [
    "f.substitute('Vincenty angsep', {'alpha_0': aps.gc.ra.value, 'delta_0':aps.gc.dec.value})"
   ]
  },
  {
   "cell_type": "code",
   "execution_count": 18,
   "metadata": {},
   "outputs": [
    {
     "data": {
      "text/latex": [
       "$\\displaystyle \\operatorname{atan}_{2}{\\left(\\sqrt{0.968670974831493 \\left(0.179839587367255 \\sin{\\left(\\delta_{1} \\right)} + \\cos{\\left(\\delta_{1} \\right)} \\cos{\\left(\\frac{\\alpha_{1}}{2} - 122.9479 \\right)}\\right)^{2} + \\cos^{2}{\\left(\\delta_{1} \\sin{\\left(\\frac{\\alpha_{1}}{2} - 122.9479 \\right)} \\right)}},- 0.984210838607 \\sin{\\left(\\delta_{1} \\right)} + 0.177000071097462 \\cos{\\left(\\delta_{1} \\right)} \\cos{\\left(\\frac{\\alpha_{1}}{2} - 122.9479 \\right)} \\right)}$"
      ],
      "text/plain": [
       "atan2(sqrt(0.968670974831493*(0.179839587367255*sin(delta_1) + cos(delta_1)*cos(alpha_1/2 - 122.9479))**2 + cos(delta_1*sin(alpha_1/2 - 122.9479))**2), -0.984210838607*sin(delta_1) + 0.177000071097462*cos(delta_1)*cos(alpha_1/2 - 122.9479))"
      ]
     },
     "execution_count": 18,
     "metadata": {},
     "output_type": "execute_result"
    }
   ],
   "source": [
    "f['Vincenty angsep'].rhs"
   ]
  },
  {
   "cell_type": "code",
   "execution_count": 20,
   "metadata": {},
   "outputs": [],
   "source": [
    "ra, dec = (aps.ra, aps.dec)"
   ]
  },
  {
   "cell_type": "code",
   "execution_count": 22,
   "metadata": {},
   "outputs": [
    {
     "name": "stdout",
     "output_type": "stream",
     "text": [
      "WARNING! Be sure that the input data follow this specific order: \n",
      "Data:         [alpha_{1}, delta_{1}]\n",
      "Data:\n",
      "Computation using all 8 cores.\n"
     ]
    }
   ],
   "source": [
    "theta_1 = f.compute('Angular Separation', data={'alpha_{1}': ra, 'delta_{1}': dec})"
   ]
  },
  {
   "cell_type": "code",
   "execution_count": 26,
   "metadata": {},
   "outputs": [
    {
     "name": "stdout",
     "output_type": "stream",
     "text": [
      "WARNING! Be sure that the input data follow this specific order: \n",
      "Data:         [delta_1, alpha_1]\n",
      "Data:\n",
      "Computation using all 8 cores.\n"
     ]
    }
   ],
   "source": [
    "theta_2 = f.compute('Vincenty angsep', data={'alpha_1': ra, 'delta_1': dec})"
   ]
  },
  {
   "cell_type": "code",
   "execution_count": 36,
   "metadata": {},
   "outputs": [
    {
     "data": {
      "image/png": "[encoded data removed]",
      "text/plain": [
       "<Figure size 560x520 with 3 Axes>"
      ]
     },
     "metadata": {},
     "output_type": "display_data"
    }
   ],
   "source": [
    "grasp.plots.doubleHistScatter(theta_2.computed_values, theta_1.computed_values, xlabel='Vincenty Formula', ylabel='Angular Separation')"
   ]
  },
  {
   "cell_type": "code",
   "execution_count": null,
   "metadata": {},
   "outputs": [],
   "source": []
  }
 ],
 "metadata": {
  "kernelspec": {
   "display_name": "base",
   "language": "python",
   "name": "python3"
  },
  "language_info": {
   "codemirror_mode": {
    "name": "ipython",
    "version": 3
   },
   "file_extension": ".py",
   "mimetype": "text/x-python",
   "name": "python",
   "nbconvert_exporter": "python",
   "pygments_lexer": "ipython3",
   "version": "3.11.10"
  }
 },
 "nbformat": 4,
 "nbformat_minor": 2
}
