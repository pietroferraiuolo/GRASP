{
 "cells": [
  {
   "cell_type": "markdown",
   "metadata": {},
   "source": [
    "# Initialization"
   ]
  },
  {
   "cell_type": "code",
   "execution_count": 1,
   "metadata": {},
   "outputs": [
    {
     "name": "stdout",
     "output_type": "stream",
     "text": [
      "\n",
      "            ..............\n",
      "         ..:;;..:;;;;;:::::;;\n",
      "       ;;;;;;::.::;;;;;;;;;;;;;\n",
      "      ;;;;.:;;;..;XXXXXX.::....:           GAIA QUERY MODULE\n",
      "     :;::;::..+XXXXXXXXX+:;;;;;;:\n",
      "    ;::;:.:;;:XXXXXXXXXXX::::::::;        __ _  __ _(_) __ _\n",
      "    .;;..;;;:.:XXXXXXXXX$$$$$$$$$$X.     / _` |/ _` | |/ _` |\n",
      "    :;..:;;;..:xXXXXXXX$$$$$$$$$$$$X    | (_| | (_| | | (_| |\n",
      "    :;:.:;;.XXXXXXXXX$$$$$$$$$$$$$$;     \\__, |\\__,_|_|\\__,_|\n",
      "    .;;:.:X$$$$$$$$$$$$$$$$$$$$$$X.      |___/\n",
      "    ..:;:$$$$$$$$$$$$$$$$$$$$$$X;.\n",
      "     :;;;$$$$$$$$$$$$$$$$$$$$::;;             INITIALIZED\n",
      "      ...;$$$$$$$$$$$$$$x;:;;;;;\n",
      "        ......:;:....;;;;;;;:.\n",
      "          ::::::::::;;;::...\n",
      "            ....::::.....\n",
      "\n",
      "Initialized with Gaia table: 'gaiadr3.gaia_source'\n"
     ]
    }
   ],
   "source": [
    "import os\n",
    "import grasp\n",
    "import numpy as np\n",
    "import pandas as pd\n",
    "from astropy import units as u\n",
    "from matplotlib import pyplot as plt\n",
    "dr3 = grasp.dr3()\n",
    "gc = grasp.Cluster('ngc6121')\n",
    "\n",
    "try:\n",
    "    device_name = os.getenv('COMPUTERNAME')\n",
    "    if device_name == 'DESKTOP-Work':\n",
    "        tn1 = '20250506_170539'\n",
    "        tn2 = '20250506_170541'\n",
    "        tn3 = '20250508_172350'\n",
    "        acs = grasp.load_data(tn = tn1)\n",
    "        pcs = grasp.load_data(tn = tn2)\n",
    "        fas = grasp.load_data(tn = tn3)\n",
    "    elif device_name == 'LAPTOP-Work':\n",
    "        tn1 = '20250401_164228'\n",
    "        tn2 = '20250401_164231'\n",
    "        tn3 = '20250515_094935'\n",
    "        pcs = grasp.load_data(tn = tn1, data_format='ascii.tab', file_format='.txt')\n",
    "        acs = grasp.load_data(tn = tn2, data_format='ascii.tab', file_format='.txt')\n",
    "        fas = grasp.load_data(tn = tn3)\n",
    "    else:\n",
    "        raise EnvironmentError(\"Unknown device name\")\n",
    "    acs.gc = pcs.gc = fas.gc = gc\n",
    "except FileNotFoundError as e:\n",
    "    print(e)\n",
    "    astrometry_query = \"SELECT source_id, ra, ra_error, dec, dec_error, parallax, parallax_error, pmra, pmra_error, pmdec, pmdec_error, \\\n",
    "                        radial_velocity, radial_velocity_error, bp_rp, phot_g_mean_mag, phot_bp_mean_mag, phot_rp_mean_mag, teff_gspphot, ra_dec_corr, pmra_pmdec_corr \\\n",
    "                        FROM gaiadr3.gaia_source \\\n",
    "                        WHERE CONTAINS(POINT('ICRS',gaiadr3.gaia_source.ra,gaiadr3.gaia_source.dec),CIRCLE('ICRS',245.897,-26.526,0.86))=1 \\\n",
    "                        AND parallax IS NOT NULL AND parallax>0.531632110579479 AND parallax<0.5491488193300\\\n",
    "                        AND abs(parallax_error/parallax)<0.50\\\n",
    "                        AND abs(pmra_error/pmra)<0.30 \\\n",
    "                        AND abs(pmdec_error/pmdec)<0.30 \\\n",
    "                        AND pmra IS NOT NULL AND abs(pmra)>0 \\\n",
    "                        AND pmdec IS NOT NULL AND abs(pmdec)>0 \\\n",
    "                        AND pmra BETWEEN -13.742720 AND -11.295338 \\\n",
    "                        AND pmdec BETWEEN -20.214805 AND -17.807517\"\n",
    "    \n",
    "    photometry_query = \"SELECT source_id, ra, ra_error, dec_error, dec, parallax, parallax_error, pmra, pmra_error, pmdec, pmdec_error, radial_velocity, radial_velocity_error, \\\n",
    "                        bp_rp, phot_g_mean_mag, phot_bp_rp_excess_factor, teff_gspphot, ra_dec_corr, pmra_pmdec_corr \\\n",
    "                        FROM gaiadr3.gaia_source \\\n",
    "                        WHERE CONTAINS(POINT('ICRS',gaiadr3.gaia_source.ra,gaiadr3.gaia_source.dec),CIRCLE('ICRS',245.8958,-26.5256,0.86))=1 \\\n",
    "                        AND parallax IS NOT NULL AND parallax>0.531632110579479 AND parallax<0.5491488193300\\\n",
    "                        AND ruwe < 1.15 \\\n",
    "                        AND phot_g_mean_mag > 11 \\\n",
    "                        AND astrometric_excess_noise_sig < 2 \\\n",
    "                        AND pmra BETWEEN -13.742720 AND -11.295338 \\\n",
    "                        AND pmdec BETWEEN -20.2148 AND -17.807517\"\n",
    "    acs = dr3.free_query(astrometry_query, save=True)\n",
    "    acs = grasp.Sample(acs, gc)\n",
    "    pcs = dr3.free_query(photometry_query, save=True)\n",
    "    pcs = grasp.Sample(pcs, gc)\n",
    "    fas = dr3.get_astrometry(0.86, 'ngc6121', save=True)\n",
    "    print(\"\\nWARNING! Remember to updates tn after running the new query!!!\")"
   ]
  },
  {
   "cell_type": "code",
   "execution_count": 2,
   "metadata": {},
   "outputs": [
    {
     "name": "stdout",
     "output_type": "stream",
     "text": [
      "<Sample length=1014>\n",
      "         name          dtype     class     n_bad\n",
      "--------------------- ------- ------------ -----\n",
      "            SOURCE_ID   int64       Column     0\n",
      "                   ra float64       Column     0\n",
      "             ra_error float64       Column     0\n",
      "                  dec float64       Column     0\n",
      "            dec_error float64       Column     0\n",
      "             parallax float64       Column     0\n",
      "       parallax_error float64       Column     0\n",
      "                 pmra float64       Column     0\n",
      "           pmra_error float64       Column     0\n",
      "                pmdec float64       Column     0\n",
      "          pmdec_error float64       Column     0\n",
      "      radial_velocity float64 MaskedColumn   923\n",
      "radial_velocity_error float64 MaskedColumn   923\n",
      "                bp_rp float64 MaskedColumn    31\n",
      "      phot_g_mean_mag float64 MaskedColumn     1\n",
      "     phot_bp_mean_mag float64 MaskedColumn    31\n",
      "     phot_rp_mean_mag float64 MaskedColumn    30\n",
      "         teff_gspphot float64 MaskedColumn   286\n",
      "      pmra_pmdec_corr float64       Column     0\n",
      "          ra_dec_corr float64       Column     0\n"
     ]
    }
   ],
   "source": [
    "aps = acs.join(pcs)\n",
    "aps.gc.dist = 1851 * u.pc # Baumgardt, Vasiliev: 2021 # pc\n",
    "f = grasp.load_base_formulary()\n",
    "aps.info()"
   ]
  },
  {
   "cell_type": "markdown",
   "metadata": {},
   "source": [
    "# MachineLearning"
   ]
  },
  {
   "cell_type": "markdown",
   "metadata": {},
   "source": [
    "### PMRA ($\\mu_\\alpha$) \n",
    "KDE mean"
   ]
  },
  {
   "cell_type": "code",
   "execution_count": null,
   "metadata": {},
   "outputs": [],
   "source": [
    "pmra = aps.pmra\n",
    "pmra_kde = grasp.plots.histogram(pmra, xlabel='pmra', kde=True, kde_kind='gaussian', out=True)['kde']\n",
    "pmra_mean = pmra_kde[1]\n",
    "print(f\"{pmra_mean = :.4f}\")"
   ]
  },
  {
   "cell_type": "markdown",
   "metadata": {},
   "source": [
    "### PMDEC ($\\mu_{\\delta^*}$) \n",
    "KDE mean"
   ]
  },
  {
   "cell_type": "code",
   "execution_count": null,
   "metadata": {},
   "outputs": [],
   "source": [
    "pmdec = aps.pmdec\n",
    "pmdec_kde = grasp.plots.histogram(pmdec, xlabel='pmra', kde=True, kde_kind='gaussian', out=True)['kde']\n",
    "pmdec_mean = pmdec_kde[1]\n",
    "print(f\"{pmdec_mean = :.4f}\")"
   ]
  },
  {
   "cell_type": "markdown",
   "metadata": {},
   "source": [
    "## XDGMM (eXtreme Deconvolution Gaussian Mixture Model)\n",
    "\n",
    "For cluster parameters estimation from subsample, to be checked with PM regression and with clustering classification"
   ]
  },
  {
   "cell_type": "code",
   "execution_count": null,
   "metadata": {},
   "outputs": [],
   "source": [
    "from sklearn.model_selection import train_test_split\n",
    "from sklearn.metrics import accuracy_score as ac, mean_absolute_error as mea, mean_squared_error as mse\n",
    "\n",
    "data = np.array([aps.SOURCE_ID, aps.pmra, aps.pmdec, theta_GC[0]]).T\n",
    "errors = np.array([aps.SOURCE_ID, aps.pmra_error, aps.pmdec_error, theta_GC[1]]).T\n",
    "correlation = aps.pmra_pmdec_corr.value"
   ]
  },
  {
   "cell_type": "code",
   "execution_count": null,
   "metadata": {},
   "outputs": [],
   "source": [
    "X_train, X_test, err_train, err_test, corr_train, corr_test = train_test_split(data, errors, correlation, test_size=0.2)\n",
    "if all(X_train[:,0] == err_train[:,0]) and all(X_test[:,0] == err_test[:,0]):\n",
    "    print(\"Data and errors are aligned.\\nRemoving source_id column...\\n\")\n",
    "    err_train = np.delete(err_train, 0, axis=1)\n",
    "    err_test = np.delete(err_test, 0, axis=1)\n",
    "    X_train = np.delete(X_train, 0, axis=1)\n",
    "    X_test = np.delete(X_test, 0, axis=1)\n",
    "else:\n",
    "    print(\"Data and errors are not aligned. Exiting...\")\n",
    "    exit(1)\n",
    "print(f\"{X_train.shape = :}\")\n",
    "print(f\"{X_test.shape = :}\\n\")\n",
    "print(f\"{err_train.shape = :}\")\n",
    "print(f\"{err_test.shape = :}\")\n",
    "print(f\"\\n{corr_train.shape = :}\")\n",
    "print(f\"{corr_test.shape = :}\\n\")"
   ]
  },
  {
   "cell_type": "code",
   "execution_count": null,
   "metadata": {},
   "outputs": [],
   "source": [
    "train_cov = grasp.stats._construct_covariance_matrices(err_train, {(0,1): corr_train})\n",
    "test_cov = grasp.stats._construct_covariance_matrices(err_test, {(0,1): corr_test})\n",
    "print(f\"{train_cov.shape = :}\")\n",
    "print(f\"{test_cov.shape = :}\\n\")"
   ]
  },
  {
   "cell_type": "code",
   "execution_count": null,
   "metadata": {},
   "outputs": [],
   "source": [
    "model = grasp.stats.XD_estimator(data=X_train, errors=err_train, correlations={(0,1): corr_train}, n_components=1)"
   ]
  },
  {
   "cell_type": "code",
   "execution_count": null,
   "metadata": {},
   "outputs": [],
   "source": [
    "xdgmm_pmra_mean, xdgmm_pmdec_mean, _ = tuple([mu[0] for mu in model.mu.T])\n",
    "print(f\"{pmra_mean = :.3f} mas/yr\\n{pmdec_mean = :.3f} mas/yr\")"
   ]
  },
  {
   "cell_type": "code",
   "execution_count": null,
   "metadata": {},
   "outputs": [],
   "source": [
    "print(f\"{xdgmm_pmra_mean/pmra_mean*100 = :.3f} %\")\n",
    "print(f\"{xdgmm_pmdec_mean/pmdec_mean*100 = :.3f} %\")"
   ]
  },
  {
   "cell_type": "markdown",
   "metadata": {},
   "source": [
    "## Computation on Full Astrometric Sample"
   ]
  },
  {
   "cell_type": "code",
   "execution_count": null,
   "metadata": {},
   "outputs": [],
   "source": [
    "fas = dr3.free_gc_query(\n",
    "    1.,\n",
    "    'ngc6121', \n",
    "    data = 'source_id, ra, ra_error, dec, dec_error, parallax, parallax_error, pmra, pmra_error, pmdec, pmdec_error,ra_dec_corr,pmra_pmdec_corr',\n",
    "    save=True\n",
    ")\n",
    "Ni = len(fas)\n",
    "fas.join(aps, keep='left_only', inplace=True)\n",
    "Nf = len(fas)\n",
    "assert Ni-Nf == len(aps), f\"Number of sources in fas ({Ni-Nf}) is not equal to the number of sources in aps ({len(aps)})\"\n",
    "fas.dropna()"
   ]
  },
  {
   "cell_type": "code",
   "execution_count": null,
   "metadata": {},
   "outputs": [],
   "source": [
    "pmra_dist = grasp.plots.histogram(fas['pmra'].value, kde=True ,xlabel='pmra', out=True)\n",
    "pmdec_dits = grasp.plots.histogram(fas['pmdec'].value, kde=True ,xlabel='pmdec', out=True)\n"
   ]
  },
  {
   "cell_type": "code",
   "execution_count": null,
   "metadata": {},
   "outputs": [],
   "source": [
    "print(f\"{'pmRA':>12} {'pmDEC':>8}\")\n",
    "print(f\"str: {pmra_dist['kde'][2]:>8.2f} {pmdec_dits['kde'][2]:>7.2f}\")\n",
    "print(f\"fwhm: {pmra_dist['kde'][2]*2*2**0.5:>7.2f} {pmdec_dits['kde'][2]*2*2**0.5:>7.2f}\")\n",
    "\n",
    "pmra_fwhm = pmra_dist['kde'][2]*2*2**0.5\n",
    "pmdec_fwhm = pmdec_dits['kde'][2]*2*2**0.5\n",
    "interval_pmra = (pmra_mean - pmra_fwhm, pmra_mean + pmra_fwhm)\n",
    "interval_pmdec = (pmdec_mean - pmdec_fwhm, pmdec_mean + pmdec_fwhm)\n",
    "\n",
    "print(f\"Intervals:\\npmra: {interval_pmra}\\npmdec: {interval_pmdec}\")"
   ]
  },
  {
   "cell_type": "code",
   "execution_count": null,
   "metadata": {},
   "outputs": [],
   "source": [
    "fas.apply_conditions(\n",
    "    conditions={\n",
    "        \"pmra\": \" <intrval_pmra[0]\",\n",
    "        \"pmra\": \" > interval_pmra[1]\",\n",
    "        \"pmdec\": \" < interval_pmdec[0]\",\n",
    "        \"pmdec\": \" > interval_pmdec[1]\",\n",
    "    },\n",
    "    inplace=True,\n",
    ")"
   ]
  },
  {
   "cell_type": "code",
   "execution_count": null,
   "metadata": {},
   "outputs": [],
   "source": [
    "fas_df = fas.to_pandas(index='SOURCE_ID')"
   ]
  },
  {
   "cell_type": "code",
   "execution_count": null,
   "metadata": {},
   "outputs": [],
   "source": [
    "fas_df.drop(\n",
    "    columns=[\n",
    "        \"radial_velocity\",\n",
    "        \"radial_velocity_error\",\n",
    "        \"bp_rp\",\n",
    "        \"phot_g_mean_mag\",\n",
    "        \"teff_gspphot\",\n",
    "        \"phot_bp_mean_mag\",\n",
    "        \"phot_rp_mean_mag\",\n",
    "    ],\n",
    "    axis=1,\n",
    "    inplace=True,\n",
    ")"
   ]
  },
  {
   "cell_type": "code",
   "execution_count": null,
   "metadata": {},
   "outputs": [],
   "source": [
    "fas_df.info()"
   ]
  },
  {
   "cell_type": "code",
   "execution_count": null,
   "metadata": {},
   "outputs": [],
   "source": [
    "#f.var_order('angular separation')\n",
    "fas_df['ang_sep'], fas_df['ang_sep_error'] = f.compute('angular separation',\n",
    "          data={'alpha_{1}': (fas.ra*u.deg).to(u.rad).value, 'delta_{1}': (fas.dec*u.deg).to(u.rad).value}, \n",
    "          errors={\"epsilon_alpha_{1}\": (fas.ra_error*u.deg).to(u.rad).value, \"epsilon_delta_{1}\": (fas.dec_error*u.deg).to(u.rad).value}, \n",
    "          corrs={'rho_alpha_{1}_delta_{1}': fas.ra_dec_corr},\n",
    "          asarray=True)"
   ]
  },
  {
   "cell_type": "code",
   "execution_count": null,
   "metadata": {},
   "outputs": [],
   "source": [
    "fas_df.dropna(inplace=True)\n",
    "fas_df[['ang_sep', 'ang_sep_error']].info()"
   ]
  },
  {
   "cell_type": "code",
   "execution_count": null,
   "metadata": {},
   "outputs": [],
   "source": [
    "fas_df.describe()"
   ]
  },
  {
   "cell_type": "code",
   "execution_count": null,
   "metadata": {},
   "outputs": [],
   "source": [
    "data = fas_df[['ra','dec','pmra','pmdec','ang_sep']].to_numpy(dtype='float')\n",
    "errors = fas_df[['ra_error','dec_error','pmra_error','pmdec_error','ang_sep_error']].to_numpy(dtype='float')\n",
    "correlation = fas_df['pmra_pmdec_corr'].values\n",
    "\n",
    "X_train, X_test, err_train, err_test, corr_train, corr_test = train_test_split(data, errors, correlation, test_size=0.2)\n",
    "\n",
    "# if all(X_train[:,0] == err_train[:,0]) and all(X_test[:,0] == err_test[:,0]):\n",
    "#     print(\"Data and errors are aligned.\\nRemoving source_id column...\\n\")\n",
    "#     X_err_train = np.delete(err_train, 0, axis=1)\n",
    "#     X_err_test = np.delete(err_test, 0, axis=1)\n",
    "#     X_train = np.delete(X_train, 0, axis=1)\n",
    "#     X_test = np.delete(X_test, 0, axis=1)\n",
    "# else:\n",
    "#     print(\"Data and errors are not aligned. Exiting...\")\n",
    "#     exit(1)\n",
    "\n",
    "print(f\"{X_train.shape = :}\")\n",
    "print(f\"{X_test.shape = :}\\n\")\n",
    "print(f\"{err_train.shape = :}\")\n",
    "print(f\"{err_test.shape = :}\")\n",
    "print(f\"\\n{corr_train.shape = :}\")\n",
    "print(f\"{corr_test.shape = :}\\n\")"
   ]
  },
  {
   "cell_type": "code",
   "execution_count": null,
   "metadata": {},
   "outputs": [],
   "source": [
    "model = grasp.stats.gaussian_mixture_model(train_data=X_train, G=3, modelNames=np.array(['VII', 'VVI']), verbose=True)"
   ]
  },
  {
   "cell_type": "code",
   "execution_count": null,
   "metadata": {},
   "outputs": [],
   "source": [
    "model_parameters = pd.DataFrame(data=model.parameters['mean'], columns=['ra','dec','pmra','pmdec','ang_sep'])"
   ]
  },
  {
   "cell_type": "code",
   "execution_count": null,
   "metadata": {},
   "outputs": [],
   "source": [
    "model_parameters"
   ]
  },
  {
   "cell_type": "markdown",
   "metadata": {},
   "source": [
    "# Riassunto\n",
    "\n",
    "Rifare il training sul dataset completo dopo:\n",
    "- Aver pulito i dati da outliers nello spazio dei PM (sono inutili)\n",
    "- RA - DEC ci dice qualcosa? \n",
    "- Togliere la AngularSeparation - potrebbe introdurre un bias, visto che è calcolato su RA-DEC arbitrari (forse andrebbe calcolato sui parametri trovati da XDGMM)"
   ]
  },
  {
   "cell_type": "code",
   "execution_count": null,
   "metadata": {},
   "outputs": [],
   "source": []
  },
  {
   "cell_type": "markdown",
   "metadata": {},
   "source": [
    "# Data visualization"
   ]
  },
  {
   "cell_type": "code",
   "execution_count": null,
   "metadata": {},
   "outputs": [],
   "source": [
    "grasp.plots.colorMagnitude(aps)"
   ]
  },
  {
   "cell_type": "code",
   "execution_count": null,
   "metadata": {},
   "outputs": [],
   "source": [
    "grasp.plots.histogram(aps.parallax, bins='detailed')"
   ]
  },
  {
   "cell_type": "code",
   "execution_count": null,
   "metadata": {},
   "outputs": [],
   "source": [
    "grasp.plots.doubleHistScatter(aps.ra, aps.dec, xlabel='RA', ylabel='Dec')"
   ]
  },
  {
   "cell_type": "markdown",
   "metadata": {},
   "source": [
    "# Angular Separation Analysis\n",
    "\n",
    "The `Great Circle` formula versus the `Vincenty Formula` for the computation of distances on a sphere"
   ]
  },
  {
   "cell_type": "markdown",
   "metadata": {},
   "source": [
    "### $\\theta_V$ vs $\\theta_{GC}$ vs $\\theta_{G}$"
   ]
  },
  {
   "cell_type": "code",
   "execution_count": null,
   "metadata": {},
   "outputs": [],
   "source": [
    "f.substitute('Angular separation', {'alpha_{0}': aps.gc.ra.to(u.rad).value, 'delta_{0}':aps.gc.dec.to(u.rad).value})\n",
    "\n",
    "from sympy import atan2\n",
    "atan_arg_1 = 'sqrt((cos(delta_1) * sin((alpha_0 - alpha_1)/2))**2 + (cos(delta_0)*sin(delta_1) - sin(delta_0)*cos(delta_1)*cos((alpha_0 - alpha_1)/2 ))**2)'\n",
    "atan_arg_2 = '(sin(delta_0)*sin(delta_1) + cos(delta_0)*cos(delta_1)*cos((alpha_0 - alpha_1)/2))'\n",
    "atan = atan2(atan_arg_1, atan_arg_2)\n",
    "f.add_formula('Vincenty angsep', atan)\n",
    "f.substitute('Vincenty angsep', {'alpha_0': aps.gc.ra.to(u.rad).value, 'delta_0':aps.gc.dec.to(u.rad).value})\n",
    "\n",
    "\n",
    "f.angular_separation"
   ]
  },
  {
   "cell_type": "code",
   "execution_count": null,
   "metadata": {},
   "outputs": [],
   "source": [
    "f['Vincenty angsep']"
   ]
  },
  {
   "cell_type": "code",
   "execution_count": null,
   "metadata": {},
   "outputs": [],
   "source": [
    "f.var_order('Angular Separation')\n",
    "print('')\n",
    "f.var_order('Vincenty angsep')"
   ]
  },
  {
   "cell_type": "code",
   "execution_count": null,
   "metadata": {},
   "outputs": [],
   "source": [
    "ra, dec = ((aps.ra * u.deg).to(u.rad).value, (aps.dec * u.deg).to(u.rad).value)\n",
    "print(\"Great Circle Distance computation\\n\")\n",
    "theta_GC = f.compute('Angular Separation', data={'alpha_{1}': ra, 'delta_{1}': dec}, errors={\"epsilon_alpha_{1}\": aps.ra_error, \"epsilon_delta_{1}\": aps.dec_error}, asarray=True)\n",
    "print(\"\\nVincenty Distance computation\\n\")\n",
    "theta_V = f.compute('Vincenty angsep', data={'alpha_1': ra, 'delta_1': dec}, asarray=True)\n",
    "\n",
    "grasp.plots.doubleHistScatter(theta_V, theta_GC[0], xlabel='Vincenty Formula', ylabel='Angular Separation')"
   ]
  },
  {
   "cell_type": "code",
   "execution_count": null,
   "metadata": {},
   "outputs": [],
   "source": [
    "t_ratio = theta_V/theta_GC[0]\n",
    "err_t = (1-t_ratio) * 100\n",
    "out = grasp.plots.histogram(err_t, bins='knuth', kde=True, kde_kind='lorentzian', xlabel=r'$\\theta_V\\,/\\,\\theta_GC$', out=True)\n",
    "fit = out['kde']\n",
    "print(f\"A = {fit[0]:.2f}  ;  lambda = {fit[1]:.2f}\")"
   ]
  },
  {
   "cell_type": "markdown",
   "metadata": {},
   "source": [
    "### ADQL computed Angular Separation : $\\theta_{G}$\n",
    "\n",
    "Validated! <br>\n",
    "It is shown how the angular separation computed from the ADQL language corresponds to the\n",
    "Great Circle formula used by the GRASP package."
   ]
  },
  {
   "cell_type": "code",
   "execution_count": null,
   "metadata": {},
   "outputs": [],
   "source": [
    "query1: str = \"SELECT source_id, DISTANCE(245.897,-26.526, ra, dec) AS ang_sep \\\n",
    "    FROM gaiadr3.gaia_source \\\n",
    "    WHERE CONTAINS(POINT('ICRS',gaiadr3.gaia_source.ra,gaiadr3.gaia_source.dec),CIRCLE('ICRS',245.897,-26.526,0.86))=1 \\\n",
    "    AND parallax IS NOT NULL AND parallax>0.531632110579479 AND parallax<0.5491488193300\\\n",
    "    AND abs(parallax_error/parallax)<0.50\\\n",
    "    AND abs(pmra_error/pmra)<0.30 \\\n",
    "    AND abs(pmdec_error/pmdec)<0.30 \\\n",
    "    AND pmra IS NOT NULL AND abs(pmra)>0 \\\n",
    "    AND pmdec IS NOT NULL AND abs(pmdec)>0 \\\n",
    "    AND pmra BETWEEN -13.742720 AND -11.295338 \\\n",
    "    AND pmdec BETWEEN -20.214805 AND -17.807517\"\n",
    "\n",
    "query2: str = \"SELECT source_id, DISTANCE(245.897,-26.526, ra, dec) AS ang_sep  \\\n",
    "    FROM gaiadr3.gaia_source \\\n",
    "    WHERE CONTAINS(POINT('ICRS',gaiadr3.gaia_source.ra,gaiadr3.gaia_source.dec),CIRCLE('ICRS',245.8958,-26.5256,0.86))=1 \\\n",
    "    AND parallax IS NOT NULL AND parallax>0.531632110579479 AND parallax<0.5491488193300\\\n",
    "    AND ruwe < 1.15 \\\n",
    "    AND phot_g_mean_mag > 11 \\\n",
    "    AND astrometric_excess_noise_sig < 2 \\\n",
    "    AND pmra BETWEEN -13.742720 AND -11.295338 \\\n",
    "    AND pmdec BETWEEN -20.2148 AND -17.807517\"\n",
    "\n",
    "acs2 = grasp.Sample(dr3.free_query(query1), gc='ngc6121')\n",
    "pcs2 = grasp.Sample(dr3.free_query(query2), gc='ngc6121')"
   ]
  },
  {
   "cell_type": "code",
   "execution_count": null,
   "metadata": {},
   "outputs": [],
   "source": [
    "aps2 = acs2.join(pcs2)\n",
    "aps2.gc.dist = 1851 * u.pc\n",
    "aps2.info()"
   ]
  },
  {
   "cell_type": "code",
   "execution_count": null,
   "metadata": {},
   "outputs": [],
   "source": [
    "theta_G = (aps2.ang_sep*u.deg).to(u.rad).value\n",
    "grasp.plots.doubleHistScatter(theta_GC[0], theta_G, bins='knuth', xlabel=r\"$\\theta_GC$\", ylabel=r\"$\\theta_G$\")"
   ]
  },
  {
   "cell_type": "markdown",
   "metadata": {},
   "source": [
    "### $r_{2D}(\\theta_V)$ vs $r_{2D}(\\theta_{GC})$"
   ]
  },
  {
   "cell_type": "code",
   "execution_count": null,
   "metadata": {},
   "outputs": [],
   "source": [
    "f.substitute('radial_distance_2d', {'r_{c}': aps.gc.dist.value})\n",
    "f.radial_distance_2d"
   ]
  },
  {
   "cell_type": "code",
   "execution_count": null,
   "metadata": {},
   "outputs": [],
   "source": [
    "f.var_order('radial_distance_2d')"
   ]
  },
  {
   "cell_type": "code",
   "execution_count": null,
   "metadata": {},
   "outputs": [],
   "source": [
    "print(r'Computation using $\\theta_{GC}$')\n",
    "r2d_GC = f.compute('radial_distance_2d', data={'theta': theta_GC[0]}, errors = {'epsilon_theta': theta_GC[1]}, asarray=True) # Great Circle\n",
    "print('')\n",
    "print(r'Computation using $\\theta_{V}$')\n",
    "r2d_V = f.compute('radial_distance_2d', data={'theta': theta_V}, asarray=True) # Vincenty Formula\n",
    "\n",
    "r_ratio = r2d_V/r2d_GC[0]"
   ]
  },
  {
   "cell_type": "code",
   "execution_count": null,
   "metadata": {},
   "outputs": [],
   "source": [
    "grasp.plots.doubleHistScatter(r2d_V, r2d_GC[0], xlabel=r'$r_{2d}(\\theta_{V})$ [pc]', ylabel=r'$r_{2d}(\\theta_{GC})$ [pc]')"
   ]
  },
  {
   "cell_type": "code",
   "execution_count": null,
   "metadata": {},
   "outputs": [],
   "source": [
    "grasp.plots.histogram(1-r_ratio[r_ratio<400], kde=True, kde_kind='lorentzian', xlabel=r'$r_{2d}(\\theta_{V})\\,/\\,r_{2d}(\\theta_{GC})$')"
   ]
  },
  {
   "cell_type": "markdown",
   "metadata": {},
   "source": [
    "# Radial Distance $R$"
   ]
  },
  {
   "cell_type": "markdown",
   "metadata": {},
   "source": [
    "### Computing $d$ and $r_x$"
   ]
  },
  {
   "cell_type": "code",
   "execution_count": null,
   "metadata": {},
   "outputs": [],
   "source": [
    "f.los_distance"
   ]
  },
  {
   "cell_type": "code",
   "execution_count": null,
   "metadata": {},
   "outputs": [],
   "source": [
    "f.gc_z_coordinate\n"
   ]
  },
  {
   "cell_type": "code",
   "execution_count": null,
   "metadata": {},
   "outputs": [],
   "source": [
    "f.radial_distance_3d"
   ]
  },
  {
   "cell_type": "code",
   "execution_count": null,
   "metadata": {},
   "outputs": [],
   "source": [
    "rt_pc = np.tan(aps.gc.rt.to(u.rad).value) * aps.gc.dist.to(u.pc)\n",
    "print(f\"Tidal radius of {aps.gc.id} = {rt_pc:.2f}\")"
   ]
  },
  {
   "cell_type": "code",
   "execution_count": null,
   "metadata": {},
   "outputs": [],
   "source": [
    "f.var_order('los_distance')\n",
    "f.var_order('gc_z_coordinate')\n",
    "f.substitute('gc_z_coordinate', {'r_{c}': aps.gc.dist.value})\n",
    "print('')\n",
    "r_x = f.compute('los_distance', data={'omega': aps.parallax}, errors={\"epsilon_omega\": aps.parallax_error}, asarray=True) * 1000\n",
    "print('')\n",
    "d = f.compute('gc_z_coordinate',data={'r_{x}': r_x[0]}, errors={'epsilon_r_{x}': r_x[1]}, asarray=True)"
   ]
  },
  {
   "cell_type": "markdown",
   "metadata": {},
   "source": [
    "### $R(\\theta_{GC}$)"
   ]
  },
  {
   "cell_type": "code",
   "execution_count": null,
   "metadata": {},
   "outputs": [],
   "source": [
    "f.var_order('radial_distance_3d')"
   ]
  },
  {
   "cell_type": "code",
   "execution_count": null,
   "metadata": {},
   "outputs": [],
   "source": [
    "R_GC = f.compute('radial_distance_3d', {'d': d[0],'r_{2}': r2d_GC[0]}, errors={\"epsilon_d\": d[1], \"epsilon_r_{2}\": r2d_GC[1]}, asarray=True)\n",
    "rgc_hist = grasp.plots.histogram(R_GC[0], xlabel=r'$R(\\theta_{GC})$', kde=True, kde_kind='gaussian', out=True, kde_verbose=False)"
   ]
  },
  {
   "cell_type": "code",
   "execution_count": null,
   "metadata": {},
   "outputs": [],
   "source": [
    "grasp.plots.errorbar(R_GC[0], dataerr=R_GC[1], x=R_GC[0])"
   ]
  },
  {
   "cell_type": "code",
   "execution_count": null,
   "metadata": {},
   "outputs": [],
   "source": [
    "grasp.plots.histogram(R_GC[1], xlabel=r\"$R_{GC}$ Error\", bins='knuth')"
   ]
  },
  {
   "cell_type": "markdown",
   "metadata": {},
   "source": [
    "**Conclusions**\n",
    "\n",
    "The vincenty formula computes the angular separation between two points on an ellipsoid, so, in the case of computing<br>\n",
    "angular separations between stars in the celestial sphere, which geometry is, effectively, a unit sphere, the Great Circle<br>\n",
    "formula is the correct one to use, as it computes the distances on a spheric geometry<br>\n",
    "\n",
    "*Overall*, defined the ratio \n",
    "\n",
    "> $\\bar{r} = \\dfrac{R(\\theta_{V})}{R(\\theta_{GC})}$\n",
    "\n",
    "its mean and standard deviation\n",
    "\n",
    "> $\\big<\\bar{r}\\big> = 0.96$\n",
    "\n",
    "> $\\sigma(\\bar{r}) = 0.08$\n",
    "\n",
    "indicates that, for the problem at hand, the two equations provide almost equal results, provided some outlier data.\n",
    "\n",
    "In the end, using the GC formula is recommended, as it is computed on the actual geometry we are considering"
   ]
  }
 ],
 "metadata": {
  "kernelspec": {
   "display_name": "base",
   "language": "python",
   "name": "python3"
  },
  "language_info": {
   "codemirror_mode": {
    "name": "ipython",
    "version": 3
   },
   "file_extension": ".py",
   "mimetype": "text/x-python",
   "name": "python",
   "nbconvert_exporter": "python",
   "pygments_lexer": "ipython3",
   "version": "3.11.10"
  }
 },
 "nbformat": 4,
 "nbformat_minor": 2
}
