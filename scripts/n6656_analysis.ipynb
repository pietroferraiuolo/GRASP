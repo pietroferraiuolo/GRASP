{
 "cells": [
  {
   "cell_type": "markdown",
   "metadata": {},
   "source": [
    "# NGC 6656 (M 22) Notebook"
   ]
  },
  {
   "cell_type": "markdown",
   "metadata": {},
   "source": [
    "- NGC 6121\n",
    "- NGC 104\n",
    "- [X] NGC 6656\n",
    "- NGC 4372"
   ]
  },
  {
   "cell_type": "markdown",
   "metadata": {},
   "source": [
    "## Initialization"
   ]
  },
  {
   "cell_type": "code",
   "execution_count": 2,
   "metadata": {},
   "outputs": [
    {
     "name": "stdout",
     "output_type": "stream",
     "text": [
      "\n",
      "            ..............\n",
      "         ..:;;..:;;;;;:::::;;\n",
      "       ;;;;;;::.::;;;;;;;;;;;;;\n",
      "      ;;;;.:;;;..;XXXXXX.::....:           GAIA QUERY MODULE\n",
      "     :;::;::..+XXXXXXXXX+:;;;;;;:\n",
      "    ;::;:.:;;:XXXXXXXXXXX::::::::;        __ _  __ _(_) __ _\n",
      "    .;;..;;;:.:XXXXXXXXX$$$$$$$$$$X.     / _` |/ _` | |/ _` |\n",
      "    :;..:;;;..:xXXXXXXX$$$$$$$$$$$$X    | (_| | (_| | | (_| |\n",
      "    :;:.:;;.XXXXXXXXX$$$$$$$$$$$$$$;     \\__, |\\__,_|_|\\__,_|\n",
      "    .;;:.:X$$$$$$$$$$$$$$$$$$$$$$X.      |___/\n",
      "    ..:;:$$$$$$$$$$$$$$$$$$$$$$X;.\n",
      "     :;;;$$$$$$$$$$$$$$$$$$$$::;;             INITIALIZED\n",
      "      ...;$$$$$$$$$$$$$$x;:;;;;;\n",
      "        ......:;:....;;;;;;;:.\n",
      "          ::::::::::;;;::...\n",
      "            ....::::.....\n",
      "\n",
      "Initialized with Gaia table: 'gaiadr3.gaia_source'\n"
     ]
    }
   ],
   "source": [
    "import os\n",
    "import grasp\n",
    "import numpy as np\n",
    "import pandas as pd\n",
    "from astropy import units as u\n",
    "import matplotlib.pyplot as plt\n",
    "from sklearn.model_selection import train_test_split\n",
    "dr3 = grasp.dr3()\n",
    "gc = grasp.Cluster('NGC6656')\n",
    "f = grasp.load_base_formulary()\n",
    "\n",
    "gplt = grasp.plots\n",
    "stats = grasp.stats\n",
    "\n",
    "scan_radius = gc.rt.value*1.20\n",
    "\n",
    "gc.rt_pc = gc.dist.to(u.pc) * np.tan(gc.rt.to(u.rad))\n"
   ]
  },
  {
   "cell_type": "code",
   "execution_count": 3,
   "metadata": {},
   "outputs": [
    {
     "name": "stdout",
     "output_type": "stream",
     "text": [
      "Found data with the same conditions for object NGC6656 in\n",
      "20250602_002609.\n",
      "Loading it...\n",
      "Sample number of sources: 651815\n",
      "<Sample length=651815>\n",
      "           name            dtype    unit                                        description                                          class      n_bad \n",
      "------------------------- ------- -------- ------------------------------------------------------------------------------------- -------------- ------\n",
      "                SOURCE_ID   int64                             Unique source identifier (unique within a particular Data Release)   MaskedColumn      0\n",
      "                       ra float64      deg                                                                       Right ascension MaskedQuantity      0\n",
      "                 ra_error float32      mas                                                     Standard error of right ascension MaskedQuantity      0\n",
      "                      dec float64      deg                                                                           Declination MaskedQuantity      0\n",
      "                dec_error float32      mas                                                         Standard error of declination MaskedQuantity      0\n",
      "                 parallax float64      mas                                                                              Parallax MaskedQuantity      0\n",
      "           parallax_error float32      mas                                                            Standard error of parallax MaskedQuantity      0\n",
      "                     pmra float64 mas / yr                                            Proper motion in right ascension direction MaskedQuantity      0\n",
      "               pmra_error float32 mas / yr                          Standard error of proper motion in right ascension direction MaskedQuantity      0\n",
      "                    pmdec float64 mas / yr                                                Proper motion in declination direction MaskedQuantity      0\n",
      "              pmdec_error float32 mas / yr                              Standard error of proper motion in declination direction MaskedQuantity      0\n",
      "              ra_dec_corr float32                                            Correlation between right ascension and declination         Column      0\n",
      "          pmra_pmdec_corr float32          Correlation between proper motion in right ascension and proper motion in declination         Column      0\n",
      "          phot_g_mean_mag float32      mag                                                                 G-band mean magnitude MaskedQuantity    752\n",
      "nu_eff_used_in_astrometry float32   1 / um                   Effective wavenumber of the source used in the astrometric solution MaskedQuantity 490790\n",
      "             pseudocolour float32   1 / um                                  Astrometrically estimated pseudocolour of the source MaskedQuantity 161025\n",
      "                  ecl_lat float64      deg                                                                     Ecliptic latitude MaskedQuantity      0\n",
      "astrometric_params_solved   int16                                                         Which parameters have been solved for?   MaskedColumn      0\n"
     ]
    }
   ],
   "source": [
    "fas = dr3.get_astrometry(\n",
    "    radius=scan_radius, \n",
    "    gc=gc,\n",
    "    save=True,\n",
    "    add_data=\"ra_dec_corr, pmra_pmdec_corr, phot_g_mean_mag, nu_eff_used_in_astrometry, pseudocolour, ecl_lat, astrometric_params_solved\",\n",
    "    conditions='astrometric_params_solved != 3',)\n",
    "fas.info()\n"
   ]
  },
  {
   "cell_type": "code",
   "execution_count": 4,
   "metadata": {},
   "outputs": [
    {
     "name": "stdout",
     "output_type": "stream",
     "text": [
      "WARNING: Only run this cell once (just to be sure...!!\n",
      "\n",
      "Using the \"Zero Point Correction\" tool from Pau Ramos\n",
      "(Lindergren, et al., A&A 649, A4 (2021)\n",
      "\n",
      "Saved stars from negative parallax: 7524 (3.76%)\n"
     ]
    }
   ],
   "source": [
    "print(\"WARNING: Only run this cell once (just to be sure...!!\")\n",
    "\n",
    "Nneg = len(fas.to_pandas()[fas['parallax']<0])\n",
    "\n",
    "grasp.zero_point_correction(sample=fas)\n",
    "\n",
    "Nneg_f = len(fas.to_pandas()[fas['parallax']<0])\n",
    "\n",
    "print(f\"\\nSaved stars from negative parallax: {Nneg-Nneg_f} ({(1-Nneg_f/Nneg)*100:.2f}%)\")"
   ]
  },
  {
   "cell_type": "code",
   "execution_count": 6,
   "metadata": {},
   "outputs": [
    {
     "data": {
      "application/vnd.microsoft.datawrangler.viewer.v0+json": {
       "columns": [
        {
         "name": "index",
         "rawType": "object",
         "type": "string"
        },
        {
         "name": "SOURCE_ID",
         "rawType": "float64",
         "type": "float"
        },
        {
         "name": "ra",
         "rawType": "float64",
         "type": "float"
        },
        {
         "name": "ra_error",
         "rawType": "float64",
         "type": "float"
        },
        {
         "name": "dec",
         "rawType": "float64",
         "type": "float"
        },
        {
         "name": "dec_error",
         "rawType": "float64",
         "type": "float"
        },
        {
         "name": "parallax",
         "rawType": "float64",
         "type": "float"
        },
        {
         "name": "parallax_error",
         "rawType": "float64",
         "type": "float"
        },
        {
         "name": "pmra",
         "rawType": "float64",
         "type": "float"
        },
        {
         "name": "pmra_error",
         "rawType": "float64",
         "type": "float"
        },
        {
         "name": "pmdec",
         "rawType": "float64",
         "type": "float"
        },
        {
         "name": "pmdec_error",
         "rawType": "float64",
         "type": "float"
        },
        {
         "name": "ra_dec_corr",
         "rawType": "float64",
         "type": "float"
        },
        {
         "name": "pmra_pmdec_corr",
         "rawType": "float64",
         "type": "float"
        },
        {
         "name": "phot_g_mean_mag",
         "rawType": "float64",
         "type": "float"
        },
        {
         "name": "nu_eff_used_in_astrometry",
         "rawType": "float64",
         "type": "float"
        },
        {
         "name": "pseudocolour",
         "rawType": "float64",
         "type": "float"
        },
        {
         "name": "ecl_lat",
         "rawType": "float64",
         "type": "float"
        },
        {
         "name": "astrometric_params_solved",
         "rawType": "float64",
         "type": "float"
        }
       ],
       "ref": "a49608a8-6dea-4407-9ce4-7b9e592b6021",
       "rows": [
        [
         "count",
         "651815.0",
         "651815.0",
         "651815.0",
         "651815.0",
         "651815.0",
         "651815.0",
         "651815.0",
         "651815.0",
         "651815.0",
         "651815.0",
         "651815.0",
         "651815.0",
         "651815.0",
         "651063.0",
         "161025.0",
         "490790.0",
         "651815.0",
         "651815.0"
        ],
        [
         "mean",
         "4.0772421892747484e+18",
         "279.08047499670425",
         "0.44740748405456543",
         "-23.90488069668114",
         "0.41816776990890503",
         "0.2300826292002377",
         "0.43404650688171387",
         "-1.352687204013689",
         "0.5373282432556152",
         "-4.839407454110996",
         "0.4577447175979614",
         "0.36160972714424133",
         "0.31164371967315674",
         "18.987075805664062",
         "1.4560625553131104",
         "1.4377909898757935",
         "-0.7271095593563623",
         "79.18937888818147"
        ],
        [
         "std",
         "393273882627156.5",
         "0.3441214400683803",
         "0.350257009267807",
         "0.3129932247736547",
         "0.33384808897972107",
         "0.8986721400505269",
         "0.2946026623249054",
         "4.04942429924263",
         "0.4245140552520752",
         "3.0947935213858884",
         "0.37598395347595215",
         "0.2537038028240204",
         "0.26933959126472473",
         "1.2226744890213013",
         "0.055687710642814636",
         "0.165506511926651",
         "0.31292791481319565",
         "27.60262994920588"
        ],
        [
         "min",
         "4.076662938833569e+18",
         "278.39802219157735",
         "0.012037239037454128",
         "-24.542546946916083",
         "0.010735561139881611",
         "-23.405523729329655",
         "0.013253740966320038",
         "-119.82917268572002",
         "0.014352995902299881",
         "-219.0664285322655",
         "0.011521505191922188",
         "-0.9847244620323181",
         "-0.9837188124656677",
         "4.740140438079834",
         "1.100921630859375",
         "-0.6285433769226074",
         "-1.3653881396523089",
         "31.0"
        ],
        [
         "25%",
         "4.076820242016791e+18",
         "278.8055739246826",
         "0.19630392640829086",
         "-24.151064755202093",
         "0.1825338751077652",
         "-0.07331383147039364",
         "0.21805128455162048",
         "-3.7227810075766063",
         "0.2552602142095566",
         "-6.572147528976553",
         "0.22658606618642807",
         "0.20186317712068558",
         "0.15272485464811325",
         "18.551715850830078",
         "1.4210323095321655",
         "1.361549735069275",
         "-0.9734012599669561",
         "95.0"
        ],
        [
         "50%",
         "4.077490566137936e+18",
         "279.0756332033917",
         "0.3499487340450287",
         "-23.907394973979905",
         "0.32213109731674194",
         "0.21737061143494918",
         "0.37235480546951294",
         "-1.9661418360958578",
         "0.4047744572162628",
         "-5.0067130841137315",
         "0.33287113904953003",
         "0.3635871708393097",
         "0.3173633813858032",
         "19.28492546081543",
         "1.4583090543746948",
         "1.4419949054718018",
         "-0.7294820779101316",
         "95.0"
        ],
        [
         "75%",
         "4.077594263812211e+18",
         "279.3525012388735",
         "0.5802808701992035",
         "-23.658372484232085",
         "0.5393497049808502",
         "0.5289754251936467",
         "0.5842642188072205",
         "0.040239345694599915",
         "0.6758752167224884",
         "-3.116653703938943",
         "0.5537109375",
         "0.5280145704746246",
         "0.48490630090236664",
         "19.81490707397461",
         "1.4882237911224365",
         "1.5183626413345337",
         "-0.47995200278303696",
         "95.0"
        ],
        [
         "max",
         "4.077693907148378e+18",
         "279.79345034429787",
         "3.2160651683807373",
         "-23.26683145550081",
         "2.5194692611694336",
         "25.147136677052774",
         "3.4551570415496826",
         "196.92899218087211",
         "2.910766124725342",
         "187.9495035254578",
         "2.787849187850952",
         "0.9968705773353577",
         "0.9923033118247986",
         "20.985416412353516",
         "2.3835790157318115",
         "3.454207181930542",
         "-0.08959001906088689",
         "95.0"
        ]
       ],
       "shape": {
        "columns": 18,
        "rows": 8
       }
      },
      "text/html": [
       "<div>\n",
       "<style scoped>\n",
       "    .dataframe tbody tr th:only-of-type {\n",
       "        vertical-align: middle;\n",
       "    }\n",
       "\n",
       "    .dataframe tbody tr th {\n",
       "        vertical-align: top;\n",
       "    }\n",
       "\n",
       "    .dataframe thead th {\n",
       "        text-align: right;\n",
       "    }\n",
       "</style>\n",
       "<table border=\"1\" class=\"dataframe\">\n",
       "  <thead>\n",
       "    <tr style=\"text-align: right;\">\n",
       "      <th></th>\n",
       "      <th>SOURCE_ID</th>\n",
       "      <th>ra</th>\n",
       "      <th>ra_error</th>\n",
       "      <th>dec</th>\n",
       "      <th>dec_error</th>\n",
       "      <th>parallax</th>\n",
       "      <th>parallax_error</th>\n",
       "      <th>pmra</th>\n",
       "      <th>pmra_error</th>\n",
       "      <th>pmdec</th>\n",
       "      <th>pmdec_error</th>\n",
       "      <th>ra_dec_corr</th>\n",
       "      <th>pmra_pmdec_corr</th>\n",
       "      <th>phot_g_mean_mag</th>\n",
       "      <th>nu_eff_used_in_astrometry</th>\n",
       "      <th>pseudocolour</th>\n",
       "      <th>ecl_lat</th>\n",
       "      <th>astrometric_params_solved</th>\n",
       "    </tr>\n",
       "  </thead>\n",
       "  <tbody>\n",
       "    <tr>\n",
       "      <th>count</th>\n",
       "      <td>6.518150e+05</td>\n",
       "      <td>651815.000000</td>\n",
       "      <td>651815.000000</td>\n",
       "      <td>651815.000000</td>\n",
       "      <td>651815.000000</td>\n",
       "      <td>651815.000000</td>\n",
       "      <td>651815.000000</td>\n",
       "      <td>651815.000000</td>\n",
       "      <td>651815.000000</td>\n",
       "      <td>651815.000000</td>\n",
       "      <td>651815.000000</td>\n",
       "      <td>651815.000000</td>\n",
       "      <td>651815.000000</td>\n",
       "      <td>651063.000000</td>\n",
       "      <td>161025.000000</td>\n",
       "      <td>490790.000000</td>\n",
       "      <td>651815.000000</td>\n",
       "      <td>651815.000000</td>\n",
       "    </tr>\n",
       "    <tr>\n",
       "      <th>mean</th>\n",
       "      <td>4.077242e+18</td>\n",
       "      <td>279.080475</td>\n",
       "      <td>0.447407</td>\n",
       "      <td>-23.904881</td>\n",
       "      <td>0.418168</td>\n",
       "      <td>0.230083</td>\n",
       "      <td>0.434047</td>\n",
       "      <td>-1.352687</td>\n",
       "      <td>0.537328</td>\n",
       "      <td>-4.839407</td>\n",
       "      <td>0.457745</td>\n",
       "      <td>0.361610</td>\n",
       "      <td>0.311644</td>\n",
       "      <td>18.987076</td>\n",
       "      <td>1.456063</td>\n",
       "      <td>1.437791</td>\n",
       "      <td>-0.727110</td>\n",
       "      <td>79.189379</td>\n",
       "    </tr>\n",
       "    <tr>\n",
       "      <th>std</th>\n",
       "      <td>3.932739e+14</td>\n",
       "      <td>0.344121</td>\n",
       "      <td>0.350257</td>\n",
       "      <td>0.312993</td>\n",
       "      <td>0.333848</td>\n",
       "      <td>0.898672</td>\n",
       "      <td>0.294603</td>\n",
       "      <td>4.049424</td>\n",
       "      <td>0.424514</td>\n",
       "      <td>3.094794</td>\n",
       "      <td>0.375984</td>\n",
       "      <td>0.253704</td>\n",
       "      <td>0.269340</td>\n",
       "      <td>1.222674</td>\n",
       "      <td>0.055688</td>\n",
       "      <td>0.165507</td>\n",
       "      <td>0.312928</td>\n",
       "      <td>27.602630</td>\n",
       "    </tr>\n",
       "    <tr>\n",
       "      <th>min</th>\n",
       "      <td>4.076663e+18</td>\n",
       "      <td>278.398022</td>\n",
       "      <td>0.012037</td>\n",
       "      <td>-24.542547</td>\n",
       "      <td>0.010736</td>\n",
       "      <td>-23.405524</td>\n",
       "      <td>0.013254</td>\n",
       "      <td>-119.829173</td>\n",
       "      <td>0.014353</td>\n",
       "      <td>-219.066429</td>\n",
       "      <td>0.011522</td>\n",
       "      <td>-0.984724</td>\n",
       "      <td>-0.983719</td>\n",
       "      <td>4.740140</td>\n",
       "      <td>1.100922</td>\n",
       "      <td>-0.628543</td>\n",
       "      <td>-1.365388</td>\n",
       "      <td>31.000000</td>\n",
       "    </tr>\n",
       "    <tr>\n",
       "      <th>25%</th>\n",
       "      <td>4.076820e+18</td>\n",
       "      <td>278.805574</td>\n",
       "      <td>0.196304</td>\n",
       "      <td>-24.151065</td>\n",
       "      <td>0.182534</td>\n",
       "      <td>-0.073314</td>\n",
       "      <td>0.218051</td>\n",
       "      <td>-3.722781</td>\n",
       "      <td>0.255260</td>\n",
       "      <td>-6.572148</td>\n",
       "      <td>0.226586</td>\n",
       "      <td>0.201863</td>\n",
       "      <td>0.152725</td>\n",
       "      <td>18.551716</td>\n",
       "      <td>1.421032</td>\n",
       "      <td>1.361550</td>\n",
       "      <td>-0.973401</td>\n",
       "      <td>95.000000</td>\n",
       "    </tr>\n",
       "    <tr>\n",
       "      <th>50%</th>\n",
       "      <td>4.077491e+18</td>\n",
       "      <td>279.075633</td>\n",
       "      <td>0.349949</td>\n",
       "      <td>-23.907395</td>\n",
       "      <td>0.322131</td>\n",
       "      <td>0.217371</td>\n",
       "      <td>0.372355</td>\n",
       "      <td>-1.966142</td>\n",
       "      <td>0.404774</td>\n",
       "      <td>-5.006713</td>\n",
       "      <td>0.332871</td>\n",
       "      <td>0.363587</td>\n",
       "      <td>0.317363</td>\n",
       "      <td>19.284925</td>\n",
       "      <td>1.458309</td>\n",
       "      <td>1.441995</td>\n",
       "      <td>-0.729482</td>\n",
       "      <td>95.000000</td>\n",
       "    </tr>\n",
       "    <tr>\n",
       "      <th>75%</th>\n",
       "      <td>4.077594e+18</td>\n",
       "      <td>279.352501</td>\n",
       "      <td>0.580281</td>\n",
       "      <td>-23.658372</td>\n",
       "      <td>0.539350</td>\n",
       "      <td>0.528975</td>\n",
       "      <td>0.584264</td>\n",
       "      <td>0.040239</td>\n",
       "      <td>0.675875</td>\n",
       "      <td>-3.116654</td>\n",
       "      <td>0.553711</td>\n",
       "      <td>0.528015</td>\n",
       "      <td>0.484906</td>\n",
       "      <td>19.814907</td>\n",
       "      <td>1.488224</td>\n",
       "      <td>1.518363</td>\n",
       "      <td>-0.479952</td>\n",
       "      <td>95.000000</td>\n",
       "    </tr>\n",
       "    <tr>\n",
       "      <th>max</th>\n",
       "      <td>4.077694e+18</td>\n",
       "      <td>279.793450</td>\n",
       "      <td>3.216065</td>\n",
       "      <td>-23.266831</td>\n",
       "      <td>2.519469</td>\n",
       "      <td>25.147137</td>\n",
       "      <td>3.455157</td>\n",
       "      <td>196.928992</td>\n",
       "      <td>2.910766</td>\n",
       "      <td>187.949504</td>\n",
       "      <td>2.787849</td>\n",
       "      <td>0.996871</td>\n",
       "      <td>0.992303</td>\n",
       "      <td>20.985416</td>\n",
       "      <td>2.383579</td>\n",
       "      <td>3.454207</td>\n",
       "      <td>-0.089590</td>\n",
       "      <td>95.000000</td>\n",
       "    </tr>\n",
       "  </tbody>\n",
       "</table>\n",
       "</div>"
      ],
      "text/plain": [
       "          SOURCE_ID             ra       ra_error            dec  \\\n",
       "count  6.518150e+05  651815.000000  651815.000000  651815.000000   \n",
       "mean   4.077242e+18     279.080475       0.447407     -23.904881   \n",
       "std    3.932739e+14       0.344121       0.350257       0.312993   \n",
       "min    4.076663e+18     278.398022       0.012037     -24.542547   \n",
       "25%    4.076820e+18     278.805574       0.196304     -24.151065   \n",
       "50%    4.077491e+18     279.075633       0.349949     -23.907395   \n",
       "75%    4.077594e+18     279.352501       0.580281     -23.658372   \n",
       "max    4.077694e+18     279.793450       3.216065     -23.266831   \n",
       "\n",
       "           dec_error       parallax  parallax_error           pmra  \\\n",
       "count  651815.000000  651815.000000   651815.000000  651815.000000   \n",
       "mean        0.418168       0.230083        0.434047      -1.352687   \n",
       "std         0.333848       0.898672        0.294603       4.049424   \n",
       "min         0.010736     -23.405524        0.013254    -119.829173   \n",
       "25%         0.182534      -0.073314        0.218051      -3.722781   \n",
       "50%         0.322131       0.217371        0.372355      -1.966142   \n",
       "75%         0.539350       0.528975        0.584264       0.040239   \n",
       "max         2.519469      25.147137        3.455157     196.928992   \n",
       "\n",
       "          pmra_error          pmdec    pmdec_error    ra_dec_corr  \\\n",
       "count  651815.000000  651815.000000  651815.000000  651815.000000   \n",
       "mean        0.537328      -4.839407       0.457745       0.361610   \n",
       "std         0.424514       3.094794       0.375984       0.253704   \n",
       "min         0.014353    -219.066429       0.011522      -0.984724   \n",
       "25%         0.255260      -6.572148       0.226586       0.201863   \n",
       "50%         0.404774      -5.006713       0.332871       0.363587   \n",
       "75%         0.675875      -3.116654       0.553711       0.528015   \n",
       "max         2.910766     187.949504       2.787849       0.996871   \n",
       "\n",
       "       pmra_pmdec_corr  phot_g_mean_mag  nu_eff_used_in_astrometry  \\\n",
       "count    651815.000000    651063.000000              161025.000000   \n",
       "mean          0.311644        18.987076                   1.456063   \n",
       "std           0.269340         1.222674                   0.055688   \n",
       "min          -0.983719         4.740140                   1.100922   \n",
       "25%           0.152725        18.551716                   1.421032   \n",
       "50%           0.317363        19.284925                   1.458309   \n",
       "75%           0.484906        19.814907                   1.488224   \n",
       "max           0.992303        20.985416                   2.383579   \n",
       "\n",
       "        pseudocolour        ecl_lat  astrometric_params_solved  \n",
       "count  490790.000000  651815.000000              651815.000000  \n",
       "mean        1.437791      -0.727110                  79.189379  \n",
       "std         0.165507       0.312928                  27.602630  \n",
       "min        -0.628543      -1.365388                  31.000000  \n",
       "25%         1.361550      -0.973401                  95.000000  \n",
       "50%         1.441995      -0.729482                  95.000000  \n",
       "75%         1.518363      -0.479952                  95.000000  \n",
       "max         3.454207      -0.089590                  95.000000  "
      ]
     },
     "execution_count": 6,
     "metadata": {},
     "output_type": "execute_result"
    }
   ],
   "source": [
    "fas.describe()"
   ]
  },
  {
   "cell_type": "code",
   "execution_count": 8,
   "metadata": {},
   "outputs": [
    {
     "data": {
      "image/png": "[encoded data removed]",
      "text/plain": [
       "<Figure size 640x520 with 1 Axes>"
      ]
     },
     "metadata": {},
     "output_type": "display_data"
    }
   ],
   "source": [
    "gplt.spatial(fas, size=0.05, alpha=0.1, c=np.sqrt(fas.pmra.value**2 + fas.pmdec.value**2))"
   ]
  },
  {
   "cell_type": "markdown",
   "metadata": {},
   "source": [
    "# MachineLearning"
   ]
  },
  {
   "cell_type": "markdown",
   "metadata": {},
   "source": [
    "**TARGET PARAMETERS** (B&V21 from the <a href=https://github.com/GalacticDynamics-Oxford/GaiaTools/tree/master> GaiaTools</a> results)\n",
    "\n",
    "> $ \\bar{\\omega} = 0.232 \\pm  0.009$\n",
    "\n",
    "> $ \\mathrm{pmra} = 5.259 \\pm 0.025$\n",
    "\n",
    "> $ \\mathrm{pmdec} = -2.543 \\pm 0.025$"
   ]
  },
  {
   "cell_type": "markdown",
   "metadata": {},
   "source": [
    "## GMM on Full Sample"
   ]
  },
  {
   "cell_type": "markdown",
   "metadata": {},
   "source": [
    "### Feature Engeneering"
   ]
  },
  {
   "cell_type": "code",
   "execution_count": null,
   "metadata": {},
   "outputs": [],
   "source": [
    "useless_columns = [\"phot_g_mean_mag,nu_eff_used_in_astrometry,pseudocolour,ecl_lat,astrometric_params_solved\"]\n",
    "for c in useless_columns:\n",
    "    if c in fas.columns:\n",
    "        fas.drop_column(c)\n",
    "fas.dropna()"
   ]
  },
  {
   "cell_type": "code",
   "execution_count": null,
   "metadata": {},
   "outputs": [],
   "source": [
    "gplt.histogram(fas.parallax.value, xlabel='Parallax')"
   ]
  },
  {
   "cell_type": "code",
   "execution_count": null,
   "metadata": {},
   "outputs": [],
   "source": [
    "gplt.doubleHistScatter(fas.pmra.value, fas.pmdec.value)"
   ]
  },
  {
   "cell_type": "markdown",
   "metadata": {},
   "source": [
    "Removing poroper motion extreme outliers and creating a copy sample with only positive parallaxes"
   ]
  },
  {
   "cell_type": "code",
   "execution_count": null,
   "metadata": {},
   "outputs": [],
   "source": [
    "fas.apply_conditions(\n",
    "    conditions={\n",
    "        \"pmra\": \">-50\",\n",
    "        \"pmdec\":\">-50\",\n",
    "    },\n",
    "    inplace=True,\n",
    ")\n",
    "fas.apply_conditions(\n",
    "    conditions={\n",
    "        \"pmra\": \"<50\",\n",
    "        \"pmdec\":\"<50\",\n",
    "    },\n",
    "    inplace=True,\n",
    ")\n",
    "pfas = fas.apply_conditions(\n",
    "    conditions={\n",
    "        'parallax': \">0\"\n",
    "    },\n",
    "    inplace=False,\n",
    ")"
   ]
  },
  {
   "cell_type": "code",
   "execution_count": null,
   "metadata": {},
   "outputs": [],
   "source": [
    "grasp.plots.doubleHistScatter(fas.pmra.value, fas.pmdec.value, size=0.05, alpha=0.85)"
   ]
  },
  {
   "cell_type": "code",
   "execution_count": null,
   "metadata": {},
   "outputs": [],
   "source": [
    "data = fas[['ra','dec','pmra','pmdec', 'parallax']].to_numpy()\n",
    "pdata = pfas[['ra','dec','pmra','pmdec', 'parallax']].to_numpy()"
   ]
  },
  {
   "cell_type": "markdown",
   "metadata": {
    "tags": [
     "parameters"
    ]
   },
   "source": [
    "### Single GMM"
   ]
  },
  {
   "cell_type": "markdown",
   "metadata": {},
   "source": [
    "#### Model1: GMM with  $\\,\\forall \\bar{\\omega} \\in \\mathcal{R}$"
   ]
  },
  {
   "cell_type": "code",
   "execution_count": null,
   "metadata": {},
   "outputs": [],
   "source": [
    "#```python\n",
    "\n",
    "X_train, X_test = train_test_split(data, test_size=0.33)\n",
    "\n",
    "model1 = grasp.stats.gaussian_mixture_model(train_data=X_train, G=3, modelNames=np.array(['VII', 'VVI']), verbose=True)\n",
    "\n",
    "plt.figure()\n",
    "plt.scatter(X_train[:,2], X_train[:,3], c=model1.train_classification['classification'], cmap='plasma', s=0.5, alpha=0.5)\n",
    "cbar = plt.colorbar(ticks=np.unique(model1.train_classification['classification']))\n",
    "cbar.ax.set_yticklabels([f\"C_{val}\" for val in np.unique(model1.train_classification['classification'])])\n",
    "plt.title('Model1: G=3 with full parallaxes')\n",
    "\n",
    "pd.DataFrame(data=model1.train_classification['classification']).value_counts()\n",
    "\n",
    "model1_parameters = pd.DataFrame(data=model1.coeffs, index=['G1','G2','G3'], columns=['ra','dec','pmra','pmdec','parallax'])\n",
    "\n",
    "print(model1_parameters)\n",
    "\n",
    "predictions = model1.predict(X_test)\n",
    "\n",
    "plt.figure()\n",
    "plt.scatter(X_test[:,2], X_test[:,3], c=predictions['classification'], cmap='plasma', s=0.5, alpha=0.5)\n",
    "cbar = plt.colorbar(ticks=np.unique(predictions['classification']))\n",
    "cbar.ax.set_yticklabels([f\"C_{val}\" for val in np.unique(predictions['classification'])])\n",
    "plt.title('Model1 Test Set')\n",
    "\n",
    "#```"
   ]
  },
  {
   "cell_type": "markdown",
   "metadata": {},
   "source": [
    "#### Model2: GMM with $\\,\\forall\\bar{\\omega}\\in\\mathcal{R}^+$"
   ]
  },
  {
   "cell_type": "code",
   "execution_count": null,
   "metadata": {},
   "outputs": [],
   "source": [
    "#```python\n",
    "X_train2, X_test2 = train_test_split(pdata, test_size=0.33)\n",
    "model2 = grasp.stats.gaussian_mixture_model(train_data=X_train2, G=3, modelNames=np.array(['VII', 'VVI']), verbose=True)\n",
    "\n",
    "plt.figure()\n",
    "plt.scatter(X_train2[:,2], X_train2[:,3], c=model2.train_classification['classification'], cmap='plasma', s=0.5, alpha=0.5)\n",
    "cbar = plt.colorbar(ticks=np.unique(model2.train_classification['classification']))\n",
    "cbar.ax.set_yticklabels([f\"C_{val}\" for val in np.unique(model2.train_classification['classification'])])\n",
    "plt.title('Model2: G=3 with parallax cut')\n",
    "\n",
    "pd.DataFrame(data=model2.train_classification['classification']).value_counts()\n",
    "model2_parameters = pd.DataFrame(data=model2.coeffs, index=['G1','G2','G3'], columns=['ra','dec','pmra','pmdec','parallax'])\n",
    "print(model2_parameters)\n",
    "predictions2 = model2.predict(X_test2)\n",
    "\n",
    "plt.figure()\n",
    "plt.scatter(X_test2[:,2], X_test2[:,3], c=predictions2['classification'], cmap='plasma', s=0.5, alpha=0.5)\n",
    "cbar = plt.colorbar(ticks=np.unique(predictions2['classification']))\n",
    "cbar.ax.set_yticklabels([f\"C_{val}\" for val in np.unique(predictions2['classification'])])\n",
    "plt.title('Model2 Test Set')\n",
    "#```"
   ]
  },
  {
   "cell_type": "markdown",
   "metadata": {},
   "source": [
    "#### Model3: $G=2$ with $\\forall\\bar{\\omega}\\in\\mathcal{R}^+$"
   ]
  },
  {
   "cell_type": "code",
   "execution_count": null,
   "metadata": {},
   "outputs": [],
   "source": [
    "#```python\n",
    "X_train2, X_test2 = train_test_split(pdata, test_size=0.33)\n",
    "model3 = grasp.stats.gaussian_mixture_model(train_data=X_train2, G=2, modelNames=np.array(['VII', 'VVI']), verbose=True)\n",
    "\n",
    "\n",
    "plt.figure()\n",
    "plt.scatter(X_train2[:,2], X_train2[:,3], c=model3.train_classification['classification'], cmap='plasma', s=0.5, alpha=0.5)\n",
    "cbar = plt.colorbar(ticks=np.unique(model3.train_classification['classification']))\n",
    "cbar.ax.set_yticklabels([f\"C_{val}\" for val in np.unique(model3.train_classification['classification'])])\n",
    "plt.title('Model3: G=2 with parallax cut')\n",
    "\n",
    "pd.DataFrame(data=model3.train_classification['classification']).value_counts()\n",
    "predictions3 = model3.predict(X_test2)\n",
    "model3_parameters = pd.DataFrame(data=model3.coeffs, index=['G1','G2'], columns=['ra','dec','pmra','pmdec','parallax'])\n",
    "print(model3_parameters)\n",
    "\n",
    "plt.figure()\n",
    "plt.scatter(X_test2[:,2], X_test2[:,3], c=predictions3['classification'], cmap='plasma', s=0.5, alpha=0.5)\n",
    "cbar = plt.colorbar(ticks=np.unique(predictions3['classification']))\n",
    "cbar.ax.set_yticklabels([f\"C_{val}\" for val in np.unique(predictions3['classification'])])\n",
    "plt.title('Model3 Test Set')\n",
    "#```"
   ]
  },
  {
   "cell_type": "markdown",
   "metadata": {},
   "source": [
    "#### Model4: $G=2$ with $\\forall\\bar{\\omega}\\in\\mathcal{R}$"
   ]
  },
  {
   "cell_type": "code",
   "execution_count": null,
   "metadata": {},
   "outputs": [],
   "source": [
    "#```python\n",
    "X_train, X_test = train_test_split(data, test_size=0.33)\n",
    "model4 = grasp.stats.gaussian_mixture_model(train_data=X_train, G=2, modelNames=np.array(['VII', 'VVI']), verbose=True)\n",
    "\n",
    "plt.figure()\n",
    "plt.scatter(X_train[:,2], X_train[:,3], c=model4.train_classification['classification'], cmap='plasma', s=0.5, alpha=0.5)\n",
    "cbar = plt.colorbar(ticks=np.unique(model4.train_classification['classification']))\n",
    "cbar.ax.set_yticklabels([f\"C_{val}\" for val in np.unique(model4.train_classification['classification'])])\n",
    "plt.title('Model3: G=2 with parallax cut')\n",
    "\n",
    "pd.DataFrame(data=model4.train_classification['classification']).value_counts()\n",
    "predictions4 = model4.predict(X_test)\n",
    "model4_parameters = pd.DataFrame(data=model4.coeffs, index=['G1','G2'], columns=['ra','dec','pmra','pmdec','parallax'])\n",
    "print(model4_parameters)\n",
    "\n",
    "plt.figure()\n",
    "plt.scatter(X_test[:,2], X_test[:,3], c=predictions4['classification'], cmap='plasma', s=0.5, alpha=0.5)\n",
    "cbar = plt.colorbar(ticks=np.unique(predictions4['classification']))\n",
    "cbar.ax.set_yticklabels([f\"C_{val}\" for val in np.unique(predictions4['classification'])])\n",
    "plt.title('Model3 Test Set')\n",
    "#```"
   ]
  },
  {
   "cell_type": "markdown",
   "metadata": {},
   "source": [
    "### KFold Cross-Validation with GMM"
   ]
  },
  {
   "cell_type": "markdown",
   "metadata": {},
   "source": [
    "#### G=3  -  $\\forall\\bar{\\omega}\\in\\mathcal{R}^+$ "
   ]
  },
  {
   "cell_type": "code",
   "execution_count": null,
   "metadata": {},
   "outputs": [],
   "source": [
    "nfolds = 20\n",
    "kfm_3pos = grasp.stats.kfold_gmm_estimator(\n",
    "    data=pdata,\n",
    "    folds=nfolds,\n",
    "    G=3,\n",
    "    modelNames=np.array(['VII', 'VVI']),\n",
    "    verbose=False\n",
    ")"
   ]
  },
  {
   "cell_type": "code",
   "execution_count": null,
   "metadata": {},
   "outputs": [],
   "source": [
    "plt.plot(np.arange(1,nfolds+1), kfm_3pos.bics, '-o', label='Models BIC')\n",
    "plt.plot([1,nfolds+1], [kfm_3pos.mean_bic,kfm_3pos.mean_bic], '--', label='Mean BIC')\n",
    "plt.xticks(ticks=np.arange(1, nfolds + 2, 1))\n",
    "plt.grid(True)\n",
    "plt.title('BIC vs Number of folds')\n",
    "plt.xlabel('Fold number')\n",
    "plt.ylabel('BIC')\n",
    "plt.legend(loc='best')\n",
    "\n",
    "print(f\"Model's BIC Variance: {(np.min(kfm_3pos.bics) - np.max(kfm_3pos.bics))/np.max(kfm_3pos.bics) * 100:.3f} %\")"
   ]
  },
  {
   "cell_type": "markdown",
   "metadata": {},
   "source": [
    "#### G=2  -  $\\forall\\bar{\\omega}\\in\\mathcal{R}^+$ "
   ]
  },
  {
   "cell_type": "code",
   "execution_count": null,
   "metadata": {},
   "outputs": [],
   "source": [
    "nfolds = 20\n",
    "kfm_2pos = grasp.stats.kfold_gmm_estimator(\n",
    "    data=pdata,\n",
    "    folds=nfolds,\n",
    "    G=2,\n",
    "    modelNames=np.array(['VII', 'VVI']),\n",
    "    verbose=False\n",
    ")"
   ]
  },
  {
   "cell_type": "code",
   "execution_count": null,
   "metadata": {},
   "outputs": [],
   "source": [
    "plt.plot(np.arange(1,nfolds+1), kfm_2pos.bics, '-o', label='Models BIC')\n",
    "plt.plot([1,nfolds+1], [kfm_2pos.mean_bic,kfm_2pos.mean_bic], '--', label='Mean BIC')\n",
    "plt.xticks(ticks=np.arange(1, nfolds + 2, 1))\n",
    "plt.grid(True)\n",
    "plt.title('BIC vs Number of folds')\n",
    "plt.xlabel('Fold number')\n",
    "plt.ylabel('BIC')\n",
    "plt.legend(loc='best')\n",
    "\n",
    "print(f\"Model's BIC Variance: {(np.min(kfm_2pos.bics) - np.max(kfm_2pos.bics))/np.max(kfm_2pos.bics) * 100:.3f} %\")"
   ]
  },
  {
   "cell_type": "markdown",
   "metadata": {},
   "source": [
    "#### G=3  -  $\\forall\\bar{\\omega}\\in\\mathcal{R}$"
   ]
  },
  {
   "cell_type": "code",
   "execution_count": null,
   "metadata": {},
   "outputs": [],
   "source": [
    "nfolds = 20\n",
    "kfm_3 = grasp.stats.kfold_gmm_estimator(\n",
    "    data=data,\n",
    "    folds=nfolds,\n",
    "    G=3,\n",
    "    modelNames=np.array(['VII', 'VVI']),\n",
    "    verbose=False\n",
    ")"
   ]
  },
  {
   "cell_type": "code",
   "execution_count": null,
   "metadata": {},
   "outputs": [],
   "source": [
    "plt.plot(np.arange(1,nfolds+1), kfm_3.bics, '-o', label='Models BIC')\n",
    "plt.plot([1,nfolds+1], [kfm_3.mean_bic,kfm_3.mean_bic], '--', label='Mean BIC')\n",
    "plt.xticks(ticks=np.arange(1, nfolds + 2, 1))\n",
    "plt.grid(True)\n",
    "plt.title('BIC vs Number of folds')\n",
    "plt.xlabel('Fold number')\n",
    "plt.ylabel('BIC')\n",
    "plt.legend(loc='best')\n",
    "\n",
    "print(f\"Model's BIC Variance: {(np.min(kfm_3.bics) - np.max(kfm_3.bics))/np.max(kfm_3.bics) * 100:.3f} %\")"
   ]
  },
  {
   "cell_type": "markdown",
   "metadata": {},
   "source": [
    "#### G=2  -  $\\forall\\bar{\\omega}\\in\\mathcal{R}$"
   ]
  },
  {
   "cell_type": "code",
   "execution_count": null,
   "metadata": {},
   "outputs": [],
   "source": [
    "nfolds = 20\n",
    "kfm_2 = grasp.stats.kfold_gmm_estimator(\n",
    "    data=data,\n",
    "    folds=nfolds,\n",
    "    G=2,\n",
    "    modelNames=np.array(['VII', 'VVI']),\n",
    "    verbose=False\n",
    ")"
   ]
  },
  {
   "cell_type": "code",
   "execution_count": null,
   "metadata": {},
   "outputs": [],
   "source": [
    "plt.plot(np.arange(1,nfolds+1), kfm_2.bics, '-o', label='Models BIC')\n",
    "plt.plot([1,nfolds+1], [kfm_2.mean_bic,kfm_2.mean_bic], '--', label='Mean BIC')\n",
    "plt.xticks(ticks=np.arange(1, nfolds + 2, 1))\n",
    "plt.grid(True)\n",
    "plt.title('BIC vs Number of folds')\n",
    "plt.xlabel('Fold number')\n",
    "plt.ylabel('BIC')\n",
    "plt.legend(loc='best')\n",
    "\n",
    "print(f\"Model's BIC Variance: {(np.min(kfm_2.bics) - np.max(kfm_2.bics))/np.max(kfm_2.bics) * 100:.3f} %\")"
   ]
  },
  {
   "cell_type": "markdown",
   "metadata": {},
   "source": [
    "#### Best Model Selection"
   ]
  },
  {
   "cell_type": "code",
   "execution_count": null,
   "metadata": {},
   "outputs": [],
   "source": [
    "best_models = {\n",
    "    'G=3 pos': kfm_3pos.best_model(),\n",
    "    'G=2 pos': kfm_2pos.best_model(),\n",
    "    'G=3': kfm_3.best_model(),\n",
    "    'G=2': kfm_2.best_model()\n",
    "}"
   ]
  },
  {
   "cell_type": "code",
   "execution_count": null,
   "metadata": {},
   "outputs": [],
   "source": [
    "print(f\"Best G=3 w>0 Model:\\n {pd.DataFrame(best_models['G=3 pos'].coeffs, columns=['ra','dec','pmra','pmdec','parallax'])}\\n\")\n",
    "print(f\"Best G=2 w>0 Model:\\n{pd.DataFrame(best_models['G=2 pos'].coeffs, columns=['ra','dec','pmra','pmdec','parallax'])}\\n\")\n",
    "print(f\"Best G=3 Model:\\n{pd.DataFrame(best_models['G=3'].coeffs, columns=['ra','dec','pmra','pmdec','parallax'])}\\n\")\n",
    "print(f\"Best G=2 Model:\\n{pd.DataFrame(best_models['G=2'].coeffs, columns=['ra','dec','pmra','pmdec','parallax'])}\")"
   ]
  },
  {
   "cell_type": "code",
   "execution_count": null,
   "metadata": {},
   "outputs": [],
   "source": [
    "for key,value in best_models.items():\n",
    "    best_models[key].save_model(grasp.gpaths.CLUSTER_DATA_FOLDER(gc.id)+f'/{key}')\n",
    "    print(f\"{key} model saved\\n\")"
   ]
  },
  {
   "cell_type": "markdown",
   "metadata": {},
   "source": [
    "### Try the predict on the Golden Sample"
   ]
  },
  {
   "cell_type": "code",
   "execution_count": null,
   "metadata": {},
   "outputs": [],
   "source": [
    "aps.drop_columns(\n",
    "    [\n",
    "        \"radial_velocity\",\n",
    "        \"radial_velocity_error\",\n",
    "        \"bp_rp\",\n",
    "        \"phot_g_mean_mag\",\n",
    "        \"teff_gspphot\",\n",
    "        \"phot_bp_mean_mag\",\n",
    "        \"phot_rp_mean_mag\",\n",
    "        \"phot_bp_rp_excess_factor\"\n",
    "    ]\n",
    ")\n",
    "aps.info()"
   ]
  },
  {
   "cell_type": "code",
   "execution_count": null,
   "metadata": {},
   "outputs": [],
   "source": [
    "gs_data = aps.to_numpy(columns=['ra','dec','pmra','pmdec', 'parallax'])\n",
    "text = []\n",
    "for name, model in best_models.items():\n",
    "    _ = best_models[name].predict(gs_data)\n",
    "    print(f\"Predicting with {name} model...\\n\")"
   ]
  },
  {
   "cell_type": "code",
   "execution_count": null,
   "metadata": {},
   "outputs": [],
   "source": [
    "headers = ['G_KDE', 'XDGMM', 'GMM (G=3 w>0)', 'GMM (G=2 w>0)', 'GMM (G=3)', 'GMM (G=2)']\n",
    "showindex = ['pmra', 'pmdec', 'parallax']\n",
    "\n",
    "pmras = [pmra_mean, xdgmm_pmra_mean, best_models['G=3 pos'].coeffs[2,2], best_models['G=2 pos'].coeffs[1,2], best_models['G=3'].coeffs[2,2], best_models['G=2'].coeffs[0,2]]\n",
    "pmdecs = [pmdec_mean, xdgmm_pmdec_mean, best_models['G=3 pos'].coeffs[2,3], best_models['G=2 pos'].coeffs[1,3], best_models['G=3'].coeffs[2,3], best_models['G=2'].coeffs[0,3]]\n",
    "parallaxes = [best_models['G=3 pos'].coeffs[2,4], best_models['G=2 pos'].coeffs[1,4], best_models['G=3'].coeffs[2,4], best_models['G=2'].coeffs[0,4]]\n",
    "\n",
    "print(tabulate.tabulate([pmras, pmdecs, parallaxes], headers=headers, showindex=showindex, tablefmt='latex_raw'))\n",
    "\n",
    "print(\"Proper Motions RA\")\n",
    "print(f\"{'kde':<10} {'xdgmm':<10} {'G=3 w>0':<10} {'G=2 w>0':<10} {'G=3':<10} {'G=2':<10}\")\n",
    "print(f\"{pmra_mean:<10.3f} {xdgmm_pmra_mean:<10.3f} {best_models['G=3 pos'].coeffs[2,2]:<10.3f} {best_models['G=2 pos'].coeffs[1,2]:<10.3f} {best_models['G=3'].coeffs[2,2]:<10.3f} {best_models['G=2'].coeffs[0,2]:<10.3f}\\n\")\n",
    "\n",
    "print(\"Proper Motions DEC\")\n",
    "print(f\"{'kde':<10} {'xdgmm':<10} {'G=3 w>0':<10} {'G=2 w>0':<10} {'G=3':<10} {'G=2':<10}\")\n",
    "print(f\"{pmdec_mean:<10.3f} {xdgmm_pmdec_mean:<10.3f} {best_models['G=3 pos'].coeffs[2,3]:<10.3f} {best_models['G=2 pos'].coeffs[1,3]:<10.3f} {best_models['G=3'].coeffs[2,3]:<10.3f} {best_models['G=2'].coeffs[0,3]:<10.3f}\\n\")\n",
    "\n",
    "print(\"Parallax\")\n",
    "print(f\"{'G=3 w>0':<10} {'G=2 w>0':<10} {'G=3':<10} {'G=2':<10}\")\n",
    "print(f\"{best_models['G=3 pos'].coeffs[2,4]:<10.3f} {best_models['G=2 pos'].coeffs[1,4]:<10.3f} {best_models['G=3'].coeffs[2,4]:<10.3f} {best_models['G=2'].coeffs[0,4]:<10.3f}\\n\")"
   ]
  },
  {
   "cell_type": "code",
   "execution_count": null,
   "metadata": {},
   "outputs": [],
   "source": [
    "pmraaa = grasp.stats.bootstrap_statistic(pmras, np.mean, 4)\n",
    "pmdeec = grasp.stats.bootstrap_statistic(pmdecs, np.mean, 4)\n",
    "parallaxaa = grasp.stats.bootstrap_statistic(parallaxes, np.mean, 4)"
   ]
  },
  {
   "cell_type": "code",
   "execution_count": null,
   "metadata": {},
   "outputs": [],
   "source": [
    "pmra     = -12.518 $\\pm$ 0.004\n",
    "pmdec    = -19.018 $\\pm$ 0.003\n",
    "parallax = 0.539 $\\pm$ 0.005"
   ]
  },
  {
   "cell_type": "code",
   "execution_count": null,
   "metadata": {},
   "outputs": [],
   "source": [
    "print(f\"{'pmra':<8} = {pmraaa[0]:.3f} $\\\\pm$ {pmraaa[1]:.3f}\")\n",
    "print(f\"{'pmdec':<8} = {pmdeec[0]:.3f} $\\\\pm$ {pmdeec[1]:.3f}\")\n",
    "print(f\"{'parallax':<8} = {parallaxaa[0]:.3f} $\\\\pm$ {parallaxaa[1]:.3f}\")"
   ]
  },
  {
   "cell_type": "markdown",
   "metadata": {},
   "source": [
    "# Effective Potential Computation"
   ]
  },
  {
   "cell_type": "markdown",
   "metadata": {},
   "source": [
    "### Loading the model and computing all the quantities"
   ]
  },
  {
   "cell_type": "code",
   "execution_count": null,
   "metadata": {},
   "outputs": [],
   "source": [
    "names = ['G=3 pos','G=2 pos','G=3','G=2']\n",
    "best_models = {}\n",
    "for n in names:\n",
    "   best_models[n] =  grasp.GaussianMixtureModel.load_model(\n",
    "    grasp.gpaths.CLUSTER_DATA_FOLDER(gc.id)+f'/{n}'\n",
    ")"
   ]
  },
  {
   "cell_type": "markdown",
   "metadata": {},
   "source": [
    "Utilizzando quaattro metodi diversi, si è calcolato il valore medio dei parametri per il cluster:\n",
    "\n",
    "La media è stata calcolata con la formula classica, mentre l'uncertainty è stata stimata come $\\epsilon = \\dfrac{\\sigma}{\\sqrt{N}}$\n",
    "\n",
    "$$ \\langle\\bar{\\omega}\\rangle = 0.550 \\pm 0.002 \\, \\mathrm{mas} \\rightarrow \\sim 1.81 \\,\\mathrm{kpc}$$ \n",
    "\n",
    "$$ \\langle\\mu_\\alpha\\rangle = -12.528 \\pm 0.003 \\, \\mathrm{mas\\cdot yr}^{-1}$$\n",
    "\n",
    "$$ \\langle\\mu_{\\delta^*}\\rangle = -19.022 \\pm 0.005 \\, \\mathrm{mas\\cdot yr}^{-1}$$\n"
   ]
  },
  {
   "cell_type": "markdown",
   "metadata": {},
   "source": [
    "## Model with G=3 $\\forall \\bar{\\omega}\\in\\mathcal{R}$"
   ]
  },
  {
   "cell_type": "markdown",
   "metadata": {},
   "source": [
    "### Data Computation"
   ]
  },
  {
   "cell_type": "code",
   "execution_count": null,
   "metadata": {},
   "outputs": [],
   "source": [
    "best_model = best_models['G=3']\n",
    "print(pd.DataFrame(best_model.train_classification['classification']).value_counts())\n",
    "print(best_model.coeffs)"
   ]
  },
  {
   "cell_type": "code",
   "execution_count": null,
   "metadata": {},
   "outputs": [],
   "source": [
    "model_data = best_model.data\n",
    "gs_data = aps.to_numpy(columns=['ra','dec','pmra','pmdec', 'parallax'])\n",
    "_ = best_model.predict(gs_data)\n",
    "\n",
    "gc.ra, gc.dec = (best_model.coeffs[2,0], best_model.coeffs[2,1])\n",
    "print(gc.ra, gc.dec)"
   ]
  },
  {
   "cell_type": "code",
   "execution_count": null,
   "metadata": {},
   "outputs": [],
   "source": [
    "# mu_ra = np.array([np.mean(pmrameans), np.std(pmrameans)/np.sqrt(len(pmrameans))])\n",
    "# mu_dec = np.array([np.mean(pmdecmeans), np.std(pmdecmeans)/np.sqrt(len(pmdecmeans))])\n",
    "# px = np.array([np.mean(parallaxmeans), np.std(parallaxmeans)/np.sqrt(len(parallaxmeans))])\n",
    "\n",
    "# Se si riparte direttamente da qui...\n",
    "mu_ra = (-12.528 ,0.003)\n",
    "mu_dec = (-19.022 ,0.005)\n",
    "px = (0.550 ,0.002)\n",
    "\n",
    "gc.px = (px[0] * u.mas, px[1] * u.mas)\n",
    "gc.pmra = (mu_ra[0] * u.mas / u.yr, mu_ra[1] * u.mas / u.yr)\n",
    "gc.pmdec = (mu_dec[0] * u.mas / u.yr, mu_dec[1] * u.mas / u.yr)\n",
    "\n",
    "gc_data = model_data[np.array(best_model.train_classification['classification']) == 3.]\n",
    "gc2_data = gs_data[np.array(best_model.classification['classification']) == 3.]\n",
    "print(f\"{gc_data.shape = } {gc2_data.shape = }\")\n",
    "\n",
    "predicted_sample = np.vstack((gc_data, gc2_data))\n",
    "\n",
    "assert len(predicted_sample) == len(gc_data) + len(gc2_data), f\"Predicted sample length {len(predicted_sample)} is not equal to the sum of gc_data {len(gc_data)} and gs_data {len(gc2_data)}\"\n",
    "\n",
    "print(f\"\\n{predicted_sample.shape = }\")"
   ]
  },
  {
   "cell_type": "code",
   "execution_count": null,
   "metadata": {},
   "outputs": [],
   "source": [
    "gc_data = pd.DataFrame(data=predicted_sample, columns=['ra','dec','pmra','pmdec', 'parallax'])\n",
    "gc_sample = grasp.Sample(gc_data, gc)\n",
    "gc_sample.update_gc_params(ra=gc_sample.ra.mean(), dec=gc_sample.dec.mean())"
   ]
  },
  {
   "cell_type": "code",
   "execution_count": null,
   "metadata": {},
   "outputs": [],
   "source": [
    "grasp.plots.seaborn(which='heatmap', data=gc_sample.to_pandas().corr(), annot=True, cmap='coolwarm', cbar=True)"
   ]
  },
  {
   "cell_type": "code",
   "execution_count": null,
   "metadata": {},
   "outputs": [],
   "source": [
    "ff = grasp.load_base_formulary()\n",
    "ff.substitute(\n",
    "    \"Angular separation\",\n",
    "    {\"alpha_{0}\": (gc_sample.gc.ra*u.deg).to(u.rad).value, \"delta_{0}\": (gc_sample.gc.dec*u.deg).to(u.rad).value}\n",
    ")\n",
    "ff.angular_separation"
   ]
  },
  {
   "cell_type": "code",
   "execution_count": null,
   "metadata": {},
   "outputs": [],
   "source": [
    "gc_sample.apply_conditions('parallax>0.05', inplace=True)\n",
    "N=len(gc_sample)"
   ]
  },
  {
   "cell_type": "markdown",
   "metadata": {},
   "source": [
    "### Calcolo delle distance: $r_{2D}$ and  $R_{3D}$"
   ]
  },
  {
   "cell_type": "code",
   "execution_count": null,
   "metadata": {},
   "outputs": [],
   "source": [
    "gc_sample['ang_sep']        = (ff.compute(\"Angular Separation\", data={\"alpha_{1}\": (gc_sample.ra*u.deg).to(u.rad).value, \"delta_{1}\": (gc_sample.dec*u.deg).to(u.rad).value}, asarray=True)) * u.deg\n",
    "gc_sample['los_distance']   = (ff.compute('los_distance', data={'omega': gc_sample.parallax.value}, asarray=True)) * u.kpc\n",
    "gc_sample['d_BV']           = (ff.compute('gc_z_coordinate', data={r'r_{c}': [gc_sample.gc.dist.value/1000]*N, r'r_{x}': gc_sample.los_distance.value}, asarray=True))  * u.kpc \n",
    "gc_sample['d']              = (ff.compute('gc_z_coordinate', data={r'r_{c}': [1/gc_sample.gc.px[0].value]*N, r'r_{x}': gc_sample.los_distance.value}, asarray=True)) * u.kpc\n",
    "gc_sample['r2d_BV']         = (ff.compute('radial_distance_2d', data={r'r_{c}': [gc_sample.gc.dist.value/1000]*N, 'theta': gc_sample.ang_sep.to(u.rad).value}, asarray=True)) * u.kpc\n",
    "gc_sample['r2d']            = (ff.compute('radial_distance_2d', data={r'r_{c}': [1/gc_sample.gc.px[0].value]*N, 'theta': gc_sample.ang_sep.to(u.rad).value}, asarray=True)) * u.kpc\n",
    "gc_sample['r3d_BV']         = (ff.compute('radial_distance_3d', data={'d': gc_sample.d_BV.to(u.pc).value, 'r_{2}': gc_sample.r2d_BV.to(u.pc).value}, asarray=True)) * u.pc\n",
    "gc_sample['r3d']            = (ff.compute('radial_distance_3d', data={'d': gc_sample.d.to(u.pc).value, 'r_{2}': gc_sample.r2d.to(u.pc).value}, asarray=True)) * u.pc"
   ]
  },
  {
   "cell_type": "code",
   "execution_count": null,
   "metadata": {},
   "outputs": [],
   "source": [
    "gc_sample['ra'] = gc_sample.ra * (u.deg)\n",
    "gc_sample['dec'] = gc_sample.dec * (u.deg)\n",
    "gc_sample['pmra'] = gc_sample.pmra * (u.mas / u.yr)\n",
    "gc_sample['pmdec'] = gc_sample.pmdec * (u.mas / u.yr)\n",
    "gc_sample['parallax'] = gc_sample.parallax * (u.mas)"
   ]
  },
  {
   "cell_type": "code",
   "execution_count": null,
   "metadata": {},
   "outputs": [],
   "source": [
    "gc_sample['los_distance'] = gc_sample.r2d_BV.to(u.pc)\n",
    "gc_sample['d_BV'] = gc_sample.r2d.to(u.pc)\n",
    "gc_sample['d'] = gc_sample.r2d.to(u.pc)\n",
    "gc_sample['r2d_BV'] = gc_sample.r2d_BV.to(u.pc)\n",
    "gc_sample['r2d'] = gc_sample.r2d.to(u.pc)"
   ]
  },
  {
   "cell_type": "code",
   "execution_count": null,
   "metadata": {},
   "outputs": [],
   "source": [
    "gc_sample.apply_conditions('r3d<4000', inplace=True)\n",
    "grasp.plots.histogram(gc_sample.r3d.value, xlabel=r\"$R_{3D}$\")"
   ]
  },
  {
   "cell_type": "markdown",
   "metadata": {},
   "source": [
    "### Density (WOW, bad!)"
   ]
  },
  {
   "cell_type": "code",
   "execution_count": null,
   "metadata": {},
   "outputs": [],
   "source": [
    "r3dh = grasp.plots.histogram(gc_sample.r3d.value, dont_show=True)\n",
    "\n",
    "n_bin = len(r3dh['h']['bins'])\n",
    "\n",
    "V = np.zeros(n_bin)\n",
    "rr1 = np.zeros(n_bin+1)\n",
    "rr2 = np.zeros(n_bin+1)\n",
    "\n",
    "bw = (gc_sample.r3d.value).max()/n_bin\n",
    "\n",
    "rr1[0] = 0.\n",
    "rr2[0] = bw\n",
    "\n",
    "for x in range (0, n_bin):\n",
    "  V[x] = (4/3)*np.pi*(rr2[x]**3 - rr1[x]**3)\n",
    "  rr1[x+1] = rr1[x] + bw\n",
    "  rr2[x+1] = rr2[x] + bw\n",
    "\n",
    "rho3D = r3dh['h']['counts']/(V*u.pc**3)  "
   ]
  },
  {
   "cell_type": "code",
   "execution_count": null,
   "metadata": {},
   "outputs": [],
   "source": [
    "r_c = (1/gc_sample.gc.px[0].value*1000) * np.tan(gc_sample.gc.rc.to(u.rad).value)"
   ]
  },
  {
   "cell_type": "code",
   "execution_count": null,
   "metadata": {},
   "outputs": [],
   "source": [
    "plt.plot(gc_sample.gc.model['xi'], gc_sample.gc.model['rho'], '--', c='red', label='SM King Model')\n",
    "plt.plot(((rr1[0:n_bin]+rr2[0:n_bin])/2)/r_c, rho3D.value, '-o', markersize=2, c='blue', label='Observed Density')\n",
    "plt.xscale('log')\n",
    "plt.yscale('log')"
   ]
  },
  {
   "cell_type": "markdown",
   "metadata": {},
   "source": [
    "### Setting up the velocities"
   ]
  },
  {
   "cell_type": "code",
   "execution_count": null,
   "metadata": {},
   "outputs": [],
   "source": [
    "gc_sample['pmra'].unit"
   ]
  },
  {
   "cell_type": "code",
   "execution_count": null,
   "metadata": {},
   "outputs": [],
   "source": [
    "grasp.plots.histogram(gc_sample.pmra.value)"
   ]
  },
  {
   "cell_type": "code",
   "execution_count": null,
   "metadata": {},
   "outputs": [],
   "source": [
    "gc_sample['v_x'] = ((gc_sample.pmra  - gc_sample.gc.pmra[0] ).to(u.rad/u.s) * (1/gc_sample.gc.px[0] * (u.kpc*u.mas)).to(u.km)) / u.rad \n",
    "gc_sample['v_y'] = ((gc_sample.pmdec - gc_sample.gc.pmdec[0]).to(u.rad/u.s) * (1/gc_sample.gc.px[0] * (u.kpc*u.mas)).to(u.km)) / u.rad"
   ]
  },
  {
   "cell_type": "code",
   "execution_count": null,
   "metadata": {},
   "outputs": [],
   "source": [
    "vx_med, vx_med_err = grasp.stats.bootstrap_statistic(gc_sample.v_x.value**2, np.median, n_bootstrap=5000, show_progress=True)\n",
    "vy_med, vy_med_err = grasp.stats.bootstrap_statistic(gc_sample.v_y.value**2, np.median, n_bootstrap=5000, show_progress=True)\n",
    "\n",
    "vxm, vxm_err = grasp.stats.bootstrap_statistic(gc_sample.v_x.value**2, np.average, n_bootstrap=5000, show_progress=True)\n",
    "vym, vym_err = grasp.stats.bootstrap_statistic(gc_sample.v_y.value**2, np.average, n_bootstrap=5000, show_progress=True)\n"
   ]
  },
  {
   "cell_type": "code",
   "execution_count": null,
   "metadata": {},
   "outputs": [],
   "source": [
    "grasp.plots.doubleHistScatter(gc_sample['v_x'].value, gc_sample['v_y'].value, xlabel=r\"$v_x$ [km/s]\", ylabel=r'$v_y$ [km/s]',size=0.05, alpha=0.85)"
   ]
  },
  {
   "cell_type": "code",
   "execution_count": null,
   "metadata": {},
   "outputs": [],
   "source": [
    "grasp.plots.histogram(\n",
    "    gc_sample['v_y'].value**2, \n",
    "    xlabel=r'$v_y^2 \\, [km^2\\,s^{-2}]$', title=r'$<v_y^2> = ${:.2f} $\\pm$ {:.2f}    Median($v_y^2$)={:.2f} $\\pm$ {:.2F}'.format(\n",
    "        vxm, vym_err,\n",
    "        vy_med, vy_med_err\n",
    "        )\n",
    "    )"
   ]
  },
  {
   "cell_type": "code",
   "execution_count": null,
   "metadata": {},
   "outputs": [],
   "source": [
    "grasp.plots.histogram(\n",
    "    gc_sample['v_x'].value**2, \n",
    "    xlabel=r\"$v_x^2 \\, [km^2\\,s^{-2}]$\", title=r'$<v_x^2> = ${:.2f} $\\pm$ {:.2f}    Median($v_x^2$)={:.2f} $\\pm$ {:.2f}'.format(\n",
    "        vxm, vxm_err,\n",
    "        vx_med, vx_med_err\n",
    "        )\n",
    "    )"
   ]
  },
  {
   "cell_type": "markdown",
   "metadata": {},
   "source": [
    "On Isotropy assumption, compute the total (squared) velocity as:\n",
    "\n",
    "$$ V^2 = \\frac{3}{2}(v_x^2 + v_y^2)^2"
   ]
  },
  {
   "cell_type": "code",
   "execution_count": null,
   "metadata": {},
   "outputs": [],
   "source": [
    "gc_sample['v2'] = 1.5*(gc_sample['v_x']**2 + gc_sample['v_y']**2) \n",
    "v2m, v2m_err = grasp.stats.bootstrap_statistic(gc_sample.v2.value, np.average, n_bootstrap=5000, show_progress=True)\n",
    "v2_med, v2_med_err = grasp.stats.bootstrap_statistic(gc_sample.v2.value, np.median, n_bootstrap=5000, show_progress=True)\n",
    "v2h = grasp.plots.histogram(\n",
    "    gc_sample['v2'].value, \n",
    "    xlabel=r\"$v^2 \\, [km^2\\,s^{-2}]$\", title=r'$<v^2> = ${:.2f} $\\pm$ {:.2f}    Median($v^2$)={:.2f} $\\pm$ {:.2f}'.format(\n",
    "        v2m, v2m_err,\n",
    "        v2_med, v2_med_err\n",
    "        ),\n",
    "    out=True\n",
    "    )"
   ]
  },
  {
   "cell_type": "markdown",
   "metadata": {},
   "source": [
    "### Shell Partition"
   ]
  },
  {
   "cell_type": "code",
   "execution_count": null,
   "metadata": {},
   "outputs": [],
   "source": [
    "# Desired number of instances per subsample\n",
    "n_per_shell = 250  # for example\n",
    "\n",
    "# Sort by r3d\n",
    "sorted_sample = gc_sample.to_pandas().sort_values('r3d')\n",
    "\n",
    "# Split into equal-length subsamples\n",
    "shell_samples = [\n",
    "    sorted_sample.iloc[i:i + n_per_shell]\n",
    "    for i in range(0, len(sorted_sample), n_per_shell)\n",
    "]\n",
    "\n",
    "# Optionally, filter out the last shell if it's too small\n",
    "shell_samples = [s for s in shell_samples if len(s) == n_per_shell]\n",
    "\n",
    "print(f\"Number of shells: {len(shell_samples)}\")"
   ]
  },
  {
   "cell_type": "code",
   "execution_count": null,
   "metadata": {},
   "outputs": [],
   "source": [
    "v2 = grasp.types.QTable()\n",
    "R  = grasp.types.QTable()\n",
    "\n",
    "for i,shell in enumerate(shell_samples):\n",
    "    \n",
    "    R[f\"s{i}\"] = shell['r3d']\n",
    "    v2[f\"s{i}\"] = shell['v2']\n",
    "\n",
    "v2 = grasp.Sample(v2, gc)\n",
    "R = grasp.Sample(R, gc)"
   ]
  },
  {
   "cell_type": "code",
   "execution_count": null,
   "metadata": {},
   "outputs": [],
   "source": [
    "v2h = []\n",
    "for i in range(len(shell_samples)):\n",
    "    v2h.append(grasp.plots.histogram(v2[f's{i}'], xlabel='$v^2$', title=f'Shell {i} - R_max={R[f\"s{i}\"].max():.3f} - R_width = {R[f\"s{i}\"].max() - R[f\"s{i}\"].min():.3f}', dont_show=True))"
   ]
  },
  {
   "cell_type": "markdown",
   "metadata": {},
   "source": [
    "### $B = 16 A \\sqrt{2} \\pi^2 \\beta^2 r_{s}^2 \\alpha m^3 \\sigma^3 dr dx$"
   ]
  },
  {
   "cell_type": "markdown",
   "metadata": {},
   "source": [
    "#### Constants:\n",
    "\n",
    "> Normalization constant: $A = 1$\n",
    "\n",
    "> Single star Mass: $m = 1$\n",
    "\n",
    "> Incompleteness parameter: $\\alpha = 10^{-3}$\n"
   ]
  },
  {
   "cell_type": "code",
   "execution_count": null,
   "metadata": {},
   "outputs": [],
   "source": [
    "A = 1.\n",
    "alpha = .001\n",
    "m = 1.\n",
    "\n",
    "ff.substitute('B constant', \n",
    "              {\n",
    "                  'A': A,\n",
    "                  'alpha': alpha,\n",
    "                  'm': m\n",
    "              }\n",
    ")"
   ]
  },
  {
   "cell_type": "code",
   "execution_count": null,
   "metadata": {},
   "outputs": [],
   "source": [
    "ff.b_constant"
   ]
  },
  {
   "cell_type": "markdown",
   "metadata": {},
   "source": [
    "#### $\\sigma^2$ : critical velocity \n",
    "\n",
    "It is taken to be the maximum quadratic velocity of the shell $v^2\\{shell\\}^{max}$. <br>\n",
    "It's the memory of the Maxwellian velocity distribution of the system."
   ]
  },
  {
   "cell_type": "code",
   "execution_count": null,
   "metadata": {},
   "outputs": [],
   "source": [
    "sigmas = []\n",
    "for i,s in enumerate(shell_samples):\n",
    "    sigmas.append(np.sqrt(s.v2.max()))\n",
    "\n",
    "sigmas = np.array(sigmas)"
   ]
  },
  {
   "cell_type": "code",
   "execution_count": null,
   "metadata": {},
   "outputs": [],
   "source": [
    "plt.plot(sigmas, '--o', markersize=3, c='blue')"
   ]
  },
  {
   "cell_type": "markdown",
   "metadata": {},
   "source": [
    "#### $\\beta$ & $r_s$\n",
    " $\\beta$ : Estimation from bootstrap statistics on shell<br>\n",
    "Its the uncertainty parameter on the distance of the shell from the centre of the GC. <br>\n",
    "This parameter could be estimated by computing the uncertainty of the median <br>\n",
    "(not the mean, as outliers could heavily affect the result) of the $R_{3D}$ distances of <br>\n",
    "the stars of the shell from the centre\n",
    "\n",
    "$r_s$ : Median distance from the centre"
   ]
  },
  {
   "cell_type": "markdown",
   "metadata": {},
   "source": []
  },
  {
   "cell_type": "code",
   "execution_count": null,
   "metadata": {},
   "outputs": [],
   "source": [
    "betas = []\n",
    "rss = []\n",
    "\n",
    "for i, s in enumerate(shell_samples):\n",
    "    r, b = grasp.stats.bootstrap_statistic(\n",
    "        s['r3d'],\n",
    "        np.median,\n",
    "        n_bootstrap=100,\n",
    "        show_progress=False\n",
    "    )\n",
    "    betas.append(b)\n",
    "    rss.append(r)\n",
    "\n",
    "    \n",
    "betas = np.array(betas)\n",
    "rss = np.array(rss)"
   ]
  },
  {
   "cell_type": "code",
   "execution_count": null,
   "metadata": {},
   "outputs": [],
   "source": [
    "plt.plot(rss, betas, '--o', markersize=3, c='blue')"
   ]
  },
  {
   "cell_type": "markdown",
   "metadata": {},
   "source": [
    "#### $N$ , $x$"
   ]
  },
  {
   "cell_type": "code",
   "execution_count": null,
   "metadata": {},
   "outputs": [],
   "source": [
    "Ns = []\n",
    "x = []\n",
    "\n",
    "for i, v in enumerate(v2h):\n",
    "    Ns.append(v['h']['counts'])\n",
    "    x.append(v['h']['bins']/(2*sigmas[i]**2))\n"
   ]
  },
  {
   "cell_type": "markdown",
   "metadata": {},
   "source": [
    "#### $dx$ and $dr$"
   ]
  },
  {
   "cell_type": "code",
   "execution_count": null,
   "metadata": {},
   "outputs": [],
   "source": [
    "dr = []\n",
    "dx = []\n",
    "\n",
    "for i, s in enumerate(shell_samples):\n",
    "    dr.append(s.r3d.max() - s.r3d.min())\n",
    "    dx.append(v2h[i]['h']['bins'][1] - v2h[i]['h']['bins'][0])"
   ]
  },
  {
   "cell_type": "markdown",
   "metadata": {},
   "source": [
    "### $\\Sigma = \\ln{B} - x - \\ln{\\frac{\\Delta_N}{\\sqrt{x}}}$"
   ]
  },
  {
   "cell_type": "code",
   "execution_count": null,
   "metadata": {},
   "outputs": [],
   "source": [
    "def Sigma(\n",
    "    B: float,\n",
    "    n: int = None,\n",
    "    fit: grasp.types.Optional[grasp.types.RegressionModels] = None\n",
    ") -> tuple[grasp.types.ArrayLike, grasp.types.ArrayLike]:\n",
    "    \"\"\"Computes analythical sigma\"\"\"\n",
    "    xi = np.linspace(0, 0.5, 1000)\n",
    "    if fit:\n",
    "        #xi = np.linspace(0, 0.5, len(fit.x))\n",
    "        A, l = fit.coeffs\n",
    "        n = A* np.exp(l * xi)\n",
    "    elif n is None:\n",
    "        raise ValueError(\"Either n or alpha must be provided.\")\n",
    "    return (xi, np.log(B) - np.log(n / xi**0.5) - xi)"
   ]
  },
  {
   "cell_type": "code",
   "execution_count": null,
   "metadata": {},
   "outputs": [],
   "source": [
    "import grasp.analyzers\n",
    "import grasp.analyzers.calculus\n",
    "\n",
    "poteffs = []\n",
    "Bs = []\n",
    "\n",
    "for i in range(len(shell_samples)):\n",
    "    B = float(grasp.analyzers.calculus._sp.N(ff.b_constant.rhs.subs(\n",
    "        {\n",
    "            'r_{s}': rss[i],\n",
    "            'sigma': sigmas[i],\n",
    "            'dr': dr[i],\n",
    "            'dx': dx[i],\n",
    "            'beta' : betas[i],\n",
    "            'pi': np.pi\n",
    "        }\n",
    "    )))\n",
    "    Bs.append(B)\n",
    "    poteffs.append(\n",
    "        np.log(B) - x[i] - np.log(Ns[i] / x[i]**0.5)\n",
    "    )\n"
   ]
  },
  {
   "cell_type": "code",
   "execution_count": null,
   "metadata": {},
   "outputs": [],
   "source": [
    "def plot_poteff(n_shell: int):\n",
    "    \"\"\"Plot the effective potential for a given shell or list of shells.\"\"\"\n",
    "    fit = grasp.stats.fit_data_points(Ns[n_shell], x_data=x[n_shell], method='exponential')\n",
    "\n",
    "    fig, ax = plt.subplots(figsize=(8,6.5))\n",
    "    ax.plot(x[n_shell], poteffs[n_shell], 'o', markersize=4, c='black')\n",
    "    xi, S = Sigma(Bs[n_shell], fit=fit)\n",
    "    ax.plot(xi, S, '-', markersize=3, c='red')\n",
    "    ax.set_ylabel(r'$\\Phi_{eff}$', fontdict=grasp.plots.label_font)\n",
    "    ax.set_xlabel(r'$x$', fontdict=grasp.plots.label_font)\n",
    "    ax.set_title(f'Shell {n_shell} at ~{rss[n_shell]:.3f} pc', fontdict=grasp.plots.title_font)\n",
    "    ax.set_xlim((-0.01, 0.51))\n",
    "\n",
    "    return fig\n",
    "\n",
    "folder = grasp.gpaths.CLUSTER_DATA_FOLDER(gc_sample.gc.id) + '/poteff_plots/model1'\n",
    "if not os.path.exists(folder):\n",
    "    os.makedirs(folder)\n",
    "for i in range(len(shell_samples)):\n",
    "    fig = plot_poteff(i)\n",
    "    fig.savefig(f'{folder}/poteff_shell_{i}.png', dpi=300, bbox_inches='tight')\n",
    "    plt.close(fig)\n",
    "\n"
   ]
  },
  {
   "cell_type": "code",
   "execution_count": null,
   "metadata": {},
   "outputs": [],
   "source": [
    "scarti_finali = []\n",
    "for i in range(len(poteffs)):\n",
    "    fit = grasp.stats.fit_data_points(Ns[i], x_data=x[i], method='exponential')\n",
    "    xi, S = Sigma(Bs[i], fit=fit)\n",
    "\n",
    "    scarti_finali.append(1-poteffs[i][-1]/S[-1])\n",
    "\n",
    "scarti_finali = np.array(scarti_finali)\n",
    "\n",
    "avg_underestimation = grasp.stats.bootstrap_statistic(scarti_finali, np.mean)\n",
    "fig = plt.figure()\n",
    "plt.plot(scarti_finali, 'o', markersize=3, c='blue')\n",
    "plt.xlabel('Shell number', fontdict=grasp.plots.label_font)\n",
    "plt.title(f\"Average Underestimation = {avg_underestimation[0]*100 :.2f} +- {avg_underestimation[1]*100:.2f} %\")\n",
    "fig.savefig(\n",
    "    grasp.gpaths.CLUSTER_DATA_FOLDER(gc_sample.gc.id) + '/poteff_plots/model3/scarti_finali.png',\n",
    "    dpi=300, bbox_inches='tight'\n",
    ")"
   ]
  },
  {
   "cell_type": "code",
   "execution_count": null,
   "metadata": {},
   "outputs": [],
   "source": [
    "avg_underestimation = grasp.stats.bootstrap_statistic(scarti_finali, np.mean)\n",
    "\n",
    "print(f\"{avg_underestimation[0]*100 :.2f} +- {avg_underestimation[1]*100:.2f} %\")"
   ]
  },
  {
   "cell_type": "markdown",
   "metadata": {},
   "source": [
    "The average underestimation of the critical velocioty $x=0.5 \\rightarrow \\sigma^2 = 2\\cdot v^2_{max}$ \n",
    "is \n",
    "> $15,97 \\pm  1,08$ %"
   ]
  },
  {
   "cell_type": "markdown",
   "metadata": {},
   "source": [
    "### $\\Sigma = -\\ln{1-e^{x-w}}$"
   ]
  },
  {
   "cell_type": "code",
   "execution_count": null,
   "metadata": {},
   "outputs": [],
   "source": [
    "dpoteffs = []\n",
    "Omega = []\n",
    "s = gc_sample.v2.max()\n",
    "\n",
    "\n",
    "for i,p in enumerate(poteffs):\n",
    "    w = np.max(0.5*v2h[i]['h']['bins']/s)\n",
    "    ssigma = -np.log(1 - np.exp(x[i] - 0.5))\n",
    "    omega = ssigma - np.array(x[i])\n",
    "    dpoteffs.append(ssigma)\n",
    "    Omega.append(omega)\n",
    "\n"
   ]
  },
  {
   "cell_type": "code",
   "execution_count": null,
   "metadata": {},
   "outputs": [],
   "source": [
    "for i in range(10):\n",
    "    plt.plot(dpoteffs[i], '-o', markersize=3, label=f'Shell {i}', alpha=0.5)\n",
    "\n",
    "plt.legend(loc='best')"
   ]
  },
  {
   "cell_type": "markdown",
   "metadata": {},
   "source": [
    "## Model with G=2 $\\forall \\bar{\\omega}\\in\\mathcal{R}$"
   ]
  },
  {
   "cell_type": "markdown",
   "metadata": {},
   "source": [
    "### Data Computation"
   ]
  },
  {
   "cell_type": "code",
   "execution_count": null,
   "metadata": {},
   "outputs": [],
   "source": [
    "best_model = best_models['G=2']\n",
    "print(pd.DataFrame(best_model.train_classification['classification']).value_counts())\n",
    "print(best_model.coeffs)"
   ]
  },
  {
   "cell_type": "code",
   "execution_count": null,
   "metadata": {},
   "outputs": [],
   "source": [
    "model_data = best_model.data\n",
    "gs_data = aps.to_numpy(columns=['ra','dec','pmra','pmdec', 'parallax'])\n",
    "_ = best_model.predict(gs_data)\n",
    "\n",
    "gc.ra, gc.dec = (best_model.coeffs[2,0], best_model.coeffs[2,1])\n",
    "print(gc.ra, gc.dec)"
   ]
  },
  {
   "cell_type": "code",
   "execution_count": null,
   "metadata": {},
   "outputs": [],
   "source": [
    "# mu_ra = np.array([np.mean(pmrameans), np.std(pmrameans)/np.sqrt(len(pmrameans))])\n",
    "# mu_dec = np.array([np.mean(pmdecmeans), np.std(pmdecmeans)/np.sqrt(len(pmdecmeans))])\n",
    "# px = np.array([np.mean(parallaxmeans), np.std(parallaxmeans)/np.sqrt(len(parallaxmeans))])\n",
    "\n",
    "# Se si riparte direttamente da qui...\n",
    "mu_ra = (-12.528 ,0.003)\n",
    "mu_dec = (-19.022 ,0.005)\n",
    "px = (0.550 ,0.002)\n",
    "\n",
    "gc.px = (px[0] * u.mas, px[1] * u.mas)\n",
    "gc.pmra = (mu_ra[0] * u.mas / u.yr, mu_ra[1] * u.mas / u.yr)\n",
    "gc.pmdec = (mu_dec[0] * u.mas / u.yr, mu_dec[1] * u.mas / u.yr)\n",
    "\n",
    "gc_data = model_data[np.array(best_model.train_classification['classification']) == 3.]\n",
    "gc2_data = gs_data[np.array(best_model.classification['classification']) == 3.]\n",
    "print(f\"{gc_data.shape = } {gc2_data.shape = }\")\n",
    "\n",
    "predicted_sample = np.vstack((gc_data, gc2_data))\n",
    "\n",
    "assert len(predicted_sample) == len(gc_data) + len(gc2_data), f\"Predicted sample length {len(predicted_sample)} is not equal to the sum of gc_data {len(gc_data)} and gs_data {len(gc2_data)}\"\n",
    "\n",
    "print(f\"\\n{predicted_sample.shape = }\")"
   ]
  },
  {
   "cell_type": "code",
   "execution_count": null,
   "metadata": {},
   "outputs": [],
   "source": [
    "gc_data = pd.DataFrame(data=predicted_sample, columns=['ra','dec','pmra','pmdec', 'parallax'])\n",
    "gc_sample = grasp.Sample(gc_data, gc)\n",
    "gc_sample.update_gc_params(ra=gc_sample.ra.mean(), dec=gc_sample.dec.mean())"
   ]
  },
  {
   "cell_type": "code",
   "execution_count": null,
   "metadata": {},
   "outputs": [],
   "source": [
    "grasp.plots.seaborn(which='heatmap', data=gc_sample.to_pandas().corr(), annot=True, cmap='coolwarm', cbar=True)"
   ]
  },
  {
   "cell_type": "code",
   "execution_count": null,
   "metadata": {},
   "outputs": [],
   "source": [
    "ff = grasp.load_base_formulary()\n",
    "ff.substitute(\n",
    "    \"Angular separation\",\n",
    "    {\"alpha_{0}\": (gc_sample.gc.ra*u.deg).to(u.rad).value, \"delta_{0}\": (gc_sample.gc.dec*u.deg).to(u.rad).value}\n",
    ")\n",
    "ff.angular_separation"
   ]
  },
  {
   "cell_type": "code",
   "execution_count": null,
   "metadata": {},
   "outputs": [],
   "source": [
    "gc_sample.reset_sample()"
   ]
  },
  {
   "cell_type": "code",
   "execution_count": null,
   "metadata": {},
   "outputs": [],
   "source": [
    "gc_sample.apply_conditions('parallax>0.05', inplace=True)\n",
    "N=len(gc_sample)"
   ]
  },
  {
   "cell_type": "markdown",
   "metadata": {},
   "source": [
    "### Calcolo delle distance: $r_{2D}$ and  $R_{3D}$"
   ]
  },
  {
   "cell_type": "code",
   "execution_count": null,
   "metadata": {},
   "outputs": [],
   "source": [
    "gc_sample['ang_sep']        = (ff.compute(\"Angular Separation\", data={\"alpha_{1}\": (gc_sample.ra*u.deg).to(u.rad).value, \"delta_{1}\": (gc_sample.dec*u.deg).to(u.rad).value}, asarray=True)) * u.deg\n",
    "gc_sample['los_distance']   = (ff.compute('los_distance', data={'omega': gc_sample.parallax.value}, asarray=True)) * u.kpc\n",
    "gc_sample['d_BV']           = (ff.compute('gc_z_coordinate', data={r'r_{c}': [gc_sample.gc.dist.value/1000]*N, r'r_{x}': gc_sample.los_distance.value}, asarray=True))  * u.kpc \n",
    "gc_sample['d']              = (ff.compute('gc_z_coordinate', data={r'r_{c}': [1/gc_sample.gc.px[0].value]*N, r'r_{x}': gc_sample.los_distance.value}, asarray=True)) * u.kpc\n",
    "gc_sample['r2d_BV']         = (ff.compute('radial_distance_2d', data={r'r_{c}': [gc_sample.gc.dist.value/1000]*N, 'theta': gc_sample.ang_sep.to(u.rad).value}, asarray=True)) * u.kpc\n",
    "gc_sample['r2d']            = (ff.compute('radial_distance_2d', data={r'r_{c}': [1/gc_sample.gc.px[0].value]*N, 'theta': gc_sample.ang_sep.to(u.rad).value}, asarray=True)) * u.kpc\n",
    "gc_sample['r3d_BV']         = (ff.compute('radial_distance_3d', data={'d': gc_sample.d_BV.to(u.pc).value, 'r_{2}': gc_sample.r2d_BV.to(u.pc).value}, asarray=True)) * u.pc\n",
    "gc_sample['r3d']            = (ff.compute('radial_distance_3d', data={'d': gc_sample.d.to(u.pc).value, 'r_{2}': gc_sample.r2d.to(u.pc).value}, asarray=True)) * u.pc"
   ]
  },
  {
   "cell_type": "code",
   "execution_count": null,
   "metadata": {},
   "outputs": [],
   "source": [
    "gc_sample['ra'] = gc_sample.ra * (u.deg)\n",
    "gc_sample['dec'] = gc_sample.dec * (u.deg)\n",
    "gc_sample['pmra'] = gc_sample.pmra * (u.mas / u.yr)\n",
    "gc_sample['pmdec'] = gc_sample.pmdec * (u.mas / u.yr)\n",
    "gc_sample['parallax'] = gc_sample.parallax * (u.mas)"
   ]
  },
  {
   "cell_type": "code",
   "execution_count": null,
   "metadata": {},
   "outputs": [],
   "source": [
    "gc_sample['los_distance'] = gc_sample.r2d_BV.to(u.pc)\n",
    "gc_sample['d_BV'] = gc_sample.r2d.to(u.pc)\n",
    "gc_sample['d'] = gc_sample.r2d.to(u.pc)\n",
    "gc_sample['r2d_BV'] = gc_sample.r2d_BV.to(u.pc)\n",
    "gc_sample['r2d'] = gc_sample.r2d.to(u.pc)"
   ]
  },
  {
   "cell_type": "code",
   "execution_count": null,
   "metadata": {},
   "outputs": [],
   "source": [
    "gc_sample.apply_conditions('r3d<4000', inplace=True)\n",
    "grasp.plots.histogram(gc_sample.r3d.value)"
   ]
  },
  {
   "cell_type": "markdown",
   "metadata": {},
   "source": [
    "### Density (WOW, bad!)"
   ]
  },
  {
   "cell_type": "code",
   "execution_count": null,
   "metadata": {},
   "outputs": [],
   "source": [
    "r3dh = grasp.plots.histogram(gc_sample.r3d.value, dont_show=True)\n",
    "\n",
    "n_bin = len(r3dh['h']['bins'])\n",
    "\n",
    "V = np.zeros(n_bin)\n",
    "rr1 = np.zeros(n_bin+1)\n",
    "rr2 = np.zeros(n_bin+1)\n",
    "\n",
    "bw = (gc_sample.r3d.value).max()/n_bin\n",
    "\n",
    "rr1[0] = 0.\n",
    "rr2[0] = bw\n",
    "\n",
    "for x in range (0, n_bin):\n",
    "  V[x] = (4/3)*np.pi*(rr2[x]**3 - rr1[x]**3)\n",
    "  rr1[x+1] = rr1[x] + bw\n",
    "  rr2[x+1] = rr2[x] + bw\n",
    "\n",
    "rho3D = r3dh['h']['counts']/(V*u.pc**3)  "
   ]
  },
  {
   "cell_type": "code",
   "execution_count": null,
   "metadata": {},
   "outputs": [],
   "source": [
    "r_c = (1/gc_sample.gc.px[0].value*1000) * np.tan(gc_sample.gc.rc.to(u.rad).value)"
   ]
  },
  {
   "cell_type": "code",
   "execution_count": null,
   "metadata": {},
   "outputs": [],
   "source": [
    "plt.plot(gc_sample.gc.model['xi'], gc_sample.gc.model['rho'], '--', c='red', label='SM King Model')\n",
    "plt.plot(((rr1[0:n_bin]+rr2[0:n_bin])/2)/r_c, rho3D.value, '-o', markersize=2, c='blue', label='Observed Density')\n",
    "plt.xscale('log')\n",
    "plt.yscale('log')"
   ]
  },
  {
   "cell_type": "markdown",
   "metadata": {},
   "source": [
    "### Setting up the velocities"
   ]
  },
  {
   "cell_type": "code",
   "execution_count": null,
   "metadata": {},
   "outputs": [],
   "source": [
    "ff.add_formula('Velocity conversion', r\"Eq(v_i,r_c*tan(theta))\")\n",
    "ff.velocity_conversion"
   ]
  },
  {
   "cell_type": "code",
   "execution_count": null,
   "metadata": {},
   "outputs": [],
   "source": [
    "gc_sample['pmra'].unit"
   ]
  },
  {
   "cell_type": "code",
   "execution_count": null,
   "metadata": {},
   "outputs": [],
   "source": [
    "gc_sample['v_x'] = ((gc_sample.pmra - gc_sample.gc.pmra[0]).to(u.rad/u.s) * ((1/gc_sample.gc.px[0].value)*u.kpc).to(u.km)) / u.rad \n",
    "gc_sample['v_y'] = ((gc_sample.pmdec - gc_sample.gc.pmdec[0]).to(u.rad/u.s) * ((1/gc_sample.gc.px[0].value)*u.kpc).to(u.km)) / u.rad"
   ]
  },
  {
   "cell_type": "code",
   "execution_count": null,
   "metadata": {},
   "outputs": [],
   "source": [
    "vx_med, vx_med_err = grasp.stats.bootstrap_statistic(gc_sample.v_x.value**2, np.median, n_bootstrap=5000, show_progress=True)\n",
    "vy_med, vy_med_err = grasp.stats.bootstrap_statistic(gc_sample.v_y.value**2, np.median, n_bootstrap=5000, show_progress=True)\n",
    "\n",
    "vxm, vxm_err = grasp.stats.bootstrap_statistic(gc_sample.v_x.value**2, np.average, n_bootstrap=5000, show_progress=True)\n",
    "vym, vym_err = grasp.stats.bootstrap_statistic(gc_sample.v_y.value**2, np.average, n_bootstrap=5000, show_progress=True)\n"
   ]
  },
  {
   "cell_type": "code",
   "execution_count": null,
   "metadata": {},
   "outputs": [],
   "source": [
    "grasp.plots.doubleHistScatter(gc_sample['v_x'].value, gc_sample['v_y'].value, xlabel=r\"$v_x$ [km/s]\", ylabel=r'$v_y$ [km/s]',size=0.05, alpha=0.85)"
   ]
  },
  {
   "cell_type": "code",
   "execution_count": null,
   "metadata": {},
   "outputs": [],
   "source": [
    "grasp.plots.histogram(\n",
    "    gc_sample['v_y'].value**2, \n",
    "    xlabel=r'$v_y^2 \\, [km^2\\,s^{-2}]$', title=r'$<v_y^2> = ${:.2f} $\\pm$ {:.2f}    Median($v_y^2$)={:.2f} $\\pm$ {:.2F}'.format(\n",
    "        vxm, vym_err,\n",
    "        vy_med, vy_med_err\n",
    "        )\n",
    "    )"
   ]
  },
  {
   "cell_type": "code",
   "execution_count": null,
   "metadata": {},
   "outputs": [],
   "source": [
    "grasp.plots.histogram(\n",
    "    gc_sample['v_x'].value**2, \n",
    "    xlabel=r\"$v_x^2 \\, [km^2\\,s^{-2}]$\", title=r'$<v_x^2> = ${:.2f} $\\pm$ {:.2f}    Median($v_x^2$)={:.2f} $\\pm$ {:.2f}'.format(\n",
    "        vxm, vxm_err,\n",
    "        vx_med, vx_med_err\n",
    "        )\n",
    "    )"
   ]
  },
  {
   "cell_type": "markdown",
   "metadata": {},
   "source": [
    "On Isotropy assumption, compute the total (squared) velocity as:\n",
    "\n",
    "$$ V^2 = \\frac{3}{2}(v_x^2 + v_y^2)^2"
   ]
  },
  {
   "cell_type": "code",
   "execution_count": null,
   "metadata": {},
   "outputs": [],
   "source": [
    "gc_sample['v2'] = 1.5*(gc_sample['v_x']**2 + gc_sample['v_y']**2) \n",
    "v2m, v2m_err = grasp.stats.bootstrap_statistic(gc_sample.v2.value, np.average, n_bootstrap=5000, show_progress=True)\n",
    "v2_med, v2_med_err = grasp.stats.bootstrap_statistic(gc_sample.v2.value, np.median, n_bootstrap=5000, show_progress=True)\n",
    "v2h = grasp.plots.histogram(\n",
    "    gc_sample['v2'].value, \n",
    "    xlabel=r\"$v^2 \\, [km^2\\,s^{-2}]$\", title=r'$<v^2> = ${:.2f} $\\pm$ {:.2f}    Median($v^2$)={:.2f} $\\pm$ {:.2f}'.format(\n",
    "        v2m, v2m_err,\n",
    "        v2_med, v2_med_err\n",
    "        ),\n",
    "    out=True\n",
    "    )"
   ]
  },
  {
   "cell_type": "markdown",
   "metadata": {},
   "source": [
    "### Shell Partition"
   ]
  },
  {
   "cell_type": "code",
   "execution_count": null,
   "metadata": {},
   "outputs": [],
   "source": [
    "# Desired number of instances per subsample\n",
    "n_per_shell = 250  # for example\n",
    "\n",
    "# Sort by r3d\n",
    "sorted_sample = gc_sample.to_pandas().sort_values('r3d')\n",
    "\n",
    "# Split into equal-length subsamples\n",
    "shell_samples = [\n",
    "    sorted_sample.iloc[i:i + n_per_shell]\n",
    "    for i in range(0, len(sorted_sample), n_per_shell)\n",
    "]\n",
    "\n",
    "# Optionally, filter out the last shell if it's too small\n",
    "shell_samples = [s for s in shell_samples if len(s) == n_per_shell]"
   ]
  },
  {
   "cell_type": "code",
   "execution_count": null,
   "metadata": {},
   "outputs": [],
   "source": [
    "v2 = grasp.types.QTable()\n",
    "R  = grasp.types.QTable()\n",
    "\n",
    "for i,shell in enumerate(shell_samples):\n",
    "    \n",
    "    R[f\"s{i}\"] = shell['r3d']\n",
    "    v2[f\"s{i}\"] = shell['v2']\n",
    "\n",
    "v2 = grasp.Sample(v2, gc)\n",
    "R = grasp.Sample(R, gc)"
   ]
  },
  {
   "cell_type": "code",
   "execution_count": null,
   "metadata": {},
   "outputs": [],
   "source": [
    "v2h = []\n",
    "for i in range(len(shell_samples)):\n",
    "    v2h.append(grasp.plots.histogram(v2[f's{i}'], xlabel='$v^2$', title=f'Shell {i} - R_max={R[f\"s{i}\"].max():.3f} - R_width = {R[f\"s{i}\"].max() - R[f\"s{i}\"].min():.3f}', dont_show=True))"
   ]
  },
  {
   "cell_type": "markdown",
   "metadata": {},
   "source": [
    "### $B = 16 A \\sqrt{2} \\pi^2 \\beta^2 r_{s}^2 \\alpha m^3 \\sigma^3 dr dx$"
   ]
  },
  {
   "cell_type": "markdown",
   "metadata": {},
   "source": [
    "#### Constants:\n",
    "\n",
    "> Normalization constant: $A = 1$\n",
    "\n",
    "> Single star Mass: $m = 1$\n",
    "\n",
    "> Incompleteness parameter: $\\alpha = 10^{-3}$\n"
   ]
  },
  {
   "cell_type": "code",
   "execution_count": null,
   "metadata": {},
   "outputs": [],
   "source": [
    "A = 1.\n",
    "alpha = .001\n",
    "m = 1.\n",
    "\n",
    "ff.substitute('B constant', \n",
    "              {\n",
    "                  'A': A,\n",
    "                  'alpha': alpha,\n",
    "                  'm': m\n",
    "              }\n",
    ")"
   ]
  },
  {
   "cell_type": "code",
   "execution_count": null,
   "metadata": {},
   "outputs": [],
   "source": [
    "ff.b_constant"
   ]
  },
  {
   "cell_type": "markdown",
   "metadata": {},
   "source": [
    "#### $\\sigma^2$ : critical velocity \n",
    "\n",
    "It is taken to be the maximum quadratic velocity of the shell $v^2\\{shell\\}^{max}$. <br>\n",
    "It's the memory of the Maxwellian velocity distribution of the system."
   ]
  },
  {
   "cell_type": "code",
   "execution_count": null,
   "metadata": {},
   "outputs": [],
   "source": [
    "sigmas = []\n",
    "for i,s in enumerate(shell_samples):\n",
    "    sigmas.append(np.sqrt(s.v2.max()))\n",
    "\n",
    "sigmas = np.array(sigmas)"
   ]
  },
  {
   "cell_type": "code",
   "execution_count": null,
   "metadata": {},
   "outputs": [],
   "source": [
    "plt.plot(sigmas, '--o', markersize=3, c='blue')"
   ]
  },
  {
   "cell_type": "markdown",
   "metadata": {},
   "source": [
    "#### $\\beta$ & $r_s$\n",
    " $\\beta$ : Estimation from bootstrap statistics on shell<br>\n",
    "Its the uncertainty parameter on the distance of the shell from the centre of the GC. <br>\n",
    "This parameter could be estimated by computing the uncertainty of the median <br>\n",
    "(not the mean, as outliers could heavily affect the result) of the $R_{3D}$ distances of <br>\n",
    "the stars of the shell from the centre\n",
    "\n",
    "$r_s$ : Median distance from the centre"
   ]
  },
  {
   "cell_type": "markdown",
   "metadata": {},
   "source": []
  },
  {
   "cell_type": "code",
   "execution_count": null,
   "metadata": {},
   "outputs": [],
   "source": [
    "betas = []\n",
    "rss = []\n",
    "\n",
    "for i, s in enumerate(shell_samples):\n",
    "    r, b = grasp.stats.bootstrap_statistic(\n",
    "        s['r3d'],\n",
    "        np.median,\n",
    "        n_bootstrap=100,\n",
    "        show_progress=False\n",
    "    )\n",
    "    betas.append(b)\n",
    "    rss.append(r)\n",
    "\n",
    "    \n",
    "betas = np.array(betas)\n",
    "rss = np.array(rss)"
   ]
  },
  {
   "cell_type": "code",
   "execution_count": null,
   "metadata": {},
   "outputs": [],
   "source": [
    "plt.plot(rss, betas, '--o', markersize=3, c='blue')"
   ]
  },
  {
   "cell_type": "markdown",
   "metadata": {},
   "source": [
    "#### $N$ , $x$"
   ]
  },
  {
   "cell_type": "code",
   "execution_count": null,
   "metadata": {},
   "outputs": [],
   "source": [
    "Ns = []\n",
    "x = []\n",
    "\n",
    "for i, v in enumerate(v2h):\n",
    "    Ns.append(v['h']['counts'])\n",
    "    x.append(v['h']['bins']/(2*sigmas[i]**2))\n"
   ]
  },
  {
   "cell_type": "markdown",
   "metadata": {},
   "source": [
    "#### $dx$ and $dr$"
   ]
  },
  {
   "cell_type": "code",
   "execution_count": null,
   "metadata": {},
   "outputs": [],
   "source": [
    "dr = []\n",
    "dx = []\n",
    "\n",
    "for i, s in enumerate(shell_samples):\n",
    "    dr.append(s.r3d.max() - s.r3d.min())\n",
    "    dx.append(v2h[i]['h']['bins'][1] - v2h[i]['h']['bins'][0])"
   ]
  },
  {
   "cell_type": "markdown",
   "metadata": {},
   "source": [
    "### $\\Sigma = \\ln{B} - x - \\ln{\\frac{\\Delta_N}{\\sqrt{x}}}$"
   ]
  },
  {
   "cell_type": "code",
   "execution_count": null,
   "metadata": {},
   "outputs": [],
   "source": [
    "def Sigma(\n",
    "    B: float,\n",
    "    n: int = None,\n",
    "    fit: grasp.types.Optional[grasp.types.RegressionModels] = None\n",
    ") -> tuple[grasp.types.ArrayLike, grasp.types.ArrayLike]:\n",
    "    \"\"\"Computes analythical sigma\"\"\"\n",
    "    xi = np.linspace(0, 0.5, 1000)\n",
    "    if fit:\n",
    "        #xi = np.linspace(0, 0.5, len(fit.x))\n",
    "        A, l = fit.coeffs\n",
    "        n = A* np.exp(l * xi)\n",
    "    elif n is None:\n",
    "        raise ValueError(\"Either n or alpha must be provided.\")\n",
    "    return (xi, np.log(B) - np.log(n / xi**0.5) - xi)"
   ]
  },
  {
   "cell_type": "code",
   "execution_count": null,
   "metadata": {},
   "outputs": [],
   "source": [
    "import grasp.analyzers\n",
    "import grasp.analyzers.calculus\n",
    "\n",
    "poteffs = []\n",
    "Bs = []\n",
    "\n",
    "for i in range(len(shell_samples)):\n",
    "    B = float(grasp.analyzers.calculus._sp.N(ff.b_constant.rhs.subs(\n",
    "        {\n",
    "            'r_{s}': rss[i],\n",
    "            'sigma': sigmas[i],\n",
    "            'dr': dr[i],\n",
    "            'dx': dx[i],\n",
    "            'beta' : betas[i],\n",
    "            'pi': np.pi\n",
    "        }\n",
    "    )))\n",
    "    Bs.append(B)\n",
    "    poteffs.append(\n",
    "        np.log(B) - x[i] - np.log(Ns[i] / x[i]**0.5)\n",
    "    )\n"
   ]
  },
  {
   "cell_type": "code",
   "execution_count": null,
   "metadata": {},
   "outputs": [],
   "source": [
    "def plot_poteff(n_shell: int):\n",
    "    \"\"\"Plot the effective potential for a given shell or list of shells.\"\"\"\n",
    "    fit = grasp.stats.fit_data_points(Ns[n_shell], x_data=x[n_shell], method='exponential')\n",
    "\n",
    "    fig, ax = plt.subplots(figsize=(8,6.5))\n",
    "    ax.plot(x[n_shell], poteffs[n_shell], 'o', markersize=4, c='black')\n",
    "    xi, S = Sigma(Bs[n_shell], fit=fit)\n",
    "    ax.plot(xi, S, '-', markersize=3, c='red')\n",
    "    ax.set_ylabel(r'$\\Phi_{eff}$', fontdict=grasp.plots.label_font)\n",
    "    ax.set_xlabel(r'$x$', fontdict=grasp.plots.label_font)\n",
    "    ax.set_title(f'Shell {n_shell} at ~{rss[n_shell]:.3f} pc', fontdict=grasp.plots.title_font)\n",
    "    ax.set_xlim((-0.01, 0.51))\n",
    "\n",
    "    return fig\n",
    "\n",
    "folder = grasp.gpaths.CLUSTER_DATA_FOLDER(gc_sample.gc.id) + '/poteff_plots'\n",
    "for i in range(len(shell_samples)):\n",
    "    fig = plot_poteff(i)\n",
    "    fig.savefig(f'{folder}/poteff_shell_{i}.png', dpi=300, bbox_inches='tight')\n",
    "    plt.close(fig)\n",
    "\n"
   ]
  },
  {
   "cell_type": "code",
   "execution_count": null,
   "metadata": {},
   "outputs": [],
   "source": [
    "scarti_finali = []\n",
    "for i in range(len(poteffs)):\n",
    "    fit = grasp.stats.fit_data_points(Ns[i], x_data=x[i], method='exponential')\n",
    "    xi, S = Sigma(Bs[i], fit=fit)\n",
    "\n",
    "    scarti_finali.append(1-poteffs[i][-1]/S[-1])\n",
    "\n",
    "scarti_finali = np.array(scarti_finali)\n",
    "\n",
    "avg_underestimation = grasp.stats.bootstrap_statistic(scarti_finali, np.mean)\n",
    "fig = plt.figure()\n",
    "plt.plot(scarti_finali, 'o', markersize=3, c='blue')\n",
    "plt.xlabel('Shell number', fontdict=grasp.plots.label_font)\n",
    "plt.title(f\"Average Underestimation = {avg_underestimation[0]*100 :.2f} +- {avg_underestimation[1]*100:.2f} %\")\n",
    "fig.savefig(\n",
    "    grasp.gpaths.CLUSTER_DATA_FOLDER(gc_sample.gc.id) + '/poteff_plots/model2/scarti_finali.png',\n",
    "    dpi=300, bbox_inches='tight'\n",
    ")"
   ]
  },
  {
   "cell_type": "code",
   "execution_count": null,
   "metadata": {},
   "outputs": [],
   "source": [
    "avg_underestimation = grasp.stats.bootstrap_statistic(scarti_finali, np.mean)\n",
    "\n",
    "print(f\"{avg_underestimation[0]*100 :.2f} +- {avg_underestimation[1]*100:.2f} %\")"
   ]
  },
  {
   "cell_type": "markdown",
   "metadata": {},
   "source": [
    "The average underestimation of the critical velocioty $x=0.5 \\rightarrow \\sigma^2 = 2\\cdot v^2_{max}$ \n",
    "is \n",
    "> $15,94 \\pm  0,98$ %"
   ]
  },
  {
   "cell_type": "markdown",
   "metadata": {},
   "source": [
    "### $\\Sigma = -\\ln{1-e^{x-w}}$"
   ]
  },
  {
   "cell_type": "code",
   "execution_count": null,
   "metadata": {},
   "outputs": [],
   "source": [
    "dpoteffs = []\n",
    "Omega = []\n",
    "s = gc_sample.v2.max()\n",
    "\n",
    "\n",
    "for i,p in enumerate(poteffs):\n",
    "    w = np.max(0.5*v2h[i]['h']['bins']/s)\n",
    "    ssigma = -np.log(1 - np.exp(x[i] - 0.5))\n",
    "    omega = ssigma - np.array(x[i])\n",
    "    dpoteffs.append(ssigma)\n",
    "    Omega.append(omega)\n",
    "\n"
   ]
  },
  {
   "cell_type": "code",
   "execution_count": null,
   "metadata": {},
   "outputs": [],
   "source": [
    "for i in range(10):\n",
    "    plt.plot(dpoteffs[i], '-o', markersize=3, label=f'Shell {i}', alpha=0.5)\n",
    "\n",
    "plt.legend(loc='best')"
   ]
  },
  {
   "cell_type": "markdown",
   "metadata": {},
   "source": [
    "## Model with G=3 $\\forall \\bar{\\omega}\\in\\mathcal{R^+}$"
   ]
  },
  {
   "cell_type": "markdown",
   "metadata": {},
   "source": [
    "### Data Computation"
   ]
  },
  {
   "cell_type": "code",
   "execution_count": null,
   "metadata": {},
   "outputs": [],
   "source": [
    "best_model = best_models['G=3 pos']\n",
    "print(pd.DataFrame(best_model.train_classification['classification']).value_counts())\n",
    "print(best_model.coeffs)"
   ]
  },
  {
   "cell_type": "code",
   "execution_count": null,
   "metadata": {},
   "outputs": [],
   "source": [
    "model_data = best_model.data\n",
    "gs_data = aps.to_numpy(columns=['ra','dec','pmra','pmdec', 'parallax'])\n",
    "_ = best_model.predict(gs_data)\n",
    "\n",
    "gc.ra, gc.dec = (best_model.coeffs[2,0], best_model.coeffs[2,1])\n",
    "print(gc.ra, gc.dec)"
   ]
  },
  {
   "cell_type": "code",
   "execution_count": null,
   "metadata": {},
   "outputs": [],
   "source": [
    "# mu_ra = np.array([np.mean(pmrameans), np.std(pmrameans)/np.sqrt(len(pmrameans))])\n",
    "# mu_dec = np.array([np.mean(pmdecmeans), np.std(pmdecmeans)/np.sqrt(len(pmdecmeans))])\n",
    "# px = np.array([np.mean(parallaxmeans), np.std(parallaxmeans)/np.sqrt(len(parallaxmeans))])\n",
    "\n",
    "# Se si riparte direttamente da qui...\n",
    "mu_ra = (-12.528 ,0.003)\n",
    "mu_dec = (-19.022 ,0.005)\n",
    "px = (0.550 ,0.002)\n",
    "\n",
    "gc.px = (px[0] * u.mas, px[1] * u.mas)\n",
    "gc.pmra = (mu_ra[0] * u.mas / u.yr, mu_ra[1] * u.mas / u.yr)\n",
    "gc.pmdec = (mu_dec[0] * u.mas / u.yr, mu_dec[1] * u.mas / u.yr)\n",
    "\n",
    "gc_data = model_data[np.array(best_model.train_classification['classification']) == 3.]\n",
    "gc2_data = gs_data[np.array(best_model.classification['classification']) == 3.]\n",
    "print(f\"{gc_data.shape = } {gc2_data.shape = }\")\n",
    "\n",
    "predicted_sample = np.vstack((gc_data, gc2_data))\n",
    "\n",
    "assert len(predicted_sample) == len(gc_data) + len(gc2_data), f\"Predicted sample length {len(predicted_sample)} is not equal to the sum of gc_data {len(gc_data)} and gs_data {len(gc2_data)}\"\n",
    "\n",
    "print(f\"\\n{predicted_sample.shape = }\")"
   ]
  },
  {
   "cell_type": "code",
   "execution_count": null,
   "metadata": {},
   "outputs": [],
   "source": [
    "gc_data = pd.DataFrame(data=predicted_sample, columns=['ra','dec','pmra','pmdec', 'parallax'])\n",
    "gc_sample = grasp.Sample(gc_data, gc)\n",
    "gc_sample.update_gc_params(ra=gc_sample.ra.mean(), dec=gc_sample.dec.mean())"
   ]
  },
  {
   "cell_type": "code",
   "execution_count": null,
   "metadata": {},
   "outputs": [],
   "source": [
    "grasp.plots.seaborn(which='heatmap', data=gc_sample.to_pandas().corr(), annot=True, cmap='coolwarm', cbar=True)"
   ]
  },
  {
   "cell_type": "code",
   "execution_count": null,
   "metadata": {},
   "outputs": [],
   "source": [
    "ff = grasp.load_base_formulary()\n",
    "ff.substitute(\n",
    "    \"Angular separation\",\n",
    "    {\"alpha_{0}\": (gc_sample.gc.ra*u.deg).to(u.rad).value, \"delta_{0}\": (gc_sample.gc.dec*u.deg).to(u.rad).value}\n",
    ")\n",
    "ff.angular_separation"
   ]
  },
  {
   "cell_type": "code",
   "execution_count": null,
   "metadata": {},
   "outputs": [],
   "source": [
    "gc_sample.apply_conditions('parallax>0.05', inplace=True)\n",
    "N=len(gc_sample)"
   ]
  },
  {
   "cell_type": "markdown",
   "metadata": {},
   "source": [
    "### Calcolo delle distance: $r_{2D}$ and  $R_{3D}$"
   ]
  },
  {
   "cell_type": "code",
   "execution_count": null,
   "metadata": {},
   "outputs": [],
   "source": [
    "gc_sample['ang_sep']        = (ff.compute(\"Angular Separation\", data={\"alpha_{1}\": (gc_sample.ra*u.deg).to(u.rad).value, \"delta_{1}\": (gc_sample.dec*u.deg).to(u.rad).value}, asarray=True)) * u.deg\n",
    "gc_sample['los_distance']   = (ff.compute('los_distance', data={'omega': gc_sample.parallax.value}, asarray=True)) * u.kpc\n",
    "gc_sample['d_BV']           = (ff.compute('gc_z_coordinate', data={r'r_{c}': [gc_sample.gc.dist.value/1000]*N, r'r_{x}': gc_sample.los_distance.value}, asarray=True))  * u.kpc \n",
    "gc_sample['d']              = (ff.compute('gc_z_coordinate', data={r'r_{c}': [1/gc_sample.gc.px[0].value]*N, r'r_{x}': gc_sample.los_distance.value}, asarray=True)) * u.kpc\n",
    "gc_sample['r2d_BV']         = (ff.compute('radial_distance_2d', data={r'r_{c}': [gc_sample.gc.dist.value/1000]*N, 'theta': gc_sample.ang_sep.to(u.rad).value}, asarray=True)) * u.kpc\n",
    "gc_sample['r2d']            = (ff.compute('radial_distance_2d', data={r'r_{c}': [1/gc_sample.gc.px[0].value]*N, 'theta': gc_sample.ang_sep.to(u.rad).value}, asarray=True)) * u.kpc\n",
    "gc_sample['r3d_BV']         = (ff.compute('radial_distance_3d', data={'d': gc_sample.d_BV.to(u.pc).value, 'r_{2}': gc_sample.r2d_BV.to(u.pc).value}, asarray=True)) * u.pc\n",
    "gc_sample['r3d']            = (ff.compute('radial_distance_3d', data={'d': gc_sample.d.to(u.pc).value, 'r_{2}': gc_sample.r2d.to(u.pc).value}, asarray=True)) * u.pc"
   ]
  },
  {
   "cell_type": "code",
   "execution_count": null,
   "metadata": {},
   "outputs": [],
   "source": [
    "gc_sample['ra'] = gc_sample.ra * (u.deg)\n",
    "gc_sample['dec'] = gc_sample.dec * (u.deg)\n",
    "gc_sample['pmra'] = gc_sample.pmra * (u.mas / u.yr)\n",
    "gc_sample['pmdec'] = gc_sample.pmdec * (u.mas / u.yr)\n",
    "gc_sample['parallax'] = gc_sample.parallax * (u.mas)"
   ]
  },
  {
   "cell_type": "code",
   "execution_count": null,
   "metadata": {},
   "outputs": [],
   "source": [
    "gc_sample['los_distance'] = gc_sample.r2d_BV.to(u.pc)\n",
    "gc_sample['d_BV'] = gc_sample.r2d.to(u.pc)\n",
    "gc_sample['d'] = gc_sample.r2d.to(u.pc)\n",
    "gc_sample['r2d_BV'] = gc_sample.r2d_BV.to(u.pc)\n",
    "gc_sample['r2d'] = gc_sample.r2d.to(u.pc)"
   ]
  },
  {
   "cell_type": "code",
   "execution_count": null,
   "metadata": {},
   "outputs": [],
   "source": [
    "gc_sample.apply_conditions('r3d<4000', inplace=True)\n",
    "grasp.plots.histogram(gc_sample.r3d.value, xlabel=r\"$R_{3D}$\")"
   ]
  },
  {
   "cell_type": "markdown",
   "metadata": {},
   "source": [
    "### Density (WOW, bad!)"
   ]
  },
  {
   "cell_type": "code",
   "execution_count": null,
   "metadata": {},
   "outputs": [],
   "source": [
    "r3dh = grasp.plots.histogram(gc_sample.r3d.value, dont_show=True)\n",
    "\n",
    "n_bin = len(r3dh['h']['bins'])\n",
    "\n",
    "V = np.zeros(n_bin)\n",
    "rr1 = np.zeros(n_bin+1)\n",
    "rr2 = np.zeros(n_bin+1)\n",
    "\n",
    "bw = (gc_sample.r3d.value).max()/n_bin\n",
    "\n",
    "rr1[0] = 0.\n",
    "rr2[0] = bw\n",
    "\n",
    "for x in range (0, n_bin):\n",
    "  V[x] = (4/3)*np.pi*(rr2[x]**3 - rr1[x]**3)\n",
    "  rr1[x+1] = rr1[x] + bw\n",
    "  rr2[x+1] = rr2[x] + bw\n",
    "\n",
    "rho3D = r3dh['h']['counts']/(V*u.pc**3)  "
   ]
  },
  {
   "cell_type": "code",
   "execution_count": null,
   "metadata": {},
   "outputs": [],
   "source": [
    "r_c = (1/gc_sample.gc.px[0].value*1000) * np.tan(gc_sample.gc.rc.to(u.rad).value)"
   ]
  },
  {
   "cell_type": "code",
   "execution_count": null,
   "metadata": {},
   "outputs": [],
   "source": [
    "plt.plot(gc_sample.gc.model['xi'], gc_sample.gc.model['rho'], '--', c='red', label='SM King Model')\n",
    "plt.plot(((rr1[0:n_bin]+rr2[0:n_bin])/2)/r_c, rho3D.value, '-o', markersize=2, c='blue', label='Observed Density')\n",
    "plt.xscale('log')\n",
    "plt.yscale('log')"
   ]
  },
  {
   "cell_type": "markdown",
   "metadata": {},
   "source": [
    "### Setting up the velocities"
   ]
  },
  {
   "cell_type": "code",
   "execution_count": null,
   "metadata": {},
   "outputs": [],
   "source": [
    "gc_sample['pmra'].unit"
   ]
  },
  {
   "cell_type": "code",
   "execution_count": null,
   "metadata": {},
   "outputs": [],
   "source": [
    "grasp.plots.histogram(gc_sample.pmra.value)"
   ]
  },
  {
   "cell_type": "code",
   "execution_count": null,
   "metadata": {},
   "outputs": [],
   "source": [
    "gc_sample['v_x'] = ((gc_sample.pmra  - gc_sample.gc.pmra[0] ).to(u.rad/u.s) * (1/gc_sample.gc.px[0] * (u.kpc*u.mas)).to(u.km)) / u.rad \n",
    "gc_sample['v_y'] = ((gc_sample.pmdec - gc_sample.gc.pmdec[0]).to(u.rad/u.s) * (1/gc_sample.gc.px[0] * (u.kpc*u.mas)).to(u.km)) / u.rad"
   ]
  },
  {
   "cell_type": "code",
   "execution_count": null,
   "metadata": {},
   "outputs": [],
   "source": [
    "vx_med, vx_med_err = grasp.stats.bootstrap_statistic(gc_sample.v_x.value**2, np.median, n_bootstrap=5000, show_progress=True)\n",
    "vy_med, vy_med_err = grasp.stats.bootstrap_statistic(gc_sample.v_y.value**2, np.median, n_bootstrap=5000, show_progress=True)\n",
    "\n",
    "vxm, vxm_err = grasp.stats.bootstrap_statistic(gc_sample.v_x.value**2, np.average, n_bootstrap=5000, show_progress=True)\n",
    "vym, vym_err = grasp.stats.bootstrap_statistic(gc_sample.v_y.value**2, np.average, n_bootstrap=5000, show_progress=True)\n"
   ]
  },
  {
   "cell_type": "code",
   "execution_count": null,
   "metadata": {},
   "outputs": [],
   "source": [
    "grasp.plots.doubleHistScatter(gc_sample['v_x'].value, gc_sample['v_y'].value, xlabel=r\"$v_x$ [km/s]\", ylabel=r'$v_y$ [km/s]',size=0.05, alpha=0.85)"
   ]
  },
  {
   "cell_type": "code",
   "execution_count": null,
   "metadata": {},
   "outputs": [],
   "source": [
    "grasp.plots.histogram(\n",
    "    gc_sample['v_y'].value**2, \n",
    "    xlabel=r'$v_y^2 \\, [km^2\\,s^{-2}]$', title=r'$\\langle v_y^2 \\rangle = ${:.2f} $\\pm$ {:.2f}    Median($v_y^2$)={:.2f} $\\pm$ {:.2F}'.format(\n",
    "        vxm, vym_err,\n",
    "        vy_med, vy_med_err\n",
    "        )\n",
    "    )"
   ]
  },
  {
   "cell_type": "code",
   "execution_count": null,
   "metadata": {},
   "outputs": [],
   "source": [
    "grasp.plots.histogram(\n",
    "    gc_sample['v_x'].value**2, \n",
    "    xlabel=r\"$v_x^2 \\, [km^2\\,s^{-2}]$\", title=r'$\\langle v_x^2\\rangle = ${:.2f} $\\pm$ {:.2f}    Median($v_x^2$)={:.2f} $\\pm$ {:.2f}'.format(\n",
    "        vxm, vxm_err,\n",
    "        vx_med, vx_med_err\n",
    "        )\n",
    "    )"
   ]
  },
  {
   "cell_type": "markdown",
   "metadata": {},
   "source": [
    "On Isotropy assumption, compute the total (squared) velocity as:\n",
    "\n",
    "$$ V^2 = \\frac{3}{2}(v_x^2 + v_y^2)^2"
   ]
  },
  {
   "cell_type": "code",
   "execution_count": null,
   "metadata": {},
   "outputs": [],
   "source": [
    "gc_sample['v2'] = 1.5*(gc_sample['v_x']**2 + gc_sample['v_y']**2) \n",
    "v2m, v2m_err = grasp.stats.bootstrap_statistic(gc_sample.v2.value, np.average, n_bootstrap=5000, show_progress=True)\n",
    "v2_med, v2_med_err = grasp.stats.bootstrap_statistic(gc_sample.v2.value, np.median, n_bootstrap=5000, show_progress=True)\n",
    "v2h = grasp.plots.histogram(\n",
    "    gc_sample['v2'].value, \n",
    "    xlabel=r\"$v^2 \\, [km^2\\,s^{-2}]$\", title=r'$<v^2> = ${:.2f} $\\pm$ {:.2f}    Median($v^2$)={:.2f} $\\pm$ {:.2f}'.format(\n",
    "        v2m, v2m_err,\n",
    "        v2_med, v2_med_err\n",
    "        ),\n",
    "    out=True\n",
    "    )"
   ]
  },
  {
   "cell_type": "markdown",
   "metadata": {},
   "source": [
    "### Shell Partition"
   ]
  },
  {
   "cell_type": "code",
   "execution_count": null,
   "metadata": {},
   "outputs": [],
   "source": [
    "# Desired number of instances per subsample\n",
    "n_per_shell = 250  # for example\n",
    "\n",
    "# Sort by r3d\n",
    "sorted_sample = gc_sample.to_pandas().sort_values('r3d')\n",
    "\n",
    "# Split into equal-length subsamples\n",
    "shell_samples = [\n",
    "    sorted_sample.iloc[i:i + n_per_shell]\n",
    "    for i in range(0, len(sorted_sample), n_per_shell)\n",
    "]\n",
    "\n",
    "# Optionally, filter out the last shell if it's too small\n",
    "shell_samples = [s for s in shell_samples if len(s) == n_per_shell]\n",
    "\n",
    "print(f\"Number of shells: {len(shell_samples)}\")"
   ]
  },
  {
   "cell_type": "code",
   "execution_count": null,
   "metadata": {},
   "outputs": [],
   "source": [
    "v2 = grasp.types.QTable()\n",
    "R  = grasp.types.QTable()\n",
    "\n",
    "for i,shell in enumerate(shell_samples):\n",
    "    \n",
    "    R[f\"s{i}\"] = shell['r3d']\n",
    "    v2[f\"s{i}\"] = shell['v2']\n",
    "\n",
    "v2 = grasp.Sample(v2, gc)\n",
    "R = grasp.Sample(R, gc)"
   ]
  },
  {
   "cell_type": "code",
   "execution_count": null,
   "metadata": {},
   "outputs": [],
   "source": [
    "v2h = []\n",
    "for i in range(len(shell_samples)):\n",
    "    v2h.append(grasp.plots.histogram(v2[f's{i}'], xlabel='$v^2$', title=f'Shell {i} - R_max={R[f\"s{i}\"].max():.3f} - R_width = {R[f\"s{i}\"].max() - R[f\"s{i}\"].min():.3f}', dont_show=True))"
   ]
  },
  {
   "cell_type": "markdown",
   "metadata": {},
   "source": [
    "### $B = 16 A \\sqrt{2} \\pi^2 \\beta^2 r_{s}^2 \\alpha m^3 \\sigma^3 dr dx$"
   ]
  },
  {
   "cell_type": "markdown",
   "metadata": {},
   "source": [
    "#### Constants:\n",
    "\n",
    "> Normalization constant: $A = 1$\n",
    "\n",
    "> Single star Mass: $m = 1$\n",
    "\n",
    "> Incompleteness parameter: $\\alpha = 10^{-3}$\n"
   ]
  },
  {
   "cell_type": "code",
   "execution_count": null,
   "metadata": {},
   "outputs": [],
   "source": [
    "A = 1.\n",
    "alpha = .001\n",
    "m = 1.\n",
    "\n",
    "ff.substitute('B constant', \n",
    "              {\n",
    "                  'A': A,\n",
    "                  'alpha': alpha,\n",
    "                  'm': m\n",
    "              }\n",
    ")"
   ]
  },
  {
   "cell_type": "code",
   "execution_count": null,
   "metadata": {},
   "outputs": [],
   "source": [
    "ff.b_constant"
   ]
  },
  {
   "cell_type": "markdown",
   "metadata": {},
   "source": [
    "#### $\\sigma^2$ : critical velocity \n",
    "\n",
    "It is taken to be the maximum quadratic velocity of the shell $v^2\\{shell\\}^{max}$. <br>\n",
    "It's the memory of the Maxwellian velocity distribution of the system."
   ]
  },
  {
   "cell_type": "code",
   "execution_count": null,
   "metadata": {},
   "outputs": [],
   "source": [
    "sigmas = []\n",
    "for i,s in enumerate(shell_samples):\n",
    "    sigmas.append(np.sqrt(s.v2.max()))\n",
    "\n",
    "sigmas = np.array(sigmas)"
   ]
  },
  {
   "cell_type": "code",
   "execution_count": null,
   "metadata": {},
   "outputs": [],
   "source": [
    "plt.plot(sigmas, '--o', markersize=3, c='blue')"
   ]
  },
  {
   "cell_type": "markdown",
   "metadata": {},
   "source": [
    "#### $\\beta$ & $r_s$\n",
    " $\\beta$ : Estimation from bootstrap statistics on shell<br>\n",
    "Its the uncertainty parameter on the distance of the shell from the centre of the GC. <br>\n",
    "This parameter could be estimated by computing the uncertainty of the median <br>\n",
    "(not the mean, as outliers could heavily affect the result) of the $R_{3D}$ distances of <br>\n",
    "the stars of the shell from the centre\n",
    "\n",
    "$r_s$ : Median distance from the centre"
   ]
  },
  {
   "cell_type": "markdown",
   "metadata": {},
   "source": []
  },
  {
   "cell_type": "code",
   "execution_count": null,
   "metadata": {},
   "outputs": [],
   "source": [
    "betas = []\n",
    "rss = []\n",
    "\n",
    "for i, s in enumerate(shell_samples):\n",
    "    r, b = grasp.stats.bootstrap_statistic(\n",
    "        s['r3d'],\n",
    "        np.median,\n",
    "        n_bootstrap=100,\n",
    "        show_progress=False\n",
    "    )\n",
    "    betas.append(b)\n",
    "    rss.append(r)\n",
    "\n",
    "    \n",
    "betas = np.array(betas)\n",
    "rss = np.array(rss)"
   ]
  },
  {
   "cell_type": "code",
   "execution_count": null,
   "metadata": {},
   "outputs": [],
   "source": [
    "plt.plot(rss, betas, '--o', markersize=3, c='blue')"
   ]
  },
  {
   "cell_type": "markdown",
   "metadata": {},
   "source": [
    "#### $N$ , $x$"
   ]
  },
  {
   "cell_type": "code",
   "execution_count": null,
   "metadata": {},
   "outputs": [],
   "source": [
    "Ns = []\n",
    "x = []\n",
    "\n",
    "for i, v in enumerate(v2h):\n",
    "    Ns.append(v['h']['counts'])\n",
    "    x.append(v['h']['bins']/(2*sigmas[i]**2))\n"
   ]
  },
  {
   "cell_type": "markdown",
   "metadata": {},
   "source": [
    "#### $dx$ and $dr$"
   ]
  },
  {
   "cell_type": "code",
   "execution_count": null,
   "metadata": {},
   "outputs": [],
   "source": [
    "dr = []\n",
    "dx = []\n",
    "\n",
    "for i, s in enumerate(shell_samples):\n",
    "    dr.append(s.r3d.max() - s.r3d.min())\n",
    "    dx.append(v2h[i]['h']['bins'][1] - v2h[i]['h']['bins'][0])"
   ]
  },
  {
   "cell_type": "markdown",
   "metadata": {},
   "source": [
    "### $\\Sigma = \\ln{B} - x - \\ln{\\frac{\\Delta_N}{\\sqrt{x}}}$"
   ]
  },
  {
   "cell_type": "code",
   "execution_count": null,
   "metadata": {},
   "outputs": [],
   "source": [
    "def Sigma(\n",
    "    B: float,\n",
    "    n: int = None,\n",
    "    fit: grasp.types.Optional[grasp.types.RegressionModels] = None\n",
    ") -> tuple[grasp.types.ArrayLike, grasp.types.ArrayLike]:\n",
    "    \"\"\"Computes analythical sigma\"\"\"\n",
    "    xi = np.linspace(0, 0.5, 1000)\n",
    "    if fit:\n",
    "        #xi = np.linspace(0, 0.5, len(fit.x))\n",
    "        A, l = fit.coeffs\n",
    "        n = A* np.exp(l * xi)\n",
    "    elif n is None:\n",
    "        raise ValueError(\"Either n or alpha must be provided.\")\n",
    "    return (xi, np.log(B) - np.log(n / xi**0.5) - xi)"
   ]
  },
  {
   "cell_type": "code",
   "execution_count": null,
   "metadata": {},
   "outputs": [],
   "source": [
    "import grasp.analyzers\n",
    "import grasp.analyzers.calculus\n",
    "\n",
    "poteffs = []\n",
    "Bs = []\n",
    "\n",
    "for i in range(len(shell_samples)):\n",
    "    B = float(grasp.analyzers.calculus._sp.N(ff.b_constant.rhs.subs(\n",
    "        {\n",
    "            'r_{s}': rss[i],\n",
    "            'sigma': sigmas[i],\n",
    "            'dr': dr[i],\n",
    "            'dx': dx[i],\n",
    "            'beta' : betas[i],\n",
    "            'pi': np.pi\n",
    "        }\n",
    "    )))\n",
    "    Bs.append(B)\n",
    "    poteffs.append(\n",
    "        np.log(B) - x[i] - np.log(Ns[i] / x[i]**0.5)\n",
    "    )\n"
   ]
  },
  {
   "cell_type": "code",
   "execution_count": null,
   "metadata": {},
   "outputs": [],
   "source": [
    "def plot_poteff(n_shell: int):\n",
    "    \"\"\"Plot the effective potential for a given shell or list of shells.\"\"\"\n",
    "    fit = grasp.stats.fit_data_points(Ns[n_shell], x_data=x[n_shell], method='exponential')\n",
    "\n",
    "    fig, ax = plt.subplots(figsize=(8,6.5))\n",
    "    ax.plot(x[n_shell], poteffs[n_shell], 'o', markersize=4, c='black')\n",
    "    xi, S = Sigma(Bs[n_shell], fit=fit)\n",
    "    ax.plot(xi, S, '-', markersize=3, c='red')\n",
    "    ax.set_ylabel(r'$\\Phi_{eff}$', fontdict=grasp.plots.label_font)\n",
    "    ax.set_xlabel(r'$x$', fontdict=grasp.plots.label_font)\n",
    "    ax.set_title(f'Shell {n_shell} at ~{rss[n_shell]:.3f} pc', fontdict=grasp.plots.title_font)\n",
    "    ax.set_xlim((-0.01, 0.51))\n",
    "\n",
    "    return fig\n",
    "\n",
    "folder = grasp.gpaths.CLUSTER_DATA_FOLDER(gc_sample.gc.id) + '/poteff_plots/model3_pos'\n",
    "if not os.path.exists(folder):\n",
    "    os.makedirs(folder)\n",
    "for i in range(len(shell_samples)):\n",
    "    fig = plot_poteff(i)\n",
    "    fig.savefig(f'{folder}/poteff_shell_{i}.png', dpi=300, bbox_inches='tight')\n",
    "    plt.close(fig)\n",
    "\n"
   ]
  },
  {
   "cell_type": "code",
   "execution_count": null,
   "metadata": {},
   "outputs": [],
   "source": [
    "scarti_finali = []\n",
    "for i in range(len(poteffs)):\n",
    "    fit = grasp.stats.fit_data_points(Ns[i], x_data=x[i], method='exponential')\n",
    "    xi, S = Sigma(Bs[i], fit=fit)\n",
    "\n",
    "    scarti_finali.append(1-poteffs[i][-1]/S[-1])\n",
    "\n",
    "scarti_finali = np.array(scarti_finali)\n",
    "\n",
    "avg_underestimation = grasp.stats.bootstrap_statistic(scarti_finali, np.mean)\n",
    "fig = plt.figure()\n",
    "plt.plot(scarti_finali, 'o', markersize=3, c='blue')\n",
    "plt.xlabel('Shell number', fontdict=grasp.plots.label_font)\n",
    "plt.title(f\"Average Underestimation = {avg_underestimation[0]*100 :.2f} +- {avg_underestimation[1]*100:.2f} %\")\n",
    "fig.savefig(\n",
    "    grasp.gpaths.CLUSTER_DATA_FOLDER(gc_sample.gc.id) + '/poteff_plots/model3_pos/scarti_finali.png',\n",
    "    dpi=300, bbox_inches='tight'\n",
    ")"
   ]
  },
  {
   "cell_type": "code",
   "execution_count": null,
   "metadata": {},
   "outputs": [],
   "source": [
    "avg_underestimation = grasp.stats.bootstrap_statistic(scarti_finali, np.mean)\n",
    "\n",
    "print(f\"{avg_underestimation[0]*100 :.2f} +- {avg_underestimation[1]*100:.2f} %\")"
   ]
  },
  {
   "cell_type": "markdown",
   "metadata": {},
   "source": [
    "The average underestimation of the critical velocioty $x=0.5 \\rightarrow \\sigma^2 = 2\\cdot v^2_{max}$ \n",
    "is \n",
    "> $15,48 \\pm  1,04$ %"
   ]
  },
  {
   "cell_type": "markdown",
   "metadata": {},
   "source": [
    "### $\\Sigma = -\\ln{1-e^{x-w}}$"
   ]
  },
  {
   "cell_type": "code",
   "execution_count": null,
   "metadata": {},
   "outputs": [],
   "source": [
    "dpoteffs = []\n",
    "Omega = []\n",
    "s = gc_sample.v2.max()\n",
    "\n",
    "\n",
    "for i,p in enumerate(poteffs):\n",
    "    w = np.max(0.5*v2h[i]['h']['bins']/s)\n",
    "    ssigma = -np.log(1 - np.exp(x[i] - 0.5))\n",
    "    omega = ssigma - np.array(x[i])\n",
    "    dpoteffs.append(ssigma)\n",
    "    Omega.append(omega)\n",
    "\n"
   ]
  },
  {
   "cell_type": "code",
   "execution_count": null,
   "metadata": {},
   "outputs": [],
   "source": [
    "for i in range(10):\n",
    "    plt.plot(dpoteffs[i], '-o', markersize=3, label=f'Shell {i}', alpha=0.5)\n",
    "\n",
    "plt.legend(loc='best')"
   ]
  },
  {
   "cell_type": "markdown",
   "metadata": {},
   "source": [
    "## Model with G=2 $\\forall \\bar{\\omega}\\in\\mathcal{R^+}$"
   ]
  },
  {
   "cell_type": "markdown",
   "metadata": {},
   "source": [
    "### Data Computation"
   ]
  },
  {
   "cell_type": "code",
   "execution_count": null,
   "metadata": {},
   "outputs": [],
   "source": [
    "best_model = best_models['G=2 pos']\n",
    "print(pd.DataFrame(best_model.train_classification['classification']).value_counts())\n",
    "print(best_model.coeffs)"
   ]
  },
  {
   "cell_type": "code",
   "execution_count": null,
   "metadata": {},
   "outputs": [],
   "source": [
    "model_data = best_model.data\n",
    "gs_data = aps.to_numpy(columns=['ra','dec','pmra','pmdec', 'parallax'])\n",
    "_ = best_model.predict(gs_data)\n",
    "\n",
    "gc.ra, gc.dec = (best_model.coeffs[0,0], best_model.coeffs[0,1])\n",
    "print(gc.ra, gc.dec)"
   ]
  },
  {
   "cell_type": "code",
   "execution_count": null,
   "metadata": {},
   "outputs": [],
   "source": [
    "# mu_ra = np.array([np.mean(pmrameans), np.std(pmrameans)/np.sqrt(len(pmrameans))])\n",
    "# mu_dec = np.array([np.mean(pmdecmeans), np.std(pmdecmeans)/np.sqrt(len(pmdecmeans))])\n",
    "# px = np.array([np.mean(parallaxmeans), np.std(parallaxmeans)/np.sqrt(len(parallaxmeans))])\n",
    "\n",
    "# Se si riparte direttamente da qui...\n",
    "mu_ra = (-12.528 ,0.003)\n",
    "mu_dec = (-19.022 ,0.005)\n",
    "px = (0.550 ,0.002)\n",
    "\n",
    "gc.px = (px[0] * u.mas, px[1] * u.mas)\n",
    "gc.pmra = (mu_ra[0] * u.mas / u.yr, mu_ra[1] * u.mas / u.yr)\n",
    "gc.pmdec = (mu_dec[0] * u.mas / u.yr, mu_dec[1] * u.mas / u.yr)\n",
    "\n",
    "gc_data = model_data[np.array(best_model.train_classification['classification']) == 1.]\n",
    "gc2_data = gs_data[np.array(best_model.classification['classification']) == 1.]\n",
    "print(f\"{gc_data.shape = } {gc2_data.shape = }\")\n",
    "\n",
    "predicted_sample = np.vstack((gc_data, gc2_data))\n",
    "\n",
    "assert len(predicted_sample) == len(gc_data) + len(gc2_data), f\"Predicted sample length {len(predicted_sample)} is not equal to the sum of gc_data {len(gc_data)} and gs_data {len(gc2_data)}\"\n",
    "\n",
    "print(f\"\\n{predicted_sample.shape = }\")"
   ]
  },
  {
   "cell_type": "code",
   "execution_count": null,
   "metadata": {},
   "outputs": [],
   "source": [
    "gc_data = pd.DataFrame(data=predicted_sample, columns=['ra','dec','pmra','pmdec', 'parallax'])\n",
    "gc_sample = grasp.Sample(gc_data, gc)\n",
    "gc_sample.update_gc_params(ra=gc_sample.ra.mean(), dec=gc_sample.dec.mean())"
   ]
  },
  {
   "cell_type": "code",
   "execution_count": null,
   "metadata": {},
   "outputs": [],
   "source": [
    "grasp.plots.seaborn(which='heatmap', data=gc_sample.to_pandas().corr(), annot=True, cmap='coolwarm', cbar=True)"
   ]
  },
  {
   "cell_type": "code",
   "execution_count": null,
   "metadata": {},
   "outputs": [],
   "source": [
    "ff = grasp.load_base_formulary()\n",
    "ff.substitute(\n",
    "    \"Angular separation\",\n",
    "    {\"alpha_{0}\": (gc_sample.gc.ra*u.deg).to(u.rad).value, \"delta_{0}\": (gc_sample.gc.dec*u.deg).to(u.rad).value}\n",
    ")\n",
    "ff.angular_separation"
   ]
  },
  {
   "cell_type": "code",
   "execution_count": null,
   "metadata": {},
   "outputs": [],
   "source": [
    "gc_sample.apply_conditions('parallax>0.05', inplace=True)\n",
    "N=len(gc_sample)"
   ]
  },
  {
   "cell_type": "markdown",
   "metadata": {},
   "source": [
    "### Calcolo delle distance: $r_{2D}$ and  $R_{3D}$"
   ]
  },
  {
   "cell_type": "code",
   "execution_count": null,
   "metadata": {},
   "outputs": [],
   "source": [
    "gc_sample['ang_sep']        = (ff.compute(\"Angular Separation\", data={\"alpha_{1}\": (gc_sample.ra*u.deg).to(u.rad).value, \"delta_{1}\": (gc_sample.dec*u.deg).to(u.rad).value}, asarray=True)) * u.deg\n",
    "gc_sample['los_distance']   = (ff.compute('los_distance', data={'omega': gc_sample.parallax.value}, asarray=True)) * u.kpc\n",
    "gc_sample['d_BV']           = (ff.compute('gc_z_coordinate', data={r'r_{c}': [gc_sample.gc.dist.value/1000]*N, r'r_{x}': gc_sample.los_distance.value}, asarray=True))  * u.kpc \n",
    "gc_sample['d']              = (ff.compute('gc_z_coordinate', data={r'r_{c}': [1/gc_sample.gc.px[0].value]*N, r'r_{x}': gc_sample.los_distance.value}, asarray=True)) * u.kpc\n",
    "gc_sample['r2d_BV']         = (ff.compute('radial_distance_2d', data={r'r_{c}': [gc_sample.gc.dist.value/1000]*N, 'theta': gc_sample.ang_sep.to(u.rad).value}, asarray=True)) * u.kpc\n",
    "gc_sample['r2d']            = (ff.compute('radial_distance_2d', data={r'r_{c}': [1/gc_sample.gc.px[0].value]*N, 'theta': gc_sample.ang_sep.to(u.rad).value}, asarray=True)) * u.kpc\n",
    "gc_sample['r3d_BV']         = (ff.compute('radial_distance_3d', data={'d': gc_sample.d_BV.to(u.pc).value, 'r_{2}': gc_sample.r2d_BV.to(u.pc).value}, asarray=True)) * u.pc\n",
    "gc_sample['r3d']            = (ff.compute('radial_distance_3d', data={'d': gc_sample.d.to(u.pc).value, 'r_{2}': gc_sample.r2d.to(u.pc).value}, asarray=True)) * u.pc"
   ]
  },
  {
   "cell_type": "code",
   "execution_count": null,
   "metadata": {},
   "outputs": [],
   "source": [
    "gc_sample['ra'] = gc_sample.ra * (u.deg)\n",
    "gc_sample['dec'] = gc_sample.dec * (u.deg)\n",
    "gc_sample['pmra'] = gc_sample.pmra * (u.mas / u.yr)\n",
    "gc_sample['pmdec'] = gc_sample.pmdec * (u.mas / u.yr)\n",
    "gc_sample['parallax'] = gc_sample.parallax * (u.mas)"
   ]
  },
  {
   "cell_type": "code",
   "execution_count": null,
   "metadata": {},
   "outputs": [],
   "source": [
    "gc_sample['los_distance'] = gc_sample.r2d_BV.to(u.pc)\n",
    "gc_sample['d_BV'] = gc_sample.r2d.to(u.pc)\n",
    "gc_sample['d'] = gc_sample.r2d.to(u.pc)\n",
    "gc_sample['r2d_BV'] = gc_sample.r2d_BV.to(u.pc)\n",
    "gc_sample['r2d'] = gc_sample.r2d.to(u.pc)"
   ]
  },
  {
   "cell_type": "code",
   "execution_count": null,
   "metadata": {},
   "outputs": [],
   "source": [
    "gc_sample.apply_conditions('r3d<4000', inplace=True)\n",
    "grasp.plots.histogram(gc_sample.r3d.value, xlabel=r\"$R_{3D}$\")"
   ]
  },
  {
   "cell_type": "markdown",
   "metadata": {},
   "source": [
    "### Density (WOW, bad!)"
   ]
  },
  {
   "cell_type": "code",
   "execution_count": null,
   "metadata": {},
   "outputs": [],
   "source": [
    "r3dh = grasp.plots.histogram(gc_sample.r3d.value, dont_show=True)\n",
    "\n",
    "n_bin = len(r3dh['h']['bins'])\n",
    "\n",
    "V = np.zeros(n_bin)\n",
    "rr1 = np.zeros(n_bin+1)\n",
    "rr2 = np.zeros(n_bin+1)\n",
    "\n",
    "bw = (gc_sample.r3d.value).max()/n_bin\n",
    "\n",
    "rr1[0] = 0.\n",
    "rr2[0] = bw\n",
    "\n",
    "for x in range (0, n_bin):\n",
    "  V[x] = (4/3)*np.pi*(rr2[x]**3 - rr1[x]**3)\n",
    "  rr1[x+1] = rr1[x] + bw\n",
    "  rr2[x+1] = rr2[x] + bw\n",
    "\n",
    "rho3D = r3dh['h']['counts']/(V*u.pc**3)  "
   ]
  },
  {
   "cell_type": "code",
   "execution_count": null,
   "metadata": {},
   "outputs": [],
   "source": [
    "r_c = (1/gc_sample.gc.px[0].value*1000) * np.tan(gc_sample.gc.rc.to(u.rad).value)"
   ]
  },
  {
   "cell_type": "code",
   "execution_count": null,
   "metadata": {},
   "outputs": [],
   "source": [
    "plt.plot(gc_sample.gc.model['xi'], gc_sample.gc.model['rho'], '--', c='red', label='SM King Model')\n",
    "plt.plot(((rr1[0:n_bin]+rr2[0:n_bin])/2)/r_c, rho3D.value, '-o', markersize=2, c='blue', label='Observed Density')\n",
    "plt.xscale('log')\n",
    "plt.yscale('log')"
   ]
  },
  {
   "cell_type": "markdown",
   "metadata": {},
   "source": [
    "### Setting up the velocities"
   ]
  },
  {
   "cell_type": "code",
   "execution_count": null,
   "metadata": {},
   "outputs": [],
   "source": [
    "gc_sample['pmra'].unit"
   ]
  },
  {
   "cell_type": "code",
   "execution_count": null,
   "metadata": {},
   "outputs": [],
   "source": [
    "grasp.plots.histogram(gc_sample.pmra.value)"
   ]
  },
  {
   "cell_type": "code",
   "execution_count": null,
   "metadata": {},
   "outputs": [],
   "source": [
    "gc_sample['v_x'] = ((gc_sample.pmra  - gc_sample.gc.pmra[0] ).to(u.rad/u.s) * (1/gc_sample.gc.px[0] * (u.kpc*u.mas)).to(u.km)) / u.rad \n",
    "gc_sample['v_y'] = ((gc_sample.pmdec - gc_sample.gc.pmdec[0]).to(u.rad/u.s) * (1/gc_sample.gc.px[0] * (u.kpc*u.mas)).to(u.km)) / u.rad"
   ]
  },
  {
   "cell_type": "code",
   "execution_count": null,
   "metadata": {},
   "outputs": [],
   "source": [
    "vx_med, vx_med_err = grasp.stats.bootstrap_statistic(gc_sample.v_x.value**2, np.median, n_bootstrap=5000, show_progress=True)\n",
    "vy_med, vy_med_err = grasp.stats.bootstrap_statistic(gc_sample.v_y.value**2, np.median, n_bootstrap=5000, show_progress=True)\n",
    "\n",
    "vxm, vxm_err = grasp.stats.bootstrap_statistic(gc_sample.v_x.value**2, np.average, n_bootstrap=5000, show_progress=True)\n",
    "vym, vym_err = grasp.stats.bootstrap_statistic(gc_sample.v_y.value**2, np.average, n_bootstrap=5000, show_progress=True)\n"
   ]
  },
  {
   "cell_type": "code",
   "execution_count": null,
   "metadata": {},
   "outputs": [],
   "source": [
    "grasp.plots.doubleHistScatter(gc_sample['v_x'].value, gc_sample['v_y'].value, xlabel=r\"$v_x$ [km/s]\", ylabel=r'$v_y$ [km/s]',size=0.05, alpha=0.85)"
   ]
  },
  {
   "cell_type": "code",
   "execution_count": null,
   "metadata": {},
   "outputs": [],
   "source": [
    "grasp.plots.histogram(\n",
    "    gc_sample['v_y'].value**2, \n",
    "    xlabel=r'$v_y^2 \\, [km^2\\,s^{-2}]$', title=r'$\\langle v_y^2\\rangle = ${:.2f} $\\pm$ {:.2f}    Median($v_y^2$)={:.2f} $\\pm$ {:.2F}'.format(\n",
    "        vxm, vym_err,\n",
    "        vy_med, vy_med_err\n",
    "        )\n",
    "    )"
   ]
  },
  {
   "cell_type": "code",
   "execution_count": null,
   "metadata": {},
   "outputs": [],
   "source": [
    "grasp.plots.histogram(\n",
    "    gc_sample['v_x'].value**2, \n",
    "    xlabel=r\"$v_x^2 \\, [km^2\\,s^{-2}]$\", title=r'$\\langle v_x^2 \\rangle = ${:.2f} $\\pm$ {:.2f}    Median($v_x^2$)={:.2f} $\\pm$ {:.2f}'.format(\n",
    "        vxm, vxm_err,\n",
    "        vx_med, vx_med_err\n",
    "        )\n",
    "    )"
   ]
  },
  {
   "cell_type": "markdown",
   "metadata": {},
   "source": [
    "On Isotropy assumption, compute the total (squared) velocity as:\n",
    "\n",
    "$$ V^2 = \\frac{3}{2}(v_x^2 + v_y^2)^2"
   ]
  },
  {
   "cell_type": "code",
   "execution_count": null,
   "metadata": {},
   "outputs": [],
   "source": [
    "gc_sample['v2'] = 1.5*(gc_sample['v_x']**2 + gc_sample['v_y']**2) \n",
    "v2m, v2m_err = grasp.stats.bootstrap_statistic(gc_sample.v2.value, np.average, n_bootstrap=5000, show_progress=True)\n",
    "v2_med, v2_med_err = grasp.stats.bootstrap_statistic(gc_sample.v2.value, np.median, n_bootstrap=5000, show_progress=True)\n",
    "v2h = grasp.plots.histogram(\n",
    "    gc_sample['v2'].value, \n",
    "    xlabel=r\"$v^2 \\, [km^2\\,s^{-2}]$\", title=r'$\\langle v^2 \\rangle = ${:.2f} $\\pm$ {:.2f}    Median($v^2$)={:.2f} $\\pm$ {:.2f}'.format(\n",
    "        v2m, v2m_err,\n",
    "        v2_med, v2_med_err\n",
    "        ),\n",
    "    out=True\n",
    "    )"
   ]
  },
  {
   "cell_type": "markdown",
   "metadata": {},
   "source": [
    "### Shell Partition"
   ]
  },
  {
   "cell_type": "code",
   "execution_count": null,
   "metadata": {},
   "outputs": [],
   "source": [
    "# Desired number of instances per subsample\n",
    "n_per_shell = 250  # for example\n",
    "\n",
    "# Sort by r3d\n",
    "sorted_sample = gc_sample.to_pandas().sort_values('r3d')\n",
    "\n",
    "# Split into equal-length subsamples\n",
    "shell_samples = [\n",
    "    sorted_sample.iloc[i:i + n_per_shell]\n",
    "    for i in range(0, len(sorted_sample), n_per_shell)\n",
    "]\n",
    "\n",
    "# Optionally, filter out the last shell if it's too small\n",
    "shell_samples = [s for s in shell_samples if len(s) == n_per_shell]\n",
    "\n",
    "print(f\"Number of shells: {len(shell_samples)}\")"
   ]
  },
  {
   "cell_type": "code",
   "execution_count": null,
   "metadata": {},
   "outputs": [],
   "source": [
    "v2 = grasp.types.QTable()\n",
    "R  = grasp.types.QTable()\n",
    "\n",
    "for i,shell in enumerate(shell_samples):\n",
    "    \n",
    "    R[f\"s{i}\"] = shell['r3d']\n",
    "    v2[f\"s{i}\"] = shell['v2']\n",
    "\n",
    "v2 = grasp.Sample(v2, gc)\n",
    "R = grasp.Sample(R, gc)"
   ]
  },
  {
   "cell_type": "code",
   "execution_count": null,
   "metadata": {},
   "outputs": [],
   "source": [
    "v2h = []\n",
    "for i in range(len(shell_samples)):\n",
    "    v2h.append(grasp.plots.histogram(v2[f's{i}'], xlabel='$v^2$', title=f'Shell {i} - R_max={R[f\"s{i}\"].max():.3f} - R_width = {R[f\"s{i}\"].max() - R[f\"s{i}\"].min():.3f}', dont_show=True))"
   ]
  },
  {
   "cell_type": "markdown",
   "metadata": {},
   "source": [
    "### $B = 16 A \\sqrt{2} \\pi^2 \\beta^2 r_{s}^2 \\alpha m^3 \\sigma^3 dr dx$"
   ]
  },
  {
   "cell_type": "markdown",
   "metadata": {},
   "source": [
    "#### Constants:\n",
    "\n",
    "> Normalization constant: $A = 1$\n",
    "\n",
    "> Single star Mass: $m = 1$\n",
    "\n",
    "> Incompleteness parameter: $\\alpha = 10^{-3}$\n"
   ]
  },
  {
   "cell_type": "code",
   "execution_count": null,
   "metadata": {},
   "outputs": [],
   "source": [
    "A = 1.\n",
    "alpha = .001\n",
    "m = 1.\n",
    "\n",
    "ff.substitute('B constant', \n",
    "              {\n",
    "                  'A': A,\n",
    "                  'alpha': alpha,\n",
    "                  'm': m\n",
    "              }\n",
    ")"
   ]
  },
  {
   "cell_type": "code",
   "execution_count": null,
   "metadata": {},
   "outputs": [],
   "source": [
    "ff.b_constant"
   ]
  },
  {
   "cell_type": "markdown",
   "metadata": {},
   "source": [
    "#### $\\sigma^2$ : critical velocity \n",
    "\n",
    "It is taken to be the maximum quadratic velocity of the shell $v^2\\{shell\\}^{max}$. <br>\n",
    "It's the memory of the Maxwellian velocity distribution of the system."
   ]
  },
  {
   "cell_type": "code",
   "execution_count": null,
   "metadata": {},
   "outputs": [],
   "source": [
    "sigmas = []\n",
    "for i,s in enumerate(shell_samples):\n",
    "    sigmas.append(np.sqrt(s.v2.max()))\n",
    "\n",
    "sigmas = np.array(sigmas)"
   ]
  },
  {
   "cell_type": "code",
   "execution_count": null,
   "metadata": {},
   "outputs": [],
   "source": [
    "plt.plot(sigmas, '--o', markersize=3, c='blue')"
   ]
  },
  {
   "cell_type": "markdown",
   "metadata": {},
   "source": [
    "#### $\\beta$ & $r_s$\n",
    " $\\beta$ : Estimation from bootstrap statistics on shell<br>\n",
    "Its the uncertainty parameter on the distance of the shell from the centre of the GC. <br>\n",
    "This parameter could be estimated by computing the uncertainty of the median <br>\n",
    "(not the mean, as outliers could heavily affect the result) of the $R_{3D}$ distances of <br>\n",
    "the stars of the shell from the centre\n",
    "\n",
    "$r_s$ : Median distance from the centre"
   ]
  },
  {
   "cell_type": "markdown",
   "metadata": {},
   "source": []
  },
  {
   "cell_type": "code",
   "execution_count": null,
   "metadata": {},
   "outputs": [],
   "source": [
    "betas = []\n",
    "rss = []\n",
    "\n",
    "for i, s in enumerate(shell_samples):\n",
    "    r, b = grasp.stats.bootstrap_statistic(\n",
    "        s['r3d'],\n",
    "        np.median,\n",
    "        n_bootstrap=100,\n",
    "        show_progress=False\n",
    "    )\n",
    "    betas.append(b)\n",
    "    rss.append(r)\n",
    "\n",
    "    \n",
    "betas = np.array(betas)\n",
    "rss = np.array(rss)"
   ]
  },
  {
   "cell_type": "code",
   "execution_count": null,
   "metadata": {},
   "outputs": [],
   "source": [
    "plt.plot(rss, betas, '--o', markersize=3, c='blue')"
   ]
  },
  {
   "cell_type": "markdown",
   "metadata": {},
   "source": [
    "#### $N$ , $x$"
   ]
  },
  {
   "cell_type": "code",
   "execution_count": null,
   "metadata": {},
   "outputs": [],
   "source": [
    "Ns = []\n",
    "x = []\n",
    "\n",
    "for i, v in enumerate(v2h):\n",
    "    Ns.append(v['h']['counts'])\n",
    "    x.append(v['h']['bins']/(2*sigmas[i]**2))\n"
   ]
  },
  {
   "cell_type": "markdown",
   "metadata": {},
   "source": [
    "#### $dx$ and $dr$"
   ]
  },
  {
   "cell_type": "code",
   "execution_count": null,
   "metadata": {},
   "outputs": [],
   "source": [
    "dr = []\n",
    "dx = []\n",
    "\n",
    "for i, s in enumerate(shell_samples):\n",
    "    dr.append(s.r3d.max() - s.r3d.min())\n",
    "    dx.append(v2h[i]['h']['bins'][1] - v2h[i]['h']['bins'][0])"
   ]
  },
  {
   "cell_type": "markdown",
   "metadata": {},
   "source": [
    "### $\\Sigma = \\ln{B} - x - \\ln{\\frac{\\Delta_N}{\\sqrt{x}}}$"
   ]
  },
  {
   "cell_type": "code",
   "execution_count": null,
   "metadata": {},
   "outputs": [],
   "source": [
    "def Sigma(\n",
    "    B: float,\n",
    "    n: int = None,\n",
    "    fit: grasp.types.Optional[grasp.types.RegressionModels] = None\n",
    ") -> tuple[grasp.types.ArrayLike, grasp.types.ArrayLike]:\n",
    "    \"\"\"Computes analythical sigma\"\"\"\n",
    "    xi = np.linspace(0, 0.5, 1000)\n",
    "    if fit:\n",
    "        #xi = np.linspace(0, 0.5, len(fit.x))\n",
    "        A, l = fit.coeffs\n",
    "        n = A* np.exp(l * xi)\n",
    "    elif n is None:\n",
    "        raise ValueError(\"Either n or alpha must be provided.\")\n",
    "    return (xi, np.log(B) - np.log(n / xi**0.5) - xi)"
   ]
  },
  {
   "cell_type": "code",
   "execution_count": null,
   "metadata": {},
   "outputs": [],
   "source": [
    "import grasp.analyzers\n",
    "import grasp.analyzers.calculus\n",
    "\n",
    "poteffs = []\n",
    "Bs = []\n",
    "\n",
    "for i in range(len(shell_samples)):\n",
    "    B = float(grasp.analyzers.calculus._sp.N(ff.b_constant.rhs.subs(\n",
    "        {\n",
    "            'r_{s}': rss[i],\n",
    "            'sigma': sigmas[i],\n",
    "            'dr': dr[i],\n",
    "            'dx': dx[i],\n",
    "            'beta' : betas[i],\n",
    "            'pi': np.pi\n",
    "        }\n",
    "    )))\n",
    "    Bs.append(B)\n",
    "    poteffs.append(\n",
    "        np.log(B) - x[i] - np.log(Ns[i] / x[i]**0.5)\n",
    "    )\n"
   ]
  },
  {
   "cell_type": "code",
   "execution_count": null,
   "metadata": {},
   "outputs": [],
   "source": [
    "def plot_poteff(n_shell: int):\n",
    "    \"\"\"Plot the effective potential for a given shell or list of shells.\"\"\"\n",
    "    fit = grasp.stats.fit_data_points(Ns[n_shell], x_data=x[n_shell], method='exponential')\n",
    "\n",
    "    fig, ax = plt.subplots(figsize=(8,6.5))\n",
    "    ax.plot(x[n_shell], poteffs[n_shell], 'o', markersize=4, c='black')\n",
    "    xi, S = Sigma(Bs[n_shell], fit=fit)\n",
    "    ax.plot(xi, S, '-', markersize=3, c='red')\n",
    "    ax.set_ylabel(r'$\\Phi_{eff}$', fontdict=grasp.plots.label_font)\n",
    "    ax.set_xlabel(r'$x$', fontdict=grasp.plots.label_font)\n",
    "    ax.set_title(f'Shell {n_shell} at ~{rss[n_shell]:.3f} pc', fontdict=grasp.plots.title_font)\n",
    "    ax.set_xlim((-0.01, 0.51))\n",
    "\n",
    "    return fig\n",
    "\n",
    "folder = grasp.gpaths.CLUSTER_DATA_FOLDER(gc_sample.gc.id) + '/poteff_plots/model2_pos'\n",
    "if not os.path.exists(folder):\n",
    "    os.makedirs(folder)\n",
    "for i in range(len(shell_samples)):\n",
    "    fig = plot_poteff(i)\n",
    "    fig.savefig(f'{folder}/poteff_shell_{i}.png', dpi=300, bbox_inches='tight')\n",
    "    plt.close(fig)\n",
    "\n"
   ]
  },
  {
   "cell_type": "code",
   "execution_count": null,
   "metadata": {},
   "outputs": [],
   "source": [
    "scarti_finali = []\n",
    "for i in range(len(poteffs)):\n",
    "    fit = grasp.stats.fit_data_points(Ns[i], x_data=x[i], method='exponential')\n",
    "    xi, S = Sigma(Bs[i], fit=fit)\n",
    "\n",
    "    scarti_finali.append(1-poteffs[i][-1]/S[-1])\n",
    "\n",
    "scarti_finali = np.array(scarti_finali)\n",
    "\n",
    "avg_underestimation = grasp.stats.bootstrap_statistic(scarti_finali, np.mean)\n",
    "fig = plt.figure()\n",
    "plt.plot(scarti_finali, 'o', markersize=3, c='blue')\n",
    "plt.xlabel('Shell number', fontdict=grasp.plots.label_font)\n",
    "plt.title(f\"Average Underestimation = {avg_underestimation[0]*100 :.2f} +- {avg_underestimation[1]*100:.2f} %\")\n",
    "fig.savefig(\n",
    "    grasp.gpaths.CLUSTER_DATA_FOLDER(gc_sample.gc.id) + '/poteff_plots/model2_pos/scarti_finali.png',\n",
    "    dpi=300, bbox_inches='tight'\n",
    ")"
   ]
  },
  {
   "cell_type": "code",
   "execution_count": null,
   "metadata": {},
   "outputs": [],
   "source": [
    "avg_underestimation = grasp.stats.bootstrap_statistic(scarti_finali, np.mean)\n",
    "\n",
    "print(f\"{avg_underestimation[0]*100 :.2f} +- {avg_underestimation[1]*100:.2f} %\")"
   ]
  },
  {
   "cell_type": "markdown",
   "metadata": {},
   "source": [
    "The average underestimation of the critical velocioty $x=0.5 \\rightarrow \\sigma^2 = 2\\cdot v^2_{max}$ \n",
    "is \n",
    "> $19,34 \\pm  1,16$ %"
   ]
  },
  {
   "cell_type": "markdown",
   "metadata": {},
   "source": [
    "### $\\Sigma = -\\ln{1-e^{x-w}}$"
   ]
  },
  {
   "cell_type": "code",
   "execution_count": null,
   "metadata": {},
   "outputs": [],
   "source": [
    "dpoteffs = []\n",
    "Omega = []\n",
    "s = gc_sample.v2.max()\n",
    "\n",
    "\n",
    "for i,p in enumerate(poteffs):\n",
    "    w = np.max(0.5*v2h[i]['h']['bins']/s)\n",
    "    ssigma = -np.log(1 - np.exp(x[i] - 0.5))\n",
    "    omega = ssigma - np.array(x[i])\n",
    "    dpoteffs.append(ssigma)\n",
    "    Omega.append(omega)\n",
    "\n"
   ]
  },
  {
   "cell_type": "code",
   "execution_count": null,
   "metadata": {},
   "outputs": [],
   "source": [
    "for i in range(10):\n",
    "    plt.plot(dpoteffs[i], '-o', markersize=3, label=f'Shell {i}', alpha=0.5)\n",
    "\n",
    "plt.legend(loc='best')"
   ]
  },
  {
   "cell_type": "code",
   "execution_count": null,
   "metadata": {},
   "outputs": [],
   "source": [
    "gc_sample.gc.ra, gc_sample.gc.dec"
   ]
  },
  {
   "cell_type": "code",
   "execution_count": null,
   "metadata": {},
   "outputs": [],
   "source": []
  }
 ],
 "metadata": {
  "kernelspec": {
   "display_name": "base",
   "language": "python",
   "name": "python3"
  },
  "language_info": {
   "codemirror_mode": {
    "name": "ipython",
    "version": 3
   },
   "file_extension": ".py",
   "mimetype": "text/x-python",
   "name": "python",
   "nbconvert_exporter": "python",
   "pygments_lexer": "ipython3",
   "version": "3.12.2"
  }
 },
 "nbformat": 4,
 "nbformat_minor": 2
}
