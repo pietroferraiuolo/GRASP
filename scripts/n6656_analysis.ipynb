{
 "cells": [
  {
   "cell_type": "markdown",
   "metadata": {},
   "source": [
    "# NGC 6656 (M 22) Notebook"
   ]
  },
  {
   "cell_type": "markdown",
   "metadata": {},
   "source": [
    "- NGC 6121\n",
    "- NGC 104\n",
    "- [X] NGC 6656\n",
    "- NGC 4372"
   ]
  },
  {
   "cell_type": "markdown",
   "metadata": {},
   "source": [
    "## Initialization"
   ]
  },
  {
   "cell_type": "code",
   "execution_count": 1,
   "metadata": {},
   "outputs": [
    {
     "name": "stdout",
     "output_type": "stream",
     "text": [
      "\n",
      "            ..............\n",
      "         ..:;;..:;;;;;:::::;;\n",
      "       ;;;;;;::.::;;;;;;;;;;;;;\n",
      "      ;;;;.:;;;..;XXXXXX.::....:           GAIA QUERY MODULE\n",
      "     :;::;::..+XXXXXXXXX+:;;;;;;:\n",
      "    ;::;:.:;;:XXXXXXXXXXX::::::::;        __ _  __ _(_) __ _\n",
      "    .;;..;;;:.:XXXXXXXXX$$$$$$$$$$X.     / _` |/ _` | |/ _` |\n",
      "    :;..:;;;..:xXXXXXXX$$$$$$$$$$$$X    | (_| | (_| | | (_| |\n",
      "    :;:.:;;.XXXXXXXXX$$$$$$$$$$$$$$;     \\__, |\\__,_|_|\\__,_|\n",
      "    .;;:.:X$$$$$$$$$$$$$$$$$$$$$$X.      |___/\n",
      "    ..:;:$$$$$$$$$$$$$$$$$$$$$$X;.\n",
      "     :;;;$$$$$$$$$$$$$$$$$$$$::;;             INITIALIZED\n",
      "      ...;$$$$$$$$$$$$$$x;:;;;;;\n",
      "        ......:;:....;;;;;;;:.\n",
      "          ::::::::::;;;::...\n",
      "            ....::::.....\n",
      "\n",
      "Initialized with Gaia table: 'gaiadr3.gaia_source'\n"
     ]
    }
   ],
   "source": [
    "import os\n",
    "import grasp\n",
    "import numpy as np\n",
    "import pandas as pd\n",
    "from astropy import units as u\n",
    "import matplotlib.pyplot as plt\n",
    "from sklearn.model_selection import train_test_split\n",
    "dr3 = grasp.dr3()\n",
    "gc = grasp.Cluster('NGC6656')\n",
    "f = grasp.load_base_formulary()\n",
    "\n",
    "gplt = grasp.plots\n",
    "stats = grasp.stats\n",
    "\n",
    "scan_radius = gc.rt.value*1.20\n",
    "\n",
    "gc.rt_pc = gc.dist.to(u.pc) * np.tan(gc.rt.to(u.rad))\n"
   ]
  },
  {
   "cell_type": "code",
   "execution_count": 2,
   "metadata": {},
   "outputs": [
    {
     "name": "stdout",
     "output_type": "stream",
     "text": [
      "Found data with the same conditions for object NGC6656 in\n",
      "20250602_002609.\n",
      "Loading it...\n",
      "Sample number of sources: 651815\n",
      "<Sample length=651815>\n",
      "           name            dtype    unit                                        description                                          class      n_bad \n",
      "------------------------- ------- -------- ------------------------------------------------------------------------------------- -------------- ------\n",
      "                SOURCE_ID   int64                             Unique source identifier (unique within a particular Data Release)   MaskedColumn      0\n",
      "                       ra float64      deg                                                                       Right ascension MaskedQuantity      0\n",
      "                 ra_error float32      mas                                                     Standard error of right ascension MaskedQuantity      0\n",
      "                      dec float64      deg                                                                           Declination MaskedQuantity      0\n",
      "                dec_error float32      mas                                                         Standard error of declination MaskedQuantity      0\n",
      "                 parallax float64      mas                                                                              Parallax MaskedQuantity      0\n",
      "           parallax_error float32      mas                                                            Standard error of parallax MaskedQuantity      0\n",
      "                     pmra float64 mas / yr                                            Proper motion in right ascension direction MaskedQuantity      0\n",
      "               pmra_error float32 mas / yr                          Standard error of proper motion in right ascension direction MaskedQuantity      0\n",
      "                    pmdec float64 mas / yr                                                Proper motion in declination direction MaskedQuantity      0\n",
      "              pmdec_error float32 mas / yr                              Standard error of proper motion in declination direction MaskedQuantity      0\n",
      "              ra_dec_corr float32                                            Correlation between right ascension and declination         Column      0\n",
      "          pmra_pmdec_corr float32          Correlation between proper motion in right ascension and proper motion in declination         Column      0\n",
      "          phot_g_mean_mag float32      mag                                                                 G-band mean magnitude MaskedQuantity    752\n",
      "nu_eff_used_in_astrometry float32   1 / um                   Effective wavenumber of the source used in the astrometric solution MaskedQuantity 490790\n",
      "             pseudocolour float32   1 / um                                  Astrometrically estimated pseudocolour of the source MaskedQuantity 161025\n",
      "                  ecl_lat float64      deg                                                                     Ecliptic latitude MaskedQuantity      0\n",
      "astrometric_params_solved   int16                                                         Which parameters have been solved for?   MaskedColumn      0\n"
     ]
    }
   ],
   "source": [
    "fas = dr3.get_astrometry(\n",
    "    radius=scan_radius, \n",
    "    gc=gc,\n",
    "    save=True,\n",
    "    add_data=\"ra_dec_corr, pmra_pmdec_corr, phot_g_mean_mag, nu_eff_used_in_astrometry, pseudocolour, ecl_lat, astrometric_params_solved\",\n",
    "    conditions='astrometric_params_solved != 3',)\n",
    "fas.info()\n"
   ]
  },
  {
   "cell_type": "code",
   "execution_count": 3,
   "metadata": {},
   "outputs": [
    {
     "name": "stdout",
     "output_type": "stream",
     "text": [
      "WARNING: Only run this cell once (just to be sure...!!\n",
      "\n",
      "Using the \"Zero Point Correction\" tool from Pau Ramos\n",
      "(Lindergren, et al., A&A 649, A4 (2021)\n",
      "\n",
      "Saved stars from negative parallax: 7524 (3.76%)\n"
     ]
    }
   ],
   "source": [
    "print(\"WARNING: Only run this cell once (just to be sure...!!\")\n",
    "\n",
    "Nneg = len(fas.to_pandas()[fas['parallax']<0])\n",
    "\n",
    "grasp.zero_point_correction(sample=fas)\n",
    "\n",
    "Nneg_f = len(fas.to_pandas()[fas['parallax']<0])\n",
    "\n",
    "print(f\"\\nSaved stars from negative parallax: {Nneg-Nneg_f} ({(1-Nneg_f/Nneg)*100:.2f}%)\")"
   ]
  },
  {
   "cell_type": "code",
   "execution_count": 9,
   "metadata": {},
   "outputs": [
    {
     "data": {
      "image/png": "[encoded data removed]",
      "text/plain": [
       "<Figure size 640x520 with 1 Axes>"
      ]
     },
     "metadata": {},
     "output_type": "display_data"
    }
   ],
   "source": [
    "gplt.spatial(fas, size=0.05, alpha=0.1)"
   ]
  },
  {
   "cell_type": "markdown",
   "metadata": {},
   "source": [
    "# MachineLearning"
   ]
  },
  {
   "cell_type": "markdown",
   "metadata": {},
   "source": [
    "**TARGET PARAMETERS** (B&V21 from the <a href=https://github.com/GalacticDynamics-Oxford/GaiaTools/tree/master> GaiaTools</a> results)\n",
    "\n",
    "> $ \\bar{\\omega} = 0.232 \\pm  0.009$\n",
    "\n",
    "> $ \\mathrm{pmra} = 5.259 \\pm 0.025$\n",
    "\n",
    "> $ \\mathrm{pmdec} = -2.543 \\pm 0.025$"
   ]
  },
  {
   "cell_type": "markdown",
   "metadata": {},
   "source": [
    "## GMM on Full Sample"
   ]
  },
  {
   "cell_type": "markdown",
   "metadata": {},
   "source": [
    "### Feature Engeneering"
   ]
  },
  {
   "cell_type": "code",
   "execution_count": null,
   "metadata": {},
   "outputs": [],
   "source": [
    "useless_columns = [\"phot_g_mean_mag,nu_eff_used_in_astrometry,pseudocolour,ecl_lat,astrometric_params_solved\"]\n",
    "for c in useless_columns:\n",
    "    if c in fas.columns:\n",
    "        fas.drop_column(c)\n",
    "fas.dropna()"
   ]
  },
  {
   "cell_type": "code",
   "execution_count": null,
   "metadata": {},
   "outputs": [],
   "source": [
    "gplt.histogram(fas.parallax.value, xlabel='Parallax')"
   ]
  },
  {
   "cell_type": "code",
   "execution_count": null,
   "metadata": {},
   "outputs": [],
   "source": [
    "gplt.doubleHistScatter(fas.pmra.value, fas.pmdec.value)"
   ]
  },
  {
   "cell_type": "markdown",
   "metadata": {},
   "source": [
    "Removing poroper motion extreme outliers and creating a copy sample with only positive parallaxes"
   ]
  },
  {
   "cell_type": "code",
   "execution_count": null,
   "metadata": {},
   "outputs": [],
   "source": [
    "fas.apply_conditions(\n",
    "    conditions={\n",
    "        \"pmra\": \">-50\",\n",
    "        \"pmdec\":\">-50\",\n",
    "    },\n",
    "    inplace=True,\n",
    ")\n",
    "fas.apply_conditions(\n",
    "    conditions={\n",
    "        \"pmra\": \"<50\",\n",
    "        \"pmdec\":\"<50\",\n",
    "    },\n",
    "    inplace=True,\n",
    ")\n",
    "pfas = fas.apply_conditions(\n",
    "    conditions={\n",
    "        'parallax': \">0\"\n",
    "    },\n",
    "    inplace=False,\n",
    ")"
   ]
  },
  {
   "cell_type": "code",
   "execution_count": null,
   "metadata": {},
   "outputs": [],
   "source": [
    "grasp.plots.doubleHistScatter(fas.pmra.value, fas.pmdec.value, size=0.05, alpha=0.85)"
   ]
  },
  {
   "cell_type": "code",
   "execution_count": null,
   "metadata": {},
   "outputs": [],
   "source": [
    "data = fas[['ra','dec','pmra','pmdec', 'parallax']].to_numpy()\n",
    "pdata = pfas[['ra','dec','pmra','pmdec', 'parallax']].to_numpy()"
   ]
  },
  {
   "cell_type": "markdown",
   "metadata": {
    "tags": [
     "parameters"
    ]
   },
   "source": [
    "### Single GMM"
   ]
  },
  {
   "cell_type": "markdown",
   "metadata": {},
   "source": [
    "#### Model1: GMM with  $\\,\\forall \\bar{\\omega} \\in \\mathcal{R}$"
   ]
  },
  {
   "cell_type": "code",
   "execution_count": null,
   "metadata": {},
   "outputs": [],
   "source": [
    "#```python\n",
    "\n",
    "X_train, X_test = train_test_split(data, test_size=0.33)\n",
    "\n",
    "model1 = grasp.stats.gaussian_mixture_model(train_data=X_train, G=3, modelNames=np.array(['VII', 'VVI']), verbose=True)\n",
    "\n",
    "plt.figure()\n",
    "plt.scatter(X_train[:,2], X_train[:,3], c=model1.train_classification['classification'], cmap='plasma', s=0.5, alpha=0.5)\n",
    "cbar = plt.colorbar(ticks=np.unique(model1.train_classification['classification']))\n",
    "cbar.ax.set_yticklabels([f\"C_{val}\" for val in np.unique(model1.train_classification['classification'])])\n",
    "plt.title('Model1: G=3 with full parallaxes')\n",
    "\n",
    "pd.DataFrame(data=model1.train_classification['classification']).value_counts()\n",
    "\n",
    "model1_parameters = pd.DataFrame(data=model1.coeffs, index=['G1','G2','G3'], columns=['ra','dec','pmra','pmdec','parallax'])\n",
    "\n",
    "print(model1_parameters)\n",
    "\n",
    "predictions = model1.predict(X_test)\n",
    "\n",
    "plt.figure()\n",
    "plt.scatter(X_test[:,2], X_test[:,3], c=predictions['classification'], cmap='plasma', s=0.5, alpha=0.5)\n",
    "cbar = plt.colorbar(ticks=np.unique(predictions['classification']))\n",
    "cbar.ax.set_yticklabels([f\"C_{val}\" for val in np.unique(predictions['classification'])])\n",
    "plt.title('Model1 Test Set')\n",
    "\n",
    "#```"
   ]
  },
  {
   "cell_type": "markdown",
   "metadata": {},
   "source": [
    "#### Model2: GMM with $\\,\\forall\\bar{\\omega}\\in\\mathcal{R}^+$"
   ]
  },
  {
   "cell_type": "code",
   "execution_count": null,
   "metadata": {},
   "outputs": [],
   "source": [
    "#```python\n",
    "X_train2, X_test2 = train_test_split(pdata, test_size=0.33)\n",
    "model2 = grasp.stats.gaussian_mixture_model(train_data=X_train2, G=3, modelNames=np.array(['VII', 'VVI']), verbose=True)\n",
    "\n",
    "plt.figure()\n",
    "plt.scatter(X_train2[:,2], X_train2[:,3], c=model2.train_classification['classification'], cmap='plasma', s=0.5, alpha=0.5)\n",
    "cbar = plt.colorbar(ticks=np.unique(model2.train_classification['classification']))\n",
    "cbar.ax.set_yticklabels([f\"C_{val}\" for val in np.unique(model2.train_classification['classification'])])\n",
    "plt.title('Model2: G=3 with parallax cut')\n",
    "\n",
    "pd.DataFrame(data=model2.train_classification['classification']).value_counts()\n",
    "model2_parameters = pd.DataFrame(data=model2.coeffs, index=['G1','G2','G3'], columns=['ra','dec','pmra','pmdec','parallax'])\n",
    "print(model2_parameters)\n",
    "predictions2 = model2.predict(X_test2)\n",
    "\n",
    "plt.figure()\n",
    "plt.scatter(X_test2[:,2], X_test2[:,3], c=predictions2['classification'], cmap='plasma', s=0.5, alpha=0.5)\n",
    "cbar = plt.colorbar(ticks=np.unique(predictions2['classification']))\n",
    "cbar.ax.set_yticklabels([f\"C_{val}\" for val in np.unique(predictions2['classification'])])\n",
    "plt.title('Model2 Test Set')\n",
    "#```"
   ]
  },
  {
   "cell_type": "markdown",
   "metadata": {},
   "source": [
    "#### Model3: $G=2$ with $\\forall\\bar{\\omega}\\in\\mathcal{R}^+$"
   ]
  },
  {
   "cell_type": "code",
   "execution_count": null,
   "metadata": {},
   "outputs": [],
   "source": [
    "#```python\n",
    "X_train2, X_test2 = train_test_split(pdata, test_size=0.33)\n",
    "model3 = grasp.stats.gaussian_mixture_model(train_data=X_train2, G=2, modelNames=np.array(['VII', 'VVI']), verbose=True)\n",
    "\n",
    "\n",
    "plt.figure()\n",
    "plt.scatter(X_train2[:,2], X_train2[:,3], c=model3.train_classification['classification'], cmap='plasma', s=0.5, alpha=0.5)\n",
    "cbar = plt.colorbar(ticks=np.unique(model3.train_classification['classification']))\n",
    "cbar.ax.set_yticklabels([f\"C_{val}\" for val in np.unique(model3.train_classification['classification'])])\n",
    "plt.title('Model3: G=2 with parallax cut')\n",
    "\n",
    "pd.DataFrame(data=model3.train_classification['classification']).value_counts()\n",
    "predictions3 = model3.predict(X_test2)\n",
    "model3_parameters = pd.DataFrame(data=model3.coeffs, index=['G1','G2'], columns=['ra','dec','pmra','pmdec','parallax'])\n",
    "print(model3_parameters)\n",
    "\n",
    "plt.figure()\n",
    "plt.scatter(X_test2[:,2], X_test2[:,3], c=predictions3['classification'], cmap='plasma', s=0.5, alpha=0.5)\n",
    "cbar = plt.colorbar(ticks=np.unique(predictions3['classification']))\n",
    "cbar.ax.set_yticklabels([f\"C_{val}\" for val in np.unique(predictions3['classification'])])\n",
    "plt.title('Model3 Test Set')\n",
    "#```"
   ]
  },
  {
   "cell_type": "markdown",
   "metadata": {},
   "source": [
    "#### Model4: $G=2$ with $\\forall\\bar{\\omega}\\in\\mathcal{R}$"
   ]
  },
  {
   "cell_type": "code",
   "execution_count": null,
   "metadata": {},
   "outputs": [],
   "source": [
    "#```python\n",
    "X_train, X_test = train_test_split(data, test_size=0.33)\n",
    "model4 = grasp.stats.gaussian_mixture_model(train_data=X_train, G=2, modelNames=np.array(['VII', 'VVI']), verbose=True)\n",
    "\n",
    "plt.figure()\n",
    "plt.scatter(X_train[:,2], X_train[:,3], c=model4.train_classification['classification'], cmap='plasma', s=0.5, alpha=0.5)\n",
    "cbar = plt.colorbar(ticks=np.unique(model4.train_classification['classification']))\n",
    "cbar.ax.set_yticklabels([f\"C_{val}\" for val in np.unique(model4.train_classification['classification'])])\n",
    "plt.title('Model3: G=2 with parallax cut')\n",
    "\n",
    "pd.DataFrame(data=model4.train_classification['classification']).value_counts()\n",
    "predictions4 = model4.predict(X_test)\n",
    "model4_parameters = pd.DataFrame(data=model4.coeffs, index=['G1','G2'], columns=['ra','dec','pmra','pmdec','parallax'])\n",
    "print(model4_parameters)\n",
    "\n",
    "plt.figure()\n",
    "plt.scatter(X_test[:,2], X_test[:,3], c=predictions4['classification'], cmap='plasma', s=0.5, alpha=0.5)\n",
    "cbar = plt.colorbar(ticks=np.unique(predictions4['classification']))\n",
    "cbar.ax.set_yticklabels([f\"C_{val}\" for val in np.unique(predictions4['classification'])])\n",
    "plt.title('Model3 Test Set')\n",
    "#```"
   ]
  },
  {
   "cell_type": "markdown",
   "metadata": {},
   "source": [
    "### KFold Cross-Validation with GMM"
   ]
  },
  {
   "cell_type": "markdown",
   "metadata": {},
   "source": [
    "#### G=3  -  $\\forall\\bar{\\omega}\\in\\mathcal{R}^+$ "
   ]
  },
  {
   "cell_type": "code",
   "execution_count": null,
   "metadata": {},
   "outputs": [],
   "source": [
    "nfolds = 20\n",
    "kfm_3pos = grasp.stats.kfold_gmm_estimator(\n",
    "    data=pdata,\n",
    "    folds=nfolds,\n",
    "    G=3,\n",
    "    modelNames=np.array(['VII', 'VVI']),\n",
    "    verbose=False\n",
    ")"
   ]
  },
  {
   "cell_type": "code",
   "execution_count": null,
   "metadata": {},
   "outputs": [],
   "source": [
    "plt.plot(np.arange(1,nfolds+1), kfm_3pos.bics, '-o', label='Models BIC')\n",
    "plt.plot([1,nfolds+1], [kfm_3pos.mean_bic,kfm_3pos.mean_bic], '--', label='Mean BIC')\n",
    "plt.xticks(ticks=np.arange(1, nfolds + 2, 1))\n",
    "plt.grid(True)\n",
    "plt.title('BIC vs Number of folds')\n",
    "plt.xlabel('Fold number')\n",
    "plt.ylabel('BIC')\n",
    "plt.legend(loc='best')\n",
    "\n",
    "print(f\"Model's BIC Variance: {(np.min(kfm_3pos.bics) - np.max(kfm_3pos.bics))/np.max(kfm_3pos.bics) * 100:.3f} %\")"
   ]
  },
  {
   "cell_type": "markdown",
   "metadata": {},
   "source": [
    "#### G=2  -  $\\forall\\bar{\\omega}\\in\\mathcal{R}^+$ "
   ]
  },
  {
   "cell_type": "code",
   "execution_count": null,
   "metadata": {},
   "outputs": [],
   "source": [
    "nfolds = 20\n",
    "kfm_2pos = grasp.stats.kfold_gmm_estimator(\n",
    "    data=pdata,\n",
    "    folds=nfolds,\n",
    "    G=2,\n",
    "    modelNames=np.array(['VII', 'VVI']),\n",
    "    verbose=False\n",
    ")"
   ]
  },
  {
   "cell_type": "code",
   "execution_count": null,
   "metadata": {},
   "outputs": [],
   "source": [
    "plt.plot(np.arange(1,nfolds+1), kfm_2pos.bics, '-o', label='Models BIC')\n",
    "plt.plot([1,nfolds+1], [kfm_2pos.mean_bic,kfm_2pos.mean_bic], '--', label='Mean BIC')\n",
    "plt.xticks(ticks=np.arange(1, nfolds + 2, 1))\n",
    "plt.grid(True)\n",
    "plt.title('BIC vs Number of folds')\n",
    "plt.xlabel('Fold number')\n",
    "plt.ylabel('BIC')\n",
    "plt.legend(loc='best')\n",
    "\n",
    "print(f\"Model's BIC Variance: {(np.min(kfm_2pos.bics) - np.max(kfm_2pos.bics))/np.max(kfm_2pos.bics) * 100:.3f} %\")"
   ]
  },
  {
   "cell_type": "markdown",
   "metadata": {},
   "source": [
    "#### G=3  -  $\\forall\\bar{\\omega}\\in\\mathcal{R}$"
   ]
  },
  {
   "cell_type": "code",
   "execution_count": null,
   "metadata": {},
   "outputs": [],
   "source": [
    "nfolds = 20\n",
    "kfm_3 = grasp.stats.kfold_gmm_estimator(\n",
    "    data=data,\n",
    "    folds=nfolds,\n",
    "    G=3,\n",
    "    modelNames=np.array(['VII', 'VVI']),\n",
    "    verbose=False\n",
    ")"
   ]
  },
  {
   "cell_type": "code",
   "execution_count": null,
   "metadata": {},
   "outputs": [],
   "source": [
    "plt.plot(np.arange(1,nfolds+1), kfm_3.bics, '-o', label='Models BIC')\n",
    "plt.plot([1,nfolds+1], [kfm_3.mean_bic,kfm_3.mean_bic], '--', label='Mean BIC')\n",
    "plt.xticks(ticks=np.arange(1, nfolds + 2, 1))\n",
    "plt.grid(True)\n",
    "plt.title('BIC vs Number of folds')\n",
    "plt.xlabel('Fold number')\n",
    "plt.ylabel('BIC')\n",
    "plt.legend(loc='best')\n",
    "\n",
    "print(f\"Model's BIC Variance: {(np.min(kfm_3.bics) - np.max(kfm_3.bics))/np.max(kfm_3.bics) * 100:.3f} %\")"
   ]
  },
  {
   "cell_type": "markdown",
   "metadata": {},
   "source": [
    "#### G=2  -  $\\forall\\bar{\\omega}\\in\\mathcal{R}$"
   ]
  },
  {
   "cell_type": "code",
   "execution_count": null,
   "metadata": {},
   "outputs": [],
   "source": [
    "nfolds = 20\n",
    "kfm_2 = grasp.stats.kfold_gmm_estimator(\n",
    "    data=data,\n",
    "    folds=nfolds,\n",
    "    G=2,\n",
    "    modelNames=np.array(['VII', 'VVI']),\n",
    "    verbose=False\n",
    ")"
   ]
  },
  {
   "cell_type": "code",
   "execution_count": null,
   "metadata": {},
   "outputs": [],
   "source": [
    "plt.plot(np.arange(1,nfolds+1), kfm_2.bics, '-o', label='Models BIC')\n",
    "plt.plot([1,nfolds+1], [kfm_2.mean_bic,kfm_2.mean_bic], '--', label='Mean BIC')\n",
    "plt.xticks(ticks=np.arange(1, nfolds + 2, 1))\n",
    "plt.grid(True)\n",
    "plt.title('BIC vs Number of folds')\n",
    "plt.xlabel('Fold number')\n",
    "plt.ylabel('BIC')\n",
    "plt.legend(loc='best')\n",
    "\n",
    "print(f\"Model's BIC Variance: {(np.min(kfm_2.bics) - np.max(kfm_2.bics))/np.max(kfm_2.bics) * 100:.3f} %\")"
   ]
  },
  {
   "cell_type": "markdown",
   "metadata": {},
   "source": [
    "#### Best Model Selection"
   ]
  },
  {
   "cell_type": "code",
   "execution_count": null,
   "metadata": {},
   "outputs": [],
   "source": [
    "best_models = {\n",
    "    'G=3 pos': kfm_3pos.best_model(),\n",
    "    'G=2 pos': kfm_2pos.best_model(),\n",
    "    'G=3': kfm_3.best_model(),\n",
    "    'G=2': kfm_2.best_model()\n",
    "}"
   ]
  },
  {
   "cell_type": "code",
   "execution_count": null,
   "metadata": {},
   "outputs": [],
   "source": [
    "print(f\"Best G=3 w>0 Model:\\n {pd.DataFrame(best_models['G=3 pos'].coeffs, columns=['ra','dec','pmra','pmdec','parallax'])}\\n\")\n",
    "print(f\"Best G=2 w>0 Model:\\n{pd.DataFrame(best_models['G=2 pos'].coeffs, columns=['ra','dec','pmra','pmdec','parallax'])}\\n\")\n",
    "print(f\"Best G=3 Model:\\n{pd.DataFrame(best_models['G=3'].coeffs, columns=['ra','dec','pmra','pmdec','parallax'])}\\n\")\n",
    "print(f\"Best G=2 Model:\\n{pd.DataFrame(best_models['G=2'].coeffs, columns=['ra','dec','pmra','pmdec','parallax'])}\")"
   ]
  },
  {
   "cell_type": "code",
   "execution_count": null,
   "metadata": {},
   "outputs": [],
   "source": [
    "for key,value in best_models.items():\n",
    "    best_models[key].save_model(grasp.gpaths.CLUSTER_DATA_FOLDER(gc.id)+f'/{key}')\n",
    "    print(f\"{key} model saved\\n\")"
   ]
  },
  {
   "cell_type": "markdown",
   "metadata": {},
   "source": [
    "### Try the predict on the Golden Sample"
   ]
  },
  {
   "cell_type": "code",
   "execution_count": null,
   "metadata": {},
   "outputs": [],
   "source": [
    "aps.drop_columns(\n",
    "    [\n",
    "        \"radial_velocity\",\n",
    "        \"radial_velocity_error\",\n",
    "        \"bp_rp\",\n",
    "        \"phot_g_mean_mag\",\n",
    "        \"teff_gspphot\",\n",
    "        \"phot_bp_mean_mag\",\n",
    "        \"phot_rp_mean_mag\",\n",
    "        \"phot_bp_rp_excess_factor\"\n",
    "    ]\n",
    ")\n",
    "aps.info()"
   ]
  },
  {
   "cell_type": "code",
   "execution_count": null,
   "metadata": {},
   "outputs": [],
   "source": [
    "gs_data = aps.to_numpy(columns=['ra','dec','pmra','pmdec', 'parallax'])\n",
    "text = []\n",
    "for name, model in best_models.items():\n",
    "    _ = best_models[name].predict(gs_data)\n",
    "    print(f\"Predicting with {name} model...\\n\")"
   ]
  },
  {
   "cell_type": "code",
   "execution_count": null,
   "metadata": {},
   "outputs": [],
   "source": [
    "headers = ['G_KDE', 'XDGMM', 'GMM (G=3 w>0)', 'GMM (G=2 w>0)', 'GMM (G=3)', 'GMM (G=2)']\n",
    "showindex = ['pmra', 'pmdec', 'parallax']\n",
    "\n",
    "pmras = [pmra_mean, xdgmm_pmra_mean, best_models['G=3 pos'].coeffs[2,2], best_models['G=2 pos'].coeffs[1,2], best_models['G=3'].coeffs[2,2], best_models['G=2'].coeffs[0,2]]\n",
    "pmdecs = [pmdec_mean, xdgmm_pmdec_mean, best_models['G=3 pos'].coeffs[2,3], best_models['G=2 pos'].coeffs[1,3], best_models['G=3'].coeffs[2,3], best_models['G=2'].coeffs[0,3]]\n",
    "parallaxes = [best_models['G=3 pos'].coeffs[2,4], best_models['G=2 pos'].coeffs[1,4], best_models['G=3'].coeffs[2,4], best_models['G=2'].coeffs[0,4]]\n",
    "\n",
    "print(tabulate.tabulate([pmras, pmdecs, parallaxes], headers=headers, showindex=showindex, tablefmt='latex_raw'))\n",
    "\n",
    "print(\"Proper Motions RA\")\n",
    "print(f\"{'kde':<10} {'xdgmm':<10} {'G=3 w>0':<10} {'G=2 w>0':<10} {'G=3':<10} {'G=2':<10}\")\n",
    "print(f\"{pmra_mean:<10.3f} {xdgmm_pmra_mean:<10.3f} {best_models['G=3 pos'].coeffs[2,2]:<10.3f} {best_models['G=2 pos'].coeffs[1,2]:<10.3f} {best_models['G=3'].coeffs[2,2]:<10.3f} {best_models['G=2'].coeffs[0,2]:<10.3f}\\n\")\n",
    "\n",
    "print(\"Proper Motions DEC\")\n",
    "print(f\"{'kde':<10} {'xdgmm':<10} {'G=3 w>0':<10} {'G=2 w>0':<10} {'G=3':<10} {'G=2':<10}\")\n",
    "print(f\"{pmdec_mean:<10.3f} {xdgmm_pmdec_mean:<10.3f} {best_models['G=3 pos'].coeffs[2,3]:<10.3f} {best_models['G=2 pos'].coeffs[1,3]:<10.3f} {best_models['G=3'].coeffs[2,3]:<10.3f} {best_models['G=2'].coeffs[0,3]:<10.3f}\\n\")\n",
    "\n",
    "print(\"Parallax\")\n",
    "print(f\"{'G=3 w>0':<10} {'G=2 w>0':<10} {'G=3':<10} {'G=2':<10}\")\n",
    "print(f\"{best_models['G=3 pos'].coeffs[2,4]:<10.3f} {best_models['G=2 pos'].coeffs[1,4]:<10.3f} {best_models['G=3'].coeffs[2,4]:<10.3f} {best_models['G=2'].coeffs[0,4]:<10.3f}\\n\")"
   ]
  },
  {
   "cell_type": "code",
   "execution_count": null,
   "metadata": {},
   "outputs": [],
   "source": [
    "pmraaa = grasp.stats.bootstrap_statistic(pmras, np.mean, 4)\n",
    "pmdeec = grasp.stats.bootstrap_statistic(pmdecs, np.mean, 4)\n",
    "parallaxaa = grasp.stats.bootstrap_statistic(parallaxes, np.mean, 4)"
   ]
  },
  {
   "cell_type": "code",
   "execution_count": null,
   "metadata": {},
   "outputs": [],
   "source": [
    "pmra     = -12.518 $\\pm$ 0.004\n",
    "pmdec    = -19.018 $\\pm$ 0.003\n",
    "parallax = 0.539 $\\pm$ 0.005"
   ]
  },
  {
   "cell_type": "code",
   "execution_count": null,
   "metadata": {},
   "outputs": [],
   "source": [
    "print(f\"{'pmra':<8} = {pmraaa[0]:.3f} $\\\\pm$ {pmraaa[1]:.3f}\")\n",
    "print(f\"{'pmdec':<8} = {pmdeec[0]:.3f} $\\\\pm$ {pmdeec[1]:.3f}\")\n",
    "print(f\"{'parallax':<8} = {parallaxaa[0]:.3f} $\\\\pm$ {parallaxaa[1]:.3f}\")"
   ]
  },
  {
   "cell_type": "markdown",
   "metadata": {},
   "source": [
    "# Effective Potential Computation"
   ]
  },
  {
   "cell_type": "markdown",
   "metadata": {},
   "source": [
    "### Loading the model and computing all the quantities"
   ]
  },
  {
   "cell_type": "code",
   "execution_count": null,
   "metadata": {},
   "outputs": [],
   "source": [
    "names = ['G=3 pos','G=2 pos','G=3','G=2']\n",
    "best_models = {}\n",
    "for n in names:\n",
    "   best_models[n] =  grasp.GaussianMixtureModel.load_model(\n",
    "    grasp.gpaths.CLUSTER_DATA_FOLDER(gc.id)+f'/{n}'\n",
    ")"
   ]
  },
  {
   "cell_type": "markdown",
   "metadata": {},
   "source": [
    "Utilizzando quaattro metodi diversi, si è calcolato il valore medio dei parametri per il cluster:\n",
    "\n",
    "La media è stata calcolata con la formula classica, mentre l'uncertainty è stata stimata come $\\epsilon = \\dfrac{\\sigma}{\\sqrt{N}}$\n",
    "\n",
    "$$ \\langle\\bar{\\omega}\\rangle = 0.550 \\pm 0.002 \\, \\mathrm{mas} \\rightarrow \\sim 1.81 \\,\\mathrm{kpc}$$ \n",
    "\n",
    "$$ \\langle\\mu_\\alpha\\rangle = -12.528 \\pm 0.003 \\, \\mathrm{mas\\cdot yr}^{-1}$$\n",
    "\n",
    "$$ \\langle\\mu_{\\delta^*}\\rangle = -19.022 \\pm 0.005 \\, \\mathrm{mas\\cdot yr}^{-1}$$\n"
   ]
  },
  {
   "cell_type": "markdown",
   "metadata": {},
   "source": [
    "## Model with G=3 $\\forall \\bar{\\omega}\\in\\mathcal{R}$"
   ]
  },
  {
   "cell_type": "markdown",
   "metadata": {},
   "source": [
    "### Data Computation"
   ]
  },
  {
   "cell_type": "code",
   "execution_count": null,
   "metadata": {},
   "outputs": [],
   "source": [
    "best_model = best_models['G=3']\n",
    "print(pd.DataFrame(best_model.train_classification['classification']).value_counts())\n",
    "print(best_model.coeffs)"
   ]
  },
  {
   "cell_type": "code",
   "execution_count": null,
   "metadata": {},
   "outputs": [],
   "source": [
    "model_data = best_model.data\n",
    "gs_data = aps.to_numpy(columns=['ra','dec','pmra','pmdec', 'parallax'])\n",
    "_ = best_model.predict(gs_data)\n",
    "\n",
    "gc.ra, gc.dec = (best_model.coeffs[2,0], best_model.coeffs[2,1])\n",
    "print(gc.ra, gc.dec)"
   ]
  },
  {
   "cell_type": "code",
   "execution_count": null,
   "metadata": {},
   "outputs": [],
   "source": [
    "# mu_ra = np.array([np.mean(pmrameans), np.std(pmrameans)/np.sqrt(len(pmrameans))])\n",
    "# mu_dec = np.array([np.mean(pmdecmeans), np.std(pmdecmeans)/np.sqrt(len(pmdecmeans))])\n",
    "# px = np.array([np.mean(parallaxmeans), np.std(parallaxmeans)/np.sqrt(len(parallaxmeans))])\n",
    "\n",
    "# Se si riparte direttamente da qui...\n",
    "mu_ra = (-12.528 ,0.003)\n",
    "mu_dec = (-19.022 ,0.005)\n",
    "px = (0.550 ,0.002)\n",
    "\n",
    "gc.px = (px[0] * u.mas, px[1] * u.mas)\n",
    "gc.pmra = (mu_ra[0] * u.mas / u.yr, mu_ra[1] * u.mas / u.yr)\n",
    "gc.pmdec = (mu_dec[0] * u.mas / u.yr, mu_dec[1] * u.mas / u.yr)\n",
    "\n",
    "gc_data = model_data[np.array(best_model.train_classification['classification']) == 3.]\n",
    "gc2_data = gs_data[np.array(best_model.classification['classification']) == 3.]\n",
    "print(f\"{gc_data.shape = } {gc2_data.shape = }\")\n",
    "\n",
    "predicted_sample = np.vstack((gc_data, gc2_data))\n",
    "\n",
    "assert len(predicted_sample) == len(gc_data) + len(gc2_data), f\"Predicted sample length {len(predicted_sample)} is not equal to the sum of gc_data {len(gc_data)} and gs_data {len(gc2_data)}\"\n",
    "\n",
    "print(f\"\\n{predicted_sample.shape = }\")"
   ]
  },
  {
   "cell_type": "code",
   "execution_count": null,
   "metadata": {},
   "outputs": [],
   "source": [
    "gc_data = pd.DataFrame(data=predicted_sample, columns=['ra','dec','pmra','pmdec', 'parallax'])\n",
    "gc_sample = grasp.Sample(gc_data, gc)\n",
    "gc_sample.update_gc_params(ra=gc_sample.ra.mean(), dec=gc_sample.dec.mean())"
   ]
  },
  {
   "cell_type": "code",
   "execution_count": null,
   "metadata": {},
   "outputs": [],
   "source": [
    "grasp.plots.seaborn(which='heatmap', data=gc_sample.to_pandas().corr(), annot=True, cmap='coolwarm', cbar=True)"
   ]
  },
  {
   "cell_type": "code",
   "execution_count": null,
   "metadata": {},
   "outputs": [],
   "source": [
    "ff = grasp.load_base_formulary()\n",
    "ff.substitute(\n",
    "    \"Angular separation\",\n",
    "    {\"alpha_{0}\": (gc_sample.gc.ra*u.deg).to(u.rad).value, \"delta_{0}\": (gc_sample.gc.dec*u.deg).to(u.rad).value}\n",
    ")\n",
    "ff.angular_separation"
   ]
  },
  {
   "cell_type": "code",
   "execution_count": null,
   "metadata": {},
   "outputs": [],
   "source": [
    "gc_sample.apply_conditions('parallax>0.05', inplace=True)\n",
    "N=len(gc_sample)"
   ]
  },
  {
   "cell_type": "markdown",
   "metadata": {},
   "source": [
    "### Calcolo delle distance: $r_{2D}$ and  $R_{3D}$"
   ]
  },
  {
   "cell_type": "code",
   "execution_count": null,
   "metadata": {},
   "outputs": [],
   "source": [
    "gc_sample['ang_sep']        = (ff.compute(\"Angular Separation\", data={\"alpha_{1}\": (gc_sample.ra*u.deg).to(u.rad).value, \"delta_{1}\": (gc_sample.dec*u.deg).to(u.rad).value}, asarray=True)) * u.deg\n",
    "gc_sample['los_distance']   = (ff.compute('los_distance', data={'omega': gc_sample.parallax.value}, asarray=True)) * u.kpc\n",
    "gc_sample['d_BV']           = (ff.compute('gc_z_coordinate', data={r'r_{c}': [gc_sample.gc.dist.value/1000]*N, r'r_{x}': gc_sample.los_distance.value}, asarray=True))  * u.kpc \n",
    "gc_sample['d']              = (ff.compute('gc_z_coordinate', data={r'r_{c}': [1/gc_sample.gc.px[0].value]*N, r'r_{x}': gc_sample.los_distance.value}, asarray=True)) * u.kpc\n",
    "gc_sample['r2d_BV']         = (ff.compute('radial_distance_2d', data={r'r_{c}': [gc_sample.gc.dist.value/1000]*N, 'theta': gc_sample.ang_sep.to(u.rad).value}, asarray=True)) * u.kpc\n",
    "gc_sample['r2d']            = (ff.compute('radial_distance_2d', data={r'r_{c}': [1/gc_sample.gc.px[0].value]*N, 'theta': gc_sample.ang_sep.to(u.rad).value}, asarray=True)) * u.kpc\n",
    "gc_sample['r3d_BV']         = (ff.compute('radial_distance_3d', data={'d': gc_sample.d_BV.to(u.pc).value, 'r_{2}': gc_sample.r2d_BV.to(u.pc).value}, asarray=True)) * u.pc\n",
    "gc_sample['r3d']            = (ff.compute('radial_distance_3d', data={'d': gc_sample.d.to(u.pc).value, 'r_{2}': gc_sample.r2d.to(u.pc).value}, asarray=True)) * u.pc"
   ]
  },
  {
   "cell_type": "code",
   "execution_count": null,
   "metadata": {},
   "outputs": [],
   "source": [
    "gc_sample['ra'] = gc_sample.ra * (u.deg)\n",
    "gc_sample['dec'] = gc_sample.dec * (u.deg)\n",
    "gc_sample['pmra'] = gc_sample.pmra * (u.mas / u.yr)\n",
    "gc_sample['pmdec'] = gc_sample.pmdec * (u.mas / u.yr)\n",
    "gc_sample['parallax'] = gc_sample.parallax * (u.mas)"
   ]
  },
  {
   "cell_type": "code",
   "execution_count": null,
   "metadata": {},
   "outputs": [],
   "source": [
    "gc_sample['los_distance'] = gc_sample.r2d_BV.to(u.pc)\n",
    "gc_sample['d_BV'] = gc_sample.r2d.to(u.pc)\n",
    "gc_sample['d'] = gc_sample.r2d.to(u.pc)\n",
    "gc_sample['r2d_BV'] = gc_sample.r2d_BV.to(u.pc)\n",
    "gc_sample['r2d'] = gc_sample.r2d.to(u.pc)"
   ]
  },
  {
   "cell_type": "code",
   "execution_count": null,
   "metadata": {},
   "outputs": [],
   "source": [
    "gc_sample.apply_conditions('r3d<4000', inplace=True)\n",
    "grasp.plots.histogram(gc_sample.r3d.value, xlabel=r\"$R_{3D}$\")"
   ]
  },
  {
   "cell_type": "markdown",
   "metadata": {},
   "source": [
    "### Density (WOW, bad!)"
   ]
  },
  {
   "cell_type": "code",
   "execution_count": null,
   "metadata": {},
   "outputs": [],
   "source": [
    "r3dh = grasp.plots.histogram(gc_sample.r3d.value, dont_show=True)\n",
    "\n",
    "n_bin = len(r3dh['h']['bins'])\n",
    "\n",
    "V = np.zeros(n_bin)\n",
    "rr1 = np.zeros(n_bin+1)\n",
    "rr2 = np.zeros(n_bin+1)\n",
    "\n",
    "bw = (gc_sample.r3d.value).max()/n_bin\n",
    "\n",
    "rr1[0] = 0.\n",
    "rr2[0] = bw\n",
    "\n",
    "for x in range (0, n_bin):\n",
    "  V[x] = (4/3)*np.pi*(rr2[x]**3 - rr1[x]**3)\n",
    "  rr1[x+1] = rr1[x] + bw\n",
    "  rr2[x+1] = rr2[x] + bw\n",
    "\n",
    "rho3D = r3dh['h']['counts']/(V*u.pc**3)  "
   ]
  },
  {
   "cell_type": "code",
   "execution_count": null,
   "metadata": {},
   "outputs": [],
   "source": [
    "r_c = (1/gc_sample.gc.px[0].value*1000) * np.tan(gc_sample.gc.rc.to(u.rad).value)"
   ]
  },
  {
   "cell_type": "code",
   "execution_count": null,
   "metadata": {},
   "outputs": [],
   "source": [
    "plt.plot(gc_sample.gc.model['xi'], gc_sample.gc.model['rho'], '--', c='red', label='SM King Model')\n",
    "plt.plot(((rr1[0:n_bin]+rr2[0:n_bin])/2)/r_c, rho3D.value, '-o', markersize=2, c='blue', label='Observed Density')\n",
    "plt.xscale('log')\n",
    "plt.yscale('log')"
   ]
  },
  {
   "cell_type": "markdown",
   "metadata": {},
   "source": [
    "### Setting up the velocities"
   ]
  },
  {
   "cell_type": "code",
   "execution_count": null,
   "metadata": {},
   "outputs": [],
   "source": [
    "gc_sample['pmra'].unit"
   ]
  },
  {
   "cell_type": "code",
   "execution_count": null,
   "metadata": {},
   "outputs": [],
   "source": [
    "grasp.plots.histogram(gc_sample.pmra.value)"
   ]
  },
  {
   "cell_type": "code",
   "execution_count": null,
   "metadata": {},
   "outputs": [],
   "source": [
    "gc_sample['v_x'] = ((gc_sample.pmra  - gc_sample.gc.pmra[0] ).to(u.rad/u.s) * (1/gc_sample.gc.px[0] * (u.kpc*u.mas)).to(u.km)) / u.rad \n",
    "gc_sample['v_y'] = ((gc_sample.pmdec - gc_sample.gc.pmdec[0]).to(u.rad/u.s) * (1/gc_sample.gc.px[0] * (u.kpc*u.mas)).to(u.km)) / u.rad"
   ]
  },
  {
   "cell_type": "code",
   "execution_count": null,
   "metadata": {},
   "outputs": [],
   "source": [
    "vx_med, vx_med_err = grasp.stats.bootstrap_statistic(gc_sample.v_x.value**2, np.median, n_bootstrap=5000, show_progress=True)\n",
    "vy_med, vy_med_err = grasp.stats.bootstrap_statistic(gc_sample.v_y.value**2, np.median, n_bootstrap=5000, show_progress=True)\n",
    "\n",
    "vxm, vxm_err = grasp.stats.bootstrap_statistic(gc_sample.v_x.value**2, np.average, n_bootstrap=5000, show_progress=True)\n",
    "vym, vym_err = grasp.stats.bootstrap_statistic(gc_sample.v_y.value**2, np.average, n_bootstrap=5000, show_progress=True)\n"
   ]
  },
  {
   "cell_type": "code",
   "execution_count": null,
   "metadata": {},
   "outputs": [],
   "source": [
    "grasp.plots.doubleHistScatter(gc_sample['v_x'].value, gc_sample['v_y'].value, xlabel=r\"$v_x$ [km/s]\", ylabel=r'$v_y$ [km/s]',size=0.05, alpha=0.85)"
   ]
  },
  {
   "cell_type": "code",
   "execution_count": null,
   "metadata": {},
   "outputs": [],
   "source": [
    "grasp.plots.histogram(\n",
    "    gc_sample['v_y'].value**2, \n",
    "    xlabel=r'$v_y^2 \\, [km^2\\,s^{-2}]$', title=r'$<v_y^2> = ${:.2f} $\\pm$ {:.2f}    Median($v_y^2$)={:.2f} $\\pm$ {:.2F}'.format(\n",
    "        vxm, vym_err,\n",
    "        vy_med, vy_med_err\n",
    "        )\n",
    "    )"
   ]
  },
  {
   "cell_type": "code",
   "execution_count": null,
   "metadata": {},
   "outputs": [],
   "source": [
    "grasp.plots.histogram(\n",
    "    gc_sample['v_x'].value**2, \n",
    "    xlabel=r\"$v_x^2 \\, [km^2\\,s^{-2}]$\", title=r'$<v_x^2> = ${:.2f} $\\pm$ {:.2f}    Median($v_x^2$)={:.2f} $\\pm$ {:.2f}'.format(\n",
    "        vxm, vxm_err,\n",
    "        vx_med, vx_med_err\n",
    "        )\n",
    "    )"
   ]
  },
  {
   "cell_type": "markdown",
   "metadata": {},
   "source": [
    "On Isotropy assumption, compute the total (squared) velocity as:\n",
    "\n",
    "$$ V^2 = \\frac{3}{2}(v_x^2 + v_y^2)^2"
   ]
  },
  {
   "cell_type": "code",
   "execution_count": null,
   "metadata": {},
   "outputs": [],
   "source": [
    "gc_sample['v2'] = 1.5*(gc_sample['v_x']**2 + gc_sample['v_y']**2) \n",
    "v2m, v2m_err = grasp.stats.bootstrap_statistic(gc_sample.v2.value, np.average, n_bootstrap=5000, show_progress=True)\n",
    "v2_med, v2_med_err = grasp.stats.bootstrap_statistic(gc_sample.v2.value, np.median, n_bootstrap=5000, show_progress=True)\n",
    "v2h = grasp.plots.histogram(\n",
    "    gc_sample['v2'].value, \n",
    "    xlabel=r\"$v^2 \\, [km^2\\,s^{-2}]$\", title=r'$<v^2> = ${:.2f} $\\pm$ {:.2f}    Median($v^2$)={:.2f} $\\pm$ {:.2f}'.format(\n",
    "        v2m, v2m_err,\n",
    "        v2_med, v2_med_err\n",
    "        ),\n",
    "    out=True\n",
    "    )"
   ]
  },
  {
   "cell_type": "markdown",
   "metadata": {},
   "source": [
    "### Shell Partition"
   ]
  },
  {
   "cell_type": "code",
   "execution_count": null,
   "metadata": {},
   "outputs": [],
   "source": [
    "# Desired number of instances per subsample\n",
    "n_per_shell = 250  # for example\n",
    "\n",
    "# Sort by r3d\n",
    "sorted_sample = gc_sample.to_pandas().sort_values('r3d')\n",
    "\n",
    "# Split into equal-length subsamples\n",
    "shell_samples = [\n",
    "    sorted_sample.iloc[i:i + n_per_shell]\n",
    "    for i in range(0, len(sorted_sample), n_per_shell)\n",
    "]\n",
    "\n",
    "# Optionally, filter out the last shell if it's too small\n",
    "shell_samples = [s for s in shell_samples if len(s) == n_per_shell]\n",
    "\n",
    "print(f\"Number of shells: {len(shell_samples)}\")"
   ]
  },
  {
   "cell_type": "code",
   "execution_count": null,
   "metadata": {},
   "outputs": [],
   "source": [
    "v2 = grasp.types.QTable()\n",
    "R  = grasp.types.QTable()\n",
    "\n",
    "for i,shell in enumerate(shell_samples):\n",
    "    \n",
    "    R[f\"s{i}\"] = shell['r3d']\n",
    "    v2[f\"s{i}\"] = shell['v2']\n",
    "\n",
    "v2 = grasp.Sample(v2, gc)\n",
    "R = grasp.Sample(R, gc)"
   ]
  },
  {
   "cell_type": "code",
   "execution_count": null,
   "metadata": {},
   "outputs": [],
   "source": [
    "v2h = []\n",
    "for i in range(len(shell_samples)):\n",
    "    v2h.append(grasp.plots.histogram(v2[f's{i}'], xlabel='$v^2$', title=f'Shell {i} - R_max={R[f\"s{i}\"].max():.3f} - R_width = {R[f\"s{i}\"].max() - R[f\"s{i}\"].min():.3f}', dont_show=True))"
   ]
  },
  {
   "cell_type": "markdown",
   "metadata": {},
   "source": [
    "### $B = 16 A \\sqrt{2} \\pi^2 \\beta^2 r_{s}^2 \\alpha m^3 \\sigma^3 dr dx$"
   ]
  },
  {
   "cell_type": "markdown",
   "metadata": {},
   "source": [
    "#### Constants:\n",
    "\n",
    "> Normalization constant: $A = 1$\n",
    "\n",
    "> Single star Mass: $m = 1$\n",
    "\n",
    "> Incompleteness parameter: $\\alpha = 10^{-3}$\n"
   ]
  },
  {
   "cell_type": "code",
   "execution_count": null,
   "metadata": {},
   "outputs": [],
   "source": [
    "A = 1.\n",
    "alpha = .001\n",
    "m = 1.\n",
    "\n",
    "ff.substitute('B constant', \n",
    "              {\n",
    "                  'A': A,\n",
    "                  'alpha': alpha,\n",
    "                  'm': m\n",
    "              }\n",
    ")"
   ]
  },
  {
   "cell_type": "code",
   "execution_count": null,
   "metadata": {},
   "outputs": [],
   "source": [
    "ff.b_constant"
   ]
  },
  {
   "cell_type": "markdown",
   "metadata": {},
   "source": [
    "#### $\\sigma^2$ : critical velocity \n",
    "\n",
    "It is taken to be the maximum quadratic velocity of the shell $v^2\\{shell\\}^{max}$. <br>\n",
    "It's the memory of the Maxwellian velocity distribution of the system."
   ]
  },
  {
   "cell_type": "code",
   "execution_count": null,
   "metadata": {},
   "outputs": [],
   "source": [
    "sigmas = []\n",
    "for i,s in enumerate(shell_samples):\n",
    "    sigmas.append(np.sqrt(s.v2.max()))\n",
    "\n",
    "sigmas = np.array(sigmas)"
   ]
  },
  {
   "cell_type": "code",
   "execution_count": null,
   "metadata": {},
   "outputs": [],
   "source": [
    "plt.plot(sigmas, '--o', markersize=3, c='blue')"
   ]
  },
  {
   "cell_type": "markdown",
   "metadata": {},
   "source": [
    "#### $\\beta$ & $r_s$\n",
    " $\\beta$ : Estimation from bootstrap statistics on shell<br>\n",
    "Its the uncertainty parameter on the distance of the shell from the centre of the GC. <br>\n",
    "This parameter could be estimated by computing the uncertainty of the median <br>\n",
    "(not the mean, as outliers could heavily affect the result) of the $R_{3D}$ distances of <br>\n",
    "the stars of the shell from the centre\n",
    "\n",
    "$r_s$ : Median distance from the centre"
   ]
  },
  {
   "cell_type": "markdown",
   "metadata": {},
   "source": []
  },
  {
   "cell_type": "code",
   "execution_count": null,
   "metadata": {},
   "outputs": [],
   "source": [
    "betas = []\n",
    "rss = []\n",
    "\n",
    "for i, s in enumerate(shell_samples):\n",
    "    r, b = grasp.stats.bootstrap_statistic(\n",
    "        s['r3d'],\n",
    "        np.median,\n",
    "        n_bootstrap=100,\n",
    "        show_progress=False\n",
    "    )\n",
    "    betas.append(b)\n",
    "    rss.append(r)\n",
    "\n",
    "    \n",
    "betas = np.array(betas)\n",
    "rss = np.array(rss)"
   ]
  },
  {
   "cell_type": "code",
   "execution_count": null,
   "metadata": {},
   "outputs": [],
   "source": [
    "plt.plot(rss, betas, '--o', markersize=3, c='blue')"
   ]
  },
  {
   "cell_type": "markdown",
   "metadata": {},
   "source": [
    "#### $N$ , $x$"
   ]
  },
  {
   "cell_type": "code",
   "execution_count": null,
   "metadata": {},
   "outputs": [],
   "source": [
    "Ns = []\n",
    "x = []\n",
    "\n",
    "for i, v in enumerate(v2h):\n",
    "    Ns.append(v['h']['counts'])\n",
    "    x.append(v['h']['bins']/(2*sigmas[i]**2))\n"
   ]
  },
  {
   "cell_type": "markdown",
   "metadata": {},
   "source": [
    "#### $dx$ and $dr$"
   ]
  },
  {
   "cell_type": "code",
   "execution_count": null,
   "metadata": {},
   "outputs": [],
   "source": [
    "dr = []\n",
    "dx = []\n",
    "\n",
    "for i, s in enumerate(shell_samples):\n",
    "    dr.append(s.r3d.max() - s.r3d.min())\n",
    "    dx.append(v2h[i]['h']['bins'][1] - v2h[i]['h']['bins'][0])"
   ]
  },
  {
   "cell_type": "markdown",
   "metadata": {},
   "source": [
    "### $\\Sigma = \\ln{B} - x - \\ln{\\frac{\\Delta_N}{\\sqrt{x}}}$"
   ]
  },
  {
   "cell_type": "code",
   "execution_count": null,
   "metadata": {},
   "outputs": [],
   "source": [
    "def Sigma(\n",
    "    B: float,\n",
    "    n: int = None,\n",
    "    fit: grasp.types.Optional[grasp.types.RegressionModels] = None\n",
    ") -> tuple[grasp.types.ArrayLike, grasp.types.ArrayLike]:\n",
    "    \"\"\"Computes analythical sigma\"\"\"\n",
    "    xi = np.linspace(0, 0.5, 1000)\n",
    "    if fit:\n",
    "        #xi = np.linspace(0, 0.5, len(fit.x))\n",
    "        A, l = fit.coeffs\n",
    "        n = A* np.exp(l * xi)\n",
    "    elif n is None:\n",
    "        raise ValueError(\"Either n or alpha must be provided.\")\n",
    "    return (xi, np.log(B) - np.log(n / xi**0.5) - xi)"
   ]
  },
  {
   "cell_type": "code",
   "execution_count": null,
   "metadata": {},
   "outputs": [],
   "source": [
    "import grasp.analyzers\n",
    "import grasp.analyzers.calculus\n",
    "\n",
    "poteffs = []\n",
    "Bs = []\n",
    "\n",
    "for i in range(len(shell_samples)):\n",
    "    B = float(grasp.analyzers.calculus._sp.N(ff.b_constant.rhs.subs(\n",
    "        {\n",
    "            'r_{s}': rss[i],\n",
    "            'sigma': sigmas[i],\n",
    "            'dr': dr[i],\n",
    "            'dx': dx[i],\n",
    "            'beta' : betas[i],\n",
    "            'pi': np.pi\n",
    "        }\n",
    "    )))\n",
    "    Bs.append(B)\n",
    "    poteffs.append(\n",
    "        np.log(B) - x[i] - np.log(Ns[i] / x[i]**0.5)\n",
    "    )\n"
   ]
  },
  {
   "cell_type": "code",
   "execution_count": null,
   "metadata": {},
   "outputs": [],
   "source": [
    "def plot_poteff(n_shell: int):\n",
    "    \"\"\"Plot the effective potential for a given shell or list of shells.\"\"\"\n",
    "    fit = grasp.stats.fit_data_points(Ns[n_shell], x_data=x[n_shell], method='exponential')\n",
    "\n",
    "    fig, ax = plt.subplots(figsize=(8,6.5))\n",
    "    ax.plot(x[n_shell], poteffs[n_shell], 'o', markersize=4, c='black')\n",
    "    xi, S = Sigma(Bs[n_shell], fit=fit)\n",
    "    ax.plot(xi, S, '-', markersize=3, c='red')\n",
    "    ax.set_ylabel(r'$\\Phi_{eff}$', fontdict=grasp.plots.label_font)\n",
    "    ax.set_xlabel(r'$x$', fontdict=grasp.plots.label_font)\n",
    "    ax.set_title(f'Shell {n_shell} at ~{rss[n_shell]:.3f} pc', fontdict=grasp.plots.title_font)\n",
    "    ax.set_xlim((-0.01, 0.51))\n",
    "\n",
    "    return fig\n",
    "\n",
    "folder = grasp.gpaths.CLUSTER_DATA_FOLDER(gc_sample.gc.id) + '/poteff_plots/model1'\n",
    "if not os.path.exists(folder):\n",
    "    os.makedirs(folder)\n",
    "for i in range(len(shell_samples)):\n",
    "    fig = plot_poteff(i)\n",
    "    fig.savefig(f'{folder}/poteff_shell_{i}.png', dpi=300, bbox_inches='tight')\n",
    "    plt.close(fig)\n",
    "\n"
   ]
  },
  {
   "cell_type": "code",
   "execution_count": null,
   "metadata": {},
   "outputs": [],
   "source": [
    "scarti_finali = []\n",
    "for i in range(len(poteffs)):\n",
    "    fit = grasp.stats.fit_data_points(Ns[i], x_data=x[i], method='exponential')\n",
    "    xi, S = Sigma(Bs[i], fit=fit)\n",
    "\n",
    "    scarti_finali.append(1-poteffs[i][-1]/S[-1])\n",
    "\n",
    "scarti_finali = np.array(scarti_finali)\n",
    "\n",
    "avg_underestimation = grasp.stats.bootstrap_statistic(scarti_finali, np.mean)\n",
    "fig = plt.figure()\n",
    "plt.plot(scarti_finali, 'o', markersize=3, c='blue')\n",
    "plt.xlabel('Shell number', fontdict=grasp.plots.label_font)\n",
    "plt.title(f\"Average Underestimation = {avg_underestimation[0]*100 :.2f} +- {avg_underestimation[1]*100:.2f} %\")\n",
    "fig.savefig(\n",
    "    grasp.gpaths.CLUSTER_DATA_FOLDER(gc_sample.gc.id) + '/poteff_plots/model3/scarti_finali.png',\n",
    "    dpi=300, bbox_inches='tight'\n",
    ")"
   ]
  },
  {
   "cell_type": "code",
   "execution_count": null,
   "metadata": {},
   "outputs": [],
   "source": [
    "avg_underestimation = grasp.stats.bootstrap_statistic(scarti_finali, np.mean)\n",
    "\n",
    "print(f\"{avg_underestimation[0]*100 :.2f} +- {avg_underestimation[1]*100:.2f} %\")"
   ]
  },
  {
   "cell_type": "markdown",
   "metadata": {},
   "source": [
    "The average underestimation of the critical velocioty $x=0.5 \\rightarrow \\sigma^2 = 2\\cdot v^2_{max}$ \n",
    "is \n",
    "> $15,97 \\pm  1,08$ %"
   ]
  },
  {
   "cell_type": "markdown",
   "metadata": {},
   "source": [
    "### $\\Sigma = -\\ln{1-e^{x-w}}$"
   ]
  },
  {
   "cell_type": "code",
   "execution_count": null,
   "metadata": {},
   "outputs": [],
   "source": [
    "dpoteffs = []\n",
    "Omega = []\n",
    "s = gc_sample.v2.max()\n",
    "\n",
    "\n",
    "for i,p in enumerate(poteffs):\n",
    "    w = np.max(0.5*v2h[i]['h']['bins']/s)\n",
    "    ssigma = -np.log(1 - np.exp(x[i] - 0.5))\n",
    "    omega = ssigma - np.array(x[i])\n",
    "    dpoteffs.append(ssigma)\n",
    "    Omega.append(omega)\n",
    "\n"
   ]
  },
  {
   "cell_type": "code",
   "execution_count": null,
   "metadata": {},
   "outputs": [],
   "source": [
    "for i in range(10):\n",
    "    plt.plot(dpoteffs[i], '-o', markersize=3, label=f'Shell {i}', alpha=0.5)\n",
    "\n",
    "plt.legend(loc='best')"
   ]
  },
  {
   "cell_type": "markdown",
   "metadata": {},
   "source": [
    "## Model with G=2 $\\forall \\bar{\\omega}\\in\\mathcal{R}$"
   ]
  },
  {
   "cell_type": "markdown",
   "metadata": {},
   "source": [
    "### Data Computation"
   ]
  },
  {
   "cell_type": "code",
   "execution_count": null,
   "metadata": {},
   "outputs": [],
   "source": [
    "best_model = best_models['G=2']\n",
    "print(pd.DataFrame(best_model.train_classification['classification']).value_counts())\n",
    "print(best_model.coeffs)"
   ]
  },
  {
   "cell_type": "code",
   "execution_count": null,
   "metadata": {},
   "outputs": [],
   "source": [
    "model_data = best_model.data\n",
    "gs_data = aps.to_numpy(columns=['ra','dec','pmra','pmdec', 'parallax'])\n",
    "_ = best_model.predict(gs_data)\n",
    "\n",
    "gc.ra, gc.dec = (best_model.coeffs[2,0], best_model.coeffs[2,1])\n",
    "print(gc.ra, gc.dec)"
   ]
  },
  {
   "cell_type": "code",
   "execution_count": null,
   "metadata": {},
   "outputs": [],
   "source": [
    "# mu_ra = np.array([np.mean(pmrameans), np.std(pmrameans)/np.sqrt(len(pmrameans))])\n",
    "# mu_dec = np.array([np.mean(pmdecmeans), np.std(pmdecmeans)/np.sqrt(len(pmdecmeans))])\n",
    "# px = np.array([np.mean(parallaxmeans), np.std(parallaxmeans)/np.sqrt(len(parallaxmeans))])\n",
    "\n",
    "# Se si riparte direttamente da qui...\n",
    "mu_ra = (-12.528 ,0.003)\n",
    "mu_dec = (-19.022 ,0.005)\n",
    "px = (0.550 ,0.002)\n",
    "\n",
    "gc.px = (px[0] * u.mas, px[1] * u.mas)\n",
    "gc.pmra = (mu_ra[0] * u.mas / u.yr, mu_ra[1] * u.mas / u.yr)\n",
    "gc.pmdec = (mu_dec[0] * u.mas / u.yr, mu_dec[1] * u.mas / u.yr)\n",
    "\n",
    "gc_data = model_data[np.array(best_model.train_classification['classification']) == 3.]\n",
    "gc2_data = gs_data[np.array(best_model.classification['classification']) == 3.]\n",
    "print(f\"{gc_data.shape = } {gc2_data.shape = }\")\n",
    "\n",
    "predicted_sample = np.vstack((gc_data, gc2_data))\n",
    "\n",
    "assert len(predicted_sample) == len(gc_data) + len(gc2_data), f\"Predicted sample length {len(predicted_sample)} is not equal to the sum of gc_data {len(gc_data)} and gs_data {len(gc2_data)}\"\n",
    "\n",
    "print(f\"\\n{predicted_sample.shape = }\")"
   ]
  },
  {
   "cell_type": "code",
   "execution_count": null,
   "metadata": {},
   "outputs": [],
   "source": [
    "gc_data = pd.DataFrame(data=predicted_sample, columns=['ra','dec','pmra','pmdec', 'parallax'])\n",
    "gc_sample = grasp.Sample(gc_data, gc)\n",
    "gc_sample.update_gc_params(ra=gc_sample.ra.mean(), dec=gc_sample.dec.mean())"
   ]
  },
  {
   "cell_type": "code",
   "execution_count": null,
   "metadata": {},
   "outputs": [],
   "source": [
    "grasp.plots.seaborn(which='heatmap', data=gc_sample.to_pandas().corr(), annot=True, cmap='coolwarm', cbar=True)"
   ]
  },
  {
   "cell_type": "code",
   "execution_count": null,
   "metadata": {},
   "outputs": [],
   "source": [
    "ff = grasp.load_base_formulary()\n",
    "ff.substitute(\n",
    "    \"Angular separation\",\n",
    "    {\"alpha_{0}\": (gc_sample.gc.ra*u.deg).to(u.rad).value, \"delta_{0}\": (gc_sample.gc.dec*u.deg).to(u.rad).value}\n",
    ")\n",
    "ff.angular_separation"
   ]
  },
  {
   "cell_type": "code",
   "execution_count": null,
   "metadata": {},
   "outputs": [],
   "source": [
    "gc_sample.reset_sample()"
   ]
  },
  {
   "cell_type": "code",
   "execution_count": null,
   "metadata": {},
   "outputs": [],
   "source": [
    "gc_sample.apply_conditions('parallax>0.05', inplace=True)\n",
    "N=len(gc_sample)"
   ]
  },
  {
   "cell_type": "markdown",
   "metadata": {},
   "source": [
    "### Calcolo delle distance: $r_{2D}$ and  $R_{3D}$"
   ]
  },
  {
   "cell_type": "code",
   "execution_count": null,
   "metadata": {},
   "outputs": [],
   "source": [
    "gc_sample['ang_sep']        = (ff.compute(\"Angular Separation\", data={\"alpha_{1}\": (gc_sample.ra*u.deg).to(u.rad).value, \"delta_{1}\": (gc_sample.dec*u.deg).to(u.rad).value}, asarray=True)) * u.deg\n",
    "gc_sample['los_distance']   = (ff.compute('los_distance', data={'omega': gc_sample.parallax.value}, asarray=True)) * u.kpc\n",
    "gc_sample['d_BV']           = (ff.compute('gc_z_coordinate', data={r'r_{c}': [gc_sample.gc.dist.value/1000]*N, r'r_{x}': gc_sample.los_distance.value}, asarray=True))  * u.kpc \n",
    "gc_sample['d']              = (ff.compute('gc_z_coordinate', data={r'r_{c}': [1/gc_sample.gc.px[0].value]*N, r'r_{x}': gc_sample.los_distance.value}, asarray=True)) * u.kpc\n",
    "gc_sample['r2d_BV']         = (ff.compute('radial_distance_2d', data={r'r_{c}': [gc_sample.gc.dist.value/1000]*N, 'theta': gc_sample.ang_sep.to(u.rad).value}, asarray=True)) * u.kpc\n",
    "gc_sample['r2d']            = (ff.compute('radial_distance_2d', data={r'r_{c}': [1/gc_sample.gc.px[0].value]*N, 'theta': gc_sample.ang_sep.to(u.rad).value}, asarray=True)) * u.kpc\n",
    "gc_sample['r3d_BV']         = (ff.compute('radial_distance_3d', data={'d': gc_sample.d_BV.to(u.pc).value, 'r_{2}': gc_sample.r2d_BV.to(u.pc).value}, asarray=True)) * u.pc\n",
    "gc_sample['r3d']            = (ff.compute('radial_distance_3d', data={'d': gc_sample.d.to(u.pc).value, 'r_{2}': gc_sample.r2d.to(u.pc).value}, asarray=True)) * u.pc"
   ]
  },
  {
   "cell_type": "code",
   "execution_count": null,
   "metadata": {},
   "outputs": [],
   "source": [
    "gc_sample['ra'] = gc_sample.ra * (u.deg)\n",
    "gc_sample['dec'] = gc_sample.dec * (u.deg)\n",
    "gc_sample['pmra'] = gc_sample.pmra * (u.mas / u.yr)\n",
    "gc_sample['pmdec'] = gc_sample.pmdec * (u.mas / u.yr)\n",
    "gc_sample['parallax'] = gc_sample.parallax * (u.mas)"
   ]
  },
  {
   "cell_type": "code",
   "execution_count": null,
   "metadata": {},
   "outputs": [],
   "source": [
    "gc_sample['los_distance'] = gc_sample.r2d_BV.to(u.pc)\n",
    "gc_sample['d_BV'] = gc_sample.r2d.to(u.pc)\n",
    "gc_sample['d'] = gc_sample.r2d.to(u.pc)\n",
    "gc_sample['r2d_BV'] = gc_sample.r2d_BV.to(u.pc)\n",
    "gc_sample['r2d'] = gc_sample.r2d.to(u.pc)"
   ]
  },
  {
   "cell_type": "code",
   "execution_count": null,
   "metadata": {},
   "outputs": [],
   "source": [
    "gc_sample.apply_conditions('r3d<4000', inplace=True)\n",
    "grasp.plots.histogram(gc_sample.r3d.value)"
   ]
  },
  {
   "cell_type": "markdown",
   "metadata": {},
   "source": [
    "### Density (WOW, bad!)"
   ]
  },
  {
   "cell_type": "code",
   "execution_count": null,
   "metadata": {},
   "outputs": [],
   "source": [
    "r3dh = grasp.plots.histogram(gc_sample.r3d.value, dont_show=True)\n",
    "\n",
    "n_bin = len(r3dh['h']['bins'])\n",
    "\n",
    "V = np.zeros(n_bin)\n",
    "rr1 = np.zeros(n_bin+1)\n",
    "rr2 = np.zeros(n_bin+1)\n",
    "\n",
    "bw = (gc_sample.r3d.value).max()/n_bin\n",
    "\n",
    "rr1[0] = 0.\n",
    "rr2[0] = bw\n",
    "\n",
    "for x in range (0, n_bin):\n",
    "  V[x] = (4/3)*np.pi*(rr2[x]**3 - rr1[x]**3)\n",
    "  rr1[x+1] = rr1[x] + bw\n",
    "  rr2[x+1] = rr2[x] + bw\n",
    "\n",
    "rho3D = r3dh['h']['counts']/(V*u.pc**3)  "
   ]
  },
  {
   "cell_type": "code",
   "execution_count": null,
   "metadata": {},
   "outputs": [],
   "source": [
    "r_c = (1/gc_sample.gc.px[0].value*1000) * np.tan(gc_sample.gc.rc.to(u.rad).value)"
   ]
  },
  {
   "cell_type": "code",
   "execution_count": null,
   "metadata": {},
   "outputs": [],
   "source": [
    "plt.plot(gc_sample.gc.model['xi'], gc_sample.gc.model['rho'], '--', c='red', label='SM King Model')\n",
    "plt.plot(((rr1[0:n_bin]+rr2[0:n_bin])/2)/r_c, rho3D.value, '-o', markersize=2, c='blue', label='Observed Density')\n",
    "plt.xscale('log')\n",
    "plt.yscale('log')"
   ]
  },
  {
   "cell_type": "markdown",
   "metadata": {},
   "source": [
    "### Setting up the velocities"
   ]
  },
  {
   "cell_type": "code",
   "execution_count": null,
   "metadata": {},
   "outputs": [],
   "source": [
    "ff.add_formula('Velocity conversion', r\"Eq(v_i,r_c*tan(theta))\")\n",
    "ff.velocity_conversion"
   ]
  },
  {
   "cell_type": "code",
   "execution_count": null,
   "metadata": {},
   "outputs": [],
   "source": [
    "gc_sample['pmra'].unit"
   ]
  },
  {
   "cell_type": "code",
   "execution_count": null,
   "metadata": {},
   "outputs": [],
   "source": [
    "gc_sample['v_x'] = ((gc_sample.pmra - gc_sample.gc.pmra[0]).to(u.rad/u.s) * ((1/gc_sample.gc.px[0].value)*u.kpc).to(u.km)) / u.rad \n",
    "gc_sample['v_y'] = ((gc_sample.pmdec - gc_sample.gc.pmdec[0]).to(u.rad/u.s) * ((1/gc_sample.gc.px[0].value)*u.kpc).to(u.km)) / u.rad"
   ]
  },
  {
   "cell_type": "code",
   "execution_count": null,
   "metadata": {},
   "outputs": [],
   "source": [
    "vx_med, vx_med_err = grasp.stats.bootstrap_statistic(gc_sample.v_x.value**2, np.median, n_bootstrap=5000, show_progress=True)\n",
    "vy_med, vy_med_err = grasp.stats.bootstrap_statistic(gc_sample.v_y.value**2, np.median, n_bootstrap=5000, show_progress=True)\n",
    "\n",
    "vxm, vxm_err = grasp.stats.bootstrap_statistic(gc_sample.v_x.value**2, np.average, n_bootstrap=5000, show_progress=True)\n",
    "vym, vym_err = grasp.stats.bootstrap_statistic(gc_sample.v_y.value**2, np.average, n_bootstrap=5000, show_progress=True)\n"
   ]
  },
  {
   "cell_type": "code",
   "execution_count": null,
   "metadata": {},
   "outputs": [],
   "source": [
    "grasp.plots.doubleHistScatter(gc_sample['v_x'].value, gc_sample['v_y'].value, xlabel=r\"$v_x$ [km/s]\", ylabel=r'$v_y$ [km/s]',size=0.05, alpha=0.85)"
   ]
  },
  {
   "cell_type": "code",
   "execution_count": null,
   "metadata": {},
   "outputs": [],
   "source": [
    "grasp.plots.histogram(\n",
    "    gc_sample['v_y'].value**2, \n",
    "    xlabel=r'$v_y^2 \\, [km^2\\,s^{-2}]$', title=r'$<v_y^2> = ${:.2f} $\\pm$ {:.2f}    Median($v_y^2$)={:.2f} $\\pm$ {:.2F}'.format(\n",
    "        vxm, vym_err,\n",
    "        vy_med, vy_med_err\n",
    "        )\n",
    "    )"
   ]
  },
  {
   "cell_type": "code",
   "execution_count": null,
   "metadata": {},
   "outputs": [],
   "source": [
    "grasp.plots.histogram(\n",
    "    gc_sample['v_x'].value**2, \n",
    "    xlabel=r\"$v_x^2 \\, [km^2\\,s^{-2}]$\", title=r'$<v_x^2> = ${:.2f} $\\pm$ {:.2f}    Median($v_x^2$)={:.2f} $\\pm$ {:.2f}'.format(\n",
    "        vxm, vxm_err,\n",
    "        vx_med, vx_med_err\n",
    "        )\n",
    "    )"
   ]
  },
  {
   "cell_type": "markdown",
   "metadata": {},
   "source": [
    "On Isotropy assumption, compute the total (squared) velocity as:\n",
    "\n",
    "$$ V^2 = \\frac{3}{2}(v_x^2 + v_y^2)^2"
   ]
  },
  {
   "cell_type": "code",
   "execution_count": null,
   "metadata": {},
   "outputs": [],
   "source": [
    "gc_sample['v2'] = 1.5*(gc_sample['v_x']**2 + gc_sample['v_y']**2) \n",
    "v2m, v2m_err = grasp.stats.bootstrap_statistic(gc_sample.v2.value, np.average, n_bootstrap=5000, show_progress=True)\n",
    "v2_med, v2_med_err = grasp.stats.bootstrap_statistic(gc_sample.v2.value, np.median, n_bootstrap=5000, show_progress=True)\n",
    "v2h = grasp.plots.histogram(\n",
    "    gc_sample['v2'].value, \n",
    "    xlabel=r\"$v^2 \\, [km^2\\,s^{-2}]$\", title=r'$<v^2> = ${:.2f} $\\pm$ {:.2f}    Median($v^2$)={:.2f} $\\pm$ {:.2f}'.format(\n",
    "        v2m, v2m_err,\n",
    "        v2_med, v2_med_err\n",
    "        ),\n",
    "    out=True\n",
    "    )"
   ]
  },
  {
   "cell_type": "markdown",
   "metadata": {},
   "source": [
    "### Shell Partition"
   ]
  },
  {
   "cell_type": "code",
   "execution_count": null,
   "metadata": {},
   "outputs": [],
   "source": [
    "# Desired number of instances per subsample\n",
    "n_per_shell = 250  # for example\n",
    "\n",
    "# Sort by r3d\n",
    "sorted_sample = gc_sample.to_pandas().sort_values('r3d')\n",
    "\n",
    "# Split into equal-length subsamples\n",
    "shell_samples = [\n",
    "    sorted_sample.iloc[i:i + n_per_shell]\n",
    "    for i in range(0, len(sorted_sample), n_per_shell)\n",
    "]\n",
    "\n",
    "# Optionally, filter out the last shell if it's too small\n",
    "shell_samples = [s for s in shell_samples if len(s) == n_per_shell]"
   ]
  },
  {
   "cell_type": "code",
   "execution_count": null,
   "metadata": {},
   "outputs": [],
   "source": [
    "v2 = grasp.types.QTable()\n",
    "R  = grasp.types.QTable()\n",
    "\n",
    "for i,shell in enumerate(shell_samples):\n",
    "    \n",
    "    R[f\"s{i}\"] = shell['r3d']\n",
    "    v2[f\"s{i}\"] = shell['v2']\n",
    "\n",
    "v2 = grasp.Sample(v2, gc)\n",
    "R = grasp.Sample(R, gc)"
   ]
  },
  {
   "cell_type": "code",
   "execution_count": null,
   "metadata": {},
   "outputs": [],
   "source": [
    "v2h = []\n",
    "for i in range(len(shell_samples)):\n",
    "    v2h.append(grasp.plots.histogram(v2[f's{i}'], xlabel='$v^2$', title=f'Shell {i} - R_max={R[f\"s{i}\"].max():.3f} - R_width = {R[f\"s{i}\"].max() - R[f\"s{i}\"].min():.3f}', dont_show=True))"
   ]
  },
  {
   "cell_type": "markdown",
   "metadata": {},
   "source": [
    "### $B = 16 A \\sqrt{2} \\pi^2 \\beta^2 r_{s}^2 \\alpha m^3 \\sigma^3 dr dx$"
   ]
  },
  {
   "cell_type": "markdown",
   "metadata": {},
   "source": [
    "#### Constants:\n",
    "\n",
    "> Normalization constant: $A = 1$\n",
    "\n",
    "> Single star Mass: $m = 1$\n",
    "\n",
    "> Incompleteness parameter: $\\alpha = 10^{-3}$\n"
   ]
  },
  {
   "cell_type": "code",
   "execution_count": null,
   "metadata": {},
   "outputs": [],
   "source": [
    "A = 1.\n",
    "alpha = .001\n",
    "m = 1.\n",
    "\n",
    "ff.substitute('B constant', \n",
    "              {\n",
    "                  'A': A,\n",
    "                  'alpha': alpha,\n",
    "                  'm': m\n",
    "              }\n",
    ")"
   ]
  },
  {
   "cell_type": "code",
   "execution_count": null,
   "metadata": {},
   "outputs": [],
   "source": [
    "ff.b_constant"
   ]
  },
  {
   "cell_type": "markdown",
   "metadata": {},
   "source": [
    "#### $\\sigma^2$ : critical velocity \n",
    "\n",
    "It is taken to be the maximum quadratic velocity of the shell $v^2\\{shell\\}^{max}$. <br>\n",
    "It's the memory of the Maxwellian velocity distribution of the system."
   ]
  },
  {
   "cell_type": "code",
   "execution_count": null,
   "metadata": {},
   "outputs": [],
   "source": [
    "sigmas = []\n",
    "for i,s in enumerate(shell_samples):\n",
    "    sigmas.append(np.sqrt(s.v2.max()))\n",
    "\n",
    "sigmas = np.array(sigmas)"
   ]
  },
  {
   "cell_type": "code",
   "execution_count": null,
   "metadata": {},
   "outputs": [],
   "source": [
    "plt.plot(sigmas, '--o', markersize=3, c='blue')"
   ]
  },
  {
   "cell_type": "markdown",
   "metadata": {},
   "source": [
    "#### $\\beta$ & $r_s$\n",
    " $\\beta$ : Estimation from bootstrap statistics on shell<br>\n",
    "Its the uncertainty parameter on the distance of the shell from the centre of the GC. <br>\n",
    "This parameter could be estimated by computing the uncertainty of the median <br>\n",
    "(not the mean, as outliers could heavily affect the result) of the $R_{3D}$ distances of <br>\n",
    "the stars of the shell from the centre\n",
    "\n",
    "$r_s$ : Median distance from the centre"
   ]
  },
  {
   "cell_type": "markdown",
   "metadata": {},
   "source": []
  },
  {
   "cell_type": "code",
   "execution_count": null,
   "metadata": {},
   "outputs": [],
   "source": [
    "betas = []\n",
    "rss = []\n",
    "\n",
    "for i, s in enumerate(shell_samples):\n",
    "    r, b = grasp.stats.bootstrap_statistic(\n",
    "        s['r3d'],\n",
    "        np.median,\n",
    "        n_bootstrap=100,\n",
    "        show_progress=False\n",
    "    )\n",
    "    betas.append(b)\n",
    "    rss.append(r)\n",
    "\n",
    "    \n",
    "betas = np.array(betas)\n",
    "rss = np.array(rss)"
   ]
  },
  {
   "cell_type": "code",
   "execution_count": null,
   "metadata": {},
   "outputs": [],
   "source": [
    "plt.plot(rss, betas, '--o', markersize=3, c='blue')"
   ]
  },
  {
   "cell_type": "markdown",
   "metadata": {},
   "source": [
    "#### $N$ , $x$"
   ]
  },
  {
   "cell_type": "code",
   "execution_count": null,
   "metadata": {},
   "outputs": [],
   "source": [
    "Ns = []\n",
    "x = []\n",
    "\n",
    "for i, v in enumerate(v2h):\n",
    "    Ns.append(v['h']['counts'])\n",
    "    x.append(v['h']['bins']/(2*sigmas[i]**2))\n"
   ]
  },
  {
   "cell_type": "markdown",
   "metadata": {},
   "source": [
    "#### $dx$ and $dr$"
   ]
  },
  {
   "cell_type": "code",
   "execution_count": null,
   "metadata": {},
   "outputs": [],
   "source": [
    "dr = []\n",
    "dx = []\n",
    "\n",
    "for i, s in enumerate(shell_samples):\n",
    "    dr.append(s.r3d.max() - s.r3d.min())\n",
    "    dx.append(v2h[i]['h']['bins'][1] - v2h[i]['h']['bins'][0])"
   ]
  },
  {
   "cell_type": "markdown",
   "metadata": {},
   "source": [
    "### $\\Sigma = \\ln{B} - x - \\ln{\\frac{\\Delta_N}{\\sqrt{x}}}$"
   ]
  },
  {
   "cell_type": "code",
   "execution_count": null,
   "metadata": {},
   "outputs": [],
   "source": [
    "def Sigma(\n",
    "    B: float,\n",
    "    n: int = None,\n",
    "    fit: grasp.types.Optional[grasp.types.RegressionModels] = None\n",
    ") -> tuple[grasp.types.ArrayLike, grasp.types.ArrayLike]:\n",
    "    \"\"\"Computes analythical sigma\"\"\"\n",
    "    xi = np.linspace(0, 0.5, 1000)\n",
    "    if fit:\n",
    "        #xi = np.linspace(0, 0.5, len(fit.x))\n",
    "        A, l = fit.coeffs\n",
    "        n = A* np.exp(l * xi)\n",
    "    elif n is None:\n",
    "        raise ValueError(\"Either n or alpha must be provided.\")\n",
    "    return (xi, np.log(B) - np.log(n / xi**0.5) - xi)"
   ]
  },
  {
   "cell_type": "code",
   "execution_count": null,
   "metadata": {},
   "outputs": [],
   "source": [
    "import grasp.analyzers\n",
    "import grasp.analyzers.calculus\n",
    "\n",
    "poteffs = []\n",
    "Bs = []\n",
    "\n",
    "for i in range(len(shell_samples)):\n",
    "    B = float(grasp.analyzers.calculus._sp.N(ff.b_constant.rhs.subs(\n",
    "        {\n",
    "            'r_{s}': rss[i],\n",
    "            'sigma': sigmas[i],\n",
    "            'dr': dr[i],\n",
    "            'dx': dx[i],\n",
    "            'beta' : betas[i],\n",
    "            'pi': np.pi\n",
    "        }\n",
    "    )))\n",
    "    Bs.append(B)\n",
    "    poteffs.append(\n",
    "        np.log(B) - x[i] - np.log(Ns[i] / x[i]**0.5)\n",
    "    )\n"
   ]
  },
  {
   "cell_type": "code",
   "execution_count": null,
   "metadata": {},
   "outputs": [],
   "source": [
    "def plot_poteff(n_shell: int):\n",
    "    \"\"\"Plot the effective potential for a given shell or list of shells.\"\"\"\n",
    "    fit = grasp.stats.fit_data_points(Ns[n_shell], x_data=x[n_shell], method='exponential')\n",
    "\n",
    "    fig, ax = plt.subplots(figsize=(8,6.5))\n",
    "    ax.plot(x[n_shell], poteffs[n_shell], 'o', markersize=4, c='black')\n",
    "    xi, S = Sigma(Bs[n_shell], fit=fit)\n",
    "    ax.plot(xi, S, '-', markersize=3, c='red')\n",
    "    ax.set_ylabel(r'$\\Phi_{eff}$', fontdict=grasp.plots.label_font)\n",
    "    ax.set_xlabel(r'$x$', fontdict=grasp.plots.label_font)\n",
    "    ax.set_title(f'Shell {n_shell} at ~{rss[n_shell]:.3f} pc', fontdict=grasp.plots.title_font)\n",
    "    ax.set_xlim((-0.01, 0.51))\n",
    "\n",
    "    return fig\n",
    "\n",
    "folder = grasp.gpaths.CLUSTER_DATA_FOLDER(gc_sample.gc.id) + '/poteff_plots'\n",
    "for i in range(len(shell_samples)):\n",
    "    fig = plot_poteff(i)\n",
    "    fig.savefig(f'{folder}/poteff_shell_{i}.png', dpi=300, bbox_inches='tight')\n",
    "    plt.close(fig)\n",
    "\n"
   ]
  },
  {
   "cell_type": "code",
   "execution_count": null,
   "metadata": {},
   "outputs": [],
   "source": [
    "scarti_finali = []\n",
    "for i in range(len(poteffs)):\n",
    "    fit = grasp.stats.fit_data_points(Ns[i], x_data=x[i], method='exponential')\n",
    "    xi, S = Sigma(Bs[i], fit=fit)\n",
    "\n",
    "    scarti_finali.append(1-poteffs[i][-1]/S[-1])\n",
    "\n",
    "scarti_finali = np.array(scarti_finali)\n",
    "\n",
    "avg_underestimation = grasp.stats.bootstrap_statistic(scarti_finali, np.mean)\n",
    "fig = plt.figure()\n",
    "plt.plot(scarti_finali, 'o', markersize=3, c='blue')\n",
    "plt.xlabel('Shell number', fontdict=grasp.plots.label_font)\n",
    "plt.title(f\"Average Underestimation = {avg_underestimation[0]*100 :.2f} +- {avg_underestimation[1]*100:.2f} %\")\n",
    "fig.savefig(\n",
    "    grasp.gpaths.CLUSTER_DATA_FOLDER(gc_sample.gc.id) + '/poteff_plots/model2/scarti_finali.png',\n",
    "    dpi=300, bbox_inches='tight'\n",
    ")"
   ]
  },
  {
   "cell_type": "code",
   "execution_count": null,
   "metadata": {},
   "outputs": [],
   "source": [
    "avg_underestimation = grasp.stats.bootstrap_statistic(scarti_finali, np.mean)\n",
    "\n",
    "print(f\"{avg_underestimation[0]*100 :.2f} +- {avg_underestimation[1]*100:.2f} %\")"
   ]
  },
  {
   "cell_type": "markdown",
   "metadata": {},
   "source": [
    "The average underestimation of the critical velocioty $x=0.5 \\rightarrow \\sigma^2 = 2\\cdot v^2_{max}$ \n",
    "is \n",
    "> $15,94 \\pm  0,98$ %"
   ]
  },
  {
   "cell_type": "markdown",
   "metadata": {},
   "source": [
    "### $\\Sigma = -\\ln{1-e^{x-w}}$"
   ]
  },
  {
   "cell_type": "code",
   "execution_count": null,
   "metadata": {},
   "outputs": [],
   "source": [
    "dpoteffs = []\n",
    "Omega = []\n",
    "s = gc_sample.v2.max()\n",
    "\n",
    "\n",
    "for i,p in enumerate(poteffs):\n",
    "    w = np.max(0.5*v2h[i]['h']['bins']/s)\n",
    "    ssigma = -np.log(1 - np.exp(x[i] - 0.5))\n",
    "    omega = ssigma - np.array(x[i])\n",
    "    dpoteffs.append(ssigma)\n",
    "    Omega.append(omega)\n",
    "\n"
   ]
  },
  {
   "cell_type": "code",
   "execution_count": null,
   "metadata": {},
   "outputs": [],
   "source": [
    "for i in range(10):\n",
    "    plt.plot(dpoteffs[i], '-o', markersize=3, label=f'Shell {i}', alpha=0.5)\n",
    "\n",
    "plt.legend(loc='best')"
   ]
  },
  {
   "cell_type": "markdown",
   "metadata": {},
   "source": [
    "## Model with G=3 $\\forall \\bar{\\omega}\\in\\mathcal{R^+}$"
   ]
  },
  {
   "cell_type": "markdown",
   "metadata": {},
   "source": [
    "### Data Computation"
   ]
  },
  {
   "cell_type": "code",
   "execution_count": null,
   "metadata": {},
   "outputs": [],
   "source": [
    "best_model = best_models['G=3 pos']\n",
    "print(pd.DataFrame(best_model.train_classification['classification']).value_counts())\n",
    "print(best_model.coeffs)"
   ]
  },
  {
   "cell_type": "code",
   "execution_count": null,
   "metadata": {},
   "outputs": [],
   "source": [
    "model_data = best_model.data\n",
    "gs_data = aps.to_numpy(columns=['ra','dec','pmra','pmdec', 'parallax'])\n",
    "_ = best_model.predict(gs_data)\n",
    "\n",
    "gc.ra, gc.dec = (best_model.coeffs[2,0], best_model.coeffs[2,1])\n",
    "print(gc.ra, gc.dec)"
   ]
  },
  {
   "cell_type": "code",
   "execution_count": null,
   "metadata": {},
   "outputs": [],
   "source": [
    "# mu_ra = np.array([np.mean(pmrameans), np.std(pmrameans)/np.sqrt(len(pmrameans))])\n",
    "# mu_dec = np.array([np.mean(pmdecmeans), np.std(pmdecmeans)/np.sqrt(len(pmdecmeans))])\n",
    "# px = np.array([np.mean(parallaxmeans), np.std(parallaxmeans)/np.sqrt(len(parallaxmeans))])\n",
    "\n",
    "# Se si riparte direttamente da qui...\n",
    "mu_ra = (-12.528 ,0.003)\n",
    "mu_dec = (-19.022 ,0.005)\n",
    "px = (0.550 ,0.002)\n",
    "\n",
    "gc.px = (px[0] * u.mas, px[1] * u.mas)\n",
    "gc.pmra = (mu_ra[0] * u.mas / u.yr, mu_ra[1] * u.mas / u.yr)\n",
    "gc.pmdec = (mu_dec[0] * u.mas / u.yr, mu_dec[1] * u.mas / u.yr)\n",
    "\n",
    "gc_data = model_data[np.array(best_model.train_classification['classification']) == 3.]\n",
    "gc2_data = gs_data[np.array(best_model.classification['classification']) == 3.]\n",
    "print(f\"{gc_data.shape = } {gc2_data.shape = }\")\n",
    "\n",
    "predicted_sample = np.vstack((gc_data, gc2_data))\n",
    "\n",
    "assert len(predicted_sample) == len(gc_data) + len(gc2_data), f\"Predicted sample length {len(predicted_sample)} is not equal to the sum of gc_data {len(gc_data)} and gs_data {len(gc2_data)}\"\n",
    "\n",
    "print(f\"\\n{predicted_sample.shape = }\")"
   ]
  },
  {
   "cell_type": "code",
   "execution_count": null,
   "metadata": {},
   "outputs": [],
   "source": [
    "gc_data = pd.DataFrame(data=predicted_sample, columns=['ra','dec','pmra','pmdec', 'parallax'])\n",
    "gc_sample = grasp.Sample(gc_data, gc)\n",
    "gc_sample.update_gc_params(ra=gc_sample.ra.mean(), dec=gc_sample.dec.mean())"
   ]
  },
  {
   "cell_type": "code",
   "execution_count": null,
   "metadata": {},
   "outputs": [],
   "source": [
    "grasp.plots.seaborn(which='heatmap', data=gc_sample.to_pandas().corr(), annot=True, cmap='coolwarm', cbar=True)"
   ]
  },
  {
   "cell_type": "code",
   "execution_count": null,
   "metadata": {},
   "outputs": [],
   "source": [
    "ff = grasp.load_base_formulary()\n",
    "ff.substitute(\n",
    "    \"Angular separation\",\n",
    "    {\"alpha_{0}\": (gc_sample.gc.ra*u.deg).to(u.rad).value, \"delta_{0}\": (gc_sample.gc.dec*u.deg).to(u.rad).value}\n",
    ")\n",
    "ff.angular_separation"
   ]
  },
  {
   "cell_type": "code",
   "execution_count": null,
   "metadata": {},
   "outputs": [],
   "source": [
    "gc_sample.apply_conditions('parallax>0.05', inplace=True)\n",
    "N=len(gc_sample)"
   ]
  },
  {
   "cell_type": "markdown",
   "metadata": {},
   "source": [
    "### Calcolo delle distance: $r_{2D}$ and  $R_{3D}$"
   ]
  },
  {
   "cell_type": "code",
   "execution_count": null,
   "metadata": {},
   "outputs": [],
   "source": [
    "gc_sample['ang_sep']        = (ff.compute(\"Angular Separation\", data={\"alpha_{1}\": (gc_sample.ra*u.deg).to(u.rad).value, \"delta_{1}\": (gc_sample.dec*u.deg).to(u.rad).value}, asarray=True)) * u.deg\n",
    "gc_sample['los_distance']   = (ff.compute('los_distance', data={'omega': gc_sample.parallax.value}, asarray=True)) * u.kpc\n",
    "gc_sample['d_BV']           = (ff.compute('gc_z_coordinate', data={r'r_{c}': [gc_sample.gc.dist.value/1000]*N, r'r_{x}': gc_sample.los_distance.value}, asarray=True))  * u.kpc \n",
    "gc_sample['d']              = (ff.compute('gc_z_coordinate', data={r'r_{c}': [1/gc_sample.gc.px[0].value]*N, r'r_{x}': gc_sample.los_distance.value}, asarray=True)) * u.kpc\n",
    "gc_sample['r2d_BV']         = (ff.compute('radial_distance_2d', data={r'r_{c}': [gc_sample.gc.dist.value/1000]*N, 'theta': gc_sample.ang_sep.to(u.rad).value}, asarray=True)) * u.kpc\n",
    "gc_sample['r2d']            = (ff.compute('radial_distance_2d', data={r'r_{c}': [1/gc_sample.gc.px[0].value]*N, 'theta': gc_sample.ang_sep.to(u.rad).value}, asarray=True)) * u.kpc\n",
    "gc_sample['r3d_BV']         = (ff.compute('radial_distance_3d', data={'d': gc_sample.d_BV.to(u.pc).value, 'r_{2}': gc_sample.r2d_BV.to(u.pc).value}, asarray=True)) * u.pc\n",
    "gc_sample['r3d']            = (ff.compute('radial_distance_3d', data={'d': gc_sample.d.to(u.pc).value, 'r_{2}': gc_sample.r2d.to(u.pc).value}, asarray=True)) * u.pc"
   ]
  },
  {
   "cell_type": "code",
   "execution_count": null,
   "metadata": {},
   "outputs": [],
   "source": [
    "gc_sample['ra'] = gc_sample.ra * (u.deg)\n",
    "gc_sample['dec'] = gc_sample.dec * (u.deg)\n",
    "gc_sample['pmra'] = gc_sample.pmra * (u.mas / u.yr)\n",
    "gc_sample['pmdec'] = gc_sample.pmdec * (u.mas / u.yr)\n",
    "gc_sample['parallax'] = gc_sample.parallax * (u.mas)"
   ]
  },
  {
   "cell_type": "code",
   "execution_count": null,
   "metadata": {},
   "outputs": [],
   "source": [
    "gc_sample['los_distance'] = gc_sample.r2d_BV.to(u.pc)\n",
    "gc_sample['d_BV'] = gc_sample.r2d.to(u.pc)\n",
    "gc_sample['d'] = gc_sample.r2d.to(u.pc)\n",
    "gc_sample['r2d_BV'] = gc_sample.r2d_BV.to(u.pc)\n",
    "gc_sample['r2d'] = gc_sample.r2d.to(u.pc)"
   ]
  },
  {
   "cell_type": "code",
   "execution_count": null,
   "metadata": {},
   "outputs": [],
   "source": [
    "gc_sample.apply_conditions('r3d<4000', inplace=True)\n",
    "grasp.plots.histogram(gc_sample.r3d.value, xlabel=r\"$R_{3D}$\")"
   ]
  },
  {
   "cell_type": "markdown",
   "metadata": {},
   "source": [
    "### Density (WOW, bad!)"
   ]
  },
  {
   "cell_type": "code",
   "execution_count": null,
   "metadata": {},
   "outputs": [],
   "source": [
    "r3dh = grasp.plots.histogram(gc_sample.r3d.value, dont_show=True)\n",
    "\n",
    "n_bin = len(r3dh['h']['bins'])\n",
    "\n",
    "V = np.zeros(n_bin)\n",
    "rr1 = np.zeros(n_bin+1)\n",
    "rr2 = np.zeros(n_bin+1)\n",
    "\n",
    "bw = (gc_sample.r3d.value).max()/n_bin\n",
    "\n",
    "rr1[0] = 0.\n",
    "rr2[0] = bw\n",
    "\n",
    "for x in range (0, n_bin):\n",
    "  V[x] = (4/3)*np.pi*(rr2[x]**3 - rr1[x]**3)\n",
    "  rr1[x+1] = rr1[x] + bw\n",
    "  rr2[x+1] = rr2[x] + bw\n",
    "\n",
    "rho3D = r3dh['h']['counts']/(V*u.pc**3)  "
   ]
  },
  {
   "cell_type": "code",
   "execution_count": null,
   "metadata": {},
   "outputs": [],
   "source": [
    "r_c = (1/gc_sample.gc.px[0].value*1000) * np.tan(gc_sample.gc.rc.to(u.rad).value)"
   ]
  },
  {
   "cell_type": "code",
   "execution_count": null,
   "metadata": {},
   "outputs": [],
   "source": [
    "plt.plot(gc_sample.gc.model['xi'], gc_sample.gc.model['rho'], '--', c='red', label='SM King Model')\n",
    "plt.plot(((rr1[0:n_bin]+rr2[0:n_bin])/2)/r_c, rho3D.value, '-o', markersize=2, c='blue', label='Observed Density')\n",
    "plt.xscale('log')\n",
    "plt.yscale('log')"
   ]
  },
  {
   "cell_type": "markdown",
   "metadata": {},
   "source": [
    "### Setting up the velocities"
   ]
  },
  {
   "cell_type": "code",
   "execution_count": null,
   "metadata": {},
   "outputs": [],
   "source": [
    "gc_sample['pmra'].unit"
   ]
  },
  {
   "cell_type": "code",
   "execution_count": null,
   "metadata": {},
   "outputs": [],
   "source": [
    "grasp.plots.histogram(gc_sample.pmra.value)"
   ]
  },
  {
   "cell_type": "code",
   "execution_count": null,
   "metadata": {},
   "outputs": [],
   "source": [
    "gc_sample['v_x'] = ((gc_sample.pmra  - gc_sample.gc.pmra[0] ).to(u.rad/u.s) * (1/gc_sample.gc.px[0] * (u.kpc*u.mas)).to(u.km)) / u.rad \n",
    "gc_sample['v_y'] = ((gc_sample.pmdec - gc_sample.gc.pmdec[0]).to(u.rad/u.s) * (1/gc_sample.gc.px[0] * (u.kpc*u.mas)).to(u.km)) / u.rad"
   ]
  },
  {
   "cell_type": "code",
   "execution_count": null,
   "metadata": {},
   "outputs": [],
   "source": [
    "vx_med, vx_med_err = grasp.stats.bootstrap_statistic(gc_sample.v_x.value**2, np.median, n_bootstrap=5000, show_progress=True)\n",
    "vy_med, vy_med_err = grasp.stats.bootstrap_statistic(gc_sample.v_y.value**2, np.median, n_bootstrap=5000, show_progress=True)\n",
    "\n",
    "vxm, vxm_err = grasp.stats.bootstrap_statistic(gc_sample.v_x.value**2, np.average, n_bootstrap=5000, show_progress=True)\n",
    "vym, vym_err = grasp.stats.bootstrap_statistic(gc_sample.v_y.value**2, np.average, n_bootstrap=5000, show_progress=True)\n"
   ]
  },
  {
   "cell_type": "code",
   "execution_count": null,
   "metadata": {},
   "outputs": [],
   "source": [
    "grasp.plots.doubleHistScatter(gc_sample['v_x'].value, gc_sample['v_y'].value, xlabel=r\"$v_x$ [km/s]\", ylabel=r'$v_y$ [km/s]',size=0.05, alpha=0.85)"
   ]
  },
  {
   "cell_type": "code",
   "execution_count": null,
   "metadata": {},
   "outputs": [],
   "source": [
    "grasp.plots.histogram(\n",
    "    gc_sample['v_y'].value**2, \n",
    "    xlabel=r'$v_y^2 \\, [km^2\\,s^{-2}]$', title=r'$\\langle v_y^2 \\rangle = ${:.2f} $\\pm$ {:.2f}    Median($v_y^2$)={:.2f} $\\pm$ {:.2F}'.format(\n",
    "        vxm, vym_err,\n",
    "        vy_med, vy_med_err\n",
    "        )\n",
    "    )"
   ]
  },
  {
   "cell_type": "code",
   "execution_count": null,
   "metadata": {},
   "outputs": [],
   "source": [
    "grasp.plots.histogram(\n",
    "    gc_sample['v_x'].value**2, \n",
    "    xlabel=r\"$v_x^2 \\, [km^2\\,s^{-2}]$\", title=r'$\\langle v_x^2\\rangle = ${:.2f} $\\pm$ {:.2f}    Median($v_x^2$)={:.2f} $\\pm$ {:.2f}'.format(\n",
    "        vxm, vxm_err,\n",
    "        vx_med, vx_med_err\n",
    "        )\n",
    "    )"
   ]
  },
  {
   "cell_type": "markdown",
   "metadata": {},
   "source": [
    "On Isotropy assumption, compute the total (squared) velocity as:\n",
    "\n",
    "$$ V^2 = \\frac{3}{2}(v_x^2 + v_y^2)^2"
   ]
  },
  {
   "cell_type": "code",
   "execution_count": null,
   "metadata": {},
   "outputs": [],
   "source": [
    "gc_sample['v2'] = 1.5*(gc_sample['v_x']**2 + gc_sample['v_y']**2) \n",
    "v2m, v2m_err = grasp.stats.bootstrap_statistic(gc_sample.v2.value, np.average, n_bootstrap=5000, show_progress=True)\n",
    "v2_med, v2_med_err = grasp.stats.bootstrap_statistic(gc_sample.v2.value, np.median, n_bootstrap=5000, show_progress=True)\n",
    "v2h = grasp.plots.histogram(\n",
    "    gc_sample['v2'].value, \n",
    "    xlabel=r\"$v^2 \\, [km^2\\,s^{-2}]$\", title=r'$<v^2> = ${:.2f} $\\pm$ {:.2f}    Median($v^2$)={:.2f} $\\pm$ {:.2f}'.format(\n",
    "        v2m, v2m_err,\n",
    "        v2_med, v2_med_err\n",
    "        ),\n",
    "    out=True\n",
    "    )"
   ]
  },
  {
   "cell_type": "markdown",
   "metadata": {},
   "source": [
    "### Shell Partition"
   ]
  },
  {
   "cell_type": "code",
   "execution_count": null,
   "metadata": {},
   "outputs": [],
   "source": [
    "# Desired number of instances per subsample\n",
    "n_per_shell = 250  # for example\n",
    "\n",
    "# Sort by r3d\n",
    "sorted_sample = gc_sample.to_pandas().sort_values('r3d')\n",
    "\n",
    "# Split into equal-length subsamples\n",
    "shell_samples = [\n",
    "    sorted_sample.iloc[i:i + n_per_shell]\n",
    "    for i in range(0, len(sorted_sample), n_per_shell)\n",
    "]\n",
    "\n",
    "# Optionally, filter out the last shell if it's too small\n",
    "shell_samples = [s for s in shell_samples if len(s) == n_per_shell]\n",
    "\n",
    "print(f\"Number of shells: {len(shell_samples)}\")"
   ]
  },
  {
   "cell_type": "code",
   "execution_count": null,
   "metadata": {},
   "outputs": [],
   "source": [
    "v2 = grasp.types.QTable()\n",
    "R  = grasp.types.QTable()\n",
    "\n",
    "for i,shell in enumerate(shell_samples):\n",
    "    \n",
    "    R[f\"s{i}\"] = shell['r3d']\n",
    "    v2[f\"s{i}\"] = shell['v2']\n",
    "\n",
    "v2 = grasp.Sample(v2, gc)\n",
    "R = grasp.Sample(R, gc)"
   ]
  },
  {
   "cell_type": "code",
   "execution_count": null,
   "metadata": {},
   "outputs": [],
   "source": [
    "v2h = []\n",
    "for i in range(len(shell_samples)):\n",
    "    v2h.append(grasp.plots.histogram(v2[f's{i}'], xlabel='$v^2$', title=f'Shell {i} - R_max={R[f\"s{i}\"].max():.3f} - R_width = {R[f\"s{i}\"].max() - R[f\"s{i}\"].min():.3f}', dont_show=True))"
   ]
  },
  {
   "cell_type": "markdown",
   "metadata": {},
   "source": [
    "### $B = 16 A \\sqrt{2} \\pi^2 \\beta^2 r_{s}^2 \\alpha m^3 \\sigma^3 dr dx$"
   ]
  },
  {
   "cell_type": "markdown",
   "metadata": {},
   "source": [
    "#### Constants:\n",
    "\n",
    "> Normalization constant: $A = 1$\n",
    "\n",
    "> Single star Mass: $m = 1$\n",
    "\n",
    "> Incompleteness parameter: $\\alpha = 10^{-3}$\n"
   ]
  },
  {
   "cell_type": "code",
   "execution_count": null,
   "metadata": {},
   "outputs": [],
   "source": [
    "A = 1.\n",
    "alpha = .001\n",
    "m = 1.\n",
    "\n",
    "ff.substitute('B constant', \n",
    "              {\n",
    "                  'A': A,\n",
    "                  'alpha': alpha,\n",
    "                  'm': m\n",
    "              }\n",
    ")"
   ]
  },
  {
   "cell_type": "code",
   "execution_count": null,
   "metadata": {},
   "outputs": [],
   "source": [
    "ff.b_constant"
   ]
  },
  {
   "cell_type": "markdown",
   "metadata": {},
   "source": [
    "#### $\\sigma^2$ : critical velocity \n",
    "\n",
    "It is taken to be the maximum quadratic velocity of the shell $v^2\\{shell\\}^{max}$. <br>\n",
    "It's the memory of the Maxwellian velocity distribution of the system."
   ]
  },
  {
   "cell_type": "code",
   "execution_count": null,
   "metadata": {},
   "outputs": [],
   "source": [
    "sigmas = []\n",
    "for i,s in enumerate(shell_samples):\n",
    "    sigmas.append(np.sqrt(s.v2.max()))\n",
    "\n",
    "sigmas = np.array(sigmas)"
   ]
  },
  {
   "cell_type": "code",
   "execution_count": null,
   "metadata": {},
   "outputs": [],
   "source": [
    "plt.plot(sigmas, '--o', markersize=3, c='blue')"
   ]
  },
  {
   "cell_type": "markdown",
   "metadata": {},
   "source": [
    "#### $\\beta$ & $r_s$\n",
    " $\\beta$ : Estimation from bootstrap statistics on shell<br>\n",
    "Its the uncertainty parameter on the distance of the shell from the centre of the GC. <br>\n",
    "This parameter could be estimated by computing the uncertainty of the median <br>\n",
    "(not the mean, as outliers could heavily affect the result) of the $R_{3D}$ distances of <br>\n",
    "the stars of the shell from the centre\n",
    "\n",
    "$r_s$ : Median distance from the centre"
   ]
  },
  {
   "cell_type": "markdown",
   "metadata": {},
   "source": []
  },
  {
   "cell_type": "code",
   "execution_count": null,
   "metadata": {},
   "outputs": [],
   "source": [
    "betas = []\n",
    "rss = []\n",
    "\n",
    "for i, s in enumerate(shell_samples):\n",
    "    r, b = grasp.stats.bootstrap_statistic(\n",
    "        s['r3d'],\n",
    "        np.median,\n",
    "        n_bootstrap=100,\n",
    "        show_progress=False\n",
    "    )\n",
    "    betas.append(b)\n",
    "    rss.append(r)\n",
    "\n",
    "    \n",
    "betas = np.array(betas)\n",
    "rss = np.array(rss)"
   ]
  },
  {
   "cell_type": "code",
   "execution_count": null,
   "metadata": {},
   "outputs": [],
   "source": [
    "plt.plot(rss, betas, '--o', markersize=3, c='blue')"
   ]
  },
  {
   "cell_type": "markdown",
   "metadata": {},
   "source": [
    "#### $N$ , $x$"
   ]
  },
  {
   "cell_type": "code",
   "execution_count": null,
   "metadata": {},
   "outputs": [],
   "source": [
    "Ns = []\n",
    "x = []\n",
    "\n",
    "for i, v in enumerate(v2h):\n",
    "    Ns.append(v['h']['counts'])\n",
    "    x.append(v['h']['bins']/(2*sigmas[i]**2))\n"
   ]
  },
  {
   "cell_type": "markdown",
   "metadata": {},
   "source": [
    "#### $dx$ and $dr$"
   ]
  },
  {
   "cell_type": "code",
   "execution_count": null,
   "metadata": {},
   "outputs": [],
   "source": [
    "dr = []\n",
    "dx = []\n",
    "\n",
    "for i, s in enumerate(shell_samples):\n",
    "    dr.append(s.r3d.max() - s.r3d.min())\n",
    "    dx.append(v2h[i]['h']['bins'][1] - v2h[i]['h']['bins'][0])"
   ]
  },
  {
   "cell_type": "markdown",
   "metadata": {},
   "source": [
    "### $\\Sigma = \\ln{B} - x - \\ln{\\frac{\\Delta_N}{\\sqrt{x}}}$"
   ]
  },
  {
   "cell_type": "code",
   "execution_count": null,
   "metadata": {},
   "outputs": [],
   "source": [
    "def Sigma(\n",
    "    B: float,\n",
    "    n: int = None,\n",
    "    fit: grasp.types.Optional[grasp.types.RegressionModels] = None\n",
    ") -> tuple[grasp.types.ArrayLike, grasp.types.ArrayLike]:\n",
    "    \"\"\"Computes analythical sigma\"\"\"\n",
    "    xi = np.linspace(0, 0.5, 1000)\n",
    "    if fit:\n",
    "        #xi = np.linspace(0, 0.5, len(fit.x))\n",
    "        A, l = fit.coeffs\n",
    "        n = A* np.exp(l * xi)\n",
    "    elif n is None:\n",
    "        raise ValueError(\"Either n or alpha must be provided.\")\n",
    "    return (xi, np.log(B) - np.log(n / xi**0.5) - xi)"
   ]
  },
  {
   "cell_type": "code",
   "execution_count": null,
   "metadata": {},
   "outputs": [],
   "source": [
    "import grasp.analyzers\n",
    "import grasp.analyzers.calculus\n",
    "\n",
    "poteffs = []\n",
    "Bs = []\n",
    "\n",
    "for i in range(len(shell_samples)):\n",
    "    B = float(grasp.analyzers.calculus._sp.N(ff.b_constant.rhs.subs(\n",
    "        {\n",
    "            'r_{s}': rss[i],\n",
    "            'sigma': sigmas[i],\n",
    "            'dr': dr[i],\n",
    "            'dx': dx[i],\n",
    "            'beta' : betas[i],\n",
    "            'pi': np.pi\n",
    "        }\n",
    "    )))\n",
    "    Bs.append(B)\n",
    "    poteffs.append(\n",
    "        np.log(B) - x[i] - np.log(Ns[i] / x[i]**0.5)\n",
    "    )\n"
   ]
  },
  {
   "cell_type": "code",
   "execution_count": null,
   "metadata": {},
   "outputs": [],
   "source": [
    "def plot_poteff(n_shell: int):\n",
    "    \"\"\"Plot the effective potential for a given shell or list of shells.\"\"\"\n",
    "    fit = grasp.stats.fit_data_points(Ns[n_shell], x_data=x[n_shell], method='exponential')\n",
    "\n",
    "    fig, ax = plt.subplots(figsize=(8,6.5))\n",
    "    ax.plot(x[n_shell], poteffs[n_shell], 'o', markersize=4, c='black')\n",
    "    xi, S = Sigma(Bs[n_shell], fit=fit)\n",
    "    ax.plot(xi, S, '-', markersize=3, c='red')\n",
    "    ax.set_ylabel(r'$\\Phi_{eff}$', fontdict=grasp.plots.label_font)\n",
    "    ax.set_xlabel(r'$x$', fontdict=grasp.plots.label_font)\n",
    "    ax.set_title(f'Shell {n_shell} at ~{rss[n_shell]:.3f} pc', fontdict=grasp.plots.title_font)\n",
    "    ax.set_xlim((-0.01, 0.51))\n",
    "\n",
    "    return fig\n",
    "\n",
    "folder = grasp.gpaths.CLUSTER_DATA_FOLDER(gc_sample.gc.id) + '/poteff_plots/model3_pos'\n",
    "if not os.path.exists(folder):\n",
    "    os.makedirs(folder)\n",
    "for i in range(len(shell_samples)):\n",
    "    fig = plot_poteff(i)\n",
    "    fig.savefig(f'{folder}/poteff_shell_{i}.png', dpi=300, bbox_inches='tight')\n",
    "    plt.close(fig)\n",
    "\n"
   ]
  },
  {
   "cell_type": "code",
   "execution_count": null,
   "metadata": {},
   "outputs": [],
   "source": [
    "scarti_finali = []\n",
    "for i in range(len(poteffs)):\n",
    "    fit = grasp.stats.fit_data_points(Ns[i], x_data=x[i], method='exponential')\n",
    "    xi, S = Sigma(Bs[i], fit=fit)\n",
    "\n",
    "    scarti_finali.append(1-poteffs[i][-1]/S[-1])\n",
    "\n",
    "scarti_finali = np.array(scarti_finali)\n",
    "\n",
    "avg_underestimation = grasp.stats.bootstrap_statistic(scarti_finali, np.mean)\n",
    "fig = plt.figure()\n",
    "plt.plot(scarti_finali, 'o', markersize=3, c='blue')\n",
    "plt.xlabel('Shell number', fontdict=grasp.plots.label_font)\n",
    "plt.title(f\"Average Underestimation = {avg_underestimation[0]*100 :.2f} +- {avg_underestimation[1]*100:.2f} %\")\n",
    "fig.savefig(\n",
    "    grasp.gpaths.CLUSTER_DATA_FOLDER(gc_sample.gc.id) + '/poteff_plots/model3_pos/scarti_finali.png',\n",
    "    dpi=300, bbox_inches='tight'\n",
    ")"
   ]
  },
  {
   "cell_type": "code",
   "execution_count": null,
   "metadata": {},
   "outputs": [],
   "source": [
    "avg_underestimation = grasp.stats.bootstrap_statistic(scarti_finali, np.mean)\n",
    "\n",
    "print(f\"{avg_underestimation[0]*100 :.2f} +- {avg_underestimation[1]*100:.2f} %\")"
   ]
  },
  {
   "cell_type": "markdown",
   "metadata": {},
   "source": [
    "The average underestimation of the critical velocioty $x=0.5 \\rightarrow \\sigma^2 = 2\\cdot v^2_{max}$ \n",
    "is \n",
    "> $15,48 \\pm  1,04$ %"
   ]
  },
  {
   "cell_type": "markdown",
   "metadata": {},
   "source": [
    "### $\\Sigma = -\\ln{1-e^{x-w}}$"
   ]
  },
  {
   "cell_type": "code",
   "execution_count": null,
   "metadata": {},
   "outputs": [],
   "source": [
    "dpoteffs = []\n",
    "Omega = []\n",
    "s = gc_sample.v2.max()\n",
    "\n",
    "\n",
    "for i,p in enumerate(poteffs):\n",
    "    w = np.max(0.5*v2h[i]['h']['bins']/s)\n",
    "    ssigma = -np.log(1 - np.exp(x[i] - 0.5))\n",
    "    omega = ssigma - np.array(x[i])\n",
    "    dpoteffs.append(ssigma)\n",
    "    Omega.append(omega)\n",
    "\n"
   ]
  },
  {
   "cell_type": "code",
   "execution_count": null,
   "metadata": {},
   "outputs": [],
   "source": [
    "for i in range(10):\n",
    "    plt.plot(dpoteffs[i], '-o', markersize=3, label=f'Shell {i}', alpha=0.5)\n",
    "\n",
    "plt.legend(loc='best')"
   ]
  },
  {
   "cell_type": "markdown",
   "metadata": {},
   "source": [
    "## Model with G=2 $\\forall \\bar{\\omega}\\in\\mathcal{R^+}$"
   ]
  },
  {
   "cell_type": "markdown",
   "metadata": {},
   "source": [
    "### Data Computation"
   ]
  },
  {
   "cell_type": "code",
   "execution_count": null,
   "metadata": {},
   "outputs": [],
   "source": [
    "best_model = best_models['G=2 pos']\n",
    "print(pd.DataFrame(best_model.train_classification['classification']).value_counts())\n",
    "print(best_model.coeffs)"
   ]
  },
  {
   "cell_type": "code",
   "execution_count": null,
   "metadata": {},
   "outputs": [],
   "source": [
    "model_data = best_model.data\n",
    "gs_data = aps.to_numpy(columns=['ra','dec','pmra','pmdec', 'parallax'])\n",
    "_ = best_model.predict(gs_data)\n",
    "\n",
    "gc.ra, gc.dec = (best_model.coeffs[0,0], best_model.coeffs[0,1])\n",
    "print(gc.ra, gc.dec)"
   ]
  },
  {
   "cell_type": "code",
   "execution_count": null,
   "metadata": {},
   "outputs": [],
   "source": [
    "# mu_ra = np.array([np.mean(pmrameans), np.std(pmrameans)/np.sqrt(len(pmrameans))])\n",
    "# mu_dec = np.array([np.mean(pmdecmeans), np.std(pmdecmeans)/np.sqrt(len(pmdecmeans))])\n",
    "# px = np.array([np.mean(parallaxmeans), np.std(parallaxmeans)/np.sqrt(len(parallaxmeans))])\n",
    "\n",
    "# Se si riparte direttamente da qui...\n",
    "mu_ra = (-12.528 ,0.003)\n",
    "mu_dec = (-19.022 ,0.005)\n",
    "px = (0.550 ,0.002)\n",
    "\n",
    "gc.px = (px[0] * u.mas, px[1] * u.mas)\n",
    "gc.pmra = (mu_ra[0] * u.mas / u.yr, mu_ra[1] * u.mas / u.yr)\n",
    "gc.pmdec = (mu_dec[0] * u.mas / u.yr, mu_dec[1] * u.mas / u.yr)\n",
    "\n",
    "gc_data = model_data[np.array(best_model.train_classification['classification']) == 1.]\n",
    "gc2_data = gs_data[np.array(best_model.classification['classification']) == 1.]\n",
    "print(f\"{gc_data.shape = } {gc2_data.shape = }\")\n",
    "\n",
    "predicted_sample = np.vstack((gc_data, gc2_data))\n",
    "\n",
    "assert len(predicted_sample) == len(gc_data) + len(gc2_data), f\"Predicted sample length {len(predicted_sample)} is not equal to the sum of gc_data {len(gc_data)} and gs_data {len(gc2_data)}\"\n",
    "\n",
    "print(f\"\\n{predicted_sample.shape = }\")"
   ]
  },
  {
   "cell_type": "code",
   "execution_count": null,
   "metadata": {},
   "outputs": [],
   "source": [
    "gc_data = pd.DataFrame(data=predicted_sample, columns=['ra','dec','pmra','pmdec', 'parallax'])\n",
    "gc_sample = grasp.Sample(gc_data, gc)\n",
    "gc_sample.update_gc_params(ra=gc_sample.ra.mean(), dec=gc_sample.dec.mean())"
   ]
  },
  {
   "cell_type": "code",
   "execution_count": null,
   "metadata": {},
   "outputs": [],
   "source": [
    "grasp.plots.seaborn(which='heatmap', data=gc_sample.to_pandas().corr(), annot=True, cmap='coolwarm', cbar=True)"
   ]
  },
  {
   "cell_type": "code",
   "execution_count": null,
   "metadata": {},
   "outputs": [],
   "source": [
    "ff = grasp.load_base_formulary()\n",
    "ff.substitute(\n",
    "    \"Angular separation\",\n",
    "    {\"alpha_{0}\": (gc_sample.gc.ra*u.deg).to(u.rad).value, \"delta_{0}\": (gc_sample.gc.dec*u.deg).to(u.rad).value}\n",
    ")\n",
    "ff.angular_separation"
   ]
  },
  {
   "cell_type": "code",
   "execution_count": null,
   "metadata": {},
   "outputs": [],
   "source": [
    "gc_sample.apply_conditions('parallax>0.05', inplace=True)\n",
    "N=len(gc_sample)"
   ]
  },
  {
   "cell_type": "markdown",
   "metadata": {},
   "source": [
    "### Calcolo delle distance: $r_{2D}$ and  $R_{3D}$"
   ]
  },
  {
   "cell_type": "code",
   "execution_count": null,
   "metadata": {},
   "outputs": [],
   "source": [
    "gc_sample['ang_sep']        = (ff.compute(\"Angular Separation\", data={\"alpha_{1}\": (gc_sample.ra*u.deg).to(u.rad).value, \"delta_{1}\": (gc_sample.dec*u.deg).to(u.rad).value}, asarray=True)) * u.deg\n",
    "gc_sample['los_distance']   = (ff.compute('los_distance', data={'omega': gc_sample.parallax.value}, asarray=True)) * u.kpc\n",
    "gc_sample['d_BV']           = (ff.compute('gc_z_coordinate', data={r'r_{c}': [gc_sample.gc.dist.value/1000]*N, r'r_{x}': gc_sample.los_distance.value}, asarray=True))  * u.kpc \n",
    "gc_sample['d']              = (ff.compute('gc_z_coordinate', data={r'r_{c}': [1/gc_sample.gc.px[0].value]*N, r'r_{x}': gc_sample.los_distance.value}, asarray=True)) * u.kpc\n",
    "gc_sample['r2d_BV']         = (ff.compute('radial_distance_2d', data={r'r_{c}': [gc_sample.gc.dist.value/1000]*N, 'theta': gc_sample.ang_sep.to(u.rad).value}, asarray=True)) * u.kpc\n",
    "gc_sample['r2d']            = (ff.compute('radial_distance_2d', data={r'r_{c}': [1/gc_sample.gc.px[0].value]*N, 'theta': gc_sample.ang_sep.to(u.rad).value}, asarray=True)) * u.kpc\n",
    "gc_sample['r3d_BV']         = (ff.compute('radial_distance_3d', data={'d': gc_sample.d_BV.to(u.pc).value, 'r_{2}': gc_sample.r2d_BV.to(u.pc).value}, asarray=True)) * u.pc\n",
    "gc_sample['r3d']            = (ff.compute('radial_distance_3d', data={'d': gc_sample.d.to(u.pc).value, 'r_{2}': gc_sample.r2d.to(u.pc).value}, asarray=True)) * u.pc"
   ]
  },
  {
   "cell_type": "code",
   "execution_count": null,
   "metadata": {},
   "outputs": [],
   "source": [
    "gc_sample['ra'] = gc_sample.ra * (u.deg)\n",
    "gc_sample['dec'] = gc_sample.dec * (u.deg)\n",
    "gc_sample['pmra'] = gc_sample.pmra * (u.mas / u.yr)\n",
    "gc_sample['pmdec'] = gc_sample.pmdec * (u.mas / u.yr)\n",
    "gc_sample['parallax'] = gc_sample.parallax * (u.mas)"
   ]
  },
  {
   "cell_type": "code",
   "execution_count": null,
   "metadata": {},
   "outputs": [],
   "source": [
    "gc_sample['los_distance'] = gc_sample.r2d_BV.to(u.pc)\n",
    "gc_sample['d_BV'] = gc_sample.r2d.to(u.pc)\n",
    "gc_sample['d'] = gc_sample.r2d.to(u.pc)\n",
    "gc_sample['r2d_BV'] = gc_sample.r2d_BV.to(u.pc)\n",
    "gc_sample['r2d'] = gc_sample.r2d.to(u.pc)"
   ]
  },
  {
   "cell_type": "code",
   "execution_count": null,
   "metadata": {},
   "outputs": [],
   "source": [
    "gc_sample.apply_conditions('r3d<4000', inplace=True)\n",
    "grasp.plots.histogram(gc_sample.r3d.value, xlabel=r\"$R_{3D}$\")"
   ]
  },
  {
   "cell_type": "markdown",
   "metadata": {},
   "source": [
    "### Density (WOW, bad!)"
   ]
  },
  {
   "cell_type": "code",
   "execution_count": null,
   "metadata": {},
   "outputs": [],
   "source": [
    "r3dh = grasp.plots.histogram(gc_sample.r3d.value, dont_show=True)\n",
    "\n",
    "n_bin = len(r3dh['h']['bins'])\n",
    "\n",
    "V = np.zeros(n_bin)\n",
    "rr1 = np.zeros(n_bin+1)\n",
    "rr2 = np.zeros(n_bin+1)\n",
    "\n",
    "bw = (gc_sample.r3d.value).max()/n_bin\n",
    "\n",
    "rr1[0] = 0.\n",
    "rr2[0] = bw\n",
    "\n",
    "for x in range (0, n_bin):\n",
    "  V[x] = (4/3)*np.pi*(rr2[x]**3 - rr1[x]**3)\n",
    "  rr1[x+1] = rr1[x] + bw\n",
    "  rr2[x+1] = rr2[x] + bw\n",
    "\n",
    "rho3D = r3dh['h']['counts']/(V*u.pc**3)  "
   ]
  },
  {
   "cell_type": "code",
   "execution_count": null,
   "metadata": {},
   "outputs": [],
   "source": [
    "r_c = (1/gc_sample.gc.px[0].value*1000) * np.tan(gc_sample.gc.rc.to(u.rad).value)"
   ]
  },
  {
   "cell_type": "code",
   "execution_count": null,
   "metadata": {},
   "outputs": [],
   "source": [
    "plt.plot(gc_sample.gc.model['xi'], gc_sample.gc.model['rho'], '--', c='red', label='SM King Model')\n",
    "plt.plot(((rr1[0:n_bin]+rr2[0:n_bin])/2)/r_c, rho3D.value, '-o', markersize=2, c='blue', label='Observed Density')\n",
    "plt.xscale('log')\n",
    "plt.yscale('log')"
   ]
  },
  {
   "cell_type": "markdown",
   "metadata": {},
   "source": [
    "### Setting up the velocities"
   ]
  },
  {
   "cell_type": "code",
   "execution_count": null,
   "metadata": {},
   "outputs": [],
   "source": [
    "gc_sample['pmra'].unit"
   ]
  },
  {
   "cell_type": "code",
   "execution_count": null,
   "metadata": {},
   "outputs": [],
   "source": [
    "grasp.plots.histogram(gc_sample.pmra.value)"
   ]
  },
  {
   "cell_type": "code",
   "execution_count": null,
   "metadata": {},
   "outputs": [],
   "source": [
    "gc_sample['v_x'] = ((gc_sample.pmra  - gc_sample.gc.pmra[0] ).to(u.rad/u.s) * (1/gc_sample.gc.px[0] * (u.kpc*u.mas)).to(u.km)) / u.rad \n",
    "gc_sample['v_y'] = ((gc_sample.pmdec - gc_sample.gc.pmdec[0]).to(u.rad/u.s) * (1/gc_sample.gc.px[0] * (u.kpc*u.mas)).to(u.km)) / u.rad"
   ]
  },
  {
   "cell_type": "code",
   "execution_count": null,
   "metadata": {},
   "outputs": [],
   "source": [
    "vx_med, vx_med_err = grasp.stats.bootstrap_statistic(gc_sample.v_x.value**2, np.median, n_bootstrap=5000, show_progress=True)\n",
    "vy_med, vy_med_err = grasp.stats.bootstrap_statistic(gc_sample.v_y.value**2, np.median, n_bootstrap=5000, show_progress=True)\n",
    "\n",
    "vxm, vxm_err = grasp.stats.bootstrap_statistic(gc_sample.v_x.value**2, np.average, n_bootstrap=5000, show_progress=True)\n",
    "vym, vym_err = grasp.stats.bootstrap_statistic(gc_sample.v_y.value**2, np.average, n_bootstrap=5000, show_progress=True)\n"
   ]
  },
  {
   "cell_type": "code",
   "execution_count": null,
   "metadata": {},
   "outputs": [],
   "source": [
    "grasp.plots.doubleHistScatter(gc_sample['v_x'].value, gc_sample['v_y'].value, xlabel=r\"$v_x$ [km/s]\", ylabel=r'$v_y$ [km/s]',size=0.05, alpha=0.85)"
   ]
  },
  {
   "cell_type": "code",
   "execution_count": null,
   "metadata": {},
   "outputs": [],
   "source": [
    "grasp.plots.histogram(\n",
    "    gc_sample['v_y'].value**2, \n",
    "    xlabel=r'$v_y^2 \\, [km^2\\,s^{-2}]$', title=r'$\\langle v_y^2\\rangle = ${:.2f} $\\pm$ {:.2f}    Median($v_y^2$)={:.2f} $\\pm$ {:.2F}'.format(\n",
    "        vxm, vym_err,\n",
    "        vy_med, vy_med_err\n",
    "        )\n",
    "    )"
   ]
  },
  {
   "cell_type": "code",
   "execution_count": null,
   "metadata": {},
   "outputs": [],
   "source": [
    "grasp.plots.histogram(\n",
    "    gc_sample['v_x'].value**2, \n",
    "    xlabel=r\"$v_x^2 \\, [km^2\\,s^{-2}]$\", title=r'$\\langle v_x^2 \\rangle = ${:.2f} $\\pm$ {:.2f}    Median($v_x^2$)={:.2f} $\\pm$ {:.2f}'.format(\n",
    "        vxm, vxm_err,\n",
    "        vx_med, vx_med_err\n",
    "        )\n",
    "    )"
   ]
  },
  {
   "cell_type": "markdown",
   "metadata": {},
   "source": [
    "On Isotropy assumption, compute the total (squared) velocity as:\n",
    "\n",
    "$$ V^2 = \\frac{3}{2}(v_x^2 + v_y^2)^2"
   ]
  },
  {
   "cell_type": "code",
   "execution_count": null,
   "metadata": {},
   "outputs": [],
   "source": [
    "gc_sample['v2'] = 1.5*(gc_sample['v_x']**2 + gc_sample['v_y']**2) \n",
    "v2m, v2m_err = grasp.stats.bootstrap_statistic(gc_sample.v2.value, np.average, n_bootstrap=5000, show_progress=True)\n",
    "v2_med, v2_med_err = grasp.stats.bootstrap_statistic(gc_sample.v2.value, np.median, n_bootstrap=5000, show_progress=True)\n",
    "v2h = grasp.plots.histogram(\n",
    "    gc_sample['v2'].value, \n",
    "    xlabel=r\"$v^2 \\, [km^2\\,s^{-2}]$\", title=r'$\\langle v^2 \\rangle = ${:.2f} $\\pm$ {:.2f}    Median($v^2$)={:.2f} $\\pm$ {:.2f}'.format(\n",
    "        v2m, v2m_err,\n",
    "        v2_med, v2_med_err\n",
    "        ),\n",
    "    out=True\n",
    "    )"
   ]
  },
  {
   "cell_type": "markdown",
   "metadata": {},
   "source": [
    "### Shell Partition"
   ]
  },
  {
   "cell_type": "code",
   "execution_count": null,
   "metadata": {},
   "outputs": [],
   "source": [
    "# Desired number of instances per subsample\n",
    "n_per_shell = 250  # for example\n",
    "\n",
    "# Sort by r3d\n",
    "sorted_sample = gc_sample.to_pandas().sort_values('r3d')\n",
    "\n",
    "# Split into equal-length subsamples\n",
    "shell_samples = [\n",
    "    sorted_sample.iloc[i:i + n_per_shell]\n",
    "    for i in range(0, len(sorted_sample), n_per_shell)\n",
    "]\n",
    "\n",
    "# Optionally, filter out the last shell if it's too small\n",
    "shell_samples = [s for s in shell_samples if len(s) == n_per_shell]\n",
    "\n",
    "print(f\"Number of shells: {len(shell_samples)}\")"
   ]
  },
  {
   "cell_type": "code",
   "execution_count": null,
   "metadata": {},
   "outputs": [],
   "source": [
    "v2 = grasp.types.QTable()\n",
    "R  = grasp.types.QTable()\n",
    "\n",
    "for i,shell in enumerate(shell_samples):\n",
    "    \n",
    "    R[f\"s{i}\"] = shell['r3d']\n",
    "    v2[f\"s{i}\"] = shell['v2']\n",
    "\n",
    "v2 = grasp.Sample(v2, gc)\n",
    "R = grasp.Sample(R, gc)"
   ]
  },
  {
   "cell_type": "code",
   "execution_count": null,
   "metadata": {},
   "outputs": [],
   "source": [
    "v2h = []\n",
    "for i in range(len(shell_samples)):\n",
    "    v2h.append(grasp.plots.histogram(v2[f's{i}'], xlabel='$v^2$', title=f'Shell {i} - R_max={R[f\"s{i}\"].max():.3f} - R_width = {R[f\"s{i}\"].max() - R[f\"s{i}\"].min():.3f}', dont_show=True))"
   ]
  },
  {
   "cell_type": "markdown",
   "metadata": {},
   "source": [
    "### $B = 16 A \\sqrt{2} \\pi^2 \\beta^2 r_{s}^2 \\alpha m^3 \\sigma^3 dr dx$"
   ]
  },
  {
   "cell_type": "markdown",
   "metadata": {},
   "source": [
    "#### Constants:\n",
    "\n",
    "> Normalization constant: $A = 1$\n",
    "\n",
    "> Single star Mass: $m = 1$\n",
    "\n",
    "> Incompleteness parameter: $\\alpha = 10^{-3}$\n"
   ]
  },
  {
   "cell_type": "code",
   "execution_count": null,
   "metadata": {},
   "outputs": [],
   "source": [
    "A = 1.\n",
    "alpha = .001\n",
    "m = 1.\n",
    "\n",
    "ff.substitute('B constant', \n",
    "              {\n",
    "                  'A': A,\n",
    "                  'alpha': alpha,\n",
    "                  'm': m\n",
    "              }\n",
    ")"
   ]
  },
  {
   "cell_type": "code",
   "execution_count": null,
   "metadata": {},
   "outputs": [],
   "source": [
    "ff.b_constant"
   ]
  },
  {
   "cell_type": "markdown",
   "metadata": {},
   "source": [
    "#### $\\sigma^2$ : critical velocity \n",
    "\n",
    "It is taken to be the maximum quadratic velocity of the shell $v^2\\{shell\\}^{max}$. <br>\n",
    "It's the memory of the Maxwellian velocity distribution of the system."
   ]
  },
  {
   "cell_type": "code",
   "execution_count": null,
   "metadata": {},
   "outputs": [],
   "source": [
    "sigmas = []\n",
    "for i,s in enumerate(shell_samples):\n",
    "    sigmas.append(np.sqrt(s.v2.max()))\n",
    "\n",
    "sigmas = np.array(sigmas)"
   ]
  },
  {
   "cell_type": "code",
   "execution_count": null,
   "metadata": {},
   "outputs": [],
   "source": [
    "plt.plot(sigmas, '--o', markersize=3, c='blue')"
   ]
  },
  {
   "cell_type": "markdown",
   "metadata": {},
   "source": [
    "#### $\\beta$ & $r_s$\n",
    " $\\beta$ : Estimation from bootstrap statistics on shell<br>\n",
    "Its the uncertainty parameter on the distance of the shell from the centre of the GC. <br>\n",
    "This parameter could be estimated by computing the uncertainty of the median <br>\n",
    "(not the mean, as outliers could heavily affect the result) of the $R_{3D}$ distances of <br>\n",
    "the stars of the shell from the centre\n",
    "\n",
    "$r_s$ : Median distance from the centre"
   ]
  },
  {
   "cell_type": "markdown",
   "metadata": {},
   "source": []
  },
  {
   "cell_type": "code",
   "execution_count": null,
   "metadata": {},
   "outputs": [],
   "source": [
    "betas = []\n",
    "rss = []\n",
    "\n",
    "for i, s in enumerate(shell_samples):\n",
    "    r, b = grasp.stats.bootstrap_statistic(\n",
    "        s['r3d'],\n",
    "        np.median,\n",
    "        n_bootstrap=100,\n",
    "        show_progress=False\n",
    "    )\n",
    "    betas.append(b)\n",
    "    rss.append(r)\n",
    "\n",
    "    \n",
    "betas = np.array(betas)\n",
    "rss = np.array(rss)"
   ]
  },
  {
   "cell_type": "code",
   "execution_count": null,
   "metadata": {},
   "outputs": [],
   "source": [
    "plt.plot(rss, betas, '--o', markersize=3, c='blue')"
   ]
  },
  {
   "cell_type": "markdown",
   "metadata": {},
   "source": [
    "#### $N$ , $x$"
   ]
  },
  {
   "cell_type": "code",
   "execution_count": null,
   "metadata": {},
   "outputs": [],
   "source": [
    "Ns = []\n",
    "x = []\n",
    "\n",
    "for i, v in enumerate(v2h):\n",
    "    Ns.append(v['h']['counts'])\n",
    "    x.append(v['h']['bins']/(2*sigmas[i]**2))\n"
   ]
  },
  {
   "cell_type": "markdown",
   "metadata": {},
   "source": [
    "#### $dx$ and $dr$"
   ]
  },
  {
   "cell_type": "code",
   "execution_count": null,
   "metadata": {},
   "outputs": [],
   "source": [
    "dr = []\n",
    "dx = []\n",
    "\n",
    "for i, s in enumerate(shell_samples):\n",
    "    dr.append(s.r3d.max() - s.r3d.min())\n",
    "    dx.append(v2h[i]['h']['bins'][1] - v2h[i]['h']['bins'][0])"
   ]
  },
  {
   "cell_type": "markdown",
   "metadata": {},
   "source": [
    "### $\\Sigma = \\ln{B} - x - \\ln{\\frac{\\Delta_N}{\\sqrt{x}}}$"
   ]
  },
  {
   "cell_type": "code",
   "execution_count": null,
   "metadata": {},
   "outputs": [],
   "source": [
    "def Sigma(\n",
    "    B: float,\n",
    "    n: int = None,\n",
    "    fit: grasp.types.Optional[grasp.types.RegressionModels] = None\n",
    ") -> tuple[grasp.types.ArrayLike, grasp.types.ArrayLike]:\n",
    "    \"\"\"Computes analythical sigma\"\"\"\n",
    "    xi = np.linspace(0, 0.5, 1000)\n",
    "    if fit:\n",
    "        #xi = np.linspace(0, 0.5, len(fit.x))\n",
    "        A, l = fit.coeffs\n",
    "        n = A* np.exp(l * xi)\n",
    "    elif n is None:\n",
    "        raise ValueError(\"Either n or alpha must be provided.\")\n",
    "    return (xi, np.log(B) - np.log(n / xi**0.5) - xi)"
   ]
  },
  {
   "cell_type": "code",
   "execution_count": null,
   "metadata": {},
   "outputs": [],
   "source": [
    "import grasp.analyzers\n",
    "import grasp.analyzers.calculus\n",
    "\n",
    "poteffs = []\n",
    "Bs = []\n",
    "\n",
    "for i in range(len(shell_samples)):\n",
    "    B = float(grasp.analyzers.calculus._sp.N(ff.b_constant.rhs.subs(\n",
    "        {\n",
    "            'r_{s}': rss[i],\n",
    "            'sigma': sigmas[i],\n",
    "            'dr': dr[i],\n",
    "            'dx': dx[i],\n",
    "            'beta' : betas[i],\n",
    "            'pi': np.pi\n",
    "        }\n",
    "    )))\n",
    "    Bs.append(B)\n",
    "    poteffs.append(\n",
    "        np.log(B) - x[i] - np.log(Ns[i] / x[i]**0.5)\n",
    "    )\n"
   ]
  },
  {
   "cell_type": "code",
   "execution_count": null,
   "metadata": {},
   "outputs": [],
   "source": [
    "def plot_poteff(n_shell: int):\n",
    "    \"\"\"Plot the effective potential for a given shell or list of shells.\"\"\"\n",
    "    fit = grasp.stats.fit_data_points(Ns[n_shell], x_data=x[n_shell], method='exponential')\n",
    "\n",
    "    fig, ax = plt.subplots(figsize=(8,6.5))\n",
    "    ax.plot(x[n_shell], poteffs[n_shell], 'o', markersize=4, c='black')\n",
    "    xi, S = Sigma(Bs[n_shell], fit=fit)\n",
    "    ax.plot(xi, S, '-', markersize=3, c='red')\n",
    "    ax.set_ylabel(r'$\\Phi_{eff}$', fontdict=grasp.plots.label_font)\n",
    "    ax.set_xlabel(r'$x$', fontdict=grasp.plots.label_font)\n",
    "    ax.set_title(f'Shell {n_shell} at ~{rss[n_shell]:.3f} pc', fontdict=grasp.plots.title_font)\n",
    "    ax.set_xlim((-0.01, 0.51))\n",
    "\n",
    "    return fig\n",
    "\n",
    "folder = grasp.gpaths.CLUSTER_DATA_FOLDER(gc_sample.gc.id) + '/poteff_plots/model2_pos'\n",
    "if not os.path.exists(folder):\n",
    "    os.makedirs(folder)\n",
    "for i in range(len(shell_samples)):\n",
    "    fig = plot_poteff(i)\n",
    "    fig.savefig(f'{folder}/poteff_shell_{i}.png', dpi=300, bbox_inches='tight')\n",
    "    plt.close(fig)\n",
    "\n"
   ]
  },
  {
   "cell_type": "code",
   "execution_count": null,
   "metadata": {},
   "outputs": [],
   "source": [
    "scarti_finali = []\n",
    "for i in range(len(poteffs)):\n",
    "    fit = grasp.stats.fit_data_points(Ns[i], x_data=x[i], method='exponential')\n",
    "    xi, S = Sigma(Bs[i], fit=fit)\n",
    "\n",
    "    scarti_finali.append(1-poteffs[i][-1]/S[-1])\n",
    "\n",
    "scarti_finali = np.array(scarti_finali)\n",
    "\n",
    "avg_underestimation = grasp.stats.bootstrap_statistic(scarti_finali, np.mean)\n",
    "fig = plt.figure()\n",
    "plt.plot(scarti_finali, 'o', markersize=3, c='blue')\n",
    "plt.xlabel('Shell number', fontdict=grasp.plots.label_font)\n",
    "plt.title(f\"Average Underestimation = {avg_underestimation[0]*100 :.2f} +- {avg_underestimation[1]*100:.2f} %\")\n",
    "fig.savefig(\n",
    "    grasp.gpaths.CLUSTER_DATA_FOLDER(gc_sample.gc.id) + '/poteff_plots/model2_pos/scarti_finali.png',\n",
    "    dpi=300, bbox_inches='tight'\n",
    ")"
   ]
  },
  {
   "cell_type": "code",
   "execution_count": null,
   "metadata": {},
   "outputs": [],
   "source": [
    "avg_underestimation = grasp.stats.bootstrap_statistic(scarti_finali, np.mean)\n",
    "\n",
    "print(f\"{avg_underestimation[0]*100 :.2f} +- {avg_underestimation[1]*100:.2f} %\")"
   ]
  },
  {
   "cell_type": "markdown",
   "metadata": {},
   "source": [
    "The average underestimation of the critical velocioty $x=0.5 \\rightarrow \\sigma^2 = 2\\cdot v^2_{max}$ \n",
    "is \n",
    "> $19,34 \\pm  1,16$ %"
   ]
  },
  {
   "cell_type": "markdown",
   "metadata": {},
   "source": [
    "### $\\Sigma = -\\ln{1-e^{x-w}}$"
   ]
  },
  {
   "cell_type": "code",
   "execution_count": null,
   "metadata": {},
   "outputs": [],
   "source": [
    "dpoteffs = []\n",
    "Omega = []\n",
    "s = gc_sample.v2.max()\n",
    "\n",
    "\n",
    "for i,p in enumerate(poteffs):\n",
    "    w = np.max(0.5*v2h[i]['h']['bins']/s)\n",
    "    ssigma = -np.log(1 - np.exp(x[i] - 0.5))\n",
    "    omega = ssigma - np.array(x[i])\n",
    "    dpoteffs.append(ssigma)\n",
    "    Omega.append(omega)\n",
    "\n"
   ]
  },
  {
   "cell_type": "code",
   "execution_count": null,
   "metadata": {},
   "outputs": [],
   "source": [
    "for i in range(10):\n",
    "    plt.plot(dpoteffs[i], '-o', markersize=3, label=f'Shell {i}', alpha=0.5)\n",
    "\n",
    "plt.legend(loc='best')"
   ]
  },
  {
   "cell_type": "code",
   "execution_count": null,
   "metadata": {},
   "outputs": [],
   "source": [
    "gc_sample.gc.ra, gc_sample.gc.dec"
   ]
  },
  {
   "cell_type": "code",
   "execution_count": null,
   "metadata": {},
   "outputs": [],
   "source": []
  }
 ],
 "metadata": {
  "kernelspec": {
   "display_name": "base",
   "language": "python",
   "name": "python3"
  },
  "language_info": {
   "codemirror_mode": {
    "name": "ipython",
    "version": 3
   },
   "file_extension": ".py",
   "mimetype": "text/x-python",
   "name": "python",
   "nbconvert_exporter": "python",
   "pygments_lexer": "ipython3",
   "version": "3.12.2"
  }
 },
 "nbformat": 4,
 "nbformat_minor": 2
}
